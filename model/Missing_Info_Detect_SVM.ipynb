{
 "cells": [
  {
   "cell_type": "code",
   "execution_count": 3,
   "id": "9e7684e9",
   "metadata": {},
   "outputs": [],
   "source": [
    "from sklearn.model_selection import StratifiedKFold\n",
    "from sklearn.model_selection import validation_curve\n",
    "from sklearn.metrics import make_scorer\n",
    "from sklearn import metrics as mt\n",
    "from sklearn.metrics import f1_score as f1\n",
    "from sklearn.svm import SVC\n",
    "import seaborn as sns\n",
    "from sklearn.metrics import mean_squared_error\n",
    "import matplotlib.pyplot as plt\n",
    "import warnings\n",
    "warnings.simplefilter('ignore', DeprecationWarning)\n",
    "%matplotlib inline"
   ]
  },
  {
   "cell_type": "code",
   "execution_count": null,
   "id": "adb1c7fd",
   "metadata": {},
   "outputs": [],
   "source": [
    "import pandas as pd\n",
    "import numpy as np"
   ]
  },
  {
   "cell_type": "markdown",
   "id": "e27fd264",
   "metadata": {},
   "source": [
    "## Import dataset"
   ]
  },
  {
   "cell_type": "code",
   "execution_count": 21,
   "id": "c94776a2",
   "metadata": {},
   "outputs": [],
   "source": [
    "#training files\n",
    "df_etd_training = pd.read_csv(\"../Data/chat_pattern/training/etd_pattern_training.csv\")\n",
    "df_ps_training = pd.read_csv(\"../Data/chat_pattern/training/ps_pattern_training.csv\")\n",
    "df_ngram_training = pd.read_csv(\"../Data/chat_pattern/training/ngram_training.csv\")\n",
    "df_pos_training = pd.read_csv(\"../Data/chat_pattern/training/pos_training.csv\")\n",
    "\n",
    "#testing files\n",
    "df_etd_testing = pd.read_csv(\"../Data/chat_pattern/testing/etd_pattern_testing.csv\")\n",
    "df_ps_testing = pd.read_csv(\"../Data/chat_pattern/testing/ps_pattern_testing.csv\")\n",
    "df_ngram_testing = pd.read_csv(\"../Data/chat_pattern/testing/ngram_testing.csv\")\n",
    "df_pos_testing = pd.read_csv(\"../Data/chat_pattern/testing/pos_testing.csv\")\n",
    "\n",
    "#label\n",
    "df_label_training = pd.read_csv(\"../Data/chat_pattern/chat_annotation_1000_pos.csv\")\n",
    "df_label_testing = pd.read_csv(\"../Data/chat_pattern/chat_testing_200.csv\")"
   ]
  },
  {
   "cell_type": "code",
   "execution_count": null,
   "id": "62bb2e35",
   "metadata": {},
   "outputs": [],
   "source": [
    "X_etd_train = df_etd_training.values\n",
    "X_ps_train = df_ps_training.values\n",
    "X_ngram_train = df_ngram_training.values\n",
    "X_pos_train = df_pos_training.values\n",
    "\n",
    "X_etd_ngram_train = np.hstack((X_etd_train, X_ngram_train))\n",
    "X_ps_ngram_train = np.hstack((X_ps_train, X_ngram_train))\n",
    "X_etd_pos_train = np.hstack((X_etd_train, X_pos_train))\n",
    "X_ps_pos_train = np.hstack((X_ps_train, X_pos_train))\n",
    "X_ngram_pos_train = np.hstack((X_ngram_train, X_pos_train))\n",
    "\n",
    "X_all_etd_train = np.hstack((X_etd_ngram_train, X_pos_train))\n",
    "X_all_ps_train = np.hstack((X_ps_ngram_train, X_pos_train))"
   ]
  },
  {
   "cell_type": "code",
   "execution_count": 83,
   "id": "59eb6b85",
   "metadata": {},
   "outputs": [],
   "source": [
    "X_etd_test = df_etd_testing.values\n",
    "X_ps_test = df_ps_testing.values\n",
    "X_ngram_test = df_ngram_testing.values\n",
    "X_pos_test = df_pos_testing.values\n",
    "\n",
    "\n",
    "X_etd_ngram_test = np.hstack((X_etd_test, X_ngram_test))\n",
    "X_etd_pos_test = np.hstack((X_etd_test, X_pos_test))\n",
    "X_ngram_pos_test = np.hstack((X_ngram_test, X_pos_test))\n",
    "X_ps_ngram_test = np.hstack((X_ps_test, X_ngram_test))\n",
    "X_ps_pos_test = np.hstack((X_ps_test, X_pos_test))\n",
    "\n",
    "X_all_etd_test = np.hstack((X_etd_ngram_test, X_pos_test))\n",
    "X_all_ps_test = np.hstack((X_ngram_pos_test, X_pos_test))"
   ]
  },
  {
   "cell_type": "code",
   "execution_count": 65,
   "id": "f1400154",
   "metadata": {},
   "outputs": [],
   "source": [
    "y_etd_train = df_label_training[\"y_ETD\"].values\n",
    "y_ps_train = df_label_training[\"y_PS\"].values\n",
    "y_etd_test = df_label_testing[\"y_ETD\"].values\n",
    "y_ps_test = df_label_testing[\"y_PS\"].values"
   ]
  },
  {
   "cell_type": "markdown",
   "id": "5c9b9ee8",
   "metadata": {},
   "source": [
    "## Model"
   ]
  },
  {
   "cell_type": "code",
   "execution_count": 131,
   "id": "b4427a2a",
   "metadata": {},
   "outputs": [],
   "source": [
    "def train_evaluate(X_train, y_train, X_test, y_test):\n",
    "    y_test_model = []\n",
    "    yhat_model = []\n",
    "    param_grid = {'C': np.linspace(0.001, 100, 20)}\n",
    "    \n",
    "    svc = SVC()\n",
    "    grid_search = GridSearchCV(svc, param_grid, cv=5)\n",
    "    grid_search.fit(X_train, y_train)\n",
    "    \n",
    "    print('CV Train score: {:.2f}'.format(grid_search.best_score_))\n",
    "    print('Best parameters: {}'.format(grid_search.best_params_))\n",
    "    \n",
    "    predictions = grid_search.predict(X_test)\n",
    "    precison = mt.precision_score(y_test, predictions)\n",
    "    recall = mt.recall_score(y_test, predictions)\n",
    "    score = mt.f1_score(y_test, predictions)\n",
    "    \n",
    "    print(\"precision:\",round(precison,3),\"recall:\",round(recall,3),\"F1:\",round(score,3))\n",
    "    \n",
    "    for val in zip(y_test, predictions):\n",
    "        yhat_model.append(val[1])\n",
    "        y_test_model.append(val[0])\n",
    "    \n",
    "    return precison,recall,score, y_test_model, yhat_model"
   ]
  },
  {
   "cell_type": "markdown",
   "id": "546c8cac",
   "metadata": {},
   "source": [
    "## Training"
   ]
  },
  {
   "cell_type": "code",
   "execution_count": 132,
   "id": "248835a2",
   "metadata": {},
   "outputs": [
    {
     "name": "stdout",
     "output_type": "stream",
     "text": [
      "CV Train score: 0.90\n",
      "Best parameters: {'C': 5.264105263157894}\n",
      "precision: 0.887 recall: 0.894 F1: 0.891\n"
     ]
    }
   ],
   "source": [
    "# 1. ETD: pattern\n",
    "prec,recall,f1_scores, y_test_model, yhat_model = train_evaluate(X_etd_train, y_etd_train, X_etd_test, y_etd_test)"
   ]
  },
  {
   "cell_type": "code",
   "execution_count": 133,
   "id": "9322a155",
   "metadata": {},
   "outputs": [
    {
     "name": "stdout",
     "output_type": "stream",
     "text": [
      "CV Train score: 0.69\n",
      "Best parameters: {'C': 21.053421052631577}\n",
      "precision: 0.782 recall: 0.735 F1: 0.758\n"
     ]
    }
   ],
   "source": [
    "# 2. ETD: pos\n",
    "prec,recall,f1_scores, y_test_model, yhat_model = train_evaluate(X_pos_train, y_etd_train, X_pos_test, y_etd_test)"
   ]
  },
  {
   "cell_type": "code",
   "execution_count": 134,
   "id": "40818a73",
   "metadata": {},
   "outputs": [
    {
     "name": "stdout",
     "output_type": "stream",
     "text": [
      "CV Train score: 0.71\n",
      "Best parameters: {'C': 5.264105263157894}\n",
      "precision: 0.769 recall: 0.909 F1: 0.833\n"
     ]
    }
   ],
   "source": [
    "# 3. ETD: n-gram\n",
    "prec,recall,f1_scores, y_test_model, yhat_model = train_evaluate(X_ngram_train, y_etd_train, X_ngram_test, y_etd_test)"
   ]
  },
  {
   "cell_type": "code",
   "execution_count": 135,
   "id": "11631728",
   "metadata": {},
   "outputs": [
    {
     "name": "stdout",
     "output_type": "stream",
     "text": [
      "CV Train score: 0.78\n",
      "Best parameters: {'C': 10.527210526315788}\n",
      "precision: 0.855 recall: 0.848 F1: 0.852\n"
     ]
    }
   ],
   "source": [
    "# 4. ETD: pattern + pos\n",
    "prec,recall,f1_scores, y_test_model, yhat_model = train_evaluate(X_etd_pos_train, y_etd_train, X_etd_pos_test, y_etd_test)"
   ]
  },
  {
   "cell_type": "code",
   "execution_count": 136,
   "id": "f7afc0e3",
   "metadata": {},
   "outputs": [
    {
     "name": "stdout",
     "output_type": "stream",
     "text": [
      "CV Train score: 0.77\n",
      "Best parameters: {'C': 5.264105263157894}\n",
      "precision: 0.812 recall: 0.917 F1: 0.861\n"
     ]
    }
   ],
   "source": [
    "# 5. ETD: pattern + n-gram\n",
    "prec,recall,f1_scores, y_test_model, yhat_model = train_evaluate(X_etd_ngram_train, y_etd_train, X_etd_ngram_test, y_etd_test)"
   ]
  },
  {
   "cell_type": "code",
   "execution_count": 137,
   "id": "3aea2784",
   "metadata": {},
   "outputs": [
    {
     "name": "stdout",
     "output_type": "stream",
     "text": [
      "CV Train score: 0.73\n",
      "Best parameters: {'C': 5.264105263157894}\n",
      "precision: 0.787 recall: 0.841 F1: 0.813\n"
     ]
    }
   ],
   "source": [
    "# 6. ETD: n-gram + pos\n",
    "prec,recall,f1_scores, y_test_model, yhat_model = train_evaluate(X_ngram_pos_train, y_etd_train, X_ngram_pos_test, y_etd_test)"
   ]
  },
  {
   "cell_type": "code",
   "execution_count": 138,
   "id": "22a52f34",
   "metadata": {},
   "outputs": [
    {
     "name": "stdout",
     "output_type": "stream",
     "text": [
      "CV Train score: 0.76\n",
      "Best parameters: {'C': 5.264105263157894}\n",
      "precision: 0.823 recall: 0.879 F1: 0.85\n"
     ]
    }
   ],
   "source": [
    "# 7. ETD: pattern + n-gram + pos\n",
    "prec,recall,f1_scores, y_test_model, yhat_model = train_evaluate(X_all_etd_train, y_etd_train, X_all_etd_test, y_etd_test)"
   ]
  },
  {
   "cell_type": "code",
   "execution_count": null,
   "id": "bbe1564f",
   "metadata": {},
   "outputs": [],
   "source": [
    "# 8. PS: pattern\n",
    "prec,recall,f1_scores, y_test_model, yhat_model = train_evaluate(X_ps_train, y_ps_train, X_ps_test, y_ps_test)"
   ]
  },
  {
   "cell_type": "code",
   "execution_count": null,
   "id": "a41f0e5a",
   "metadata": {},
   "outputs": [],
   "source": [
    "# 9. PS: pos\n",
    "prec,recall,f1_scores, y_test_model, yhat_model = train_evaluate(X_pos_train, y_ps_train, X_pos_test, y_ps_test)"
   ]
  },
  {
   "cell_type": "code",
   "execution_count": null,
   "id": "ef3ca512",
   "metadata": {},
   "outputs": [],
   "source": [
    "# 10. PS: n-gram\n",
    "prec,recall,f1_scores, y_test_model, yhat_model = train_evaluate(X_ngram_train, y_ps_train, X_ngram_test, y_ps_test)"
   ]
  },
  {
   "cell_type": "code",
   "execution_count": null,
   "id": "f13fcf31",
   "metadata": {},
   "outputs": [],
   "source": [
    "# 11. PS: pattern + pos\n",
    "prec,recall,f1_scores, y_test_model, yhat_model = train_evaluate(X_ps_pos_train, y_ps_train, X_ps_pos_test, y_ps_test)"
   ]
  },
  {
   "cell_type": "code",
   "execution_count": null,
   "id": "bec803b0",
   "metadata": {},
   "outputs": [],
   "source": [
    "# 12. PS: pattern + n-gram\n",
    "prec,recall,f1_scores, y_test_model, yhat_model = train_evaluate(X_ps_ngram_train, y_ps_train, X_ps_ngram_test, y_ps_test)"
   ]
  },
  {
   "cell_type": "code",
   "execution_count": null,
   "id": "b8e839a6",
   "metadata": {},
   "outputs": [],
   "source": [
    "# 13. PS: n-gram + pos\n",
    "prec,recall,f1_scores, y_test_model, yhat_model = train_evaluate(X_ngram_pos_train, y_ps_train, X_ngram_pos_test, y_ps_test)"
   ]
  },
  {
   "cell_type": "code",
   "execution_count": null,
   "id": "6d92d335",
   "metadata": {},
   "outputs": [],
   "source": [
    "# 14. PS: pattern + n-gram + pos\n",
    "prec,recall,f1_scores, y_test_model, yhat_model = train_evaluate(X_all_ps_train, y_ps_train, X_all_ps_test, y_ps_test)"
   ]
  }
 ],
 "metadata": {
  "kernelspec": {
   "display_name": "Python 3 (ipykernel)",
   "language": "python",
   "name": "python3"
  },
  "language_info": {
   "codemirror_mode": {
    "name": "ipython",
    "version": 3
   },
   "file_extension": ".py",
   "mimetype": "text/x-python",
   "name": "python",
   "nbconvert_exporter": "python",
   "pygments_lexer": "ipython3",
   "version": "3.8.16"
  }
 },
 "nbformat": 4,
 "nbformat_minor": 5
}
