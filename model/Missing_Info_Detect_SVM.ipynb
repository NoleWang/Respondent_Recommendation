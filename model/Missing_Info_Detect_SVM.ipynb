{
 "cells": [
  {
   "cell_type": "code",
   "execution_count": 3,
   "id": "04d11d34",
   "metadata": {},
   "outputs": [],
   "source": [
    "from sklearn.model_selection import StratifiedKFold\n",
    "from sklearn.model_selection import validation_curve\n",
    "from sklearn.metrics import make_scorer\n",
    "from sklearn import metrics as mt\n",
    "from sklearn.metrics import f1_score as f1\n",
    "from sklearn.svm import SVC\n",
    "import seaborn as sns\n",
    "from sklearn.metrics import mean_squared_error\n",
    "import matplotlib.pyplot as plt\n",
    "import warnings\n",
    "warnings.simplefilter('ignore', DeprecationWarning)\n",
    "%matplotlib inline"
   ]
  },
  {
   "cell_type": "code",
   "execution_count": null,
   "id": "2cb3dfe3",
   "metadata": {},
   "outputs": [],
   "source": [
    "import pandas as pd\n",
    "import numpy as np"
   ]
  },
  {
   "cell_type": "markdown",
   "id": "43e7e8bf",
   "metadata": {},
   "source": [
    "## Import dataset"
   ]
  },
  {
   "cell_type": "code",
   "execution_count": 21,
   "id": "18b50295",
   "metadata": {},
   "outputs": [],
   "source": [
    "df_etd_training = pd.read_csv(\"../Data/chat_pattern/training/etd_pattern_training.csv\")"
   ]
  },
  {
   "cell_type": "code",
   "execution_count": 22,
   "id": "e45b9948",
   "metadata": {},
   "outputs": [],
   "source": [
    "df_ps_training = pd.read_csv(\"../Data/chat_pattern/training/ps_pattern_training.csv\")"
   ]
  },
  {
   "cell_type": "code",
   "execution_count": 23,
   "id": "0d75ddc5",
   "metadata": {},
   "outputs": [],
   "source": [
    "df_ngram_training = pd.read_csv(\"../Data/chat_pattern/training/ngram_training.csv\")"
   ]
  },
  {
   "cell_type": "code",
   "execution_count": 24,
   "id": "655e5012",
   "metadata": {},
   "outputs": [],
   "source": [
    "df_pos_training = pd.read_csv(\"../Data/chat_pattern/training/pos_training.csv\")"
   ]
  },
  {
   "cell_type": "code",
   "execution_count": 25,
   "id": "cd7f72b9",
   "metadata": {},
   "outputs": [],
   "source": [
    "df_etd_testing = pd.read_csv(\"../Data/chat_pattern/testing/etd_pattern_testing.csv\")"
   ]
  },
  {
   "cell_type": "code",
   "execution_count": 26,
   "id": "f4ee96f5",
   "metadata": {},
   "outputs": [],
   "source": [
    "df_ps_testing = pd.read_csv(\"../Data/chat_pattern/testing/ps_pattern_testing.csv\")"
   ]
  },
  {
   "cell_type": "code",
   "execution_count": 27,
   "id": "38bfb49f",
   "metadata": {},
   "outputs": [],
   "source": [
    "df_ngram_testing = pd.read_csv(\"../Data/chat_pattern/testing/ngram_testing.csv\")"
   ]
  },
  {
   "cell_type": "code",
   "execution_count": 28,
   "id": "f2183f39",
   "metadata": {},
   "outputs": [],
   "source": [
    "df_pos_testing = pd.read_csv(\"../Data/chat_pattern/testing/pos_testing.csv\")"
   ]
  },
  {
   "cell_type": "code",
   "execution_count": 29,
   "id": "387dde36",
   "metadata": {},
   "outputs": [],
   "source": [
    "df_label_training = pd.read_csv(\"../Data/chat_pattern/chat_annotation_1000_pos.csv\")"
   ]
  },
  {
   "cell_type": "code",
   "execution_count": 30,
   "id": "54608ead",
   "metadata": {},
   "outputs": [],
   "source": [
    "df_label_testing = pd.read_csv(\"../Data/chat_pattern/chat_testing_200.csv\")"
   ]
  },
  {
   "cell_type": "code",
   "execution_count": 40,
   "id": "fba0b012",
   "metadata": {},
   "outputs": [],
   "source": [
    "X_etd_train = df_etd_training.values"
   ]
  },
  {
   "cell_type": "code",
   "execution_count": 42,
   "id": "fddb89de",
   "metadata": {},
   "outputs": [],
   "source": [
    "X_ps_train = df_ps_training.values"
   ]
  },
  {
   "cell_type": "code",
   "execution_count": 43,
   "id": "c2e755a0",
   "metadata": {},
   "outputs": [],
   "source": [
    "X_ngram_train = df_ngram_training.values"
   ]
  },
  {
   "cell_type": "code",
   "execution_count": 44,
   "id": "4528979f",
   "metadata": {},
   "outputs": [],
   "source": [
    "X_pos_train = df_pos_training.values"
   ]
  },
  {
   "cell_type": "code",
   "execution_count": 47,
   "id": "4673afcf",
   "metadata": {},
   "outputs": [],
   "source": [
    "X_etd_ngram_train = np.hstack((X_etd_train, X_ngram_train))"
   ]
  },
  {
   "cell_type": "code",
   "execution_count": 50,
   "id": "a4012649",
   "metadata": {},
   "outputs": [],
   "source": [
    "X_etd_pos_train = np.hstack((X_etd_train, X_pos_train))"
   ]
  },
  {
   "cell_type": "code",
   "execution_count": 51,
   "id": "688daf01",
   "metadata": {},
   "outputs": [],
   "source": [
    "X_ngram_pos_train = np.hstack((X_ngram_train, X_pos_train))"
   ]
  },
  {
   "cell_type": "code",
   "execution_count": null,
   "id": "d95900e1",
   "metadata": {},
   "outputs": [],
   "source": [
    "X_ps_ngram_train = np.hstack((X_ps_train, X_ngram_train))"
   ]
  },
  {
   "cell_type": "code",
   "execution_count": null,
   "id": "dcc1f88f",
   "metadata": {},
   "outputs": [],
   "source": [
    "X_ps_pos_train = np.hstack((X_ps_train, X_pos_train))"
   ]
  },
  {
   "cell_type": "code",
   "execution_count": 52,
   "id": "e713c67b",
   "metadata": {},
   "outputs": [],
   "source": [
    "X_all_etd_train = np.hstack((X_etd_ngram_train, X_pos_train))"
   ]
  },
  {
   "cell_type": "code",
   "execution_count": null,
   "id": "285ed2ea",
   "metadata": {},
   "outputs": [],
   "source": [
    "X_all_ps_train = np.hstack((X_ps_ngram_train, X_pos_train))"
   ]
  },
  {
   "cell_type": "code",
   "execution_count": 83,
   "id": "e1009cc2",
   "metadata": {},
   "outputs": [],
   "source": [
    "X_etd_test = df_etd_testing.values\n",
    "X_ps_test = df_ps_testing.values\n",
    "X_ngram_test = df_ngram_testing.values\n",
    "X_pos_test = df_pos_testing.values\n",
    "X_etd_ngram_test = np.hstack((X_etd_test, X_ngram_test))\n",
    "X_etd_pos_test = np.hstack((X_etd_test, X_pos_test))\n",
    "X_ngram_pos_test = np.hstack((X_ngram_test, X_pos_test))\n",
    "\n",
    "X_all_etd_test = np.hstack((X_etd_ngram_test, X_pos_test))"
   ]
  },
  {
   "cell_type": "code",
   "execution_count": null,
   "id": "056e9df1",
   "metadata": {},
   "outputs": [],
   "source": [
    "X_ps_ngram_test = np.hstack((X_ps_test, X_ngram_test))\n",
    "X_ps_pos_test = np.hstack((X_ps_test, X_pos_test))\n",
    "X_all_ps_test = np.hstack((X_ngram_pos_test, X_pos_test))"
   ]
  },
  {
   "cell_type": "code",
   "execution_count": 65,
   "id": "c5fa78b7",
   "metadata": {},
   "outputs": [],
   "source": [
    "y_etd_train = df_label_training[\"y_ETD\"].values"
   ]
  },
  {
   "cell_type": "code",
   "execution_count": 66,
   "id": "f5a3496b",
   "metadata": {},
   "outputs": [],
   "source": [
    "y_ps_train = df_label_training[\"y_PS\"].values"
   ]
  },
  {
   "cell_type": "code",
   "execution_count": 33,
   "id": "baa381ec",
   "metadata": {},
   "outputs": [],
   "source": [
    "y_etd_test = df_label_testing[\"y_ETD\"].values"
   ]
  },
  {
   "cell_type": "code",
   "execution_count": 34,
   "id": "2f20b940",
   "metadata": {},
   "outputs": [],
   "source": [
    "y_ps_test = df_label_testing[\"y_PS\"].values"
   ]
  },
  {
   "cell_type": "markdown",
   "id": "11cdc26f",
   "metadata": {},
   "source": [
    "## Model"
   ]
  },
  {
   "cell_type": "code",
   "execution_count": 131,
   "id": "99989144",
   "metadata": {},
   "outputs": [],
   "source": [
    "def train_evaluate(X_train, y_train, X_test, y_test):\n",
    "    y_test_model = []\n",
    "    yhat_model = []\n",
    "    param_grid = {'C': np.linspace(0.001, 100, 20)}\n",
    "    \n",
    "    svc = SVC()\n",
    "    grid_search = GridSearchCV(svc, param_grid, cv=5)\n",
    "    grid_search.fit(X_train, y_train)\n",
    "    \n",
    "    print('CV Train score: {:.2f}'.format(grid_search.best_score_))\n",
    "    print('Best parameters: {}'.format(grid_search.best_params_))\n",
    "    \n",
    "    predictions = grid_search.predict(X_test)\n",
    "    precison = mt.precision_score(y_test, predictions)\n",
    "    recall = mt.recall_score(y_test, predictions)\n",
    "    score = mt.f1_score(y_test, predictions)\n",
    "    \n",
    "    print(\"precision:\",round(precison,3),\"recall:\",round(recall,3),\"F1:\",round(score,3))\n",
    "    \n",
    "    for val in zip(y_test, predictions):\n",
    "        yhat_model.append(val[1])\n",
    "        y_test_model.append(val[0])\n",
    "    \n",
    "    return precison,recall,score, y_test_model, yhat_model"
   ]
  },
  {
   "cell_type": "markdown",
   "id": "ec17a64e",
   "metadata": {},
   "source": [
    "## Training"
   ]
  },
  {
   "cell_type": "code",
   "execution_count": 132,
   "id": "3241b101",
   "metadata": {},
   "outputs": [
    {
     "name": "stdout",
     "output_type": "stream",
     "text": [
      "CV Train score: 0.90\n",
      "Best parameters: {'C': 5.264105263157894}\n",
      "precision: 0.887 recall: 0.894 F1: 0.891\n"
     ]
    }
   ],
   "source": [
    "# 1. ETD: pattern\n",
    "prec,recall,f1_scores, y_test_model, yhat_model = train_evaluate(X_etd_train, y_etd_train, X_etd_test, y_etd_test)"
   ]
  },
  {
   "cell_type": "code",
   "execution_count": 133,
   "id": "acbb0afc",
   "metadata": {},
   "outputs": [
    {
     "name": "stdout",
     "output_type": "stream",
     "text": [
      "CV Train score: 0.69\n",
      "Best parameters: {'C': 21.053421052631577}\n",
      "precision: 0.782 recall: 0.735 F1: 0.758\n"
     ]
    }
   ],
   "source": [
    "# 2. ETD: pos\n",
    "prec,recall,f1_scores, y_test_model, yhat_model = train_evaluate(X_pos_train, y_etd_train, X_pos_test, y_etd_test)"
   ]
  },
  {
   "cell_type": "code",
   "execution_count": 134,
   "id": "f6dc0468",
   "metadata": {},
   "outputs": [
    {
     "name": "stdout",
     "output_type": "stream",
     "text": [
      "CV Train score: 0.71\n",
      "Best parameters: {'C': 5.264105263157894}\n",
      "precision: 0.769 recall: 0.909 F1: 0.833\n"
     ]
    }
   ],
   "source": [
    "# 3. ETD: n-gram\n",
    "prec,recall,f1_scores, y_test_model, yhat_model = train_evaluate(X_ngram_train, y_etd_train, X_ngram_test, y_etd_test)"
   ]
  },
  {
   "cell_type": "code",
   "execution_count": 135,
   "id": "b674873c",
   "metadata": {},
   "outputs": [
    {
     "name": "stdout",
     "output_type": "stream",
     "text": [
      "CV Train score: 0.78\n",
      "Best parameters: {'C': 10.527210526315788}\n",
      "precision: 0.855 recall: 0.848 F1: 0.852\n"
     ]
    }
   ],
   "source": [
    "# 4. ETD: pattern + pos\n",
    "prec,recall,f1_scores, y_test_model, yhat_model = train_evaluate(X_etd_pos_train, y_etd_train, X_etd_pos_test, y_etd_test)"
   ]
  },
  {
   "cell_type": "code",
   "execution_count": 136,
   "id": "9f6102f0",
   "metadata": {},
   "outputs": [
    {
     "name": "stdout",
     "output_type": "stream",
     "text": [
      "CV Train score: 0.77\n",
      "Best parameters: {'C': 5.264105263157894}\n",
      "precision: 0.812 recall: 0.917 F1: 0.861\n"
     ]
    }
   ],
   "source": [
    "# 5. ETD: pattern + n-gram\n",
    "prec,recall,f1_scores, y_test_model, yhat_model = train_evaluate(X_etd_ngram_train, y_etd_train, X_etd_ngram_test, y_etd_test)"
   ]
  },
  {
   "cell_type": "code",
   "execution_count": 137,
   "id": "298fd0cf",
   "metadata": {},
   "outputs": [
    {
     "name": "stdout",
     "output_type": "stream",
     "text": [
      "CV Train score: 0.73\n",
      "Best parameters: {'C': 5.264105263157894}\n",
      "precision: 0.787 recall: 0.841 F1: 0.813\n"
     ]
    }
   ],
   "source": [
    "# 6. ETD: n-gram + pos\n",
    "prec,recall,f1_scores, y_test_model, yhat_model = train_evaluate(X_ngram_pos_train, y_etd_train, X_ngram_pos_test, y_etd_test)"
   ]
  },
  {
   "cell_type": "code",
   "execution_count": 138,
   "id": "6dba9645",
   "metadata": {},
   "outputs": [
    {
     "name": "stdout",
     "output_type": "stream",
     "text": [
      "CV Train score: 0.76\n",
      "Best parameters: {'C': 5.264105263157894}\n",
      "precision: 0.823 recall: 0.879 F1: 0.85\n"
     ]
    }
   ],
   "source": [
    "# 7. ETD: pattern + n-gram + pos\n",
    "prec,recall,f1_scores, y_test_model, yhat_model = train_evaluate(X_all_etd_train, y_etd_train, X_all_etd_test, y_etd_test)"
   ]
  },
  {
   "cell_type": "code",
   "execution_count": null,
   "id": "93ab5141",
   "metadata": {},
   "outputs": [],
   "source": [
    "# 8. PS: pattern\n",
    "prec,recall,f1_scores, y_test_model, yhat_model = train_evaluate(X_ps_train, y_ps_train, X_ps_test, y_ps_test)"
   ]
  },
  {
   "cell_type": "code",
   "execution_count": null,
   "id": "c3a9056f",
   "metadata": {},
   "outputs": [],
   "source": [
    "# 9. PS: pos\n",
    "prec,recall,f1_scores, y_test_model, yhat_model = train_evaluate(X_pos_train, y_ps_train, X_pos_test, y_ps_test)"
   ]
  },
  {
   "cell_type": "code",
   "execution_count": null,
   "id": "ff40d617",
   "metadata": {},
   "outputs": [],
   "source": [
    "# 10. PS: n-gram\n",
    "prec,recall,f1_scores, y_test_model, yhat_model = train_evaluate(X_ngram_train, y_ps_train, X_ngram_test, y_ps_test)"
   ]
  },
  {
   "cell_type": "code",
   "execution_count": null,
   "id": "8aea6728",
   "metadata": {},
   "outputs": [],
   "source": [
    "# 11. PS: pattern + pos\n",
    "prec,recall,f1_scores, y_test_model, yhat_model = train_evaluate(X_ps_pos_train, y_ps_train, X_ps_pos_test, y_ps_test)"
   ]
  },
  {
   "cell_type": "code",
   "execution_count": null,
   "id": "215f4b34",
   "metadata": {},
   "outputs": [],
   "source": [
    "# 12. PS: pattern + n-gram\n",
    "prec,recall,f1_scores, y_test_model, yhat_model = train_evaluate(X_ps_ngram_train, y_ps_train, X_ps_ngram_test, y_ps_test)"
   ]
  },
  {
   "cell_type": "code",
   "execution_count": null,
   "id": "0ab316f6",
   "metadata": {},
   "outputs": [],
   "source": [
    "# 13. PS: n-gram + pos\n",
    "prec,recall,f1_scores, y_test_model, yhat_model = train_evaluate(X_ngram_pos_train, y_ps_train, X_ngram_pos_test, y_ps_test)"
   ]
  },
  {
   "cell_type": "code",
   "execution_count": null,
   "id": "1a0663e9",
   "metadata": {},
   "outputs": [],
   "source": [
    "# 14. PS: pattern + n-gram + pos\n",
    "prec,recall,f1_scores, y_test_model, yhat_model = train_evaluate(X_all_ps_train, y_ps_train, X_all_ps_test, y_ps_test)"
   ]
  }
 ],
 "metadata": {
  "kernelspec": {
   "display_name": "Python 3 (ipykernel)",
   "language": "python",
   "name": "python3"
  },
  "language_info": {
   "codemirror_mode": {
    "name": "ipython",
    "version": 3
   },
   "file_extension": ".py",
   "mimetype": "text/x-python",
   "name": "python",
   "nbconvert_exporter": "python",
   "pygments_lexer": "ipython3",
   "version": "3.8.16"
  }
 },
 "nbformat": 4,
 "nbformat_minor": 5
}
