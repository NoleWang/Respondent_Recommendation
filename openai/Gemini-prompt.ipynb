{
 "cells": [
  {
   "cell_type": "code",
   "execution_count": 2,
   "id": "023a156c",
   "metadata": {},
   "outputs": [],
   "source": [
    "import google.generativeai as genai\n",
    "import pandas as pd\n",
    "from copy import deepcopy\n"
   ]
  },
  {
   "cell_type": "markdown",
   "id": "3f51a82a",
   "metadata": {},
   "source": [
    "## Prompt preparation"
   ]
  },
  {
   "cell_type": "code",
   "execution_count": 3,
   "id": "5f262ecc",
   "metadata": {},
   "outputs": [],
   "source": [
    "def remove_non_ascii(sentence):\n",
    "    return ''.join(char for char in sentence if ord(char) < 128)"
   ]
  },
  {
   "cell_type": "code",
   "execution_count": 4,
   "id": "ad8de497",
   "metadata": {},
   "outputs": [],
   "source": [
    "with open('prompt/prompt_system_etd.txt', 'r') as fp:\n",
    "    etd_system = fp.readlines()\n",
    "    \n",
    "with open('prompt/prompt_system_ps.txt', 'r') as fp:\n",
    "    ps_system = fp.readlines()"
   ]
  },
  {
   "cell_type": "code",
   "execution_count": 5,
   "id": "fc62208f",
   "metadata": {},
   "outputs": [
    {
     "data": {
      "text/plain": [
       "['Use the following step-by-step instructions to respond to user inputs.\\n \\n Step 1 - The user will provide you with text in triple quotes (Question: \"\"\"insert text here\"\"\"). Find one sentence from the given text which can indicate the answer to \"What is the user expecting to do or achieve?\". The sentence only describing the system error or undesired behavior should not be considered. Use triple quotes to cite the found sentence. If the given text does not contain such sentence, write \"No sentences found to indicate the user\\'s expectation. The answer is NO.\" and skip Step 2 and Step 3.\\n \\n Step 2 - If found one sentence from Step 1, \\n summarize the sentence into one or more patterns delimited by <pattern>..</pattern> according to the syntax and semantic of the sentence. The pattern could be expressed by some keywords and part-of-speech tags from the found sentence, which can explain why this sentence provides the answer to \"What is the user expecting to do or achieve?\".\\n \\n Step 3 - Use the following format to respond to user inputs: \\n (The sentence \"\"\"insert found sentence here\"\"\" uses <pattern>insert pattern here</pattern> to describe the user\\'s expectation. The answer is YES.)']"
      ]
     },
     "execution_count": 5,
     "metadata": {},
     "output_type": "execute_result"
    }
   ],
   "source": [
    "prompt_parts = []\n",
    "prompt_parts.append(\" \".join(etd_system))\n",
    "prompt_parts"
   ]
  },
  {
   "cell_type": "code",
   "execution_count": null,
   "id": "4e16f558",
   "metadata": {},
   "outputs": [],
   "source": [
    "prompt_parts = []\n",
    "prompt_parts.append(\" \".join(ps_system))\n",
    "prompt_parts"
   ]
  },
  {
   "cell_type": "code",
   "execution_count": 6,
   "id": "36e6f78a",
   "metadata": {},
   "outputs": [],
   "source": [
    "df_issue = pd.read_csv(\"prompt/issue.csv\", encoding = \"ISO-8859-1\")\n",
    "# df_issue = pd.read_csv(\"prompt/issue_wrong.csv\")\n",
    "\n",
    "df_etd_example = pd.read_csv(\"experiment/random_pattern/ETD/gemini/etd_prompt_random_with_negno11_gemini.csv\")\n",
    "# df_ps_example = pd.read_csv(\"experiment/random_pattern/PS/gemini/ps_prompt_random3_with_negno11_gemini.csv\")"
   ]
  },
  {
   "cell_type": "code",
   "execution_count": 7,
   "id": "89f87fe0",
   "metadata": {},
   "outputs": [
    {
     "data": {
      "text/plain": [
       "1000"
      ]
     },
     "execution_count": 7,
     "metadata": {},
     "output_type": "execute_result"
    }
   ],
   "source": [
    "len(df_issue)"
   ]
  },
  {
   "cell_type": "code",
   "execution_count": 8,
   "id": "fcdee059",
   "metadata": {},
   "outputs": [
    {
     "data": {
      "text/html": [
       "<div>\n",
       "<style scoped>\n",
       "    .dataframe tbody tr th:only-of-type {\n",
       "        vertical-align: middle;\n",
       "    }\n",
       "\n",
       "    .dataframe tbody tr th {\n",
       "        vertical-align: top;\n",
       "    }\n",
       "\n",
       "    .dataframe thead th {\n",
       "        text-align: right;\n",
       "    }\n",
       "</style>\n",
       "<table border=\"1\" class=\"dataframe\">\n",
       "  <thead>\n",
       "    <tr style=\"text-align: right;\">\n",
       "      <th></th>\n",
       "      <th>issue</th>\n",
       "    </tr>\n",
       "  </thead>\n",
       "  <tbody>\n",
       "    <tr>\n",
       "      <th>0</th>\n",
       "      <td>Hi, when I am trying to apply class dynamicall...</td>\n",
       "    </tr>\n",
       "    <tr>\n",
       "      <th>1</th>\n",
       "      <td>is it possible to get a RouteConfig matched ag...</td>\n",
       "    </tr>\n",
       "    <tr>\n",
       "      <th>2</th>\n",
       "      <td>I have angular running from a .Net Core server...</td>\n",
       "    </tr>\n",
       "    <tr>\n",
       "      <th>3</th>\n",
       "      <td>Hello everyone, I want to do sub menu with sea...</td>\n",
       "    </tr>\n",
       "    <tr>\n",
       "      <th>4</th>\n",
       "      <td>I'm struggling with getting this logic [code]....</td>\n",
       "    </tr>\n",
       "  </tbody>\n",
       "</table>\n",
       "</div>"
      ],
      "text/plain": [
       "                                               issue\n",
       "0  Hi, when I am trying to apply class dynamicall...\n",
       "1  is it possible to get a RouteConfig matched ag...\n",
       "2  I have angular running from a .Net Core server...\n",
       "3  Hello everyone, I want to do sub menu with sea...\n",
       "4  I'm struggling with getting this logic [code]...."
      ]
     },
     "execution_count": 8,
     "metadata": {},
     "output_type": "execute_result"
    }
   ],
   "source": [
    "issue_clean = [remove_non_ascii(issue) for issue in df_issue[\"issue\"]]\n",
    "df_issue[\"issue\"] = issue_clean\n",
    "df_issue.head()"
   ]
  },
  {
   "cell_type": "code",
   "execution_count": 11,
   "id": "a69eb060-d70f-47fc-9b98-520136b762fb",
   "metadata": {},
   "outputs": [
    {
     "data": {
      "text/html": [
       "<div>\n",
       "<style scoped>\n",
       "    .dataframe tbody tr th:only-of-type {\n",
       "        vertical-align: middle;\n",
       "    }\n",
       "\n",
       "    .dataframe tbody tr th {\n",
       "        vertical-align: top;\n",
       "    }\n",
       "\n",
       "    .dataframe thead th {\n",
       "        text-align: right;\n",
       "    }\n",
       "</style>\n",
       "<table border=\"1\" class=\"dataframe\">\n",
       "  <thead>\n",
       "    <tr style=\"text-align: right;\">\n",
       "      <th></th>\n",
       "      <th>Pattern</th>\n",
       "      <th>issue</th>\n",
       "      <th>output</th>\n",
       "      <th>12_examples</th>\n",
       "      <th>14_examples</th>\n",
       "    </tr>\n",
       "  </thead>\n",
       "  <tbody>\n",
       "    <tr>\n",
       "      <th>0</th>\n",
       "      <td>ETD_FOR_EXAMPLE</td>\n",
       "      <td>\"\"\" guys, can somebody help me w/ chained reso...</td>\n",
       "      <td>The sentence \"\"\" e.g. a components needs resul...</td>\n",
       "      <td>1</td>\n",
       "      <td>1</td>\n",
       "    </tr>\n",
       "    <tr>\n",
       "      <th>1</th>\n",
       "      <td>NaN</td>\n",
       "      <td>\"\"\" Hi, I'm having a problem with following co...</td>\n",
       "      <td>No sentences found to indicate the user's expe...</td>\n",
       "      <td>0</td>\n",
       "      <td>1</td>\n",
       "    </tr>\n",
       "    <tr>\n",
       "      <th>2</th>\n",
       "      <td>ETD_MUST</td>\n",
       "      <td>\"\"\" Hi all, I am looking for a schedular simil...</td>\n",
       "      <td>The sentence \"\"\" must include timeline view, m...</td>\n",
       "      <td>1</td>\n",
       "      <td>1</td>\n",
       "    </tr>\n",
       "    <tr>\n",
       "      <th>3</th>\n",
       "      <td>ETD_WANT_TO</td>\n",
       "      <td>\"\"\" How do I set a property of a component wit...</td>\n",
       "      <td>The sentence \"\"\" Let's say I want to set the w...</td>\n",
       "      <td>0</td>\n",
       "      <td>1</td>\n",
       "    </tr>\n",
       "    <tr>\n",
       "      <th>4</th>\n",
       "      <td>ETD_REQUIRES</td>\n",
       "      <td>\"\"\" LSTM layers require quite a bit of memory,...</td>\n",
       "      <td>The sentence \"\"\" LSTM layers require quite a b...</td>\n",
       "      <td>0</td>\n",
       "      <td>0</td>\n",
       "    </tr>\n",
       "    <tr>\n",
       "      <th>5</th>\n",
       "      <td>ETD_IMPLEMENT</td>\n",
       "      <td>\"\"\" Hi Guys, I have deployed Angular6 produtio...</td>\n",
       "      <td>The sentence \"\"\" I have deployed Angular6 prod...</td>\n",
       "      <td>0</td>\n",
       "      <td>0</td>\n",
       "    </tr>\n",
       "    <tr>\n",
       "      <th>6</th>\n",
       "      <td>ETD_IMPLEMENT</td>\n",
       "      <td>\"\"\" I have build large SPAs with Angular, but ...</td>\n",
       "      <td>The sentence \"\"\" I have build large SPAs with ...</td>\n",
       "      <td>1</td>\n",
       "      <td>1</td>\n",
       "    </tr>\n",
       "    <tr>\n",
       "      <th>7</th>\n",
       "      <td>ETD_SHOULD</td>\n",
       "      <td>\"\"\" hey all i am using connect-multiparty pack...</td>\n",
       "      <td>The sentence \"\"\" but it's stated that i should...</td>\n",
       "      <td>1</td>\n",
       "      <td>1</td>\n",
       "    </tr>\n",
       "    <tr>\n",
       "      <th>8</th>\n",
       "      <td>ETD_FOR_EXAMPLE</td>\n",
       "      <td>\"\"\" Any idea on how to provider a service to t...</td>\n",
       "      <td>The sentence \"\"\" It is funny in some places (s...</td>\n",
       "      <td>0</td>\n",
       "      <td>0</td>\n",
       "    </tr>\n",
       "    <tr>\n",
       "      <th>9</th>\n",
       "      <td>ETD_CAN_QUESTION</td>\n",
       "      <td>\"\"\" hey - can i get some n00b help. I have the...</td>\n",
       "      <td>The sentence \"\"\" can i get some n00b help. \"\"\"...</td>\n",
       "      <td>0</td>\n",
       "      <td>0</td>\n",
       "    </tr>\n",
       "    <tr>\n",
       "      <th>10</th>\n",
       "      <td>ETD_WANT_TO</td>\n",
       "      <td>\"\"\" does angular2 always want to load referenc...</td>\n",
       "      <td>The sentence \"\"\" does angular2 always want to ...</td>\n",
       "      <td>0</td>\n",
       "      <td>1</td>\n",
       "    </tr>\n",
       "    <tr>\n",
       "      <th>11</th>\n",
       "      <td>ETD_SHOULD</td>\n",
       "      <td>\"\"\" I use Stripe payment system in my Angular ...</td>\n",
       "      <td>The sentence \"\"\" Is it secure to store key in ...</td>\n",
       "      <td>0</td>\n",
       "      <td>0</td>\n",
       "    </tr>\n",
       "    <tr>\n",
       "      <th>12</th>\n",
       "      <td>ETD_REQUIRES</td>\n",
       "      <td>\"\"\" i need help  I'm working a project that re...</td>\n",
       "      <td>The sentence \"\"\" i need help  I'm working a pr...</td>\n",
       "      <td>1</td>\n",
       "      <td>1</td>\n",
       "    </tr>\n",
       "    <tr>\n",
       "      <th>13</th>\n",
       "      <td>ETD_WOULD_BE</td>\n",
       "      <td>\"\"\" Hi, I'm having a problem with following co...</td>\n",
       "      <td>The sentence \"\"\" it will be OK \"\"\" uses &lt;patte...</td>\n",
       "      <td>0</td>\n",
       "      <td>0</td>\n",
       "    </tr>\n",
       "    <tr>\n",
       "      <th>14</th>\n",
       "      <td>NaN</td>\n",
       "      <td>\"\"\" Hi, when i am running the script i found t...</td>\n",
       "      <td>No sentences found to indicate the user's expe...</td>\n",
       "      <td>1</td>\n",
       "      <td>0</td>\n",
       "    </tr>\n",
       "    <tr>\n",
       "      <th>15</th>\n",
       "      <td>ETD_LOOKING_TO</td>\n",
       "      <td>\"\"\" Hello! If I'm looking to test a component ...</td>\n",
       "      <td>The sentence \"\"\" If I'm looking to test a comp...</td>\n",
       "      <td>1</td>\n",
       "      <td>0</td>\n",
       "    </tr>\n",
       "    <tr>\n",
       "      <th>16</th>\n",
       "      <td>ETD_TRYING_TO</td>\n",
       "      <td>\"\"\" Hi, I have LSTM model training it on aws G...</td>\n",
       "      <td>The sentence \"\"\" I am trying to understand the...</td>\n",
       "      <td>1</td>\n",
       "      <td>0</td>\n",
       "    </tr>\n",
       "    <tr>\n",
       "      <th>17</th>\n",
       "      <td>ETD_LOOKING_TO</td>\n",
       "      <td>\"\"\" I'm excited to get the 4.2.0 gitter client...</td>\n",
       "      <td>The sentence \"\"\"  Or is the next release going...</td>\n",
       "      <td>0</td>\n",
       "      <td>0</td>\n",
       "    </tr>\n",
       "    <tr>\n",
       "      <th>18</th>\n",
       "      <td>ETD_HOPE</td>\n",
       "      <td>\"\"\" Hey everyone.  I have a short question abo...</td>\n",
       "      <td>The sentence \"\"\" I hope you can help. \"\"\" uses...</td>\n",
       "      <td>0</td>\n",
       "      <td>0</td>\n",
       "    </tr>\n",
       "    <tr>\n",
       "      <th>19</th>\n",
       "      <td>ETD_TRYING_TO</td>\n",
       "      <td>\"\"\" Hi, I'm trying to import my wallet. When i...</td>\n",
       "      <td>The sentence \"\"\" I'm trying to import my walle...</td>\n",
       "      <td>1</td>\n",
       "      <td>1</td>\n",
       "    </tr>\n",
       "    <tr>\n",
       "      <th>20</th>\n",
       "      <td>ETD_MUST</td>\n",
       "      <td>\"\"\" Can someone please shed some light on why ...</td>\n",
       "      <td>The sentence \"\"\" \"Quantity must be greater tha...</td>\n",
       "      <td>0</td>\n",
       "      <td>0</td>\n",
       "    </tr>\n",
       "    <tr>\n",
       "      <th>21</th>\n",
       "      <td>ETD_CAN_QUESTION</td>\n",
       "      <td>\"\"\" Hello! If I'm looking to test a component ...</td>\n",
       "      <td>The sentence \"\"\" can I just provide a mock for...</td>\n",
       "      <td>1</td>\n",
       "      <td>0</td>\n",
       "    </tr>\n",
       "    <tr>\n",
       "      <th>22</th>\n",
       "      <td>ETD_GOING_TO</td>\n",
       "      <td>\"\"\" I will be grateful if you could take a loo...</td>\n",
       "      <td>The sentence \"\"\"  I am going to create chatbot...</td>\n",
       "      <td>0</td>\n",
       "      <td>1</td>\n",
       "    </tr>\n",
       "    <tr>\n",
       "      <th>23</th>\n",
       "      <td>ETD_HAVE_TO</td>\n",
       "      <td>\"\"\" Hi guys, a quick question: how to use glob...</td>\n",
       "      <td>The sentence \"\"\" but know I had to import in e...</td>\n",
       "      <td>1</td>\n",
       "      <td>1</td>\n",
       "    </tr>\n",
       "    <tr>\n",
       "      <th>24</th>\n",
       "      <td>ETD_GOING_TO</td>\n",
       "      <td>\"\"\" I'm excited to get the 4.2.0 gitter client...</td>\n",
       "      <td>The sentence \"\"\"  Or is the next release going...</td>\n",
       "      <td>0</td>\n",
       "      <td>0</td>\n",
       "    </tr>\n",
       "    <tr>\n",
       "      <th>25</th>\n",
       "      <td>ETD_NEED_TO</td>\n",
       "      <td>\"\"\" I have my app component, routing, and a fe...</td>\n",
       "      <td>The sentence \"\"\" I need to split the routed to...</td>\n",
       "      <td>0</td>\n",
       "      <td>1</td>\n",
       "    </tr>\n",
       "    <tr>\n",
       "      <th>26</th>\n",
       "      <td>ETD_HAVE_TO</td>\n",
       "      <td>\"\"\" Hi guys, what do I have to do to tell TS t...</td>\n",
       "      <td>The sentence \"\"\" what do I have to do to tell ...</td>\n",
       "      <td>0</td>\n",
       "      <td>0</td>\n",
       "    </tr>\n",
       "    <tr>\n",
       "      <th>27</th>\n",
       "      <td>ETD_NEED_TO</td>\n",
       "      <td>\"\"\" I moved my api to be served over https, an...</td>\n",
       "      <td>The sentence \"\"\" do I need to do something on ...</td>\n",
       "      <td>0</td>\n",
       "      <td>0</td>\n",
       "    </tr>\n",
       "    <tr>\n",
       "      <th>28</th>\n",
       "      <td>ETD_HOPE</td>\n",
       "      <td>\"\"\" Hi, Is it possible to make a directive req...</td>\n",
       "      <td>The sentence \"\"\" I was hoping to use something...</td>\n",
       "      <td>0</td>\n",
       "      <td>1</td>\n",
       "    </tr>\n",
       "    <tr>\n",
       "      <th>29</th>\n",
       "      <td>ETD_WOULD_BE</td>\n",
       "      <td>\"\"\" Hi guys. How can I use Docker with Angular...</td>\n",
       "      <td>The sentence \"\"\" and during development I woul...</td>\n",
       "      <td>1</td>\n",
       "      <td>1</td>\n",
       "    </tr>\n",
       "  </tbody>\n",
       "</table>\n",
       "</div>"
      ],
      "text/plain": [
       "             Pattern                                              issue  \\\n",
       "0    ETD_FOR_EXAMPLE  \"\"\" guys, can somebody help me w/ chained reso...   \n",
       "1                NaN  \"\"\" Hi, I'm having a problem with following co...   \n",
       "2           ETD_MUST  \"\"\" Hi all, I am looking for a schedular simil...   \n",
       "3        ETD_WANT_TO  \"\"\" How do I set a property of a component wit...   \n",
       "4       ETD_REQUIRES  \"\"\" LSTM layers require quite a bit of memory,...   \n",
       "5      ETD_IMPLEMENT  \"\"\" Hi Guys, I have deployed Angular6 produtio...   \n",
       "6      ETD_IMPLEMENT  \"\"\" I have build large SPAs with Angular, but ...   \n",
       "7         ETD_SHOULD  \"\"\" hey all i am using connect-multiparty pack...   \n",
       "8    ETD_FOR_EXAMPLE  \"\"\" Any idea on how to provider a service to t...   \n",
       "9   ETD_CAN_QUESTION  \"\"\" hey - can i get some n00b help. I have the...   \n",
       "10       ETD_WANT_TO  \"\"\" does angular2 always want to load referenc...   \n",
       "11        ETD_SHOULD  \"\"\" I use Stripe payment system in my Angular ...   \n",
       "12      ETD_REQUIRES  \"\"\" i need help  I'm working a project that re...   \n",
       "13      ETD_WOULD_BE  \"\"\" Hi, I'm having a problem with following co...   \n",
       "14               NaN  \"\"\" Hi, when i am running the script i found t...   \n",
       "15    ETD_LOOKING_TO  \"\"\" Hello! If I'm looking to test a component ...   \n",
       "16     ETD_TRYING_TO  \"\"\" Hi, I have LSTM model training it on aws G...   \n",
       "17    ETD_LOOKING_TO  \"\"\" I'm excited to get the 4.2.0 gitter client...   \n",
       "18          ETD_HOPE  \"\"\" Hey everyone.  I have a short question abo...   \n",
       "19     ETD_TRYING_TO  \"\"\" Hi, I'm trying to import my wallet. When i...   \n",
       "20          ETD_MUST  \"\"\" Can someone please shed some light on why ...   \n",
       "21  ETD_CAN_QUESTION  \"\"\" Hello! If I'm looking to test a component ...   \n",
       "22      ETD_GOING_TO  \"\"\" I will be grateful if you could take a loo...   \n",
       "23       ETD_HAVE_TO  \"\"\" Hi guys, a quick question: how to use glob...   \n",
       "24      ETD_GOING_TO  \"\"\" I'm excited to get the 4.2.0 gitter client...   \n",
       "25       ETD_NEED_TO  \"\"\" I have my app component, routing, and a fe...   \n",
       "26       ETD_HAVE_TO  \"\"\" Hi guys, what do I have to do to tell TS t...   \n",
       "27       ETD_NEED_TO  \"\"\" I moved my api to be served over https, an...   \n",
       "28          ETD_HOPE  \"\"\" Hi, Is it possible to make a directive req...   \n",
       "29      ETD_WOULD_BE  \"\"\" Hi guys. How can I use Docker with Angular...   \n",
       "\n",
       "                                               output  12_examples  \\\n",
       "0   The sentence \"\"\" e.g. a components needs resul...            1   \n",
       "1   No sentences found to indicate the user's expe...            0   \n",
       "2   The sentence \"\"\" must include timeline view, m...            1   \n",
       "3   The sentence \"\"\" Let's say I want to set the w...            0   \n",
       "4   The sentence \"\"\" LSTM layers require quite a b...            0   \n",
       "5   The sentence \"\"\" I have deployed Angular6 prod...            0   \n",
       "6   The sentence \"\"\" I have build large SPAs with ...            1   \n",
       "7   The sentence \"\"\" but it's stated that i should...            1   \n",
       "8   The sentence \"\"\" It is funny in some places (s...            0   \n",
       "9   The sentence \"\"\" can i get some n00b help. \"\"\"...            0   \n",
       "10  The sentence \"\"\" does angular2 always want to ...            0   \n",
       "11  The sentence \"\"\" Is it secure to store key in ...            0   \n",
       "12  The sentence \"\"\" i need help  I'm working a pr...            1   \n",
       "13  The sentence \"\"\" it will be OK \"\"\" uses <patte...            0   \n",
       "14  No sentences found to indicate the user's expe...            1   \n",
       "15  The sentence \"\"\" If I'm looking to test a comp...            1   \n",
       "16  The sentence \"\"\" I am trying to understand the...            1   \n",
       "17  The sentence \"\"\"  Or is the next release going...            0   \n",
       "18  The sentence \"\"\" I hope you can help. \"\"\" uses...            0   \n",
       "19  The sentence \"\"\" I'm trying to import my walle...            1   \n",
       "20  The sentence \"\"\" \"Quantity must be greater tha...            0   \n",
       "21  The sentence \"\"\" can I just provide a mock for...            1   \n",
       "22  The sentence \"\"\"  I am going to create chatbot...            0   \n",
       "23  The sentence \"\"\" but know I had to import in e...            1   \n",
       "24  The sentence \"\"\"  Or is the next release going...            0   \n",
       "25  The sentence \"\"\" I need to split the routed to...            0   \n",
       "26  The sentence \"\"\" what do I have to do to tell ...            0   \n",
       "27  The sentence \"\"\" do I need to do something on ...            0   \n",
       "28  The sentence \"\"\" I was hoping to use something...            0   \n",
       "29  The sentence \"\"\" and during development I woul...            1   \n",
       "\n",
       "    14_examples  \n",
       "0             1  \n",
       "1             1  \n",
       "2             1  \n",
       "3             1  \n",
       "4             0  \n",
       "5             0  \n",
       "6             1  \n",
       "7             1  \n",
       "8             0  \n",
       "9             0  \n",
       "10            1  \n",
       "11            0  \n",
       "12            1  \n",
       "13            0  \n",
       "14            0  \n",
       "15            0  \n",
       "16            0  \n",
       "17            0  \n",
       "18            0  \n",
       "19            1  \n",
       "20            0  \n",
       "21            0  \n",
       "22            1  \n",
       "23            1  \n",
       "24            0  \n",
       "25            1  \n",
       "26            0  \n",
       "27            0  \n",
       "28            1  \n",
       "29            1  "
      ]
     },
     "execution_count": 11,
     "metadata": {},
     "output_type": "execute_result"
    }
   ],
   "source": [
    "df_etd_example = df_etd_example.sample(frac=1)\n",
    "df_etd_example.reset_index(drop=True, inplace=True)\n",
    "df_etd_example"
   ]
  },
  {
   "cell_type": "code",
   "execution_count": null,
   "id": "9ada590f",
   "metadata": {},
   "outputs": [],
   "source": [
    "df_ps_example = df_ps_example.sample(frac=1)\n",
    "df_ps_example.reset_index(drop=True, inplace=True)\n",
    "df_ps_example"
   ]
  },
  {
   "cell_type": "markdown",
   "id": "beee809b",
   "metadata": {},
   "source": [
    "### for all examples"
   ]
  },
  {
   "cell_type": "code",
   "execution_count": null,
   "id": "9aa1958c",
   "metadata": {},
   "outputs": [],
   "source": [
    "chat_output = list(df_etd_randexample[\"output\"].values)\n",
    "# chat_output.extend(list(df_etd_randexample[\"output_n\"].values))\n",
    "chat_output"
   ]
  },
  {
   "cell_type": "code",
   "execution_count": null,
   "id": "0652e398",
   "metadata": {},
   "outputs": [],
   "source": [
    "# chat_issue = list(df_etd_example[\"issue\"].values)\n",
    "chat_issue = [\"input: \" + q_str for q_str in list(df_ps_example[\"issue\"].values)]\n",
    "chat_issue"
   ]
  },
  {
   "cell_type": "code",
   "execution_count": null,
   "id": "9c77ff69",
   "metadata": {},
   "outputs": [],
   "source": [
    "# chat_output = list(df_etd_example[\"output\"].values)\n",
    "chat_output = [\"output: \" + o_str for o_str in list(df_ps_example[\"output\"].values)]\n",
    "chat_output"
   ]
  },
  {
   "cell_type": "markdown",
   "id": "8ae1670d",
   "metadata": {},
   "source": [
    "### for random/frequent patterns"
   ]
  },
  {
   "cell_type": "code",
   "execution_count": 12,
   "id": "8396f761",
   "metadata": {},
   "outputs": [
    {
     "data": {
      "text/plain": [
       "['input: \"\"\" guys, can somebody help me w/ chained resolvers? What is a proper approach to chain resolves? e.g. a components needs result from resolverA; resolverA builds a query depending on a result from resolverB. \"\"\"',\n",
       " 'input: \"\"\" Hi all, I am looking for a schedular similar to fullCalendar for angular but a pure free & opensource (must include timeline view , month, year & day view), any recommendations on it would really be of a greater help.... \"\"\"',\n",
       " 'input: \"\"\" I have build large SPAs with Angular, but now want to add some angular \"widgets\" to a regular website (think quote of the day/flight status etc). If I use the normal webpack route, I\\'m going to end up with a large bundle which duplicates all the angular resources for each simple little widget. Is there an established pattern for using Angular in this way? \"\"\"',\n",
       " 'input: \"\"\" hey all i am using connect-multiparty package to handle file uploads but it\\'s stated that i should remove temp files on the server? what exactly does that mean and how will i do it? arun-awnics: thank you yes i am looking at this package now and there\\'s seems to be a lot of good comments about it. But for future reference do you know the answer to my questiona bout the server temp files? \"\"\"',\n",
       " 'input: \"\"\" i need help  I\\'m working a project that requires having a form & a table to display d data filled in the form in a modal popup. I\\'ve created the form & d popup is working OK, but when i add the table,  everything goes blank,  will appreciate if anyone can help out \"\"\"',\n",
       " 'input: \"\"\" Hi, when i am running the script i found the following output:18:18:37.986 [main] INFO o.d.o.l.ScoreIterationListener - Score at iteration 10 is 0.7203129577636719. What is the \"score\" mean? Does it refer to gradient value? \"\"\"',\n",
       " 'input: \"\"\" Hello! If I\\'m looking to test a component that gets a service injected via the constructor, can I just provide a mock for the service itself so that I can focus on the actual component? \"\"\"',\n",
       " 'input: \"\"\" Hi, I have LSTM model training it on aws GPU instances however the problem is when I use small dataset gpu utilize good but when data size gets bigger I see mostly 0% and some 70% when I run nvidia-smi, I am trying to understand the problem. do you have any idea@agibsonccc \"\"\"',\n",
       " 'input: \"\"\" Hi, I\\'m trying to import my wallet. When i drag and drop my keystore file it flashes importing but nothing shows up in the mist wallet. Does it need my passcode or something else? I also sent Eth when my wallet wasnt synced. Will the transaction go throgh? \"\"\"',\n",
       " 'input: \"\"\" Hello! If I\\'m looking to test a component that gets a service injected via the constructor, can I just provide a mock for the service itself so that I can focus on the actual component? \"\"\"',\n",
       " 'input: \"\"\" Hi guys, a quick question: how to use global SCSS variables in angular2? I\\'ve created a shared \\'vars.scss\\' file, but know I had to import in every single component to have it avaliable? I hope there\\'s a better solution \"\"\"',\n",
       " 'input: \"\"\" Hi guys. How can I use Docker with Angular CLI? I want to be able to build my app and push it to a production docker container that is serving nginx as well. So the problem is, I want to build a dist folder in the docker container, and during development I would be able to watch the folder and serve the webapp. Anyone could provide some guidance on how I could do this? \"\"\"']"
      ]
     },
     "execution_count": 12,
     "metadata": {},
     "output_type": "execute_result"
    }
   ],
   "source": [
    "df_etd_randexample = df_etd_example[df_etd_example[\"12_examples\"]==1]\n",
    "\n",
    "chat_issue = [\"input: \" + q_str for q_str in list(df_etd_randexample[\"issue\"].values)]\n",
    "# chat_issue.extend(list(df_etd_randexample[\"issue_n\"].values))\n",
    "chat_issue"
   ]
  },
  {
   "cell_type": "code",
   "execution_count": 13,
   "id": "21378a49",
   "metadata": {},
   "outputs": [
    {
     "data": {
      "text/plain": [
       "['output: The sentence \"\"\" e.g. a components needs result from resolverA; \"\"\" uses an example start with <pattern>e.g. a NNS VBZ</pattern> to indicate that the user expects the result from \"resolverA\". The answer is YES.',\n",
       " 'output: The sentence \"\"\" must include timeline view, month, year & day view \"\"\" uses <pattern>must VB</pattern> to indicate that the user expects the calendar to include \"timeline view, month, year & day view\". The answer is YES.',\n",
       " 'output: The sentence \"\"\" I have build large SPAs with Angular \"\"\" uses <pattern>build sth. with</pattern> to indicate that the user expects to \"build large SPAs with Angular\". The answer is YES.',\n",
       " 'output: The sentence \"\"\" but it\\'s stated that i should remove temp files on the server? \"\"\" uses <pattern>should VB</pattern> to indicate that the user expects to \"remove temp files on the server\". The answer is YES.',\n",
       " 'output: The sentence \"\"\" i need help  I\\'m working a project that requires having a form & a table to display d data filled in the form in a modal popup \"\"\" uses <pattern>that requires VBG</pattern> to indicate that the user expects the project to have \"a form & a table to display d data filled in the form in a modal popup\". The answer is YES.',\n",
       " \"output: No sentences found to indicate the user's expectation.\",\n",
       " 'output: The sentence \"\"\" If I\\'m looking to test a component that gets a service injected via the constructor \"\"\" uses <pattern>looking to VB</pattern> to indicate that the user expects to \"test a component\". The answer is YES.',\n",
       " 'output: The sentence \"\"\" I am trying to understand the problem \"\"\" uses <pattern>trying to VB</pattern> but \"understand the problem\" is too vague and does not imply the exact user\\'s expectation, so the answer is NO.',\n",
       " 'output: The sentence \"\"\" I\\'m trying to import my wallet \"\"\" uses <pattern>trying to VB</pattern> to indicate that the user expects to \"import my wallet\". The answer is YES.',\n",
       " 'output: The sentence \"\"\" can I just provide a mock for the service itself so that I can focus on the actual component? \"\"\" uses <pattern>can I VB</pattern> to indicate that the user expects to \"only focus on the actual component\". The answer is YES.',\n",
       " 'output: The sentence \"\"\" but know I had to import in every single component to have it avaliable \"\"\" uses <pattern>had to VB</pattern> to indicate that the user expects to \"import in every single component to have it avaliable\". The answer is YES.',\n",
       " 'output: The sentence \"\"\" and during development I would be able to watch the folder and serve the webapp. \"\"\" uses <pattern>would be ADJ to VB</pattern> to indicate that the user expects to \"watch the folder and serve the webapp\". The answer is YES.']"
      ]
     },
     "execution_count": 13,
     "metadata": {},
     "output_type": "execute_result"
    }
   ],
   "source": [
    "chat_output = [\"output: \" + o_str for o_str in list(df_etd_randexample[\"output\"].values)]\n",
    "# chat_output.extend(list(df_etd_randexample[\"output_n\"].values))\n",
    "chat_output"
   ]
  },
  {
   "cell_type": "code",
   "execution_count": null,
   "id": "40b99564",
   "metadata": {},
   "outputs": [],
   "source": [
    "df_ps_randexample = df_ps_example[df_ps_example[\"14_examples\"]==1]\n",
    "\n",
    "chat_issue = [\"input: \" + q_str for q_str in list(df_ps_randexample[\"issue\"].values)]\n",
    "# chat_issue.extend(list(df_ps_randexample[\"issue_n\"].values))\n",
    "chat_issue"
   ]
  },
  {
   "cell_type": "code",
   "execution_count": null,
   "id": "9d094739",
   "metadata": {},
   "outputs": [],
   "source": [
    "chat_output = [\"output: \" + o_str for o_str in list(df_ps_randexample[\"output\"].values)]\n",
    "# chat_output.extend(list(df_ps_randexample[\"output_n\"].values))\n",
    "chat_output"
   ]
  },
  {
   "cell_type": "markdown",
   "id": "616c14ca",
   "metadata": {},
   "source": [
    "## Model running"
   ]
  },
  {
   "cell_type": "code",
   "execution_count": null,
   "id": "23a0440b-30c7-451e-aebe-bcc1bb8ca9d9",
   "metadata": {},
   "outputs": [],
   "source": [
    "with open(\"gemini_token.txt\", 'r') as fp:\n",
    "    gemini_token = fp.readline()"
   ]
  },
  {
   "cell_type": "code",
   "execution_count": 14,
   "id": "64dcfade",
   "metadata": {},
   "outputs": [],
   "source": [
    "genai.configure(api_key=gemini_token)"
   ]
  },
  {
   "cell_type": "code",
   "execution_count": 15,
   "id": "f23e960b",
   "metadata": {},
   "outputs": [],
   "source": [
    "# Set up the model\n",
    "generation_config = {\n",
    "  \"temperature\": 0.8,\n",
    "  \"top_p\": 1,\n",
    "  \"top_k\": 1,\n",
    "  \"max_output_tokens\": 300,\n",
    "}\n",
    "\n",
    "safety_settings = [\n",
    "  {\n",
    "    \"category\": \"HARM_CATEGORY_HARASSMENT\",\n",
    "    \"threshold\": \"BLOCK_MEDIUM_AND_ABOVE\"\n",
    "  },\n",
    "  {\n",
    "    \"category\": \"HARM_CATEGORY_HATE_SPEECH\",\n",
    "    \"threshold\": \"BLOCK_MEDIUM_AND_ABOVE\"\n",
    "  },\n",
    "  {\n",
    "    \"category\": \"HARM_CATEGORY_SEXUALLY_EXPLICIT\",\n",
    "    \"threshold\": \"BLOCK_MEDIUM_AND_ABOVE\"\n",
    "  },\n",
    "  {\n",
    "    \"category\": \"HARM_CATEGORY_DANGEROUS_CONTENT\",\n",
    "    \"threshold\": \"BLOCK_MEDIUM_AND_ABOVE\"\n",
    "  }\n",
    "]\n",
    "\n",
    "# Create GenerativeModel object\n",
    "model = genai.GenerativeModel(\n",
    "    model_name=\"gemini-pro\",\n",
    "    generation_config=generation_config,\n",
    "    safety_settings=safety_settings,\n",
    ")"
   ]
  },
  {
   "cell_type": "code",
   "execution_count": 16,
   "id": "cea1d1d1",
   "metadata": {
    "scrolled": true
   },
   "outputs": [
    {
     "data": {
      "text/plain": [
       "['Use the following step-by-step instructions to respond to user inputs.\\n \\n Step 1 - The user will provide you with text in triple quotes (Question: \"\"\"insert text here\"\"\"). Find one sentence from the given text which can indicate the answer to \"What is the user expecting to do or achieve?\". The sentence only describing the system error or undesired behavior should not be considered. Use triple quotes to cite the found sentence. If the given text does not contain such sentence, write \"No sentences found to indicate the user\\'s expectation. The answer is NO.\" and skip Step 2 and Step 3.\\n \\n Step 2 - If found one sentence from Step 1, \\n summarize the sentence into one or more patterns delimited by <pattern>..</pattern> according to the syntax and semantic of the sentence. The pattern could be expressed by some keywords and part-of-speech tags from the found sentence, which can explain why this sentence provides the answer to \"What is the user expecting to do or achieve?\".\\n \\n Step 3 - Use the following format to respond to user inputs: \\n (The sentence \"\"\"insert found sentence here\"\"\" uses <pattern>insert pattern here</pattern> to describe the user\\'s expectation. The answer is YES.)',\n",
       " 'input: \"\"\" guys, can somebody help me w/ chained resolvers? What is a proper approach to chain resolves? e.g. a components needs result from resolverA; resolverA builds a query depending on a result from resolverB. \"\"\"',\n",
       " 'output: The sentence \"\"\" e.g. a components needs result from resolverA; \"\"\" uses an example start with <pattern>e.g. a NNS VBZ</pattern> to indicate that the user expects the result from \"resolverA\". The answer is YES.',\n",
       " 'input: \"\"\" Hi all, I am looking for a schedular similar to fullCalendar for angular but a pure free & opensource (must include timeline view , month, year & day view), any recommendations on it would really be of a greater help.... \"\"\"',\n",
       " 'output: The sentence \"\"\" must include timeline view, month, year & day view \"\"\" uses <pattern>must VB</pattern> to indicate that the user expects the calendar to include \"timeline view, month, year & day view\". The answer is YES.',\n",
       " 'input: \"\"\" I have build large SPAs with Angular, but now want to add some angular \"widgets\" to a regular website (think quote of the day/flight status etc). If I use the normal webpack route, I\\'m going to end up with a large bundle which duplicates all the angular resources for each simple little widget. Is there an established pattern for using Angular in this way? \"\"\"',\n",
       " 'output: The sentence \"\"\" I have build large SPAs with Angular \"\"\" uses <pattern>build sth. with</pattern> to indicate that the user expects to \"build large SPAs with Angular\". The answer is YES.',\n",
       " 'input: \"\"\" hey all i am using connect-multiparty package to handle file uploads but it\\'s stated that i should remove temp files on the server? what exactly does that mean and how will i do it? arun-awnics: thank you yes i am looking at this package now and there\\'s seems to be a lot of good comments about it. But for future reference do you know the answer to my questiona bout the server temp files? \"\"\"',\n",
       " 'output: The sentence \"\"\" but it\\'s stated that i should remove temp files on the server? \"\"\" uses <pattern>should VB</pattern> to indicate that the user expects to \"remove temp files on the server\". The answer is YES.',\n",
       " 'input: \"\"\" i need help  I\\'m working a project that requires having a form & a table to display d data filled in the form in a modal popup. I\\'ve created the form & d popup is working OK, but when i add the table,  everything goes blank,  will appreciate if anyone can help out \"\"\"',\n",
       " 'output: The sentence \"\"\" i need help  I\\'m working a project that requires having a form & a table to display d data filled in the form in a modal popup \"\"\" uses <pattern>that requires VBG</pattern> to indicate that the user expects the project to have \"a form & a table to display d data filled in the form in a modal popup\". The answer is YES.',\n",
       " 'input: \"\"\" Hi, when i am running the script i found the following output:18:18:37.986 [main] INFO o.d.o.l.ScoreIterationListener - Score at iteration 10 is 0.7203129577636719. What is the \"score\" mean? Does it refer to gradient value? \"\"\"',\n",
       " \"output: No sentences found to indicate the user's expectation.\",\n",
       " 'input: \"\"\" Hello! If I\\'m looking to test a component that gets a service injected via the constructor, can I just provide a mock for the service itself so that I can focus on the actual component? \"\"\"',\n",
       " 'output: The sentence \"\"\" If I\\'m looking to test a component that gets a service injected via the constructor \"\"\" uses <pattern>looking to VB</pattern> to indicate that the user expects to \"test a component\". The answer is YES.',\n",
       " 'input: \"\"\" Hi, I have LSTM model training it on aws GPU instances however the problem is when I use small dataset gpu utilize good but when data size gets bigger I see mostly 0% and some 70% when I run nvidia-smi, I am trying to understand the problem. do you have any idea@agibsonccc \"\"\"',\n",
       " 'output: The sentence \"\"\" I am trying to understand the problem \"\"\" uses <pattern>trying to VB</pattern> but \"understand the problem\" is too vague and does not imply the exact user\\'s expectation, so the answer is NO.',\n",
       " 'input: \"\"\" Hi, I\\'m trying to import my wallet. When i drag and drop my keystore file it flashes importing but nothing shows up in the mist wallet. Does it need my passcode or something else? I also sent Eth when my wallet wasnt synced. Will the transaction go throgh? \"\"\"',\n",
       " 'output: The sentence \"\"\" I\\'m trying to import my wallet \"\"\" uses <pattern>trying to VB</pattern> to indicate that the user expects to \"import my wallet\". The answer is YES.',\n",
       " 'input: \"\"\" Hello! If I\\'m looking to test a component that gets a service injected via the constructor, can I just provide a mock for the service itself so that I can focus on the actual component? \"\"\"',\n",
       " 'output: The sentence \"\"\" can I just provide a mock for the service itself so that I can focus on the actual component? \"\"\" uses <pattern>can I VB</pattern> to indicate that the user expects to \"only focus on the actual component\". The answer is YES.',\n",
       " 'input: \"\"\" Hi guys, a quick question: how to use global SCSS variables in angular2? I\\'ve created a shared \\'vars.scss\\' file, but know I had to import in every single component to have it avaliable? I hope there\\'s a better solution \"\"\"',\n",
       " 'output: The sentence \"\"\" but know I had to import in every single component to have it avaliable \"\"\" uses <pattern>had to VB</pattern> to indicate that the user expects to \"import in every single component to have it avaliable\". The answer is YES.',\n",
       " 'input: \"\"\" Hi guys. How can I use Docker with Angular CLI? I want to be able to build my app and push it to a production docker container that is serving nginx as well. So the problem is, I want to build a dist folder in the docker container, and during development I would be able to watch the folder and serve the webapp. Anyone could provide some guidance on how I could do this? \"\"\"',\n",
       " 'output: The sentence \"\"\" and during development I would be able to watch the folder and serve the webapp. \"\"\" uses <pattern>would be ADJ to VB</pattern> to indicate that the user expects to \"watch the folder and serve the webapp\". The answer is YES.']"
      ]
     },
     "execution_count": 16,
     "metadata": {},
     "output_type": "execute_result"
    }
   ],
   "source": [
    "for eg_input, eg_output in zip(chat_issue, chat_output):\n",
    "    prompt_parts.append(eg_input)\n",
    "    prompt_parts.append(eg_output)\n",
    "\n",
    "prompt_parts"
   ]
  },
  {
   "cell_type": "code",
   "execution_count": 17,
   "id": "5900eb82",
   "metadata": {},
   "outputs": [],
   "source": [
    "ans1= []\n",
    "start_i = 0\n",
    "for i in range(start_i,len(df_issue),1):\n",
    "# for i in range(0,10,1):\n",
    "    issue = df_issue.loc[i][\"issue\"]\n",
    "    input_str = \"input: \\\"\\\"\\\" {} \\\"\\\"\\\"\".format(issue)\n",
    "    \n",
    "    prompt = deepcopy(prompt_parts)\n",
    "    prompt.append(input_str)\n",
    "    prompt.append(\"output: \")\n",
    "    \n",
    "    response = model.generate_content(prompt)\n",
    "    ans1.append(response.text)"
   ]
  },
  {
   "cell_type": "code",
   "execution_count": 18,
   "id": "4cb794f0",
   "metadata": {},
   "outputs": [
    {
     "name": "stdout",
     "output_type": "stream",
     "text": [
      "1000\n"
     ]
    }
   ],
   "source": [
    "print(len(ans1))"
   ]
  },
  {
   "cell_type": "code",
   "execution_count": 19,
   "id": "2c89bd9c",
   "metadata": {},
   "outputs": [
    {
     "data": {
      "text/html": [
       "<div>\n",
       "<style scoped>\n",
       "    .dataframe tbody tr th:only-of-type {\n",
       "        vertical-align: middle;\n",
       "    }\n",
       "\n",
       "    .dataframe tbody tr th {\n",
       "        vertical-align: top;\n",
       "    }\n",
       "\n",
       "    .dataframe thead th {\n",
       "        text-align: right;\n",
       "    }\n",
       "</style>\n",
       "<table border=\"1\" class=\"dataframe\">\n",
       "  <thead>\n",
       "    <tr style=\"text-align: right;\">\n",
       "      <th></th>\n",
       "      <th>answer1</th>\n",
       "    </tr>\n",
       "  </thead>\n",
       "  <tbody>\n",
       "    <tr>\n",
       "      <th>0</th>\n",
       "      <td>The sentence \"\"\" I am not able to find any mat...</td>\n",
       "    </tr>\n",
       "    <tr>\n",
       "      <th>1</th>\n",
       "      <td>The sentence \"\"\" I'm trying to create a Breadc...</td>\n",
       "    </tr>\n",
       "    <tr>\n",
       "      <th>2</th>\n",
       "      <td>The sentence \"\"\" What's the best way for the a...</td>\n",
       "    </tr>\n",
       "    <tr>\n",
       "      <th>3</th>\n",
       "      <td>The sentence \"\"\" i use this code for menu but ...</td>\n",
       "    </tr>\n",
       "    <tr>\n",
       "      <th>4</th>\n",
       "      <td>No sentences found to indicate the user's expe...</td>\n",
       "    </tr>\n",
       "    <tr>\n",
       "      <th>5</th>\n",
       "      <td>The sentence \"\"\" show only top 5 series of dat...</td>\n",
       "    </tr>\n",
       "    <tr>\n",
       "      <th>6</th>\n",
       "      <td>The sentence \"\"\" Is there a workaround? \"\"\" us...</td>\n",
       "    </tr>\n",
       "    <tr>\n",
       "      <th>7</th>\n",
       "      <td>No sentences found to indicate the user's expe...</td>\n",
       "    </tr>\n",
       "    <tr>\n",
       "      <th>8</th>\n",
       "      <td>The sentence \"\"\" I would like to import variab...</td>\n",
       "    </tr>\n",
       "    <tr>\n",
       "      <th>9</th>\n",
       "      <td>The sentence \"\"\" I would expect projected cont...</td>\n",
       "    </tr>\n",
       "  </tbody>\n",
       "</table>\n",
       "</div>"
      ],
      "text/plain": [
       "                                             answer1\n",
       "0  The sentence \"\"\" I am not able to find any mat...\n",
       "1  The sentence \"\"\" I'm trying to create a Breadc...\n",
       "2  The sentence \"\"\" What's the best way for the a...\n",
       "3  The sentence \"\"\" i use this code for menu but ...\n",
       "4  No sentences found to indicate the user's expe...\n",
       "5  The sentence \"\"\" show only top 5 series of dat...\n",
       "6  The sentence \"\"\" Is there a workaround? \"\"\" us...\n",
       "7  No sentences found to indicate the user's expe...\n",
       "8  The sentence \"\"\" I would like to import variab...\n",
       "9  The sentence \"\"\" I would expect projected cont..."
      ]
     },
     "execution_count": 19,
     "metadata": {},
     "output_type": "execute_result"
    }
   ],
   "source": [
    "df = pd.DataFrame()\n",
    "df[\"answer1\"] = ans1\n",
    "\n",
    "df.head(10)"
   ]
  },
  {
   "cell_type": "code",
   "execution_count": 20,
   "id": "b8f5f226",
   "metadata": {},
   "outputs": [],
   "source": [
    "df.to_csv(\"experiment/random_pattern/answer_rand.csv\",index = None)"
   ]
  },
  {
   "cell_type": "code",
   "execution_count": 33,
   "id": "c3809dd9",
   "metadata": {},
   "outputs": [],
   "source": [
    "from sklearn import metrics as mt"
   ]
  },
  {
   "cell_type": "code",
   "execution_count": 34,
   "id": "5d369056",
   "metadata": {},
   "outputs": [
    {
     "name": "stdout",
     "output_type": "stream",
     "text": [
      "precision: 0.644 recall: 0.948 F1: 0.767\n"
     ]
    }
   ],
   "source": [
    "# PS results \n",
    "\n",
    "df_test_random = pd.read_csv(\"experiment/random_pattern/PS/gemini/ps_rand_withnegno1022_gemini_result(t=0.8).csv\")\n",
    "predictions_ps = df_test_random[\"y''_PS\"]\n",
    "y_test = df_test_random[\"y_PS\"]\n",
    "precison_ps = mt.precision_score(y_test, predictions_ps)\n",
    "recall_ps = mt.recall_score(y_test, predictions_ps)\n",
    "score_ps = mt.f1_score(y_test, predictions_ps)\n",
    "\n",
    "print(\"precision:\",round(precison_ps,3),\"recall:\",round(recall_ps,3),\"F1:\",round(score_ps,3))"
   ]
  },
  {
   "cell_type": "code",
   "execution_count": null,
   "id": "a732607e",
   "metadata": {},
   "outputs": [],
   "source": []
  }
 ],
 "metadata": {
  "kernelspec": {
   "display_name": "gemini",
   "language": "python",
   "name": "gemini"
  },
  "language_info": {
   "codemirror_mode": {
    "name": "ipython",
    "version": 3
   },
   "file_extension": ".py",
   "mimetype": "text/x-python",
   "name": "python",
   "nbconvert_exporter": "python",
   "pygments_lexer": "ipython3",
   "version": "3.9.18"
  }
 },
 "nbformat": 4,
 "nbformat_minor": 5
}
