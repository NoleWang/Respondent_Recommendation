{
 "cells": [
  {
   "cell_type": "code",
   "execution_count": 1,
   "id": "023a156c",
   "metadata": {},
   "outputs": [
    {
     "name": "stderr",
     "output_type": "stream",
     "text": [
      "C:\\Users\\wangs\\anaconda3\\envs\\gemini-env\\lib\\site-packages\\tqdm\\auto.py:21: TqdmWarning: IProgress not found. Please update jupyter and ipywidgets. See https://ipywidgets.readthedocs.io/en/stable/user_install.html\n",
      "  from .autonotebook import tqdm as notebook_tqdm\n"
     ]
    }
   ],
   "source": [
    "import google.generativeai as genai\n",
    "import pandas as pd\n",
    "from copy import deepcopy\n"
   ]
  },
  {
   "cell_type": "markdown",
   "id": "3f51a82a",
   "metadata": {},
   "source": [
    "## Prompt preparation"
   ]
  },
  {
   "cell_type": "code",
   "execution_count": 2,
   "id": "5f262ecc",
   "metadata": {},
   "outputs": [],
   "source": [
    "def remove_non_ascii(sentence):\n",
    "    return ''.join(char for char in sentence if ord(char) < 128)"
   ]
  },
  {
   "cell_type": "code",
   "execution_count": 5,
   "id": "ad8de497",
   "metadata": {},
   "outputs": [],
   "source": [
    "# with open('prompt/prompt_system_etd.txt', 'r') as fp:\n",
    "#     etd_system = fp.readlines()\n",
    "    \n",
    "# with open('prompt/prompt_system_ps.txt', 'r') as fp:\n",
    "#     ps_system = fp.readlines()\n",
    "    \n",
    "with open('prompt/prompt_system_etd_noCoT.txt', 'r') as fp:\n",
    "    etd_system = fp.readlines()\n",
    "    \n",
    "with open('prompt/prompt_system_ps_noCoT.txt', 'r') as fp:\n",
    "    ps_system = fp.readlines()"
   ]
  },
  {
   "cell_type": "code",
   "execution_count": null,
   "id": "fc62208f",
   "metadata": {},
   "outputs": [],
   "source": [
    "prompt_parts = []\n",
    "prompt_parts.append(\" \".join(etd_system))\n",
    "prompt_parts"
   ]
  },
  {
   "cell_type": "code",
   "execution_count": 6,
   "id": "4e16f558",
   "metadata": {},
   "outputs": [
    {
     "data": {
      "text/plain": [
       "['Please determine whether the given user input provides the information of the programâ€™s malfunction or any problematic scenario currently encountered by the user. If provided, return \"The answer is YES\"; otherwise, return \"The answer is No\".']"
      ]
     },
     "execution_count": 6,
     "metadata": {},
     "output_type": "execute_result"
    }
   ],
   "source": [
    "prompt_parts = []\n",
    "prompt_parts.append(\" \".join(ps_system))\n",
    "prompt_parts"
   ]
  },
  {
   "cell_type": "code",
   "execution_count": 7,
   "id": "36e6f78a",
   "metadata": {},
   "outputs": [],
   "source": [
    "df_issue = pd.read_csv(\"prompt/issue.csv\", encoding = \"ISO-8859-1\")\n",
    "# df_issue = pd.read_csv(\"prompt/issue_wrong.csv\")\n",
    "\n",
    "# df_etd_example = pd.read_csv(\"experiment/random_pattern/ETD/gemini/etd_prompt_random3_with_negno11_gemini.csv\")\n",
    "df_ps_example = pd.read_csv(\"experiment/random_pattern/PS/gemini/ps_prompt_random_noCoT_gemini.csv\")"
   ]
  },
  {
   "cell_type": "code",
   "execution_count": 8,
   "id": "89f87fe0",
   "metadata": {},
   "outputs": [
    {
     "data": {
      "text/plain": [
       "1000"
      ]
     },
     "execution_count": 8,
     "metadata": {},
     "output_type": "execute_result"
    }
   ],
   "source": [
    "len(df_issue)"
   ]
  },
  {
   "cell_type": "code",
   "execution_count": 9,
   "id": "fcdee059",
   "metadata": {},
   "outputs": [
    {
     "data": {
      "text/html": [
       "<div>\n",
       "<style scoped>\n",
       "    .dataframe tbody tr th:only-of-type {\n",
       "        vertical-align: middle;\n",
       "    }\n",
       "\n",
       "    .dataframe tbody tr th {\n",
       "        vertical-align: top;\n",
       "    }\n",
       "\n",
       "    .dataframe thead th {\n",
       "        text-align: right;\n",
       "    }\n",
       "</style>\n",
       "<table border=\"1\" class=\"dataframe\">\n",
       "  <thead>\n",
       "    <tr style=\"text-align: right;\">\n",
       "      <th></th>\n",
       "      <th>issue</th>\n",
       "    </tr>\n",
       "  </thead>\n",
       "  <tbody>\n",
       "    <tr>\n",
       "      <th>0</th>\n",
       "      <td>Hi, when I am trying to apply class dynamicall...</td>\n",
       "    </tr>\n",
       "    <tr>\n",
       "      <th>1</th>\n",
       "      <td>is it possible to get a RouteConfig matched ag...</td>\n",
       "    </tr>\n",
       "    <tr>\n",
       "      <th>2</th>\n",
       "      <td>I have angular running from a .Net Core server...</td>\n",
       "    </tr>\n",
       "    <tr>\n",
       "      <th>3</th>\n",
       "      <td>Hello everyone, I want to do sub menu with sea...</td>\n",
       "    </tr>\n",
       "    <tr>\n",
       "      <th>4</th>\n",
       "      <td>I'm struggling with getting this logic [code]....</td>\n",
       "    </tr>\n",
       "  </tbody>\n",
       "</table>\n",
       "</div>"
      ],
      "text/plain": [
       "                                               issue\n",
       "0  Hi, when I am trying to apply class dynamicall...\n",
       "1  is it possible to get a RouteConfig matched ag...\n",
       "2  I have angular running from a .Net Core server...\n",
       "3  Hello everyone, I want to do sub menu with sea...\n",
       "4  I'm struggling with getting this logic [code]...."
      ]
     },
     "execution_count": 9,
     "metadata": {},
     "output_type": "execute_result"
    }
   ],
   "source": [
    "issue_clean = [remove_non_ascii(issue) for issue in df_issue[\"issue\"]]\n",
    "df_issue[\"issue\"] = issue_clean\n",
    "df_issue.head()"
   ]
  },
  {
   "cell_type": "code",
   "execution_count": null,
   "id": "a69eb060-d70f-47fc-9b98-520136b762fb",
   "metadata": {},
   "outputs": [],
   "source": [
    "df_etd_example = df_etd_example.sample(frac=1)\n",
    "df_etd_example.reset_index(drop=True, inplace=True)\n",
    "df_etd_example"
   ]
  },
  {
   "cell_type": "code",
   "execution_count": 10,
   "id": "9ada590f",
   "metadata": {},
   "outputs": [
    {
     "data": {
      "text/html": [
       "<div>\n",
       "<style scoped>\n",
       "    .dataframe tbody tr th:only-of-type {\n",
       "        vertical-align: middle;\n",
       "    }\n",
       "\n",
       "    .dataframe tbody tr th {\n",
       "        vertical-align: top;\n",
       "    }\n",
       "\n",
       "    .dataframe thead th {\n",
       "        text-align: right;\n",
       "    }\n",
       "</style>\n",
       "<table border=\"1\" class=\"dataframe\">\n",
       "  <thead>\n",
       "    <tr style=\"text-align: right;\">\n",
       "      <th></th>\n",
       "      <th>Pattern</th>\n",
       "      <th>issue</th>\n",
       "      <th>output</th>\n",
       "      <th>1_example</th>\n",
       "      <th>2_examples</th>\n",
       "      <th>5_examples</th>\n",
       "      <th>6_examples</th>\n",
       "      <th>12_examples</th>\n",
       "      <th>14_examples</th>\n",
       "    </tr>\n",
       "  </thead>\n",
       "  <tbody>\n",
       "    <tr>\n",
       "      <th>0</th>\n",
       "      <td>PS_SEEMS_TO_NEG_VERB</td>\n",
       "      <td>\"\"\" Hey guys, I'm trying to get a reference to...</td>\n",
       "      <td>The answer is YES.</td>\n",
       "      <td>0</td>\n",
       "      <td>0</td>\n",
       "      <td>0</td>\n",
       "      <td>0</td>\n",
       "      <td>1</td>\n",
       "      <td>1</td>\n",
       "    </tr>\n",
       "    <tr>\n",
       "      <th>1</th>\n",
       "      <td>PS_NEG_VERB</td>\n",
       "      <td>\"\"\" Hey guys, any ideas on why a test executes...</td>\n",
       "      <td>The answer is YES.</td>\n",
       "      <td>0</td>\n",
       "      <td>0</td>\n",
       "      <td>1</td>\n",
       "      <td>1</td>\n",
       "      <td>1</td>\n",
       "      <td>1</td>\n",
       "    </tr>\n",
       "    <tr>\n",
       "      <th>2</th>\n",
       "      <td>PS_NEG_VERB</td>\n",
       "      <td>\"\"\" Are there performance gains to be had by b...</td>\n",
       "      <td>The answer is NO.</td>\n",
       "      <td>0</td>\n",
       "      <td>0</td>\n",
       "      <td>0</td>\n",
       "      <td>0</td>\n",
       "      <td>0</td>\n",
       "      <td>0</td>\n",
       "    </tr>\n",
       "    <tr>\n",
       "      <th>3</th>\n",
       "      <td>PS_ONLY</td>\n",
       "      <td>\"\"\" Hi guys, I'm getting ready to launch the f...</td>\n",
       "      <td>The answer is YES.</td>\n",
       "      <td>1</td>\n",
       "      <td>1</td>\n",
       "      <td>1</td>\n",
       "      <td>1</td>\n",
       "      <td>1</td>\n",
       "      <td>1</td>\n",
       "    </tr>\n",
       "    <tr>\n",
       "      <th>4</th>\n",
       "      <td>PS_NEG_ADV_ADJ</td>\n",
       "      <td>\"\"\" Anyone good with git? I'm getting some wei...</td>\n",
       "      <td>The answer is YES.</td>\n",
       "      <td>0</td>\n",
       "      <td>0</td>\n",
       "      <td>1</td>\n",
       "      <td>1</td>\n",
       "      <td>1</td>\n",
       "      <td>1</td>\n",
       "    </tr>\n",
       "    <tr>\n",
       "      <th>5</th>\n",
       "      <td>PS_ONLY</td>\n",
       "      <td>\"\"\" Does anyone know of a way to determine if ...</td>\n",
       "      <td>The answer is NO.</td>\n",
       "      <td>0</td>\n",
       "      <td>0</td>\n",
       "      <td>0</td>\n",
       "      <td>1</td>\n",
       "      <td>0</td>\n",
       "      <td>0</td>\n",
       "    </tr>\n",
       "    <tr>\n",
       "      <th>6</th>\n",
       "      <td>PS_PROBLEM_IS</td>\n",
       "      <td>\"\"\" Anyone knows a good solution to use php-cl...</td>\n",
       "      <td>The answer is YES.</td>\n",
       "      <td>0</td>\n",
       "      <td>0</td>\n",
       "      <td>1</td>\n",
       "      <td>1</td>\n",
       "      <td>0</td>\n",
       "      <td>1</td>\n",
       "    </tr>\n",
       "    <tr>\n",
       "      <th>7</th>\n",
       "      <td>NaN</td>\n",
       "      <td>\"\"\" Hello! If I'm looking to test a component ...</td>\n",
       "      <td>The answer is NO.</td>\n",
       "      <td>0</td>\n",
       "      <td>0</td>\n",
       "      <td>0</td>\n",
       "      <td>0</td>\n",
       "      <td>1</td>\n",
       "      <td>0</td>\n",
       "    </tr>\n",
       "    <tr>\n",
       "      <th>8</th>\n",
       "      <td>PS_NEG_AUX_VERB</td>\n",
       "      <td>\"\"\" The ethereum wallet isn't finishing downlo...</td>\n",
       "      <td>The answer is YES.</td>\n",
       "      <td>0</td>\n",
       "      <td>0</td>\n",
       "      <td>0</td>\n",
       "      <td>0</td>\n",
       "      <td>1</td>\n",
       "      <td>1</td>\n",
       "    </tr>\n",
       "    <tr>\n",
       "      <th>9</th>\n",
       "      <td>PS_NO_NOUN</td>\n",
       "      <td>\"\"\" Oooph. So I narrowed down my previous Fire...</td>\n",
       "      <td>The answer is YES.</td>\n",
       "      <td>0</td>\n",
       "      <td>0</td>\n",
       "      <td>1</td>\n",
       "      <td>1</td>\n",
       "      <td>1</td>\n",
       "      <td>1</td>\n",
       "    </tr>\n",
       "    <tr>\n",
       "      <th>10</th>\n",
       "      <td>PS_NEG_AUX_ADV_ADJ</td>\n",
       "      <td>\"\"\" I'm buying bitcoin from someone via Localb...</td>\n",
       "      <td>The answer is NO.</td>\n",
       "      <td>0</td>\n",
       "      <td>0</td>\n",
       "      <td>0</td>\n",
       "      <td>0</td>\n",
       "      <td>0</td>\n",
       "      <td>0</td>\n",
       "    </tr>\n",
       "    <tr>\n",
       "      <th>11</th>\n",
       "      <td>PS_NEG_AUX_ADV_ADJ</td>\n",
       "      <td>\"\"\" roychri: , can you help me out with sessio...</td>\n",
       "      <td>The answer is YES.</td>\n",
       "      <td>0</td>\n",
       "      <td>0</td>\n",
       "      <td>0</td>\n",
       "      <td>0</td>\n",
       "      <td>1</td>\n",
       "      <td>1</td>\n",
       "    </tr>\n",
       "    <tr>\n",
       "      <th>12</th>\n",
       "      <td>PS_PROBLEM</td>\n",
       "      <td>\"\"\" Question about Observables: If I have Obse...</td>\n",
       "      <td>The answer is NO.</td>\n",
       "      <td>0</td>\n",
       "      <td>0</td>\n",
       "      <td>0</td>\n",
       "      <td>0</td>\n",
       "      <td>0</td>\n",
       "      <td>0</td>\n",
       "    </tr>\n",
       "    <tr>\n",
       "      <th>13</th>\n",
       "      <td>PS_NEG_ADV_ADJ</td>\n",
       "      <td>\"\"\" Any idea on how to provider a service to t...</td>\n",
       "      <td>The answer is NO.</td>\n",
       "      <td>0</td>\n",
       "      <td>0</td>\n",
       "      <td>0</td>\n",
       "      <td>0</td>\n",
       "      <td>0</td>\n",
       "      <td>0</td>\n",
       "    </tr>\n",
       "    <tr>\n",
       "      <th>14</th>\n",
       "      <td>NaN</td>\n",
       "      <td>\"\"\" Is it possible te map users in docker-comp...</td>\n",
       "      <td>The answer is NO.</td>\n",
       "      <td>0</td>\n",
       "      <td>1</td>\n",
       "      <td>0</td>\n",
       "      <td>0</td>\n",
       "      <td>0</td>\n",
       "      <td>1</td>\n",
       "    </tr>\n",
       "    <tr>\n",
       "      <th>15</th>\n",
       "      <td>PS_VERB_NO</td>\n",
       "      <td>\"\"\" any ideas on how i may be able to find the...</td>\n",
       "      <td>The answer is YES.</td>\n",
       "      <td>0</td>\n",
       "      <td>0</td>\n",
       "      <td>0</td>\n",
       "      <td>0</td>\n",
       "      <td>0</td>\n",
       "      <td>1</td>\n",
       "    </tr>\n",
       "    <tr>\n",
       "      <th>16</th>\n",
       "      <td>PS_NO_NOUN</td>\n",
       "      <td>\"\"\" Anyone could shared some lights on config ...</td>\n",
       "      <td>The answer is NO.</td>\n",
       "      <td>0</td>\n",
       "      <td>0</td>\n",
       "      <td>0</td>\n",
       "      <td>0</td>\n",
       "      <td>0</td>\n",
       "      <td>1</td>\n",
       "    </tr>\n",
       "    <tr>\n",
       "      <th>17</th>\n",
       "      <td>PS_NEG_AUX_VERB</td>\n",
       "      <td>\"\"\" Hi guys, what is the next step after [&lt;-LI...</td>\n",
       "      <td>The answer is NO.</td>\n",
       "      <td>0</td>\n",
       "      <td>0</td>\n",
       "      <td>0</td>\n",
       "      <td>0</td>\n",
       "      <td>0</td>\n",
       "      <td>0</td>\n",
       "    </tr>\n",
       "    <tr>\n",
       "      <th>18</th>\n",
       "      <td>PS_VERB_NO</td>\n",
       "      <td>\"\"\" Hi, is there any way to detect no router c...</td>\n",
       "      <td>The answer is NO.</td>\n",
       "      <td>0</td>\n",
       "      <td>0</td>\n",
       "      <td>0</td>\n",
       "      <td>0</td>\n",
       "      <td>0</td>\n",
       "      <td>0</td>\n",
       "    </tr>\n",
       "    <tr>\n",
       "      <th>19</th>\n",
       "      <td>PS_WITH_NO</td>\n",
       "      <td>\"\"\" I have been trying to download the block c...</td>\n",
       "      <td>The answer is YES.</td>\n",
       "      <td>0</td>\n",
       "      <td>0</td>\n",
       "      <td>0</td>\n",
       "      <td>0</td>\n",
       "      <td>1</td>\n",
       "      <td>1</td>\n",
       "    </tr>\n",
       "    <tr>\n",
       "      <th>20</th>\n",
       "      <td>PS_VERB_ERROR</td>\n",
       "      <td>\"\"\" Hi everyone, does anyone know how to get t...</td>\n",
       "      <td>The answer is NO.</td>\n",
       "      <td>0</td>\n",
       "      <td>0</td>\n",
       "      <td>0</td>\n",
       "      <td>0</td>\n",
       "      <td>0</td>\n",
       "      <td>0</td>\n",
       "    </tr>\n",
       "    <tr>\n",
       "      <th>21</th>\n",
       "      <td>PS_VERB_ERROR</td>\n",
       "      <td>\"\"\" Hi, i new here and i'm workin in some app ...</td>\n",
       "      <td>The answer is YES.</td>\n",
       "      <td>0</td>\n",
       "      <td>0</td>\n",
       "      <td>0</td>\n",
       "      <td>0</td>\n",
       "      <td>1</td>\n",
       "      <td>1</td>\n",
       "    </tr>\n",
       "    <tr>\n",
       "      <th>22</th>\n",
       "      <td>PS_PROBLEM</td>\n",
       "      <td>\"\"\" Im having trouble trying to update some da...</td>\n",
       "      <td>The answer is YES.</td>\n",
       "      <td>0</td>\n",
       "      <td>0</td>\n",
       "      <td>0</td>\n",
       "      <td>0</td>\n",
       "      <td>1</td>\n",
       "      <td>1</td>\n",
       "    </tr>\n",
       "    <tr>\n",
       "      <th>23</th>\n",
       "      <td>PS_WITH_NO</td>\n",
       "      <td>\"\"\" so far, the examples related to sequences ...</td>\n",
       "      <td>The answer is NO.</td>\n",
       "      <td>0</td>\n",
       "      <td>0</td>\n",
       "      <td>0</td>\n",
       "      <td>0</td>\n",
       "      <td>1</td>\n",
       "      <td>0</td>\n",
       "    </tr>\n",
       "  </tbody>\n",
       "</table>\n",
       "</div>"
      ],
      "text/plain": [
       "                 Pattern                                              issue  \\\n",
       "0   PS_SEEMS_TO_NEG_VERB  \"\"\" Hey guys, I'm trying to get a reference to...   \n",
       "1            PS_NEG_VERB  \"\"\" Hey guys, any ideas on why a test executes...   \n",
       "2            PS_NEG_VERB  \"\"\" Are there performance gains to be had by b...   \n",
       "3                PS_ONLY  \"\"\" Hi guys, I'm getting ready to launch the f...   \n",
       "4         PS_NEG_ADV_ADJ  \"\"\" Anyone good with git? I'm getting some wei...   \n",
       "5                PS_ONLY  \"\"\" Does anyone know of a way to determine if ...   \n",
       "6          PS_PROBLEM_IS  \"\"\" Anyone knows a good solution to use php-cl...   \n",
       "7                    NaN  \"\"\" Hello! If I'm looking to test a component ...   \n",
       "8        PS_NEG_AUX_VERB  \"\"\" The ethereum wallet isn't finishing downlo...   \n",
       "9             PS_NO_NOUN  \"\"\" Oooph. So I narrowed down my previous Fire...   \n",
       "10    PS_NEG_AUX_ADV_ADJ  \"\"\" I'm buying bitcoin from someone via Localb...   \n",
       "11    PS_NEG_AUX_ADV_ADJ  \"\"\" roychri: , can you help me out with sessio...   \n",
       "12            PS_PROBLEM  \"\"\" Question about Observables: If I have Obse...   \n",
       "13        PS_NEG_ADV_ADJ  \"\"\" Any idea on how to provider a service to t...   \n",
       "14                   NaN  \"\"\" Is it possible te map users in docker-comp...   \n",
       "15            PS_VERB_NO  \"\"\" any ideas on how i may be able to find the...   \n",
       "16            PS_NO_NOUN  \"\"\" Anyone could shared some lights on config ...   \n",
       "17       PS_NEG_AUX_VERB  \"\"\" Hi guys, what is the next step after [<-LI...   \n",
       "18            PS_VERB_NO  \"\"\" Hi, is there any way to detect no router c...   \n",
       "19            PS_WITH_NO  \"\"\" I have been trying to download the block c...   \n",
       "20         PS_VERB_ERROR  \"\"\" Hi everyone, does anyone know how to get t...   \n",
       "21         PS_VERB_ERROR  \"\"\" Hi, i new here and i'm workin in some app ...   \n",
       "22            PS_PROBLEM  \"\"\" Im having trouble trying to update some da...   \n",
       "23            PS_WITH_NO  \"\"\" so far, the examples related to sequences ...   \n",
       "\n",
       "                output  1_example  2_examples  5_examples  6_examples  \\\n",
       "0   The answer is YES.          0           0           0           0   \n",
       "1   The answer is YES.          0           0           1           1   \n",
       "2    The answer is NO.          0           0           0           0   \n",
       "3   The answer is YES.          1           1           1           1   \n",
       "4   The answer is YES.          0           0           1           1   \n",
       "5    The answer is NO.          0           0           0           1   \n",
       "6   The answer is YES.          0           0           1           1   \n",
       "7    The answer is NO.          0           0           0           0   \n",
       "8   The answer is YES.          0           0           0           0   \n",
       "9   The answer is YES.          0           0           1           1   \n",
       "10   The answer is NO.          0           0           0           0   \n",
       "11  The answer is YES.          0           0           0           0   \n",
       "12   The answer is NO.          0           0           0           0   \n",
       "13   The answer is NO.          0           0           0           0   \n",
       "14   The answer is NO.          0           1           0           0   \n",
       "15  The answer is YES.          0           0           0           0   \n",
       "16   The answer is NO.          0           0           0           0   \n",
       "17   The answer is NO.          0           0           0           0   \n",
       "18   The answer is NO.          0           0           0           0   \n",
       "19  The answer is YES.          0           0           0           0   \n",
       "20   The answer is NO.          0           0           0           0   \n",
       "21  The answer is YES.          0           0           0           0   \n",
       "22  The answer is YES.          0           0           0           0   \n",
       "23   The answer is NO.          0           0           0           0   \n",
       "\n",
       "    12_examples  14_examples  \n",
       "0             1            1  \n",
       "1             1            1  \n",
       "2             0            0  \n",
       "3             1            1  \n",
       "4             1            1  \n",
       "5             0            0  \n",
       "6             0            1  \n",
       "7             1            0  \n",
       "8             1            1  \n",
       "9             1            1  \n",
       "10            0            0  \n",
       "11            1            1  \n",
       "12            0            0  \n",
       "13            0            0  \n",
       "14            0            1  \n",
       "15            0            1  \n",
       "16            0            1  \n",
       "17            0            0  \n",
       "18            0            0  \n",
       "19            1            1  \n",
       "20            0            0  \n",
       "21            1            1  \n",
       "22            1            1  \n",
       "23            1            0  "
      ]
     },
     "execution_count": 10,
     "metadata": {},
     "output_type": "execute_result"
    }
   ],
   "source": [
    "df_ps_example = df_ps_example.sample(frac=1)\n",
    "df_ps_example.reset_index(drop=True, inplace=True)\n",
    "df_ps_example"
   ]
  },
  {
   "cell_type": "markdown",
   "id": "beee809b",
   "metadata": {},
   "source": [
    "### for all examples"
   ]
  },
  {
   "cell_type": "code",
   "execution_count": null,
   "id": "658b2822",
   "metadata": {
    "scrolled": true
   },
   "outputs": [],
   "source": [
    "chat_issue = [\"input: \" + q_str for q_str in list(df_etd_example[\"issue\"].values)]\n",
    "chat_issue"
   ]
  },
  {
   "cell_type": "code",
   "execution_count": null,
   "id": "5984b376",
   "metadata": {
    "scrolled": true
   },
   "outputs": [],
   "source": [
    "chat_output = [\"output: \" + o_str for o_str in list(df_etd_example[\"output\"].values)]\n",
    "chat_output"
   ]
  },
  {
   "cell_type": "code",
   "execution_count": null,
   "id": "0652e398",
   "metadata": {
    "scrolled": true
   },
   "outputs": [],
   "source": [
    "# chat_issue = list(df_etd_example[\"issue\"].values)\n",
    "chat_issue = [\"input: \" + q_str for q_str in list(df_ps_example[\"issue\"].values)]\n",
    "chat_issue"
   ]
  },
  {
   "cell_type": "code",
   "execution_count": null,
   "id": "9c77ff69",
   "metadata": {
    "scrolled": true
   },
   "outputs": [],
   "source": [
    "# chat_output = list(df_etd_example[\"output\"].values)\n",
    "chat_output = [\"output: \" + o_str for o_str in list(df_ps_example[\"output\"].values)]\n",
    "chat_output"
   ]
  },
  {
   "cell_type": "markdown",
   "id": "8ae1670d",
   "metadata": {},
   "source": [
    "### for random/frequent patterns"
   ]
  },
  {
   "cell_type": "code",
   "execution_count": null,
   "id": "8396f761",
   "metadata": {
    "scrolled": true
   },
   "outputs": [],
   "source": [
    "df_etd_randexample = df_etd_example[df_etd_example[\"1_example\"]==1]\n",
    "\n",
    "chat_issue = [\"input: \" + q_str for q_str in list(df_etd_randexample[\"issue\"].values)]\n",
    "# chat_issue.extend(list(df_etd_randexample[\"issue_n\"].values))\n",
    "chat_issue"
   ]
  },
  {
   "cell_type": "code",
   "execution_count": null,
   "id": "21378a49",
   "metadata": {
    "scrolled": true
   },
   "outputs": [],
   "source": [
    "chat_output = [\"output: \" + o_str for o_str in list(df_etd_randexample[\"output\"].values)]\n",
    "# chat_output.extend(list(df_etd_randexample[\"output_n\"].values))\n",
    "chat_output"
   ]
  },
  {
   "cell_type": "code",
   "execution_count": 12,
   "id": "40b99564",
   "metadata": {},
   "outputs": [
    {
     "data": {
      "text/plain": [
       "['input: \"\"\" Hi guys, I\\'m getting ready to launch the first really big angular2 app into prodution, but looking at the javascript timeline, the evaluate script of the whole bundle (300kB gzipped) takes 800ms, compared to the (more or less identical) AngularJS implementation that only took 40ms to evaluate this is quite a lot, any ideas? \"\"\"']"
      ]
     },
     "execution_count": 12,
     "metadata": {},
     "output_type": "execute_result"
    }
   ],
   "source": [
    "df_ps_randexample = df_ps_example[df_ps_example[\"1_example\"]==1]\n",
    "\n",
    "chat_issue = [\"input: \" + q_str for q_str in list(df_ps_randexample[\"issue\"].values)]\n",
    "# chat_issue.extend(list(df_ps_randexample[\"issue_n\"].values))\n",
    "chat_issue"
   ]
  },
  {
   "cell_type": "code",
   "execution_count": 13,
   "id": "9d094739",
   "metadata": {},
   "outputs": [
    {
     "data": {
      "text/plain": [
       "['output: The answer is YES.']"
      ]
     },
     "execution_count": 13,
     "metadata": {},
     "output_type": "execute_result"
    }
   ],
   "source": [
    "chat_output = [\"output: \" + o_str for o_str in list(df_ps_randexample[\"output\"].values)]\n",
    "# chat_output.extend(list(df_ps_randexample[\"output_n\"].values))\n",
    "chat_output"
   ]
  },
  {
   "cell_type": "markdown",
   "id": "616c14ca",
   "metadata": {},
   "source": [
    "## Model running"
   ]
  },
  {
   "cell_type": "code",
   "execution_count": 30,
   "id": "23a0440b-30c7-451e-aebe-bcc1bb8ca9d9",
   "metadata": {},
   "outputs": [],
   "source": [
    "with open(\"gemini_token.txt\", 'r') as fp:\n",
    "    gemini_token = fp.readline()"
   ]
  },
  {
   "cell_type": "code",
   "execution_count": 31,
   "id": "64dcfade",
   "metadata": {},
   "outputs": [],
   "source": [
    "genai.configure(api_key=gemini_token)"
   ]
  },
  {
   "cell_type": "code",
   "execution_count": 16,
   "id": "f23e960b",
   "metadata": {},
   "outputs": [],
   "source": [
    "# Set up the model\n",
    "generation_config = {\n",
    "  \"temperature\": 0,\n",
    "  \"top_p\": 1,\n",
    "  \"top_k\": 1,\n",
    "  \"max_output_tokens\": 50,\n",
    "}\n",
    "\n",
    "safety_settings = [\n",
    "  {\n",
    "    \"category\": \"HARM_CATEGORY_HARASSMENT\",\n",
    "    \"threshold\": \"BLOCK_MEDIUM_AND_ABOVE\"\n",
    "  },\n",
    "  {\n",
    "    \"category\": \"HARM_CATEGORY_HATE_SPEECH\",\n",
    "    \"threshold\": \"BLOCK_MEDIUM_AND_ABOVE\"\n",
    "  },\n",
    "  {\n",
    "    \"category\": \"HARM_CATEGORY_SEXUALLY_EXPLICIT\",\n",
    "    \"threshold\": \"BLOCK_MEDIUM_AND_ABOVE\"\n",
    "  },\n",
    "  {\n",
    "    \"category\": \"HARM_CATEGORY_DANGEROUS_CONTENT\",\n",
    "    \"threshold\": \"BLOCK_MEDIUM_AND_ABOVE\"\n",
    "  }\n",
    "]\n",
    "\n",
    "# Create GenerativeModel object\n",
    "model = genai.GenerativeModel(\n",
    "    model_name=\"gemini-pro\",\n",
    "    generation_config=generation_config,\n",
    "    safety_settings=safety_settings,\n",
    ")"
   ]
  },
  {
   "cell_type": "code",
   "execution_count": 17,
   "id": "cea1d1d1",
   "metadata": {
    "scrolled": true
   },
   "outputs": [
    {
     "data": {
      "text/plain": [
       "['Please determine whether the given user input provides the information of the programâ€™s malfunction or any problematic scenario currently encountered by the user. If provided, return \"The answer is YES\"; otherwise, return \"The answer is No\".',\n",
       " 'input: \"\"\" Hi guys, I\\'m getting ready to launch the first really big angular2 app into prodution, but looking at the javascript timeline, the evaluate script of the whole bundle (300kB gzipped) takes 800ms, compared to the (more or less identical) AngularJS implementation that only took 40ms to evaluate this is quite a lot, any ideas? \"\"\"',\n",
       " 'output: The answer is YES.']"
      ]
     },
     "execution_count": 17,
     "metadata": {},
     "output_type": "execute_result"
    }
   ],
   "source": [
    "for eg_input, eg_output in zip(chat_issue, chat_output):\n",
    "    prompt_parts.append(eg_input)\n",
    "    prompt_parts.append(eg_output)\n",
    "\n",
    "prompt_parts"
   ]
  },
  {
   "cell_type": "code",
   "execution_count": null,
   "id": "5900eb82",
   "metadata": {
    "scrolled": true
   },
   "outputs": [],
   "source": [
    "ans1= []\n",
    "start_i = 61\n",
    "for i in range(start_i,len(df_issue),1):\n",
    "# for i in range(0,10,1):\n",
    "    issue = df_issue.loc[i][\"issue\"]\n",
    "    input_str = \"input: \\\"\\\"\\\" {} \\\"\\\"\\\"\".format(issue)\n",
    "    \n",
    "    prompt = deepcopy(prompt_parts)\n",
    "    prompt.append(input_str)\n",
    "    prompt.append(\"output: \")\n",
    "    \n",
    "    response = model.generate_content(prompt)\n",
    "    ans1.append(response.text)"
   ]
  },
  {
   "cell_type": "code",
   "execution_count": 32,
   "id": "c2eabe2a",
   "metadata": {},
   "outputs": [
    {
     "name": "stdout",
     "output_type": "stream",
     "text": [
      "Rate limit exceeded: Resource has been exhausted (e.g. check quota).\n",
      "Rate limit exceeded: Quota exceeded for quota metric 'Generate Content API requests per minute' and limit 'GenerateContent request limit per minute for a region' of service 'generativelanguage.googleapis.com' for consumer 'project_number:179991646430'.\n",
      "Rate limit exceeded: Quota exceeded for quota metric 'Generate Content API requests per minute' and limit 'GenerateContent request limit per minute for a region' of service 'generativelanguage.googleapis.com' for consumer 'project_number:179991646430'.\n",
      "Rate limit exceeded: Quota exceeded for quota metric 'Generate Content API requests per minute' and limit 'GenerateContent request limit per minute for a region' of service 'generativelanguage.googleapis.com' for consumer 'project_number:179991646430'.\n",
      "Rate limit exceeded: Resource has been exhausted (e.g. check quota).\n",
      "Rate limit exceeded: Quota exceeded for quota metric 'Generate Content API requests per minute' and limit 'GenerateContent request limit per minute for a region' of service 'generativelanguage.googleapis.com' for consumer 'project_number:179991646430'.\n",
      "Rate limit exceeded: Quota exceeded for quota metric 'Generate Content API requests per minute' and limit 'GenerateContent request limit per minute for a region' of service 'generativelanguage.googleapis.com' for consumer 'project_number:179991646430'.\n",
      "Rate limit exceeded: Resource has been exhausted (e.g. check quota).\n",
      "Rate limit exceeded: Quota exceeded for quota metric 'Generate Content API requests per minute' and limit 'GenerateContent request limit per minute for a region' of service 'generativelanguage.googleapis.com' for consumer 'project_number:179991646430'.\n",
      "Rate limit exceeded: Resource has been exhausted (e.g. check quota).\n",
      "Rate limit exceeded: Quota exceeded for quota metric 'Generate Content API requests per minute' and limit 'GenerateContent request limit per minute for a region' of service 'generativelanguage.googleapis.com' for consumer 'project_number:179991646430'.\n",
      "Rate limit exceeded: Resource has been exhausted (e.g. check quota).\n",
      "Rate limit exceeded: Quota exceeded for quota metric 'Generate Content API requests per minute' and limit 'GenerateContent request limit per minute for a region' of service 'generativelanguage.googleapis.com' for consumer 'project_number:179991646430'.\n",
      "Rate limit exceeded: Quota exceeded for quota metric 'Generate Content API requests per minute' and limit 'GenerateContent request limit per minute for a region' of service 'generativelanguage.googleapis.com' for consumer 'project_number:179991646430'.\n",
      "Rate limit exceeded: Resource has been exhausted (e.g. check quota).\n",
      "Rate limit exceeded: Quota exceeded for quota metric 'Generate Content API requests per minute' and limit 'GenerateContent request limit per minute for a region' of service 'generativelanguage.googleapis.com' for consumer 'project_number:179991646430'.\n",
      "Rate limit exceeded: Quota exceeded for quota metric 'Generate Content API requests per minute' and limit 'GenerateContent request limit per minute for a region' of service 'generativelanguage.googleapis.com' for consumer 'project_number:179991646430'.\n",
      "Rate limit exceeded: Quota exceeded for quota metric 'Generate Content API requests per minute' and limit 'GenerateContent request limit per minute for a region' of service 'generativelanguage.googleapis.com' for consumer 'project_number:179991646430'.\n",
      "Rate limit exceeded: Quota exceeded for quota metric 'Generate Content API requests per minute' and limit 'GenerateContent request limit per minute for a region' of service 'generativelanguage.googleapis.com' for consumer 'project_number:179991646430'.\n",
      "Rate limit exceeded: Quota exceeded for quota metric 'Generate Content API requests per minute' and limit 'GenerateContent request limit per minute for a region' of service 'generativelanguage.googleapis.com' for consumer 'project_number:179991646430'.\n",
      "Rate limit exceeded: Quota exceeded for quota metric 'Generate Content API requests per minute' and limit 'GenerateContent request limit per minute for a region' of service 'generativelanguage.googleapis.com' for consumer 'project_number:179991646430'.\n",
      "Rate limit exceeded: Quota exceeded for quota metric 'Generate Content API requests per minute' and limit 'GenerateContent request limit per minute for a region' of service 'generativelanguage.googleapis.com' for consumer 'project_number:179991646430'.\n",
      "Rate limit exceeded: Resource has been exhausted (e.g. check quota).\n",
      "Rate limit exceeded: Resource has been exhausted (e.g. check quota).\n",
      "Rate limit exceeded: Quota exceeded for quota metric 'Generate Content API requests per minute' and limit 'GenerateContent request limit per minute for a region' of service 'generativelanguage.googleapis.com' for consumer 'project_number:179991646430'.\n",
      "Rate limit exceeded: Quota exceeded for quota metric 'Generate Content API requests per minute' and limit 'GenerateContent request limit per minute for a region' of service 'generativelanguage.googleapis.com' for consumer 'project_number:179991646430'.\n",
      "Rate limit exceeded: Quota exceeded for quota metric 'Generate Content API requests per minute' and limit 'GenerateContent request limit per minute for a region' of service 'generativelanguage.googleapis.com' for consumer 'project_number:179991646430'.\n",
      "Rate limit exceeded: Quota exceeded for quota metric 'Generate Content API requests per minute' and limit 'GenerateContent request limit per minute for a region' of service 'generativelanguage.googleapis.com' for consumer 'project_number:179991646430'.\n",
      "Rate limit exceeded: Quota exceeded for quota metric 'Generate Content API requests per minute' and limit 'GenerateContent request limit per minute for a region' of service 'generativelanguage.googleapis.com' for consumer 'project_number:179991646430'.\n",
      "Rate limit exceeded: Quota exceeded for quota metric 'Generate Content API requests per minute' and limit 'GenerateContent request limit per minute for a region' of service 'generativelanguage.googleapis.com' for consumer 'project_number:179991646430'.\n",
      "Rate limit exceeded: Quota exceeded for quota metric 'Generate Content API requests per minute' and limit 'GenerateContent request limit per minute for a region' of service 'generativelanguage.googleapis.com' for consumer 'project_number:179991646430'.\n",
      "Rate limit exceeded: Quota exceeded for quota metric 'Generate Content API requests per minute' and limit 'GenerateContent request limit per minute for a region' of service 'generativelanguage.googleapis.com' for consumer 'project_number:179991646430'.\n",
      "Rate limit exceeded: Quota exceeded for quota metric 'Generate Content API requests per minute' and limit 'GenerateContent request limit per minute for a region' of service 'generativelanguage.googleapis.com' for consumer 'project_number:179991646430'.\n",
      "Rate limit exceeded: Quota exceeded for quota metric 'Generate Content API requests per minute' and limit 'GenerateContent request limit per minute for a region' of service 'generativelanguage.googleapis.com' for consumer 'project_number:179991646430'.\n",
      "Rate limit exceeded: Quota exceeded for quota metric 'Generate Content API requests per minute' and limit 'GenerateContent request limit per minute for a region' of service 'generativelanguage.googleapis.com' for consumer 'project_number:179991646430'.\n",
      "Rate limit exceeded: Quota exceeded for quota metric 'Generate Content API requests per minute' and limit 'GenerateContent request limit per minute for a region' of service 'generativelanguage.googleapis.com' for consumer 'project_number:179991646430'.\n",
      "Rate limit exceeded: Quota exceeded for quota metric 'Generate Content API requests per minute' and limit 'GenerateContent request limit per minute for a region' of service 'generativelanguage.googleapis.com' for consumer 'project_number:179991646430'.\n",
      "Rate limit exceeded: Resource has been exhausted (e.g. check quota).\n",
      "Rate limit exceeded: Quota exceeded for quota metric 'Generate Content API requests per minute' and limit 'GenerateContent request limit per minute for a region' of service 'generativelanguage.googleapis.com' for consumer 'project_number:179991646430'.\n"
     ]
    },
    {
     "name": "stdout",
     "output_type": "stream",
     "text": [
      "Rate limit exceeded: Quota exceeded for quota metric 'Generate Content API requests per minute' and limit 'GenerateContent request limit per minute for a region' of service 'generativelanguage.googleapis.com' for consumer 'project_number:179991646430'.\n",
      "Rate limit exceeded: Quota exceeded for quota metric 'Generate Content API requests per minute' and limit 'GenerateContent request limit per minute for a region' of service 'generativelanguage.googleapis.com' for consumer 'project_number:179991646430'.\n",
      "Rate limit exceeded: Resource has been exhausted (e.g. check quota).\n",
      "Rate limit exceeded: Resource has been exhausted (e.g. check quota).\n",
      "Rate limit exceeded: Quota exceeded for quota metric 'Generate Content API requests per minute' and limit 'GenerateContent request limit per minute for a region' of service 'generativelanguage.googleapis.com' for consumer 'project_number:179991646430'.\n",
      "Rate limit exceeded: Quota exceeded for quota metric 'Generate Content API requests per minute' and limit 'GenerateContent request limit per minute for a region' of service 'generativelanguage.googleapis.com' for consumer 'project_number:179991646430'.\n",
      "Rate limit exceeded: Resource has been exhausted (e.g. check quota).\n",
      "Rate limit exceeded: Quota exceeded for quota metric 'Generate Content API requests per minute' and limit 'GenerateContent request limit per minute for a region' of service 'generativelanguage.googleapis.com' for consumer 'project_number:179991646430'.\n",
      "Rate limit exceeded: Quota exceeded for quota metric 'Generate Content API requests per minute' and limit 'GenerateContent request limit per minute for a region' of service 'generativelanguage.googleapis.com' for consumer 'project_number:179991646430'.\n",
      "Rate limit exceeded: Quota exceeded for quota metric 'Generate Content API requests per minute' and limit 'GenerateContent request limit per minute for a region' of service 'generativelanguage.googleapis.com' for consumer 'project_number:179991646430'.\n",
      "Rate limit exceeded: Resource has been exhausted (e.g. check quota).\n"
     ]
    }
   ],
   "source": [
    "import time\n",
    "from google.api_core.exceptions import GoogleAPIError\n",
    "\n",
    "ans1= []\n",
    "start_i = 0\n",
    "flag = True\n",
    "\n",
    "while flag:\n",
    "    try:\n",
    "        for i in range(start_i,len(df_issue),1):\n",
    "#         for i in range(start_i,start_i+7,1):\n",
    "            issue = df_issue.loc[i][\"issue\"]\n",
    "            input_str = \"input: \\\"\\\"\\\" {} \\\"\\\"\\\"\".format(issue)\n",
    "    \n",
    "            prompt = deepcopy(prompt_parts)\n",
    "            prompt.append(input_str)\n",
    "            prompt.append(\"output: \")\n",
    "    \n",
    "            response = model.generate_content(prompt)\n",
    "            ans1.append(response.text)\n",
    "        \n",
    "        flag = False\n",
    "    except GoogleAPIError as error:\n",
    "        if error.code == 429:  # Check for 429 (Rate Limit Exceeded) error\n",
    "            print(\"Rate limit exceeded:\", error.message)\n",
    "            time.sleep(60)\n",
    "            start_i = len(ans1)+0      \n",
    "    except Exception as e:\n",
    "        print(f\"An error occurred: {e}\")\n",
    "        break  # Exit the loop on other errors"
   ]
  },
  {
   "cell_type": "code",
   "execution_count": 33,
   "id": "4cb794f0",
   "metadata": {},
   "outputs": [
    {
     "name": "stdout",
     "output_type": "stream",
     "text": [
      "1000\n"
     ]
    }
   ],
   "source": [
    "print(len(ans1))"
   ]
  },
  {
   "cell_type": "code",
   "execution_count": 34,
   "id": "2c89bd9c",
   "metadata": {},
   "outputs": [
    {
     "data": {
      "text/html": [
       "<div>\n",
       "<style scoped>\n",
       "    .dataframe tbody tr th:only-of-type {\n",
       "        vertical-align: middle;\n",
       "    }\n",
       "\n",
       "    .dataframe tbody tr th {\n",
       "        vertical-align: top;\n",
       "    }\n",
       "\n",
       "    .dataframe thead th {\n",
       "        text-align: right;\n",
       "    }\n",
       "</style>\n",
       "<table border=\"1\" class=\"dataframe\">\n",
       "  <thead>\n",
       "    <tr style=\"text-align: right;\">\n",
       "      <th></th>\n",
       "      <th>answer1</th>\n",
       "    </tr>\n",
       "  </thead>\n",
       "  <tbody>\n",
       "    <tr>\n",
       "      <th>0</th>\n",
       "      <td>The answer is YES.</td>\n",
       "    </tr>\n",
       "    <tr>\n",
       "      <th>1</th>\n",
       "      <td>The answer is No.</td>\n",
       "    </tr>\n",
       "    <tr>\n",
       "      <th>2</th>\n",
       "      <td>The answer is No.</td>\n",
       "    </tr>\n",
       "    <tr>\n",
       "      <th>3</th>\n",
       "      <td>The answer is YES.</td>\n",
       "    </tr>\n",
       "    <tr>\n",
       "      <th>4</th>\n",
       "      <td>The answer is No.</td>\n",
       "    </tr>\n",
       "    <tr>\n",
       "      <th>5</th>\n",
       "      <td>The answer is No.</td>\n",
       "    </tr>\n",
       "    <tr>\n",
       "      <th>6</th>\n",
       "      <td>The answer is YES.</td>\n",
       "    </tr>\n",
       "    <tr>\n",
       "      <th>7</th>\n",
       "      <td>The answer is YES.</td>\n",
       "    </tr>\n",
       "    <tr>\n",
       "      <th>8</th>\n",
       "      <td>The answer is No.</td>\n",
       "    </tr>\n",
       "    <tr>\n",
       "      <th>9</th>\n",
       "      <td>The answer is YES.</td>\n",
       "    </tr>\n",
       "  </tbody>\n",
       "</table>\n",
       "</div>"
      ],
      "text/plain": [
       "              answer1\n",
       "0  The answer is YES.\n",
       "1   The answer is No.\n",
       "2   The answer is No.\n",
       "3  The answer is YES.\n",
       "4   The answer is No.\n",
       "5   The answer is No.\n",
       "6  The answer is YES.\n",
       "7  The answer is YES.\n",
       "8   The answer is No.\n",
       "9  The answer is YES."
      ]
     },
     "execution_count": 34,
     "metadata": {},
     "output_type": "execute_result"
    }
   ],
   "source": [
    "df = pd.DataFrame()\n",
    "df[\"answer1\"] = ans1\n",
    "\n",
    "df.head(10)"
   ]
  },
  {
   "cell_type": "code",
   "execution_count": 35,
   "id": "b8f5f226",
   "metadata": {},
   "outputs": [],
   "source": [
    "df.to_csv(\"experiment/random_pattern/answer_rand.csv\",index = None)"
   ]
  },
  {
   "cell_type": "code",
   "execution_count": 5,
   "id": "c3809dd9",
   "metadata": {},
   "outputs": [],
   "source": [
    "from sklearn import metrics as mt"
   ]
  },
  {
   "cell_type": "code",
   "execution_count": 4,
   "id": "e8cb0bf6",
   "metadata": {},
   "outputs": [
    {
     "name": "stdout",
     "output_type": "stream",
     "text": [
      "precision: 0.542 recall: 0.559 F1: 0.55\n"
     ]
    }
   ],
   "source": [
    "# ETD results\n",
    "\n",
    "df_test_random = pd.read_csv(\"experiment/random_pattern/ETD/gemini/etd_random2_withnegno1211_gemini_result(t=0.8).csv\")\n",
    "predictions_etd = df_test_random[\"y''_ETD\"]\n",
    "y_test = df_test_random[\"y_ETD\"]\n",
    "precison_etd = mt.precision_score(y_test, predictions_etd)\n",
    "recall_etd = mt.recall_score(y_test, predictions_etd)\n",
    "score_etd = mt.f1_score(y_test, predictions_etd)\n",
    "\n",
    "print(\"precision:\",round(precison_etd,3),\"recall:\",round(recall_etd,3),\"F1:\",round(score_etd,3))"
   ]
  },
  {
   "cell_type": "code",
   "execution_count": 110,
   "id": "5d369056",
   "metadata": {},
   "outputs": [
    {
     "name": "stdout",
     "output_type": "stream",
     "text": [
      "precision: 0.67 recall: 0.795 F1: 0.727\n"
     ]
    }
   ],
   "source": [
    "# PS results \n",
    "\n",
    "df_test_random = pd.read_csv(\"experiment/iterative/PS/ps_iter_result(t=0.8).csv\")\n",
    "predictions_ps = df_test_random[\"y''_PS\"]\n",
    "y_test = df_test_random[\"y_PS\"]\n",
    "precison_ps = mt.precision_score(y_test, predictions_ps)\n",
    "recall_ps = mt.recall_score(y_test, predictions_ps)\n",
    "score_ps = mt.f1_score(y_test, predictions_ps)\n",
    "\n",
    "print(\"precision:\",round(precison_ps,3),\"recall:\",round(recall_ps,3),\"F1:\",round(score_ps,3))"
   ]
  },
  {
   "cell_type": "code",
   "execution_count": null,
   "id": "a732607e",
   "metadata": {},
   "outputs": [],
   "source": []
  }
 ],
 "metadata": {
  "kernelspec": {
   "display_name": "gemini-env",
   "language": "python",
   "name": "gemini-env"
  },
  "language_info": {
   "codemirror_mode": {
    "name": "ipython",
    "version": 3
   },
   "file_extension": ".py",
   "mimetype": "text/x-python",
   "name": "python",
   "nbconvert_exporter": "python",
   "pygments_lexer": "ipython3",
   "version": "3.9.18"
  }
 },
 "nbformat": 4,
 "nbformat_minor": 5
}
