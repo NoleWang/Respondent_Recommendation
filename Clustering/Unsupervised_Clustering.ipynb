{
 "cells": [
  {
   "cell_type": "code",
   "execution_count": 1,
   "metadata": {},
   "outputs": [],
   "source": [
    "import pandas as pd\n",
    "import numpy as np\n",
    "from sklearn.cluster import AgglomerativeClustering\n",
    "from sklearn.feature_extraction.text import TfidfVectorizer\n",
    "from sklearn.cluster import KMeans"
   ]
  },
  {
   "cell_type": "code",
   "execution_count": 2,
   "metadata": {},
   "outputs": [],
   "source": [
    "channel1 = 'Scikitlearn'\n",
    "channel2 = 'Angular'"
   ]
  },
  {
   "cell_type": "code",
   "execution_count": 3,
   "metadata": {},
   "outputs": [],
   "source": [
    "#df_issue = pd.read_csv(channel2+'/'+channel2+'_issue_tags.csv')\n",
    "df_issue = pd.read_csv(channel2+'/'+channel2+'_ispy.csv')"
   ]
  },
  {
   "cell_type": "code",
   "execution_count": 4,
   "metadata": {
    "scrolled": true
   },
   "outputs": [
    {
     "data": {
      "text/html": [
       "<div>\n",
       "<style scoped>\n",
       "    .dataframe tbody tr th:only-of-type {\n",
       "        vertical-align: middle;\n",
       "    }\n",
       "\n",
       "    .dataframe tbody tr th {\n",
       "        vertical-align: top;\n",
       "    }\n",
       "\n",
       "    .dataframe thead th {\n",
       "        text-align: right;\n",
       "    }\n",
       "</style>\n",
       "<table border=\"1\" class=\"dataframe\">\n",
       "  <thead>\n",
       "    <tr style=\"text-align: right;\">\n",
       "      <th></th>\n",
       "      <th>Unnamed: 0</th>\n",
       "      <th>issue</th>\n",
       "      <th>solution</th>\n",
       "      <th>issue_stem</th>\n",
       "      <th>solution_stem</th>\n",
       "      <th>issue_tags</th>\n",
       "      <th>solution_tags</th>\n",
       "    </tr>\n",
       "  </thead>\n",
       "  <tbody>\n",
       "    <tr>\n",
       "      <th>0</th>\n",
       "      <td>0</td>\n",
       "      <td>[&lt;-CODE-&gt;]</td>\n",
       "      <td>I keep an eye on this channel from time to tim...</td>\n",
       "      <td>[&lt;-code-&gt;]</td>\n",
       "      <td>i keep an ey on thi channel from time to time,...</td>\n",
       "      <td>[]</td>\n",
       "      <td>['channel', 'chat', 'one-to-one', 'time', 'tim...</td>\n",
       "    </tr>\n",
       "    <tr>\n",
       "      <th>1</th>\n",
       "      <td>1</td>\n",
       "      <td>laco0416:  [&lt;-ISSUE-&gt;]</td>\n",
       "      <td>ericmartinezr: check out my hacked together cl...</td>\n",
       "      <td>laco0416:  [&lt;-issu-&gt;]</td>\n",
       "      <td>ericmartinezr: check out my hack togeth class ...</td>\n",
       "      <td>[]</td>\n",
       "      <td>['base', 'class', 'config', 'routes', 'routing']</td>\n",
       "    </tr>\n",
       "    <tr>\n",
       "      <th>2</th>\n",
       "      <td>2</td>\n",
       "      <td>there isn't a.just()in Rx5  [&lt;-LINK-&gt;] note th...</td>\n",
       "      <td>Check out this [&lt;-LINK-&gt;]. This is the documen...</td>\n",
       "      <td>there isn't a.just()in rx5  [&lt;-link-&gt;] note th...</td>\n",
       "      <td>check out thi [&lt;-link-&gt;]. thi is the document ...</td>\n",
       "      <td>['difference', 'observable', 'reactive', 'rxjs']</td>\n",
       "      <td>['document', 'documentation', 'paste', 'replac...</td>\n",
       "    </tr>\n",
       "    <tr>\n",
       "      <th>3</th>\n",
       "      <td>3</td>\n",
       "      <td>Shouldn'tDynamicComponentLoader#loadIntoLocati...</td>\n",
       "      <td>gionkunz: so how could i add it inside the div...</td>\n",
       "      <td>shouldn'tdynamiccomponentload#loadintolocation...</td>\n",
       "      <td>gionkunz: so how could i add it insid the div?...</td>\n",
       "      <td>['add']</td>\n",
       "      <td>['add', 'angular', 'angular-components', 'comp...</td>\n",
       "    </tr>\n",
       "    <tr>\n",
       "      <th>4</th>\n",
       "      <td>4</td>\n",
       "      <td>Will there be a material stuff for angular 2?</td>\n",
       "      <td>Currently I am using [&lt;-LINK-&gt;] . I wonder if ...</td>\n",
       "      <td>will there be a materi stuff for angular 2?</td>\n",
       "      <td>current i am us [&lt;-link-&gt;] . i wonder if i am ...</td>\n",
       "      <td>['angular', 'angular-material', 'materialize']</td>\n",
       "      <td>['go', 'path', 'using']</td>\n",
       "    </tr>\n",
       "  </tbody>\n",
       "</table>\n",
       "</div>"
      ],
      "text/plain": [
       "   Unnamed: 0                                              issue  \\\n",
       "0           0                                         [<-CODE->]   \n",
       "1           1                             laco0416:  [<-ISSUE->]   \n",
       "2           2  there isn't a.just()in Rx5  [<-LINK->] note th...   \n",
       "3           3  Shouldn'tDynamicComponentLoader#loadIntoLocati...   \n",
       "4           4      Will there be a material stuff for angular 2?   \n",
       "\n",
       "                                            solution  \\\n",
       "0  I keep an eye on this channel from time to tim...   \n",
       "1  ericmartinezr: check out my hacked together cl...   \n",
       "2  Check out this [<-LINK->]. This is the documen...   \n",
       "3  gionkunz: so how could i add it inside the div...   \n",
       "4  Currently I am using [<-LINK->] . I wonder if ...   \n",
       "\n",
       "                                          issue_stem  \\\n",
       "0                                         [<-code->]   \n",
       "1                              laco0416:  [<-issu->]   \n",
       "2  there isn't a.just()in rx5  [<-link->] note th...   \n",
       "3  shouldn'tdynamiccomponentload#loadintolocation...   \n",
       "4        will there be a materi stuff for angular 2?   \n",
       "\n",
       "                                       solution_stem  \\\n",
       "0  i keep an ey on thi channel from time to time,...   \n",
       "1  ericmartinezr: check out my hack togeth class ...   \n",
       "2  check out thi [<-link->]. thi is the document ...   \n",
       "3  gionkunz: so how could i add it insid the div?...   \n",
       "4  current i am us [<-link->] . i wonder if i am ...   \n",
       "\n",
       "                                         issue_tags  \\\n",
       "0                                                []   \n",
       "1                                                []   \n",
       "2  ['difference', 'observable', 'reactive', 'rxjs']   \n",
       "3                                           ['add']   \n",
       "4    ['angular', 'angular-material', 'materialize']   \n",
       "\n",
       "                                       solution_tags  \n",
       "0  ['channel', 'chat', 'one-to-one', 'time', 'tim...  \n",
       "1   ['base', 'class', 'config', 'routes', 'routing']  \n",
       "2  ['document', 'documentation', 'paste', 'replac...  \n",
       "3  ['add', 'angular', 'angular-components', 'comp...  \n",
       "4                            ['go', 'path', 'using']  "
      ]
     },
     "execution_count": 4,
     "metadata": {},
     "output_type": "execute_result"
    }
   ],
   "source": [
    "df_issue.head()"
   ]
  },
  {
   "cell_type": "code",
   "execution_count": 5,
   "metadata": {},
   "outputs": [
    {
     "data": {
      "text/plain": [
       "6662"
      ]
     },
     "execution_count": 5,
     "metadata": {},
     "output_type": "execute_result"
    }
   ],
   "source": [
    "len(df_issue)"
   ]
  },
  {
   "cell_type": "code",
   "execution_count": 6,
   "metadata": {},
   "outputs": [],
   "source": [
    "df_selected = df_issue[df_issue[\"issue_tags\"] != \"[]\"]\n",
    "df_selected.reset_index(drop=True,inplace=True)"
   ]
  },
  {
   "cell_type": "code",
   "execution_count": 7,
   "metadata": {},
   "outputs": [
    {
     "data": {
      "text/plain": [
       "5166"
      ]
     },
     "execution_count": 7,
     "metadata": {},
     "output_type": "execute_result"
    }
   ],
   "source": [
    "len(df_selected)"
   ]
  },
  {
   "cell_type": "code",
   "execution_count": 8,
   "metadata": {},
   "outputs": [
    {
     "data": {
      "text/html": [
       "<div>\n",
       "<style scoped>\n",
       "    .dataframe tbody tr th:only-of-type {\n",
       "        vertical-align: middle;\n",
       "    }\n",
       "\n",
       "    .dataframe tbody tr th {\n",
       "        vertical-align: top;\n",
       "    }\n",
       "\n",
       "    .dataframe thead th {\n",
       "        text-align: right;\n",
       "    }\n",
       "</style>\n",
       "<table border=\"1\" class=\"dataframe\">\n",
       "  <thead>\n",
       "    <tr style=\"text-align: right;\">\n",
       "      <th></th>\n",
       "      <th>Unnamed: 0</th>\n",
       "      <th>issue</th>\n",
       "      <th>solution</th>\n",
       "      <th>issue_stem</th>\n",
       "      <th>solution_stem</th>\n",
       "      <th>issue_tags</th>\n",
       "      <th>solution_tags</th>\n",
       "    </tr>\n",
       "  </thead>\n",
       "  <tbody>\n",
       "    <tr>\n",
       "      <th>0</th>\n",
       "      <td>2</td>\n",
       "      <td>there isn't a.just()in Rx5  [&lt;-LINK-&gt;] note th...</td>\n",
       "      <td>Check out this [&lt;-LINK-&gt;]. This is the documen...</td>\n",
       "      <td>there isn't a.just()in rx5  [&lt;-link-&gt;] note th...</td>\n",
       "      <td>check out thi [&lt;-link-&gt;]. thi is the document ...</td>\n",
       "      <td>['difference', 'observable', 'reactive', 'rxjs']</td>\n",
       "      <td>['document', 'documentation', 'paste', 'replac...</td>\n",
       "    </tr>\n",
       "    <tr>\n",
       "      <th>1</th>\n",
       "      <td>3</td>\n",
       "      <td>Shouldn'tDynamicComponentLoader#loadIntoLocati...</td>\n",
       "      <td>gionkunz: so how could i add it inside the div...</td>\n",
       "      <td>shouldn'tdynamiccomponentload#loadintolocation...</td>\n",
       "      <td>gionkunz: so how could i add it insid the div?...</td>\n",
       "      <td>['add']</td>\n",
       "      <td>['add', 'angular', 'angular-components', 'comp...</td>\n",
       "    </tr>\n",
       "    <tr>\n",
       "      <th>2</th>\n",
       "      <td>4</td>\n",
       "      <td>Will there be a material stuff for angular 2?</td>\n",
       "      <td>Currently I am using [&lt;-LINK-&gt;] . I wonder if ...</td>\n",
       "      <td>will there be a materi stuff for angular 2?</td>\n",
       "      <td>current i am us [&lt;-link-&gt;] . i wonder if i am ...</td>\n",
       "      <td>['angular', 'angular-material', 'materialize']</td>\n",
       "      <td>['go', 'path', 'using']</td>\n",
       "    </tr>\n",
       "    <tr>\n",
       "      <th>3</th>\n",
       "      <td>5</td>\n",
       "      <td>Has anyone run into a situation where ng2 inst...</td>\n",
       "      <td>justindujardin: no.. are you sure it doesn't m...</td>\n",
       "      <td>ha anyon run into a situat where ng2 instanti ...</td>\n",
       "      <td>justindujardin: no.. ar you sure it doesn't ma...</td>\n",
       "      <td>['components', 'instantiation', 'match', 'matc...</td>\n",
       "      <td>['match', 'matching', 'selector', 'time', 'tim...</td>\n",
       "    </tr>\n",
       "    <tr>\n",
       "      <th>4</th>\n",
       "      <td>6</td>\n",
       "      <td>Who hereplans on writing all their angular 2 a...</td>\n",
       "      <td>seanpar203: the biggest issue in using pure JS...</td>\n",
       "      <td>who hereplan on write all their angular 2 app ...</td>\n",
       "      <td>seanpar203: the biggest issu in us pure js at ...</td>\n",
       "      <td>['angular', 'typescript']</td>\n",
       "      <td>['angular', 'document', 'documentation', 'get'...</td>\n",
       "    </tr>\n",
       "  </tbody>\n",
       "</table>\n",
       "</div>"
      ],
      "text/plain": [
       "   Unnamed: 0                                              issue  \\\n",
       "0           2  there isn't a.just()in Rx5  [<-LINK->] note th...   \n",
       "1           3  Shouldn'tDynamicComponentLoader#loadIntoLocati...   \n",
       "2           4      Will there be a material stuff for angular 2?   \n",
       "3           5  Has anyone run into a situation where ng2 inst...   \n",
       "4           6  Who hereplans on writing all their angular 2 a...   \n",
       "\n",
       "                                            solution  \\\n",
       "0  Check out this [<-LINK->]. This is the documen...   \n",
       "1  gionkunz: so how could i add it inside the div...   \n",
       "2  Currently I am using [<-LINK->] . I wonder if ...   \n",
       "3  justindujardin: no.. are you sure it doesn't m...   \n",
       "4  seanpar203: the biggest issue in using pure JS...   \n",
       "\n",
       "                                          issue_stem  \\\n",
       "0  there isn't a.just()in rx5  [<-link->] note th...   \n",
       "1  shouldn'tdynamiccomponentload#loadintolocation...   \n",
       "2        will there be a materi stuff for angular 2?   \n",
       "3  ha anyon run into a situat where ng2 instanti ...   \n",
       "4  who hereplan on write all their angular 2 app ...   \n",
       "\n",
       "                                       solution_stem  \\\n",
       "0  check out thi [<-link->]. thi is the document ...   \n",
       "1  gionkunz: so how could i add it insid the div?...   \n",
       "2  current i am us [<-link->] . i wonder if i am ...   \n",
       "3  justindujardin: no.. ar you sure it doesn't ma...   \n",
       "4  seanpar203: the biggest issu in us pure js at ...   \n",
       "\n",
       "                                          issue_tags  \\\n",
       "0   ['difference', 'observable', 'reactive', 'rxjs']   \n",
       "1                                            ['add']   \n",
       "2     ['angular', 'angular-material', 'materialize']   \n",
       "3  ['components', 'instantiation', 'match', 'matc...   \n",
       "4                          ['angular', 'typescript']   \n",
       "\n",
       "                                       solution_tags  \n",
       "0  ['document', 'documentation', 'paste', 'replac...  \n",
       "1  ['add', 'angular', 'angular-components', 'comp...  \n",
       "2                            ['go', 'path', 'using']  \n",
       "3  ['match', 'matching', 'selector', 'time', 'tim...  \n",
       "4  ['angular', 'document', 'documentation', 'get'...  "
      ]
     },
     "execution_count": 8,
     "metadata": {},
     "output_type": "execute_result"
    }
   ],
   "source": [
    "df_selected.head()"
   ]
  },
  {
   "cell_type": "markdown",
   "metadata": {},
   "source": [
    "## Preprocessing"
   ]
  },
  {
   "cell_type": "code",
   "execution_count": 9,
   "metadata": {},
   "outputs": [],
   "source": [
    "def str_clean(str_list):\n",
    "    str_list = str_list.replace('[','')\n",
    "    str_list = str_list.replace(']','')\n",
    "    str_list = str_list.replace('\\'','')\n",
    "    \n",
    "    return str_list"
   ]
  },
  {
   "cell_type": "code",
   "execution_count": 10,
   "metadata": {},
   "outputs": [],
   "source": [
    "#consider tag+issue\n",
    "msg = []\n",
    "for i in range(len(df_selected)):\n",
    "    str_tag = str_clean(df_selected.iloc[i][\"issue_tags\"])\n",
    "    str_msg = str(df_selected.iloc[i][\"issue_stem\"]).replace('\\n','')\n",
    "    data = str_msg + \" \" + str_tag\n",
    "    msg.append(data)"
   ]
  },
  {
   "cell_type": "code",
   "execution_count": 138,
   "metadata": {},
   "outputs": [],
   "source": [
    "#only consider tag\n",
    "msg = []\n",
    "for i in range(len(df_selected)):\n",
    "    str_tag = str_clean(df_selected.iloc[i][\"issue_tags\"])\n",
    "    #str_msg = str(df_selected.iloc[i][\"content_stem\"]).replace('\\n','')\n",
    "    #data = str_msg + \" \" + str_tag\n",
    "    msg.append(str_tag)"
   ]
  },
  {
   "cell_type": "code",
   "execution_count": 11,
   "metadata": {},
   "outputs": [
    {
     "data": {
      "text/plain": [
       "5166"
      ]
     },
     "execution_count": 11,
     "metadata": {},
     "output_type": "execute_result"
    }
   ],
   "source": [
    "len(msg)"
   ]
  },
  {
   "cell_type": "code",
   "execution_count": 12,
   "metadata": {},
   "outputs": [
    {
     "data": {
      "text/plain": [
       "\"there isn't a.just()in rx5  [<-link->] note that that's differ to reactiv-extens/rxj observ.of(1) is the same  difference, observable, reactive, rxjs\""
      ]
     },
     "execution_count": 12,
     "metadata": {},
     "output_type": "execute_result"
    }
   ],
   "source": [
    "msg[0]"
   ]
  },
  {
   "cell_type": "code",
   "execution_count": 13,
   "metadata": {},
   "outputs": [],
   "source": [
    "vectorizer = TfidfVectorizer()\n",
    "X = vectorizer.fit_transform(msg)"
   ]
  },
  {
   "cell_type": "code",
   "execution_count": 14,
   "metadata": {},
   "outputs": [
    {
     "name": "stdout",
     "output_type": "stream",
     "text": [
      "(5166, 5414)\n"
     ]
    }
   ],
   "source": [
    "print(X.shape)"
   ]
  },
  {
   "cell_type": "markdown",
   "metadata": {},
   "source": [
    "## Training"
   ]
  },
  {
   "cell_type": "code",
   "execution_count": 15,
   "metadata": {},
   "outputs": [],
   "source": [
    "kmeans = KMeans(n_clusters=500, random_state=0).fit(X)"
   ]
  },
  {
   "cell_type": "code",
   "execution_count": 16,
   "metadata": {},
   "outputs": [
    {
     "data": {
      "text/plain": [
       "array([377,  35,  52, ...,  51, 195, 217])"
      ]
     },
     "execution_count": 16,
     "metadata": {},
     "output_type": "execute_result"
    }
   ],
   "source": [
    "kmeans.labels_"
   ]
  },
  {
   "cell_type": "code",
   "execution_count": 17,
   "metadata": {},
   "outputs": [
    {
     "data": {
      "text/plain": [
       "5166"
      ]
     },
     "execution_count": 17,
     "metadata": {},
     "output_type": "execute_result"
    }
   ],
   "source": [
    "len(kmeans.labels_)"
   ]
  },
  {
   "cell_type": "code",
   "execution_count": 18,
   "metadata": {},
   "outputs": [
    {
     "name": "stderr",
     "output_type": "stream",
     "text": [
      "<ipython-input-18-591c60bf4ac8>:1: SettingWithCopyWarning: \n",
      "A value is trying to be set on a copy of a slice from a DataFrame.\n",
      "Try using .loc[row_indexer,col_indexer] = value instead\n",
      "\n",
      "See the caveats in the documentation: https://pandas.pydata.org/pandas-docs/stable/user_guide/indexing.html#returning-a-view-versus-a-copy\n",
      "  df_selected[\"label\"]=list(kmeans.labels_)\n"
     ]
    }
   ],
   "source": [
    "df_selected[\"label\"]=list(kmeans.labels_)"
   ]
  },
  {
   "cell_type": "code",
   "execution_count": 19,
   "metadata": {},
   "outputs": [
    {
     "data": {
      "text/html": [
       "<div>\n",
       "<style scoped>\n",
       "    .dataframe tbody tr th:only-of-type {\n",
       "        vertical-align: middle;\n",
       "    }\n",
       "\n",
       "    .dataframe tbody tr th {\n",
       "        vertical-align: top;\n",
       "    }\n",
       "\n",
       "    .dataframe thead th {\n",
       "        text-align: right;\n",
       "    }\n",
       "</style>\n",
       "<table border=\"1\" class=\"dataframe\">\n",
       "  <thead>\n",
       "    <tr style=\"text-align: right;\">\n",
       "      <th></th>\n",
       "      <th>Unnamed: 0</th>\n",
       "      <th>issue</th>\n",
       "      <th>solution</th>\n",
       "      <th>issue_stem</th>\n",
       "      <th>solution_stem</th>\n",
       "      <th>issue_tags</th>\n",
       "      <th>solution_tags</th>\n",
       "      <th>label</th>\n",
       "    </tr>\n",
       "  </thead>\n",
       "  <tbody>\n",
       "    <tr>\n",
       "      <th>0</th>\n",
       "      <td>2</td>\n",
       "      <td>there isn't a.just()in Rx5  [&lt;-LINK-&gt;] note th...</td>\n",
       "      <td>Check out this [&lt;-LINK-&gt;]. This is the documen...</td>\n",
       "      <td>there isn't a.just()in rx5  [&lt;-link-&gt;] note th...</td>\n",
       "      <td>check out thi [&lt;-link-&gt;]. thi is the document ...</td>\n",
       "      <td>['difference', 'observable', 'reactive', 'rxjs']</td>\n",
       "      <td>['document', 'documentation', 'paste', 'replac...</td>\n",
       "      <td>377</td>\n",
       "    </tr>\n",
       "    <tr>\n",
       "      <th>1</th>\n",
       "      <td>3</td>\n",
       "      <td>Shouldn'tDynamicComponentLoader#loadIntoLocati...</td>\n",
       "      <td>gionkunz: so how could i add it inside the div...</td>\n",
       "      <td>shouldn'tdynamiccomponentload#loadintolocation...</td>\n",
       "      <td>gionkunz: so how could i add it insid the div?...</td>\n",
       "      <td>['add']</td>\n",
       "      <td>['add', 'angular', 'angular-components', 'comp...</td>\n",
       "      <td>35</td>\n",
       "    </tr>\n",
       "    <tr>\n",
       "      <th>2</th>\n",
       "      <td>4</td>\n",
       "      <td>Will there be a material stuff for angular 2?</td>\n",
       "      <td>Currently I am using [&lt;-LINK-&gt;] . I wonder if ...</td>\n",
       "      <td>will there be a materi stuff for angular 2?</td>\n",
       "      <td>current i am us [&lt;-link-&gt;] . i wonder if i am ...</td>\n",
       "      <td>['angular', 'angular-material', 'materialize']</td>\n",
       "      <td>['go', 'path', 'using']</td>\n",
       "      <td>52</td>\n",
       "    </tr>\n",
       "    <tr>\n",
       "      <th>3</th>\n",
       "      <td>5</td>\n",
       "      <td>Has anyone run into a situation where ng2 inst...</td>\n",
       "      <td>justindujardin: no.. are you sure it doesn't m...</td>\n",
       "      <td>ha anyon run into a situat where ng2 instanti ...</td>\n",
       "      <td>justindujardin: no.. ar you sure it doesn't ma...</td>\n",
       "      <td>['components', 'instantiation', 'match', 'matc...</td>\n",
       "      <td>['match', 'matching', 'selector', 'time', 'tim...</td>\n",
       "      <td>114</td>\n",
       "    </tr>\n",
       "    <tr>\n",
       "      <th>4</th>\n",
       "      <td>6</td>\n",
       "      <td>Who hereplans on writing all their angular 2 a...</td>\n",
       "      <td>seanpar203: the biggest issue in using pure JS...</td>\n",
       "      <td>who hereplan on write all their angular 2 app ...</td>\n",
       "      <td>seanpar203: the biggest issu in us pure js at ...</td>\n",
       "      <td>['angular', 'typescript']</td>\n",
       "      <td>['angular', 'document', 'documentation', 'get'...</td>\n",
       "      <td>313</td>\n",
       "    </tr>\n",
       "  </tbody>\n",
       "</table>\n",
       "</div>"
      ],
      "text/plain": [
       "   Unnamed: 0                                              issue  \\\n",
       "0           2  there isn't a.just()in Rx5  [<-LINK->] note th...   \n",
       "1           3  Shouldn'tDynamicComponentLoader#loadIntoLocati...   \n",
       "2           4      Will there be a material stuff for angular 2?   \n",
       "3           5  Has anyone run into a situation where ng2 inst...   \n",
       "4           6  Who hereplans on writing all their angular 2 a...   \n",
       "\n",
       "                                            solution  \\\n",
       "0  Check out this [<-LINK->]. This is the documen...   \n",
       "1  gionkunz: so how could i add it inside the div...   \n",
       "2  Currently I am using [<-LINK->] . I wonder if ...   \n",
       "3  justindujardin: no.. are you sure it doesn't m...   \n",
       "4  seanpar203: the biggest issue in using pure JS...   \n",
       "\n",
       "                                          issue_stem  \\\n",
       "0  there isn't a.just()in rx5  [<-link->] note th...   \n",
       "1  shouldn'tdynamiccomponentload#loadintolocation...   \n",
       "2        will there be a materi stuff for angular 2?   \n",
       "3  ha anyon run into a situat where ng2 instanti ...   \n",
       "4  who hereplan on write all their angular 2 app ...   \n",
       "\n",
       "                                       solution_stem  \\\n",
       "0  check out thi [<-link->]. thi is the document ...   \n",
       "1  gionkunz: so how could i add it insid the div?...   \n",
       "2  current i am us [<-link->] . i wonder if i am ...   \n",
       "3  justindujardin: no.. ar you sure it doesn't ma...   \n",
       "4  seanpar203: the biggest issu in us pure js at ...   \n",
       "\n",
       "                                          issue_tags  \\\n",
       "0   ['difference', 'observable', 'reactive', 'rxjs']   \n",
       "1                                            ['add']   \n",
       "2     ['angular', 'angular-material', 'materialize']   \n",
       "3  ['components', 'instantiation', 'match', 'matc...   \n",
       "4                          ['angular', 'typescript']   \n",
       "\n",
       "                                       solution_tags  label  \n",
       "0  ['document', 'documentation', 'paste', 'replac...    377  \n",
       "1  ['add', 'angular', 'angular-components', 'comp...     35  \n",
       "2                            ['go', 'path', 'using']     52  \n",
       "3  ['match', 'matching', 'selector', 'time', 'tim...    114  \n",
       "4  ['angular', 'document', 'documentation', 'get'...    313  "
      ]
     },
     "execution_count": 19,
     "metadata": {},
     "output_type": "execute_result"
    }
   ],
   "source": [
    "df_selected.head()"
   ]
  },
  {
   "cell_type": "code",
   "execution_count": 20,
   "metadata": {},
   "outputs": [],
   "source": [
    "df_selected.to_csv(channel2+'/result/'+channel2+'_ispy_predicted_500_ti.csv',index = None)"
   ]
  },
  {
   "cell_type": "code",
   "execution_count": null,
   "metadata": {},
   "outputs": [],
   "source": []
  }
 ],
 "metadata": {
  "kernelspec": {
   "display_name": "Python 3",
   "language": "python",
   "name": "python3"
  },
  "language_info": {
   "codemirror_mode": {
    "name": "ipython",
    "version": 3
   },
   "file_extension": ".py",
   "mimetype": "text/x-python",
   "name": "python",
   "nbconvert_exporter": "python",
   "pygments_lexer": "ipython3",
   "version": "3.8.5"
  }
 },
 "nbformat": 4,
 "nbformat_minor": 4
}
