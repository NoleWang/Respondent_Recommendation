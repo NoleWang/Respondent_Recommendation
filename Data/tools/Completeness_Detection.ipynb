{
 "cells": [
  {
   "cell_type": "code",
   "execution_count": 1,
   "id": "3428b8cb",
   "metadata": {},
   "outputs": [],
   "source": [
    "import nltk\n",
    "from sklearn.feature_extraction.text import TfidfVectorizer\n",
    "from sklearn.ensemble import GradientBoostingClassifier\n",
    "from sklearn.metrics import classification_report"
   ]
  },
  {
   "cell_type": "code",
   "execution_count": 2,
   "id": "354919fc",
   "metadata": {},
   "outputs": [
    {
     "name": "stderr",
     "output_type": "stream",
     "text": [
      "[nltk_data] Downloading package nps_chat to\n",
      "[nltk_data]     /Users/wangsimin/nltk_data...\n",
      "[nltk_data]   Unzipping corpora/nps_chat.zip.\n"
     ]
    }
   ],
   "source": [
    "nltk.download('nps_chat')\n",
    "posts = nltk.corpus.nps_chat.xml_posts()"
   ]
  },
  {
   "cell_type": "code",
   "execution_count": 4,
   "id": "8ad67b7b",
   "metadata": {},
   "outputs": [],
   "source": [
    "def dialogue_act_features(post):\n",
    "    features = {}\n",
    "    for word in nltk.word_tokenize(post):\n",
    "        features['contains({})'.format(word.lower())] = True\n",
    "    return features\n",
    "\n",
    "def is_ques_using_nltk(ques):\n",
    "    question_type = classifier.classify(dialogue_act_features(ques)) \n",
    "    return question_type in question_types\n",
    "\n",
    "question_pattern = [\"do i\", \"do you\", \"what\", \"who\", \"is it\", \"why\",\"would you\", \"how\",\"is there\",\n",
    "                    \"are there\", \"is it so\", \"is this true\" ,\"to know\", \"is that true\", \"are we\", \"am i\", \n",
    "                   \"question is\", \"tell me more\", \"can i\", \"can we\", \"tell me\", \"can you explain\",\n",
    "                   \"question\",\"answer\", \"questions\", \"answers\", \"ask\"]\n",
    "\n",
    "helping_verbs = [\"is\",\"am\",\"can\", \"are\", \"do\", \"does\"]\n",
    "# check with custom pipeline if still this is a question mark it as a question\n",
    "def is_question(question):\n",
    "    question = question.lower().strip()\n",
    "    if not is_ques_using_nltk(question):\n",
    "        is_ques = False\n",
    "        # check if any of pattern exist in sentence\n",
    "        for pattern in question_pattern:\n",
    "            is_ques  = pattern in question\n",
    "            if is_ques:\n",
    "                break\n",
    "\n",
    "        # there could be multiple sentences so divide the sentence\n",
    "        sentence_arr = question.split(\".\")\n",
    "        for sentence in sentence_arr:\n",
    "            if len(sentence.strip()):\n",
    "                # if question ends with ? or start with any helping verb\n",
    "                # word_tokenize will strip by default\n",
    "                first_word = nltk.word_tokenize(sentence)[0]\n",
    "                if sentence.endswith(\"?\") or first_word in helping_verbs:\n",
    "                    is_ques = True\n",
    "                    break\n",
    "        return is_ques    \n",
    "    else:\n",
    "        return True"
   ]
  },
  {
   "cell_type": "code",
   "execution_count": 5,
   "id": "f64a6532",
   "metadata": {},
   "outputs": [],
   "source": [
    "\n",
    "\n",
    "featuresets = [(dialogue_act_features(post.text), post.get('class')) for post in posts]\n",
    "\n",
    "# 10% of the total data\n",
    "size = int(len(featuresets) * 0.1)\n",
    "\n",
    "# first 10% for test_set to check the accuracy, and rest 90% after the first 10% for training\n",
    "train_set, test_set = featuresets[size:], featuresets[:size]\n",
    "\n",
    "# get the classifer from the training set\n",
    "classifier = nltk.NaiveBayesClassifier.train(train_set)\n",
    "# to check the accuracy - 0.67\n",
    "# print(nltk.classify.accuracy(classifier, test_set))\n",
    "\n",
    "question_types = [\"whQuestion\",\"ynQuestion\"]\n"
   ]
  },
  {
   "cell_type": "code",
   "execution_count": 6,
   "id": "de9c0439",
   "metadata": {},
   "outputs": [
    {
     "data": {
      "text/plain": [
       "True"
      ]
     },
     "execution_count": 6,
     "metadata": {},
     "output_type": "execute_result"
    }
   ],
   "source": [
    "is_question(\"Do you have a file named `dlib.py` in the same directory you're trying to import the package from?\")"
   ]
  },
  {
   "cell_type": "code",
   "execution_count": 7,
   "id": "3b6a3f21",
   "metadata": {},
   "outputs": [
    {
     "data": {
      "text/plain": [
       "False"
      ]
     },
     "execution_count": 7,
     "metadata": {},
     "output_type": "execute_result"
    }
   ],
   "source": [
    "is_question(\"I think it would be yes, but not sure about the OS\")"
   ]
  },
  {
   "cell_type": "code",
   "execution_count": 8,
   "id": "641b2248",
   "metadata": {},
   "outputs": [
    {
     "data": {
      "text/plain": [
       "False"
      ]
     },
     "execution_count": 8,
     "metadata": {},
     "output_type": "execute_result"
    }
   ],
   "source": [
    "is_question(\"I wonder if the OS can affect to assembly\")"
   ]
  },
  {
   "cell_type": "code",
   "execution_count": null,
   "id": "9b9928f4",
   "metadata": {},
   "outputs": [],
   "source": []
  }
 ],
 "metadata": {
  "kernelspec": {
   "display_name": "Python 3 (ipykernel)",
   "language": "python",
   "name": "python3"
  },
  "language_info": {
   "codemirror_mode": {
    "name": "ipython",
    "version": 3
   },
   "file_extension": ".py",
   "mimetype": "text/x-python",
   "name": "python",
   "nbconvert_exporter": "python",
   "pygments_lexer": "ipython3",
   "version": "3.9.13"
  }
 },
 "nbformat": 4,
 "nbformat_minor": 5
}
