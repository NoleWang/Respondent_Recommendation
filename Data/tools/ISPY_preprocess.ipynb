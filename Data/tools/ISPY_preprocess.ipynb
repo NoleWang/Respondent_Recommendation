{
 "cells": [
  {
   "cell_type": "code",
   "execution_count": 1,
   "metadata": {},
   "outputs": [],
   "source": [
    "import pandas as pd\n",
    "import numpy as py"
   ]
  },
  {
   "cell_type": "code",
   "execution_count": 2,
   "metadata": {},
   "outputs": [],
   "source": [
    "channel1 = \"ScikitLearn\"\n",
    "channel2 = \"Angular\"\n",
    "GitHub_folder = \"../GitHubProfile/\"\n",
    "Gitter_folder = \"../Gitter_Channels/\""
   ]
  },
  {
   "cell_type": "code",
   "execution_count": 4,
   "metadata": {},
   "outputs": [],
   "source": [
    "with open(Gitter_folder+channel2+'/angular_ispair.txt', 'r',encoding='utf-8') as fp:\n",
    "    all_ispy = fp.readlines()"
   ]
  },
  {
   "cell_type": "code",
   "execution_count": 5,
   "metadata": {},
   "outputs": [
    {
     "data": {
      "text/plain": [
       "19986"
      ]
     },
     "execution_count": 5,
     "metadata": {},
     "output_type": "execute_result"
    }
   ],
   "source": [
    "len(all_ispy)"
   ]
  },
  {
   "cell_type": "code",
   "execution_count": 15,
   "metadata": {},
   "outputs": [],
   "source": [
    "issues = []\n",
    "solutions = []\n",
    "no_solution = 0\n",
    "tag_token = set()\n",
    "\n",
    "for count,line in enumerate(all_ispy):\n",
    "    if line.find(\"[<-\") != -1:\n",
    "        start_index = line.find(\"[<-\")\n",
    "        end_index = line.find(\"->]\")+3\n",
    "        tag_token.add(line[start_index:end_index])\n",
    "        \n",
    "    \n",
    "    if count % 3 == 0:\n",
    "        issues.append(line[6:].strip())\n",
    "    \n",
    "    elif count % 3 == 1:\n",
    "        if line[9:].strip() == '':\n",
    "            no_solution += 1\n",
    "        solutions.append(line[9:].strip())"
   ]
  },
  {
   "cell_type": "code",
   "execution_count": 20,
   "metadata": {},
   "outputs": [
    {
     "data": {
      "text/plain": [
       "{'[<-CODE->]', '[<-ISSUE->]', '[<-LINK->]'}"
      ]
     },
     "execution_count": 20,
     "metadata": {},
     "output_type": "execute_result"
    }
   ],
   "source": [
    "tag_token"
   ]
  },
  {
   "cell_type": "code",
   "execution_count": 16,
   "metadata": {},
   "outputs": [
    {
     "data": {
      "text/plain": [
       "2028"
      ]
     },
     "execution_count": 16,
     "metadata": {},
     "output_type": "execute_result"
    }
   ],
   "source": [
    "no_solution"
   ]
  },
  {
   "cell_type": "code",
   "execution_count": 17,
   "metadata": {},
   "outputs": [
    {
     "data": {
      "text/plain": [
       "6662"
      ]
     },
     "execution_count": 17,
     "metadata": {},
     "output_type": "execute_result"
    }
   ],
   "source": [
    "len(issues)"
   ]
  },
  {
   "cell_type": "code",
   "execution_count": 18,
   "metadata": {},
   "outputs": [
    {
     "data": {
      "text/plain": [
       "6662"
      ]
     },
     "execution_count": 18,
     "metadata": {},
     "output_type": "execute_result"
    }
   ],
   "source": [
    "len(solutions)"
   ]
  },
  {
   "cell_type": "code",
   "execution_count": 10,
   "metadata": {},
   "outputs": [
    {
     "data": {
      "text/plain": [
       "['[<-CODE->]',\n",
       " 'laco0416:  [<-ISSUE->]',\n",
       " \"there isn't a.just()in Rx5  [<-LINK->] note that that's different to reactive-extensions/rxjs Observable.of(1) is the same thing\",\n",
       " \"Shouldn'tDynamicComponentLoader#loadIntoLocationactually add it into the location specified? It's adding it after the<div #child></div> [<-LINK->]\",\n",
       " 'Will there be a material stuff for angular 2?',\n",
       " 'Has anyone run into a situation where ng2 instantiates a component despite it appearing not to match the specified selector?',\n",
       " 'Who hereplans on writing all their angular 2 apps in pure ES6 instead of typescript ?',\n",
       " 'Do you want the same item in all components?',\n",
       " 'has anyone read this article  [<-LINK->]',\n",
       " \"Hey guys, I'm trying to set a property in my component after it's been loaded. But everywhere I try to do it messes with change detection any tips? Here's a gist with the code, if anyone can have a quick look: [<-LINK->]\"]"
      ]
     },
     "execution_count": 10,
     "metadata": {},
     "output_type": "execute_result"
    }
   ],
   "source": [
    "issues[:10]"
   ]
  },
  {
   "cell_type": "code",
   "execution_count": 21,
   "metadata": {},
   "outputs": [],
   "source": [
    "df = pd.DataFrame()\n",
    "df[\"issue\"] = issues\n",
    "df[\"solution\"] = solutions"
   ]
  },
  {
   "cell_type": "code",
   "execution_count": 22,
   "metadata": {},
   "outputs": [
    {
     "data": {
      "text/html": [
       "<div>\n",
       "<style scoped>\n",
       "    .dataframe tbody tr th:only-of-type {\n",
       "        vertical-align: middle;\n",
       "    }\n",
       "\n",
       "    .dataframe tbody tr th {\n",
       "        vertical-align: top;\n",
       "    }\n",
       "\n",
       "    .dataframe thead th {\n",
       "        text-align: right;\n",
       "    }\n",
       "</style>\n",
       "<table border=\"1\" class=\"dataframe\">\n",
       "  <thead>\n",
       "    <tr style=\"text-align: right;\">\n",
       "      <th></th>\n",
       "      <th>issue</th>\n",
       "      <th>solution</th>\n",
       "    </tr>\n",
       "  </thead>\n",
       "  <tbody>\n",
       "    <tr>\n",
       "      <th>0</th>\n",
       "      <td>[&lt;-CODE-&gt;]</td>\n",
       "      <td>I keep an eye on this channel from time to tim...</td>\n",
       "    </tr>\n",
       "    <tr>\n",
       "      <th>1</th>\n",
       "      <td>laco0416:  [&lt;-ISSUE-&gt;]</td>\n",
       "      <td>ericmartinezr: check out my hacked together cl...</td>\n",
       "    </tr>\n",
       "    <tr>\n",
       "      <th>2</th>\n",
       "      <td>there isn't a.just()in Rx5  [&lt;-LINK-&gt;] note th...</td>\n",
       "      <td>Check out this [&lt;-LINK-&gt;]. This is the documen...</td>\n",
       "    </tr>\n",
       "    <tr>\n",
       "      <th>3</th>\n",
       "      <td>Shouldn'tDynamicComponentLoader#loadIntoLocati...</td>\n",
       "      <td>gionkunz: so how could i add it inside the div...</td>\n",
       "    </tr>\n",
       "    <tr>\n",
       "      <th>4</th>\n",
       "      <td>Will there be a material stuff for angular 2?</td>\n",
       "      <td>Currently I am using [&lt;-LINK-&gt;] . I wonder if ...</td>\n",
       "    </tr>\n",
       "  </tbody>\n",
       "</table>\n",
       "</div>"
      ],
      "text/plain": [
       "                                               issue  \\\n",
       "0                                         [<-CODE->]   \n",
       "1                             laco0416:  [<-ISSUE->]   \n",
       "2  there isn't a.just()in Rx5  [<-LINK->] note th...   \n",
       "3  Shouldn'tDynamicComponentLoader#loadIntoLocati...   \n",
       "4      Will there be a material stuff for angular 2?   \n",
       "\n",
       "                                            solution  \n",
       "0  I keep an eye on this channel from time to tim...  \n",
       "1  ericmartinezr: check out my hacked together cl...  \n",
       "2  Check out this [<-LINK->]. This is the documen...  \n",
       "3  gionkunz: so how could i add it inside the div...  \n",
       "4  Currently I am using [<-LINK->] . I wonder if ...  "
      ]
     },
     "execution_count": 22,
     "metadata": {},
     "output_type": "execute_result"
    }
   ],
   "source": [
    "df.head()"
   ]
  },
  {
   "cell_type": "code",
   "execution_count": 23,
   "metadata": {},
   "outputs": [],
   "source": [
    "df.to_csv('../../Analysis/'+channel2+'/'+channel2+'_ispy.csv', index=False)"
   ]
  },
  {
   "cell_type": "code",
   "execution_count": null,
   "metadata": {},
   "outputs": [],
   "source": []
  }
 ],
 "metadata": {
  "kernelspec": {
   "display_name": "Python 3",
   "language": "python",
   "name": "python3"
  },
  "language_info": {
   "codemirror_mode": {
    "name": "ipython",
    "version": 3
   },
   "file_extension": ".py",
   "mimetype": "text/x-python",
   "name": "python",
   "nbconvert_exporter": "python",
   "pygments_lexer": "ipython3",
   "version": "3.8.5"
  }
 },
 "nbformat": 4,
 "nbformat_minor": 2
}
