{
 "cells": [
  {
   "cell_type": "code",
   "execution_count": 1,
   "metadata": {
    "collapsed": true
   },
   "outputs": [],
   "source": [
    "import pandas as pd\n",
    "import numpy as py"
   ]
  },
  {
   "cell_type": "code",
   "execution_count": 2,
   "metadata": {
    "collapsed": true
   },
   "outputs": [],
   "source": [
    "channel1 = \"ScikitLearn\"\n",
    "channel2 = \"Angular\"\n",
    "GitHub_folder = \"../GitHubProfile/\"\n",
    "Gitter_folder = \"../Gitter_Channels/\""
   ]
  },
  {
   "cell_type": "code",
   "execution_count": 4,
   "metadata": {
    "collapsed": true
   },
   "outputs": [],
   "source": [
    "with open(Gitter_folder+channel2+'/angular_ispair.txt', 'r') as fp:\n",
    "    all_ispy = fp.readlines()"
   ]
  },
  {
   "cell_type": "code",
   "execution_count": 31,
   "metadata": {},
   "outputs": [
    {
     "data": {
      "text/plain": [
       "19986"
      ]
     },
     "execution_count": 31,
     "metadata": {},
     "output_type": "execute_result"
    }
   ],
   "source": [
    "len(all_ispy)"
   ]
  },
  {
   "cell_type": "code",
   "execution_count": 37,
   "metadata": {},
   "outputs": [
    {
     "data": {
      "text/plain": [
       "'solution: \\n'"
      ]
     },
     "execution_count": 37,
     "metadata": {},
     "output_type": "execute_result"
    }
   ],
   "source": []
  },
  {
   "cell_type": "code",
   "execution_count": 47,
   "metadata": {},
   "outputs": [],
   "source": [
    "issues = []\n",
    "solutions = []\n",
    "no_solution = 0\n",
    "\n",
    "for count,line in enumerate(all_ispy):\n",
    "    if count % 3 == 0:\n",
    "        issues.append(line[6:].strip())\n",
    "    \n",
    "    elif count % 3 == 1:\n",
    "        if line[9:].strip() == '':\n",
    "            no_solution += 1\n",
    "        solutions.append(line[9:].strip())"
   ]
  },
  {
   "cell_type": "code",
   "execution_count": 48,
   "metadata": {},
   "outputs": [
    {
     "data": {
      "text/plain": [
       "2028"
      ]
     },
     "execution_count": 48,
     "metadata": {},
     "output_type": "execute_result"
    }
   ],
   "source": [
    "no_solution"
   ]
  },
  {
   "cell_type": "code",
   "execution_count": 44,
   "metadata": {},
   "outputs": [
    {
     "data": {
      "text/plain": [
       "6662"
      ]
     },
     "execution_count": 44,
     "metadata": {},
     "output_type": "execute_result"
    }
   ],
   "source": [
    "len(issues)"
   ]
  },
  {
   "cell_type": "code",
   "execution_count": 45,
   "metadata": {},
   "outputs": [
    {
     "data": {
      "text/plain": [
       "6662"
      ]
     },
     "execution_count": 45,
     "metadata": {},
     "output_type": "execute_result"
    }
   ],
   "source": [
    "len(solutions)"
   ]
  },
  {
   "cell_type": "code",
   "execution_count": 30,
   "metadata": {},
   "outputs": [
    {
     "data": {
      "text/plain": [
       "['[<-CODE->]',\n",
       " 'laco0416:  [<-ISSUE->]',\n",
       " \"there isn't a.just()in Rx5  [<-LINK->] note that that's different to reactive-extensions/rxjs Observable.of(1) is the same thing\",\n",
       " \"Shouldn'tDynamicComponentLoader#loadIntoLocationactually add it into the location specified? It's adding it after the<div #child></div> [<-LINK->]\",\n",
       " 'Will there be a material stuff for angular 2?',\n",
       " 'Has anyone run into a situation where ng2 instantiates a component despite it appearing not to match the specified selector?',\n",
       " 'Who hereplans on writing all their angular 2 apps in pure ES6 instead of typescript ?',\n",
       " 'Do you want the same item in all components?',\n",
       " 'has anyone read this article  [<-LINK->]',\n",
       " \"Hey guys, I'm trying to set a property in my component after it's been loaded. But everywhere I try to do it messes with change detection any tips? Here's a gist with the code, if anyone can have a quick look: [<-LINK->]\"]"
      ]
     },
     "execution_count": 30,
     "metadata": {},
     "output_type": "execute_result"
    }
   ],
   "source": [
    "issues[:10]"
   ]
  },
  {
   "cell_type": "code",
   "execution_count": 42,
   "metadata": {},
   "outputs": [
    {
     "data": {
      "text/plain": [
       "''"
      ]
     },
     "execution_count": 42,
     "metadata": {},
     "output_type": "execute_result"
    }
   ],
   "source": []
  },
  {
   "cell_type": "code",
   "execution_count": null,
   "metadata": {
    "collapsed": true
   },
   "outputs": [],
   "source": []
  }
 ],
 "metadata": {
  "kernelspec": {
   "display_name": "Python 3",
   "language": "python",
   "name": "python3"
  },
  "language_info": {
   "codemirror_mode": {
    "name": "ipython",
    "version": 3
   },
   "file_extension": ".py",
   "mimetype": "text/x-python",
   "name": "python",
   "nbconvert_exporter": "python",
   "pygments_lexer": "ipython3",
   "version": "3.6.1"
  }
 },
 "nbformat": 4,
 "nbformat_minor": 2
}
