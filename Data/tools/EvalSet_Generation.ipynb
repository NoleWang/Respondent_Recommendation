{
 "cells": [
  {
   "cell_type": "code",
   "execution_count": null,
   "metadata": {},
   "outputs": [],
   "source": [
    "with open(\"../StackExchange/final_data/selected_id.txt\", 'r') as f:\n",
    "    all_ids = f.readlines()\n",
    "\n",
    "data_selectedId = sorted([int(tid.replace(\"\\n\",\"\")) for tid in all_ids])\n",
    "print(len(data_selectedId))"
   ]
  },
  {
   "cell_type": "code",
   "execution_count": null,
   "metadata": {},
   "outputs": [],
   "source": [
    "df = pd.read_csv(\"../StackExchange/final_data/stackexchange.csv\")"
   ]
  },
  {
   "cell_type": "code",
   "execution_count": null,
   "metadata": {},
   "outputs": [],
   "source": [
    "df_tag_dict = pd.read_csv(\"../StackExchange/final_data/tag_dict.csv\")\n",
    "tag_list = list(df_tag_dict[\"Tag\"].values)\n",
    "print(len(tag_list))"
   ]
  },
  {
   "cell_type": "code",
   "execution_count": null,
   "metadata": {},
   "outputs": [],
   "source": [
    "eval_selectedId = {i for i in range(len(df))}\n",
    "print(len(eval_selectedId))\n",
    "eval_selectedId = eval_selectedId.difference(data_selectedId)\n",
    "print(len(eval_selectedId))"
   ]
  },
  {
   "cell_type": "code",
   "execution_count": null,
   "metadata": {},
   "outputs": [],
   "source": [
    "df_select = df.iloc[[eid for eid in eval_selectedId]]"
   ]
  },
  {
   "cell_type": "code",
   "execution_count": null,
   "metadata": {},
   "outputs": [],
   "source": [
    "df_tag = pd.read_csv(\"../StackExchange/final_data/tag_dict.csv\")\n",
    "print(len(df_tag))\n",
    "df_tag[\"Corrected\"] = df_tag['Corrected'].fillna(-1)\n",
    "df_tag = df_tag[df_tag[\"Corrected\"] != -1]\n",
    "tag_corrected = {k:v for k,v in zip(df_tag[\"Tag\"],df_tag[\"Corrected\"])}"
   ]
  },
  {
   "cell_type": "code",
   "execution_count": null,
   "metadata": {},
   "outputs": [],
   "source": [
    "data_per_tag_limit = 6\n",
    "tag_dict = {}\n",
    "eval_set = []\n",
    "eval_true_tag = []\n",
    "\n",
    "for body,title,tag_string in zip(df_select[\"Body\"],df_select[\"Title\"],df_select[\"Tags\"]):\n",
    "    input_string = title+\" \"+body\n",
    "    \n",
    "    tag_string = tag_string.replace(\"<\",\"\")\n",
    "    tag_string = tag_string.replace(\">\",\" \")\n",
    "    overlimit = True\n",
    "    skip = False\n",
    "    tag_output = \"\"\n",
    "    \n",
    "    for tag in tag_string.strip().split(\" \"):\n",
    "        if tag in tag_list:\n",
    "            if tag in tag_corrected.keys() and tag_corrected[tag] != \"no\":\n",
    "                tag = tag_corrected[tag]\n",
    "            \n",
    "            tag_output += tag.strip() + \" \"\n",
    "            tag_dict[tag] = tag_dict.setdefault(tag, 0) + 1\n",
    "                \n",
    "            if tag_dict[tag] < data_per_tag_limit:\n",
    "                overlimit = False\n",
    "        else:\n",
    "            skip = True\n",
    "            break\n",
    "            \n",
    "    if skip:\n",
    "        continue\n",
    "    \n",
    "    if overlimit:\n",
    "        continue\n",
    "    else:\n",
    "        eval_set.append(input_string.strip())\n",
    "        eval_true_tag.append(tag_output.strip())"
   ]
  },
  {
   "cell_type": "code",
   "execution_count": null,
   "metadata": {},
   "outputs": [],
   "source": [
    "print(len(eval_set),len(eval_true_tag))"
   ]
  },
  {
   "cell_type": "code",
   "execution_count": null,
   "metadata": {},
   "outputs": [],
   "source": [
    "eval_set[:5]"
   ]
  },
  {
   "cell_type": "code",
   "execution_count": null,
   "metadata": {},
   "outputs": [],
   "source": [
    "eval_true_tag[:5]"
   ]
  },
  {
   "cell_type": "code",
   "execution_count": null,
   "metadata": {},
   "outputs": [],
   "source": [
    "df_test = pd.DataFrame()\n",
    "df_test[\"Input\"] = eval_set\n",
    "df_test[\"Tag_True\"] = eval_true_tag\n",
    "\n",
    "df_test.to_csv(\"../StackExchange/final_data/testing/eval_\"+str(len(eval_set))+\".csv\",index = None)\n",
    "df_test.head()"
   ]
  }
 ],
 "metadata": {
  "kernelspec": {
   "display_name": "Python 3",
   "language": "python",
   "name": "python3"
  },
  "language_info": {
   "codemirror_mode": {
    "name": "ipython",
    "version": 3
   },
   "file_extension": ".py",
   "mimetype": "text/x-python",
   "name": "python",
   "nbconvert_exporter": "python",
   "pygments_lexer": "ipython3",
   "version": "3.8.5"
  }
 },
 "nbformat": 4,
 "nbformat_minor": 4
}
