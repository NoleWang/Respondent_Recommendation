{
 "cells": [
  {
   "cell_type": "code",
   "execution_count": 1,
   "metadata": {},
   "outputs": [
    {
     "name": "stderr",
     "output_type": "stream",
     "text": [
      "[nltk_data] Downloading package punkt to\n",
      "[nltk_data]     C:\\Users\\wangs\\AppData\\Roaming\\nltk_data...\n",
      "[nltk_data]   Package punkt is already up-to-date!\n",
      "[nltk_data] Downloading package averaged_perceptron_tagger to\n",
      "[nltk_data]     C:\\Users\\wangs\\AppData\\Roaming\\nltk_data...\n",
      "[nltk_data]   Package averaged_perceptron_tagger is already up-to-\n",
      "[nltk_data]       date!\n"
     ]
    }
   ],
   "source": [
    "import pandas as pd\n",
    "import numpy as py\n",
    "from preprocess_helper import PorterStemmer\n",
    "import os\n",
    "import re\n",
    "from bs4 import BeautifulSoup\n",
    "from string import punctuation\n",
    "import nltk\n",
    "nltk.download('punkt')\n",
    "nltk.download('averaged_perceptron_tagger')\n",
    "from nltk.tokenize import word_tokenize,sent_tokenize\n",
    "from nltk.corpus import stopwords\n"
   ]
  },
  {
   "cell_type": "markdown",
   "metadata": {},
   "source": [
    "## Import dataset"
   ]
  },
  {
   "cell_type": "code",
   "execution_count": 84,
   "metadata": {},
   "outputs": [
    {
     "name": "stdout",
     "output_type": "stream",
     "text": [
      "2247623 files\n"
     ]
    }
   ],
   "source": [
    "htmlFilterred = []\n",
    "path = \"../StackExchange/final_data/rawdata/\"\n",
    "\n",
    "allfiles = os.listdir(path)\n",
    "print(len(allfiles),\"files\")"
   ]
  },
  {
   "cell_type": "code",
   "execution_count": 14,
   "metadata": {},
   "outputs": [
    {
     "name": "stdout",
     "output_type": "stream",
     "text": [
      "588644\n"
     ]
    }
   ],
   "source": [
    "with open(\"../StackExchange/final_data/selected_id.txt\", 'r') as f:\n",
    "    all_ids = f.readlines()\n",
    "\n",
    "data_selectedId = sorted([int(tid.replace(\"\\n\",\"\")) for tid in all_ids])\n",
    "print(len(data_selectedId))"
   ]
  },
  {
   "cell_type": "code",
   "execution_count": 86,
   "metadata": {},
   "outputs": [
    {
     "name": "stdout",
     "output_type": "stream",
     "text": [
      "144552 is missing!\n",
      "180636 is missing!\n",
      "365328 is missing!\n",
      "460582 is missing!\n",
      "495266 is missing!\n",
      "857720 is missing!\n",
      "875208 is missing!\n",
      "967918 is missing!\n",
      "1035619 is missing!\n",
      "1186719 is missing!\n"
     ]
    }
   ],
   "source": [
    "questions = []\n",
    "id_missing = []\n",
    "for filename in data_selectedId:\n",
    "    text = \"\"\n",
    "    #retreive qa_text\n",
    "    try:\n",
    "        with open(path+str(filename+1), 'r', encoding=\"utf-8\") as f:\n",
    "            for line in f.readlines():\n",
    "                line = line.replace(\"\\n\",\"\")\n",
    "                line = line.strip()\n",
    "                if line == \"\":\n",
    "                    continue\n",
    "\n",
    "                text += line+\" \"\n",
    "    \n",
    "        questions.append(text.strip())\n",
    "    except:\n",
    "        id_missing.append(filename)\n",
    "        print(str(filename+1),\"is missing!\")"
   ]
  },
  {
   "cell_type": "code",
   "execution_count": 87,
   "metadata": {},
   "outputs": [
    {
     "data": {
      "text/plain": [
       "588634"
      ]
     },
     "execution_count": 87,
     "metadata": {},
     "output_type": "execute_result"
    }
   ],
   "source": [
    "len(questions)"
   ]
  },
  {
   "cell_type": "code",
   "execution_count": 124,
   "metadata": {},
   "outputs": [
    {
     "data": {
      "text/plain": [
       "['What is the difference between Intel and PPC? <p>What is the hardware and software differences between Intel and PPC Macs?</p>',\n",
       " 'Turn on Back To My Mac via a Script or Command Line <p>The VPN software I use for work (<a href=\"http://www.lobotomo.com/products/IPSecuritas/\">IPSecuritas</a>) requires me to turn off Back To My Mac to start it\\'s connection, so I frequently turn off Back To My Mac in order to use my VPN connection (the program does this for me). I forget to turn it back on however and I\\'d love to know if there was something I could run (script, command) to turn it back on.</p>',\n",
       " \"Why doesn't Microsoft Office/2008(& later) support RTL languages? <p>I have Microsoft Office/2008 on my MacBook Pro. Office doesn't support RTL languages like Farsi and Arabic, and I know that Office/2010 (for Windows) also has the same problem.</p> <p>Do you think the lack of support is because of business competition, or some other reason?</p>\",\n",
       " \"Repair Disk - Start up disk options <p>I had a power failure and upon rebooting noticed that the OS drive needed to be repaired (Disk Utilities). I am running Snow Leopard and don't have the CD to start up from in order to perform the fix.</p> <p>Are there any other options for running the repair utils on the startup disk?</p>\",\n",
       " \"How do I disable or get rid of the startup sound my Mac makes? <p>Everytime I turn on my Macbook Pro it makes a start up noise. This is annoying since there is no volume or ability to turn it off. I just don't want the sound to play at all.</p> <p>How do I disable this startup sound?</p>\",\n",
       " 'Is there a configurable \"word-of-the-day\"-screensaver/ -widget <p>I am looking for a \"word-of-the-day\" screensaver or dashboard widget where I can configure (e.g. in a text file) that \"words\" to be displayed?</p>',\n",
       " \"Strange loading screen when MBP battery dies and reboots <p>I have a 2007 Macbook Pro and for nearly two years, the battery has been toast. In April, Apple replaced the logic board. Since the repair, whenever the power cable comes loose, the MBP shuts off as expected. </p> <p>Before the repair, when the power cable was unplugged, the MBP simply shut off. Now, when I plug it back in and turn it on, it boots back up in the previous state, but has a white screen with loading bars at the bottom.</p> <p>I haven't found anything related to this on the web. Is this related to the new logic board, or is there something else I should be concerned about? The MBP is running Leopard and is up to date.</p>\",\n",
       " \"Faster alternative to ShakesPeer? <p>I've used ShakesPeer for it's clean and Mac-like interface. But the downloads are really slow. Is there a faster alternative to ShakesPeer?</p> <p>Preferably having at least the same features as ShakesPeer itself if not more. Also preferable if the software follows the Apple Human Interface Guidelines.</p>\",\n",
       " \"Is Apple's warranty international? <p>I'm about to travel to the US, where iPods / AirPods / iPhone are much cheaper than in my country. </p> <p>I wonder if Apple's warranty is international, and/or what warranty coverage exists when I return to my country.</p> <p>Where can I understand what Apple Warranty covers in the US when products leave the US?</p>\",\n",
       " \"How do I recover the administrator or root password on OS X? <p>I received a hand me down white MacBook with 10.4 on it and it automatically logs into a user account that isn't able to change much in the preference pane. How do I recover or change the administrator password?</p> <p>The original owner told me to try a few passwords, none of which work to get logged in as admin.</p>\"]"
      ]
     },
     "execution_count": 124,
     "metadata": {},
     "output_type": "execute_result"
    }
   ],
   "source": [
    "questions[:10]"
   ]
  },
  {
   "cell_type": "code",
   "execution_count": 2,
   "metadata": {},
   "outputs": [],
   "source": [
    "df = pd.read_csv(\"../StackExchange/final_data/stackexchange_filtered.csv\")\n",
    "questions = list(df[\"Question\"].values)"
   ]
  },
  {
   "cell_type": "code",
   "execution_count": 3,
   "metadata": {},
   "outputs": [
    {
     "data": {
      "text/plain": [
       "['What is the difference between Intel and PPC? <p>What is the hardware and software differences between Intel and PPC Macs?</p>',\n",
       " 'Turn on Back To My Mac via a Script or Command Line <p>The VPN software I use for work (<a href=\"http://www.lobotomo.com/products/IPSecuritas/\">IPSecuritas</a>) requires me to turn off Back To My Mac to start it\\'s connection, so I frequently turn off Back To My Mac in order to use my VPN connection (the program does this for me). I forget to turn it back on however and I\\'d love to know if there was something I could run (script, command) to turn it back on.</p>',\n",
       " \"Why doesn't Microsoft Office/2008(& later) support RTL languages? <p>I have Microsoft Office/2008 on my MacBook Pro. Office doesn't support RTL languages like Farsi and Arabic, and I know that Office/2010 (for Windows) also has the same problem.</p> <p>Do you think the lack of support is because of business competition, or some other reason?</p>\",\n",
       " \"Repair Disk - Start up disk options <p>I had a power failure and upon rebooting noticed that the OS drive needed to be repaired (Disk Utilities). I am running Snow Leopard and don't have the CD to start up from in order to perform the fix.</p> <p>Are there any other options for running the repair utils on the startup disk?</p>\",\n",
       " \"How do I disable or get rid of the startup sound my Mac makes? <p>Everytime I turn on my Macbook Pro it makes a start up noise. This is annoying since there is no volume or ability to turn it off. I just don't want the sound to play at all.</p> <p>How do I disable this startup sound?</p>\",\n",
       " 'Is there a configurable \"word-of-the-day\"-screensaver/ -widget <p>I am looking for a \"word-of-the-day\" screensaver or dashboard widget where I can configure (e.g. in a text file) that \"words\" to be displayed?</p>',\n",
       " \"Strange loading screen when MBP battery dies and reboots <p>I have a 2007 Macbook Pro and for nearly two years, the battery has been toast. In April, Apple replaced the logic board. Since the repair, whenever the power cable comes loose, the MBP shuts off as expected. </p> <p>Before the repair, when the power cable was unplugged, the MBP simply shut off. Now, when I plug it back in and turn it on, it boots back up in the previous state, but has a white screen with loading bars at the bottom.</p> <p>I haven't found anything related to this on the web. Is this related to the new logic board, or is there something else I should be concerned about? The MBP is running Leopard and is up to date.</p>\",\n",
       " \"Faster alternative to ShakesPeer? <p>I've used ShakesPeer for it's clean and Mac-like interface. But the downloads are really slow. Is there a faster alternative to ShakesPeer?</p> <p>Preferably having at least the same features as ShakesPeer itself if not more. Also preferable if the software follows the Apple Human Interface Guidelines.</p>\",\n",
       " \"Is Apple's warranty international? <p>I'm about to travel to the US, where iPods / AirPods / iPhone are much cheaper than in my country. </p> <p>I wonder if Apple's warranty is international, and/or what warranty coverage exists when I return to my country.</p> <p>Where can I understand what Apple Warranty covers in the US when products leave the US?</p>\",\n",
       " \"How do I recover the administrator or root password on OS X? <p>I received a hand me down white MacBook with 10.4 on it and it automatically logs into a user account that isn't able to change much in the preference pane. How do I recover or change the administrator password?</p> <p>The original owner told me to try a few passwords, none of which work to get logged in as admin.</p>\"]"
      ]
     },
     "execution_count": 3,
     "metadata": {},
     "output_type": "execute_result"
    }
   ],
   "source": [
    "questions[:10]"
   ]
  },
  {
   "cell_type": "markdown",
   "metadata": {},
   "source": [
    "## Preprocessing"
   ]
  },
  {
   "cell_type": "code",
   "execution_count": 4,
   "metadata": {},
   "outputs": [],
   "source": [
    "class Dataset_Preprocess:\n",
    "    def __init__(self):\n",
    "        self.stopwords_list = None\n",
    "        self.tag_list = None\n",
    "        self.reservedkeywords = None\n",
    "    \n",
    "    def create_reservedkeywords(self, path, num_words = 100):\n",
    "        df = pd.read_csv(path)\n",
    "        df.sort_values(by=['Count'], ascending=False, inplace=True, ignore_index=True)\n",
    "        self.tag_list = list(df[\"Tag\"].values)\n",
    "        reservedkeywords_extra = [\"c#\",\"f#\",\"c++\",\"node.js\",\"nodejs\",\".json\",\".js\",\".net\",\"objective-c\",\n",
    "                                  \"asp.net\",\"ruby-on-rails\",\"angular.js\"]\n",
    "        self.reservedkeywords = list(df[\"Tag\"].values)[:num_words]\n",
    "        self.reservedkeywords.extend(reservedkeywords_extra)\n",
    "        self.reservedkeywords = set(self.reservedkeywords)\n",
    "        #print(self.reservedkeywords)\n",
    "    \n",
    "    def create_stopwords(self):\n",
    "        self.stopwords_list = stopwords.words('english')\n",
    "        stop_words_extra = [\"i'd\",\"sometime\",\"sometimes\",\"something\",\"someone\",\"somebody\",\"anything\",\"anyone\",\"anybody\",\n",
    "                            \"everytime\",\"everything\",\"everyone\",\"everybody\",\"e.g.\",\"e.g\",\"e.g.,\",\"i.e.\",\"i.e\",\"i.e.,\",\"love\",\n",
    "                            \"know\",\"'s\",\"wonder\"]\n",
    "        self.stopwords_list.extend(stop_words_extra)\n",
    "        stopwords_unsure_list = set(self.stopwords_list).intersection(set(self.tag_list))\n",
    "        self.stopwords_list = set(self.stopwords_list).difference(stopwords_unsure_list)\n",
    "        #print(len(self.stopwords_list),\"stopwords\",self.stopwords_list)\n",
    "    \n",
    "    def remove_non_ascii(self,sentence):\n",
    "        return ''.join(char for char in sentence if ord(char) < 128)\n",
    "    \n",
    "    def html_Filter(self, sentence):\n",
    "        sentence = BeautifulSoup(sentence, \"lxml\").text\n",
    "        #print(\"after html_Filter\",sentence)\n",
    "    \n",
    "        return sentence\n",
    "    \n",
    "    def keywords_transform(self, sentence):\n",
    "        sentence = sentence.lower()\n",
    "        sentence = sentence.replace(\"node js\",\"node.js\")\n",
    "        sentence = sentence.replace(\"objective c\",\"objective-c\")\n",
    "        sentence = sentence.replace(\"ruby on rails\",\"ruby-on-rails\")\n",
    "        sentence = sentence.replace(\"angular js\",\"angular-js\")\n",
    "        \n",
    "        return sentence\n",
    "    \n",
    "    def POSTag_Removal(self, sentence, remainPOS = [\"NN\",\"NNP\",\"NNS\",\"NNPS\",\"VB\",\"VBG\",\"VBD\",\"VBN\",\"VBP\",\"VBZ\"]):\n",
    "        sentence_clean = []\n",
    "        \n",
    "        #split text into indiviual sentences for better pos tagging\n",
    "        sentence_list = sent_tokenize(sentence)\n",
    "\n",
    "        for sentence in sentence_list:\n",
    "            text = word_tokenize(sentence)\n",
    "            pos_words = nltk.pos_tag(text)\n",
    "         \n",
    "            for i,pos_word in enumerate(pos_words):\n",
    "                #keep \"c#\" and \"F#\"\n",
    "                word = pos_word[0]\n",
    "                if word == \"c\" or word == \"f\":\n",
    "                    if i+1 <len(pos_words) and pos_words[i+1][0] == \"#\":\n",
    "                        sentence_clean.append(word+\"#\")\n",
    "                    \n",
    "                elif (word in self.reservedkeywords) or (word not in self.stopwords_list and pos_word[1] in remainPOS):\n",
    "                    sentence_clean.append(word)\n",
    "         \n",
    "        #return re.sub(r'\\W+', ' ', ' '.join(sentence_clean))\n",
    "        \n",
    "        #print(\"after POSTag_Removal\",' '.join(sentence_clean))\n",
    "        return ' '.join(sentence_clean)\n",
    "    \n",
    "    def remove_specialchar(self, sentence, char_to_keep = {'#','+','.','-'}):\n",
    "        punct_set = set(punctuation).difference(char_to_keep)\n",
    "\n",
    "        for i in punct_set:\n",
    "            # Replace the special character with an empty string\n",
    "            sentence=sentence.replace(i,\" \")\n",
    "        \n",
    "        return sentence\n",
    "        \n",
    "    def sentence_stem(self, sentence):\n",
    "        p = PorterStemmer()\n",
    "        output = \"\"\n",
    "\n",
    "        for token in sentence.split(' '):\n",
    "            if token.isalnum():\n",
    "                output += p.stem(token, 0,len(token)-1)+' '\n",
    "            elif token in self.reservedkeywords:\n",
    "                output += token+' '\n",
    "        \n",
    "        #print(\"after sentence_stem\", output.strip())\n",
    "        return output.strip()\n",
    "    \n",
    "    def load_dataset(self, path, data_selectedId=None):\n",
    "        # creating cleaned input, output pairs\n",
    "        print(\"Start loading data...\")\n",
    "        allfiles = os.listdir(path)\n",
    "        \n",
    "        if data_selectedId == None:\n",
    "            data_selectedId = [i for i in range(len(allfiles))]\n",
    "        \n",
    "        questions = []\n",
    "        \n",
    "        for filename in data_selectedId:\n",
    "            text = \"\"\n",
    "            #retreive qa_text\n",
    "            try:\n",
    "                with open(path+str(filename+1), 'r', encoding=\"utf-8\") as f:\n",
    "                    for line in f.readlines():\n",
    "                        line = line.replace(\"\\n\",\"\")\n",
    "                        line = line.strip()\n",
    "                        if line == \"\":\n",
    "                            continue\n",
    "\n",
    "                        text += line+\" \"\n",
    "    \n",
    "                questions.append(text.strip())\n",
    "            except:\n",
    "                print(str(filename+1),\"is missing!\")\n",
    "            \n",
    "            print(\"Loaded\",len(questions),)\n",
    "        return questions\n",
    "\n",
    "    def call(self, dataset = None, keywords = None):\n",
    "        data_clean = []\n",
    "        tag_path = \"../StackExchange/final_data/tag_dict.csv\"\n",
    "        \n",
    "        if dataset == None:\n",
    "            file_path = \"../StackExchange/final_data/rawdata/\"\n",
    "            with open(\"../StackExchange/final_data/selected_id.txt\", 'r') as f:\n",
    "                all_ids = f.readlines()\n",
    "\n",
    "            data_selectedId = sorted([int(tid.replace(\"\\n\",\"\")) for tid in all_ids])\n",
    "            \n",
    "            dataset = load_dataset(file_path, data_selectedId)\n",
    "        \n",
    "        #initialize tag_list\n",
    "        if keywords == None:\n",
    "            self.create_reservedkeywords(tag_path)\n",
    "        else:\n",
    "            df = pd.read_csv(tag_path)\n",
    "            self.tag_list = list(df[\"Tag\"].values)\n",
    "            self.reservedkeywords = keywords\n",
    "        \n",
    "        #initialize stopwords\n",
    "        self.create_stopwords()\n",
    "        \n",
    "        for sentence in dataset:\n",
    "            sentence = self.html_Filter(sentence)\n",
    "            sentence = self.remove_non_ascii(sentence)\n",
    "            sentence = self.keywords_transform(sentence)\n",
    "            #sentence = self.POSTag_Removal(sentence)\n",
    "            sentence = self.remove_specialchar(sentence)\n",
    "            sentence = self.sentence_stem(sentence)\n",
    "            \n",
    "            data_clean.append(sentence.strip())\n",
    "        \n",
    "        return data_clean"
   ]
  },
  {
   "cell_type": "code",
   "execution_count": 62,
   "metadata": {},
   "outputs": [
    {
     "data": {
      "text/plain": [
       "['differ intel ppc hardwar softwar differ intel ppc mac',\n",
       " 'turn back mac script command line vpn softwar us work ipsecurita requir turn mac start connect turn mac order us vpn connect program forget turn wa run script command turn',\n",
       " 'microsoft offic 2008 support rtl languag microsoft offic 2008 macbook pro offic support languag farsi arab offic 2010 window problem think lack support busi competit reason',\n",
       " 'repair start disk option power failur reboot notic drive need repair util run leopard cd start order perform fix option run repair util startup disk',\n",
       " 'disabl get startup sound mac make turn macbook make start nois annoi volum abil turn want sound plai disabl startup sound',\n",
       " 'look screensav dashboard widget configur text file word displai',\n",
       " 'load screen mbp batteri di reboot macbook year batteri toast april appl replac board repair power cabl come mbp shut expect repair power cabl wa unplug mbp shut plug turn boot state screen load bar bottom found relat web board concern mbp run date',\n",
       " 'shakesp ve us shakesp interfac download shakesp have featur shakesp softwar follow appl interfac guidelin',\n",
       " 'appl warranti m travel ipod airpod iphon countri wonder appl warranti and or warranti coverag exist return countri understand appl warranti cover product leav',\n",
       " 'recov administr root password os x receiv hand macbook log user account chang prefer pane recov chang administr password owner told try password none work get log admin']"
      ]
     },
     "execution_count": 62,
     "metadata": {},
     "output_type": "execute_result"
    }
   ],
   "source": [
    "data_preprocess1 = Dataset_Preprocess()\n",
    "test1 = [\"f#, c#, c9 c++ are the optional languages.\",\"how to use form node js feature in .net platform\",\"is objective c open-source?\"]\n",
    "test2 = questions[:10]\n",
    "data_preprocess1.call(dataset=test2)"
   ]
  },
  {
   "cell_type": "code",
   "execution_count": 5,
   "metadata": {},
   "outputs": [],
   "source": [
    "data_preprocess = Dataset_Preprocess()\n",
    "dataset_clean = data_preprocess.call(dataset=questions)"
   ]
  },
  {
   "cell_type": "code",
   "execution_count": 6,
   "metadata": {},
   "outputs": [
    {
     "data": {
      "text/plain": [
       "588634"
      ]
     },
     "execution_count": 6,
     "metadata": {},
     "output_type": "execute_result"
    }
   ],
   "source": [
    "len(dataset_clean)"
   ]
  },
  {
   "cell_type": "code",
   "execution_count": 7,
   "metadata": {},
   "outputs": [
    {
     "data": {
      "text/plain": [
       "['why doe super inherit the wrong class i am look at the diamond problem and got a question class a def init self print thi is class a class b a def init self print thi is class b super init class c a def init self print thi is class c super init class d b c def init self print thi is class d super init i d thi is class d thi is class b thi is class c thi is class a it work as intend and that s nice but i would like to know why the super init in class b doesn t go to class a and instead c is if a class ha a super and it inherit from a parent class it should go if i remov it on b the code won t get to c nor i know of the mro and how it is actual go as expect mro class main class main class main class main class object but i don t know it s veri weird than the implement of thi code ha the same mro yet a is print twice class a def init self print thi is class a class b a def init self print thi is class b init self class c a def init self print thi is class c init self class d b c def init self print thi is class d init self init self i d class main class main class main class main class object here is the opposit i know the mro is correct but it s weird the actual execut doesn t go that wai thi is class d thi is class b thi is class a thi is class c thi is class a i would like to know what is the logic behind super when ask thi around the web pretti much everyon link me to thi http 2011 05 26 but i realli don t get it hi explan seem wai too technic and hi exampl the few on i understood far more complex than thei should be to explain the is why i would like super ha to follow the mro even if the inherit on the parent class would suggest otherwis super is unabl to go to the parent class of a parent class and therefor if there is a super in a parent class it will go instead to the second inherit class also kind of unrel but how common is to see the diamond problem in a real workplac enviro seem like a veri convolut wai to',\n",
       " 'filter telemetri from devic with multipl user in azur iot central suppos that i have a devic with multipl user 1 will start a session with the devic send some telemetri data over a period of time and eventu end their next user 2 will start a session and also send some telemetri data from the same in iot central i am interest in gener telemetri analyt group by user not by is it possibl to send a user id string onc at the start of everi session to indic to azur that the follow telemetri data is for that user what is the best wai to implement thi',\n",
       " 'dens rank skip null valu partit by multipl i have a tabl that look like below date user product 11 15 2019 123 null 11 21 2019 123 a 11 21 2019 123 a 11 23 2019 123 b i want to run a dens rank function that will skip the null below is what i current have case when product is not null then dens rank over partit by user order by date asc els 1 end dens rank output my current output date user product dens rank output 11 15 2019 123 null 1 11 21 2019 123 a 2 11 21 2019 123 a 2 11 23 2019 123 b 3 my desir output is date user product desir output 11 15 2019 123 null 1 11 21 2019 123 a 1 11 21 2019 123 a 1 11 23 2019 123 b 2',\n",
       " 'how do you schedul gcp ai platform notebook via googl cloud compos i ve been task with autom the schedul of some notebook that ar run daili that ar on ai platform notebook via the papermil oper but actual do thi through cloud compos is give me some ani help is appreci',\n",
       " 'anypoint cli user unauthor to access request resourc i am try to deploi updat a mule applic to cloudhub with the anypoint run thi command deploi 1 env sandbox get an error that state user unauthor to access to resourc what resourc the runtim manag i have the cloudhub admin sandbox role which should have all the permiss for the runtim is there anoth role i need',\n",
       " 'parcel don t support default android navig deeplink argument dure the implement of the pass paramet solut in navig between modul i came across a serial deeplink as far as i know accept custom argument type which ar parcel or im us newest version of navig error messag parcel don t support default am i do someth wrong or thi is still under develop here is short exampl fragment android id samplefrag android name android label samplefrag argument android name arg app argtyp deeplink app uri app app sampl navig samplefrag arg arg fragment parcel keep data class samplearg val text string navarg parcel val x samplearg test val uri app app sampl navig samplefrag arg x uri i found someth similar here android parcel don t support default valu app crash it s my first post on stack so pleas be gentl edit here is answer http issu 148523779',\n",
       " 'how to invers a dft with magnitud with opencv python i m new to all of thi i would like to get a magnitud spectrum from an imag and then rebuild the imag from a modifi magnitud but for now i am get a veri dark import numpi as np import cv2 from matplotlib import pyplot as plt img 0 dft img flag complex output dft shift dft m a dft shift 0 dft shift 1 do somth with m x y m a back x y f ishift back img back f ishift img back img back 0 img back 1 131 img cmap grai input imag 132 m cmap grai magnitud spectrum 133 img back cmap grai result the result can you gui help me figur out why is thi so thank in advanc edit i try to normalis the imag but it s not i m still have a veri dark import numpi as np import cv2 from matplotlib import pyplot as plt img 0 dft img flag complex output dft shift dft m a dft shift 0 dft shift 1 modifi m then us the modifi m to reconstruct x y m a back x y f ishift back img back f ishift flag scale img back img back 0 img back 1 min max img 0 1 img 0 1 print min max to min max img back 0 1 img back 0 1 print min max img back img back none alpha 0 beta 252 norm type minmax dtype 8u min max img back 0 1 img back 0 1 print min max 131 img cmap grai input imag 132 m cmap grai magnitud spectrum 133 img back cmap grai result 0 output 0 252 0 252 i would like to modifi the magnitud spectrum and us the modifi version to reconstruct the',\n",
       " 'copywebpackplugin isn t copi static file to output directori my file show as be emit but thei ar not actual be copi to dist excerpt of compil log version webpack time 1824m built at 01 29 2020 3 51 51 pm asset size chunk chunk name 116 kib 0 emit main css 76 byte emit imag uplink logo 651 kib emit big css 708 kib emit big kib emit and my webpack config plugin look like thi plugin new copywebpackplugin from imag to dirnam dist loglevel trace from css to dirnam dist loglevel trace new htmlwebpackplugin templat src i tri chang the order of copywebpackplugin htmlwebpackplugin to no did you do ani other thing to solv thi other than just chang the version vue webpack updat imag full project structur',\n",
       " 'read each line from a text file word by word and convert to int infinit loop or crash i m try to read in thi text file 8 4 4 6 1 8 4 4 6 2 8 4 4 6 3 8 4 4 6 4 8 4 4 6 5 8 4 4 6 6 8 4 4 6 7 8 4 4 6 8 11 4 4 6 3 15 11 13 7 2 1 4 4 9 4 3 9 9 8 2 1 5 4 10 1 2 3 4 6 1 6 1 1 2 5 3 2 13 1 1 2 10 3 8 11 2 11 10 7 and print it exactli as shown to the consol to make sure i got everi input howev for some reason my code crash after read in the first i can t even termin the here s my code while getlin infil buffer buffer2 strdup str line strtok buffer2 size atoi line cout size while line null line strtok null cout line cout endl',\n",
       " 'find the best slice in a panda datafram without loop i m work on a project where i import a file and transform it to a panda datafram for further thi file contain locat and time data from workout from for exampl strava endomondo runkeep and so i alreadi calcul statist such as total distanc time and speed but then i also want to find the fastest or best time for specif distanc within the so for a 16 kilomet workout i want to calcul my fastest 5k 10k and so on within these i wrote someth that work but it involv loop over the sinc loop over a datafram is someth that i m suppos to avoid i feel like there should be a more effici the datafram look someth like thi distanc di 3d time delta 0 1 2 3 4 thi code work for find the fastest 5000 meter df select distanc cumsum df select distanc di 3d df select time cumsum df select time delta df output column time distanc minut per kilomet for i in rang len df df xk df select df select distanc cumsum df select distanc cumsum i 5000 if len df 0 time df xk time cumsum 0 df select time cumsum i distanc df xk distanc cumsum 0 df select distanc cumsum i minut per kilomet time 60 distanc 1000 df output df time time distanc distanc minut per kilomet minut per kilomet ignor index true best 5k df df output minut per kilomet print time 5k floor best 5k time 60 min floor best 5k time 60 i know i should us vector or but i can t figur out how to do thi so ani help is much appreci thank a testfil can be download here http 2rsvn dos1tptvd']"
      ]
     },
     "execution_count": 7,
     "metadata": {},
     "output_type": "execute_result"
    }
   ],
   "source": [
    "dataset_clean[500000:500010]"
   ]
  },
  {
   "cell_type": "markdown",
   "metadata": {},
   "source": [
    "## (Question, target set) generation"
   ]
  },
  {
   "cell_type": "code",
   "execution_count": 10,
   "metadata": {},
   "outputs": [
    {
     "name": "stderr",
     "output_type": "stream",
     "text": [
      "C:\\Users\\wangs\\anaconda3\\lib\\site-packages\\IPython\\core\\interactiveshell.py:3146: DtypeWarning: Columns (17,22) have mixed types.Specify dtype option on import or set low_memory=False.\n",
      "  has_raised = await self.run_ast_nodes(code_ast.body, cell_name,\n"
     ]
    }
   ],
   "source": [
    "df = pd.read_csv(\"../StackExchange/final_data/stackexchange.csv\")"
   ]
  },
  {
   "cell_type": "code",
   "execution_count": 11,
   "metadata": {},
   "outputs": [],
   "source": [
    "id_missing = [144551,180635,365327,460581,495265,857719,875207,967917,1035618,1186718]"
   ]
  },
  {
   "cell_type": "code",
   "execution_count": 15,
   "metadata": {},
   "outputs": [
    {
     "data": {
      "text/plain": [
       "588644"
      ]
     },
     "execution_count": 15,
     "metadata": {},
     "output_type": "execute_result"
    }
   ],
   "source": [
    "len(data_selectedId)"
   ]
  },
  {
   "cell_type": "code",
   "execution_count": 16,
   "metadata": {},
   "outputs": [],
   "source": [
    "data_selectedId = set(data_selectedId).difference(set(id_missing))"
   ]
  },
  {
   "cell_type": "code",
   "execution_count": 17,
   "metadata": {},
   "outputs": [
    {
     "data": {
      "text/plain": [
       "588634"
      ]
     },
     "execution_count": 17,
     "metadata": {},
     "output_type": "execute_result"
    }
   ],
   "source": [
    "len(data_selectedId)"
   ]
  },
  {
   "cell_type": "code",
   "execution_count": 18,
   "metadata": {},
   "outputs": [],
   "source": [
    "body_missing = [df.iloc[sid][\"Body\"] for sid in id_missing]"
   ]
  },
  {
   "cell_type": "code",
   "execution_count": 19,
   "metadata": {},
   "outputs": [],
   "source": [
    "tag_missing = [df.iloc[sid][\"Tags\"] for sid in id_missing]"
   ]
  },
  {
   "cell_type": "code",
   "execution_count": 20,
   "metadata": {},
   "outputs": [],
   "source": [
    "tag_selected = [df.iloc[sid][\"Tags\"] for sid in sorted(list(data_selectedId))]"
   ]
  },
  {
   "cell_type": "code",
   "execution_count": 21,
   "metadata": {},
   "outputs": [
    {
     "data": {
      "text/plain": [
       "588634"
      ]
     },
     "execution_count": 21,
     "metadata": {},
     "output_type": "execute_result"
    }
   ],
   "source": [
    "len(tag_selected)"
   ]
  },
  {
   "cell_type": "code",
   "execution_count": 82,
   "metadata": {},
   "outputs": [],
   "source": [
    "df_filter = pd.DataFrame()\n",
    "df_filter[\"Question\"] = questions\n",
    "df_filter[\"Q_preprocessed\"] = dataset_clean\n",
    "df_filter[\"Tags\"] = tag_selected"
   ]
  },
  {
   "cell_type": "code",
   "execution_count": 83,
   "metadata": {},
   "outputs": [
    {
     "data": {
      "text/html": [
       "<div>\n",
       "<style scoped>\n",
       "    .dataframe tbody tr th:only-of-type {\n",
       "        vertical-align: middle;\n",
       "    }\n",
       "\n",
       "    .dataframe tbody tr th {\n",
       "        vertical-align: top;\n",
       "    }\n",
       "\n",
       "    .dataframe thead th {\n",
       "        text-align: right;\n",
       "    }\n",
       "</style>\n",
       "<table border=\"1\" class=\"dataframe\">\n",
       "  <thead>\n",
       "    <tr style=\"text-align: right;\">\n",
       "      <th></th>\n",
       "      <th>Question</th>\n",
       "      <th>Q_preprocessed</th>\n",
       "      <th>Tags</th>\n",
       "    </tr>\n",
       "  </thead>\n",
       "  <tbody>\n",
       "    <tr>\n",
       "      <th>0</th>\n",
       "      <td>What is the difference between Intel and PPC? ...</td>\n",
       "      <td>differ intel ppc hardwar softwar differ intel ...</td>\n",
       "      <td>&lt;hardware&gt;&lt;mac&gt;&lt;powerpc&gt;&lt;macos&gt;</td>\n",
       "    </tr>\n",
       "    <tr>\n",
       "      <th>1</th>\n",
       "      <td>Turn on Back To My Mac via a Script or Command...</td>\n",
       "      <td>turn back mac script command line vpn softwar ...</td>\n",
       "      <td>&lt;macos&gt;&lt;mobileme&gt;&lt;terminal&gt;&lt;back-to-my-mac&gt;&lt;sc...</td>\n",
       "    </tr>\n",
       "    <tr>\n",
       "      <th>2</th>\n",
       "      <td>Why doesn't Microsoft Office/2008(&amp; later) sup...</td>\n",
       "      <td>microsoft offic 2008 support rtl languag micro...</td>\n",
       "      <td>&lt;software&gt;&lt;ms-office&gt;</td>\n",
       "    </tr>\n",
       "    <tr>\n",
       "      <th>3</th>\n",
       "      <td>Repair Disk - Start up disk options &lt;p&gt;I had a...</td>\n",
       "      <td>repair start disk option power failur reboot n...</td>\n",
       "      <td>&lt;macos&gt;&lt;snow-leopard&gt;</td>\n",
       "    </tr>\n",
       "    <tr>\n",
       "      <th>4</th>\n",
       "      <td>How do I disable or get rid of the startup sou...</td>\n",
       "      <td>disabl get startup sound mac make turn macbook...</td>\n",
       "      <td>&lt;mac&gt;&lt;audio&gt;&lt;startup&gt;</td>\n",
       "    </tr>\n",
       "  </tbody>\n",
       "</table>\n",
       "</div>"
      ],
      "text/plain": [
       "                                            Question  \\\n",
       "0  What is the difference between Intel and PPC? ...   \n",
       "1  Turn on Back To My Mac via a Script or Command...   \n",
       "2  Why doesn't Microsoft Office/2008(& later) sup...   \n",
       "3  Repair Disk - Start up disk options <p>I had a...   \n",
       "4  How do I disable or get rid of the startup sou...   \n",
       "\n",
       "                                      Q_preprocessed  \\\n",
       "0  differ intel ppc hardwar softwar differ intel ...   \n",
       "1  turn back mac script command line vpn softwar ...   \n",
       "2  microsoft offic 2008 support rtl languag micro...   \n",
       "3  repair start disk option power failur reboot n...   \n",
       "4  disabl get startup sound mac make turn macbook...   \n",
       "\n",
       "                                                Tags  \n",
       "0                    <hardware><mac><powerpc><macos>  \n",
       "1  <macos><mobileme><terminal><back-to-my-mac><sc...  \n",
       "2                              <software><ms-office>  \n",
       "3                              <macos><snow-leopard>  \n",
       "4                              <mac><audio><startup>  "
      ]
     },
     "execution_count": 83,
     "metadata": {},
     "output_type": "execute_result"
    }
   ],
   "source": [
    "df_filter.to_csv(\"../StackExchange/final_data/stackexchange_filtered.csv\",index = None)\n",
    "df_filter.head()"
   ]
  },
  {
   "cell_type": "code",
   "execution_count": 8,
   "metadata": {},
   "outputs": [
    {
     "name": "stdout",
     "output_type": "stream",
     "text": [
      "28143\n"
     ]
    }
   ],
   "source": [
    "df_tag = pd.read_csv(\"../StackExchange/final_data/tag_dict.csv\")\n",
    "print(len(df_tag))\n",
    "df_tag[\"Corrected\"] = df_tag['Corrected'].fillna(-1)\n",
    "df_tag = df_tag[df_tag[\"Corrected\"] != -1]"
   ]
  },
  {
   "cell_type": "code",
   "execution_count": 9,
   "metadata": {},
   "outputs": [],
   "source": [
    "tag_corrected = {k:v for k,v in zip(df_tag[\"Tag\"],df_tag[\"Corrected\"])}"
   ]
  },
  {
   "cell_type": "code",
   "execution_count": 22,
   "metadata": {},
   "outputs": [],
   "source": [
    "pairs = []\n",
    "for text,tag_string in zip(dataset_clean,tag_selected):\n",
    "    text = '<start> '+text+' <end>'\n",
    "    \n",
    "    tag_str = \"\"\n",
    "    #retreive tag set\n",
    "    tag_string = tag_string.replace(\"<\",\"\")\n",
    "    tag_string = tag_string.replace(\">\",\" \")\n",
    "    \n",
    "    for tag in tag_string.split(\" \"):\n",
    "        if tag in tag_corrected.keys() and tag_corrected[tag] != \"no\":\n",
    "            tag = tag_corrected[tag]\n",
    "        tag_str += tag.strip() + \" \"\n",
    "    \n",
    "    tag_str = '<start> '+tag_str.strip().lower()+' <end>'\n",
    "    \n",
    "    final_str = text + \"\\t\" + tag_str\n",
    "    \n",
    "    pairs.append(final_str)"
   ]
  },
  {
   "cell_type": "code",
   "execution_count": 23,
   "metadata": {},
   "outputs": [
    {
     "data": {
      "text/plain": [
       "588634"
      ]
     },
     "execution_count": 23,
     "metadata": {},
     "output_type": "execute_result"
    }
   ],
   "source": [
    "len(pairs)"
   ]
  },
  {
   "cell_type": "code",
   "execution_count": 24,
   "metadata": {},
   "outputs": [
    {
     "data": {
      "text/plain": [
       "['<start> what is the differ between intel and ppc what is the hardwar and softwar differ between intel and ppc mac <end>\\t<start> hardware mac powerpc macos <end>',\n",
       " '<start> turn on back to my mac via a script or command line the vpn softwar i us for work ipsecurita requir me to turn off back to my mac to start it s connect so i frequent turn off back to my mac in order to us my vpn connect the program doe thi for me i forget to turn it back on howev and i d love to know if there wa someth i could run script command to turn it back <end>\\t<start> macos mobileme terminal back-to-my-mac script <end>',\n",
       " '<start> why doesn t microsoft offic 2008 later support rtl languag i have microsoft offic 2008 on my macbook offic doesn t support rtl languag like farsi and arab and i know that offic 2010 for window also ha the same do you think the lack of support is becaus of busi competit or some other reason <end>\\t<start> software microsoft-office <end>',\n",
       " '<start> repair disk start up disk option i had a power failur and upon reboot notic that the os drive need to be repair disk util i am run snow leopard and don t have the cd to start up from in order to perform the ar there ani other option for run the repair util on the startup disk <end>\\t<start> macos snow-leopard <end>',\n",
       " '<start> how do i disabl or get rid of the startup sound my mac make everytim i turn on my macbook pro it make a start up thi is annoi sinc there is no volum or abil to turn it i just don t want the sound to plai at how do i disabl thi startup sound <end>\\t<start> mac audio startup <end>',\n",
       " '<start> is there a configur i am look for a screensav or dashboard widget where i can configur in a text file that word to be displai <end>\\t<start> software-recommendation dashboard-widget screensaver <end>',\n",
       " '<start> strang load screen when mbp batteri di and reboot i have a 2007 macbook pro and for nearli two year the batteri ha been in april appl replac the logic sinc the repair whenev the power cabl come loos the mbp shut off as befor the repair when the power cabl wa unplug the mbp simpli shut now when i plug it back in and turn it on it boot back up in the previou state but ha a white screen with load bar at the i haven t found anyth relat to thi on the is thi relat to the new logic board or is there someth els i should be concern about the mbp is run leopard and is up to <end>\\t<start> macbook-pro battery <end>',\n",
       " '<start> faster altern to shakesp i ve us shakesp for it s clean and but the download ar realli is there a faster altern to shakesp prefer have at least the same featur as shakesp itself if not also prefer if the softwar follow the appl human interfac <end>\\t<start> software-recommendation <end>',\n",
       " '<start> is appl s warranti intern i m about to travel to the us where ipod airpod iphon ar much cheaper than in my i wonder if appl s warranti is intern and or what warranti coverag exist when i return to my where can i understand what appl warranti cover in the us when product leav the us <end>\\t<start> iphone apple-store warranty applecare <end>',\n",
       " '<start> how do i recov the administr or root password on os x i receiv a hand me down white macbook with on it and it automat log into a user account that isn t abl to chang much in the prefer how do i recov or chang the administr password the origin owner told me to try a few password none of which work to get log in as <end>\\t<start> macos user-accounts <end>']"
      ]
     },
     "execution_count": 24,
     "metadata": {},
     "output_type": "execute_result"
    }
   ],
   "source": [
    "pairs[:10]"
   ]
  },
  {
   "cell_type": "code",
   "execution_count": 25,
   "metadata": {},
   "outputs": [],
   "source": [
    "with open(\"../StackExchange/final_data/training/pairs_full.txt\", 'w', encoding=\"utf-8\") as f:\n",
    "    for line in pairs:\n",
    "        f.write(line)\n",
    "        f.write(\"\\n\")"
   ]
  },
  {
   "cell_type": "code",
   "execution_count": null,
   "metadata": {},
   "outputs": [],
   "source": []
  },
  {
   "cell_type": "markdown",
   "metadata": {},
   "source": [
    "## Validation set generation"
   ]
  },
  {
   "cell_type": "markdown",
   "metadata": {},
   "source": [
    "### Stackoverflow"
   ]
  },
  {
   "cell_type": "code",
   "execution_count": 4,
   "metadata": {},
   "outputs": [],
   "source": [
    "df_val = pd.read_csv(\"../StackExchange/final_data/testing/eval_108489.csv\")"
   ]
  },
  {
   "cell_type": "code",
   "execution_count": 5,
   "metadata": {},
   "outputs": [
    {
     "data": {
      "text/html": [
       "<div>\n",
       "<style scoped>\n",
       "    .dataframe tbody tr th:only-of-type {\n",
       "        vertical-align: middle;\n",
       "    }\n",
       "\n",
       "    .dataframe tbody tr th {\n",
       "        vertical-align: top;\n",
       "    }\n",
       "\n",
       "    .dataframe thead th {\n",
       "        text-align: right;\n",
       "    }\n",
       "</style>\n",
       "<table border=\"1\" class=\"dataframe\">\n",
       "  <thead>\n",
       "    <tr style=\"text-align: right;\">\n",
       "      <th></th>\n",
       "      <th>Input</th>\n",
       "      <th>Tag_True</th>\n",
       "    </tr>\n",
       "  </thead>\n",
       "  <tbody>\n",
       "    <tr>\n",
       "      <th>0</th>\n",
       "      <td>iPhone App for Displaying Email on a Locked Sc...</td>\n",
       "      <td>iphone software-recommendation</td>\n",
       "    </tr>\n",
       "    <tr>\n",
       "      <th>1</th>\n",
       "      <td>How can I tell when it's a good time to buy a ...</td>\n",
       "      <td>macbook-pro</td>\n",
       "    </tr>\n",
       "    <tr>\n",
       "      <th>2</th>\n",
       "      <td>Password keeper for iPhone, Mac and Windows? &lt;...</td>\n",
       "      <td>iphone software-recommendation</td>\n",
       "    </tr>\n",
       "    <tr>\n",
       "      <th>3</th>\n",
       "      <td>Good Newsgroup Client for OS X &lt;p&gt;I've just sw...</td>\n",
       "      <td>macos software-recommendation snow-leopard</td>\n",
       "    </tr>\n",
       "    <tr>\n",
       "      <th>4</th>\n",
       "      <td>is there a slipcase for 17\" MacBook Pros which...</td>\n",
       "      <td>macbook-pro</td>\n",
       "    </tr>\n",
       "  </tbody>\n",
       "</table>\n",
       "</div>"
      ],
      "text/plain": [
       "                                               Input  \\\n",
       "0  iPhone App for Displaying Email on a Locked Sc...   \n",
       "1  How can I tell when it's a good time to buy a ...   \n",
       "2  Password keeper for iPhone, Mac and Windows? <...   \n",
       "3  Good Newsgroup Client for OS X <p>I've just sw...   \n",
       "4  is there a slipcase for 17\" MacBook Pros which...   \n",
       "\n",
       "                                     Tag_True  \n",
       "0              iphone software-recommendation  \n",
       "1                                 macbook-pro  \n",
       "2              iphone software-recommendation  \n",
       "3  macos software-recommendation snow-leopard  \n",
       "4                                 macbook-pro  "
      ]
     },
     "execution_count": 5,
     "metadata": {},
     "output_type": "execute_result"
    }
   ],
   "source": [
    "df_val.head()"
   ]
  },
  {
   "cell_type": "code",
   "execution_count": 6,
   "metadata": {},
   "outputs": [],
   "source": [
    "data_preprocess = Dataset_Preprocess()\n",
    "val_clean = data_preprocess.call(dataset=list(df_val[\"Input\"].values))"
   ]
  },
  {
   "cell_type": "code",
   "execution_count": 7,
   "metadata": {},
   "outputs": [
    {
     "data": {
      "text/plain": [
       "['iphon app displai email screen exchang support app mail notifi send notif phone get email support exchang app support exchang app notif reoccur cost',\n",
       " 'tell time bui macbook want date instanc date go bui macbook pro wait month model come figur comput bui becom',\n",
       " 'password keeper iphon mac window solut sync access encrypt password mac pc iphon',\n",
       " 'newsgroup client x ve switch os x struggl find us reader suggest',\n",
       " 'slipcas macbook pro open side carri mbp pannier fit portrait orient like protect slipcas want take slipcas pannier get laptop slipcas market open side',\n",
       " 'applic iphon read bar code need read bar code us iphon applic read qrcode m look read pdf417',\n",
       " 'output video tv us macbook model',\n",
       " 'screen login lock system close clam make us clumsi close clam mode oper close macbook bring work plug keyboard monitor time time thing proce follow unlock box appear monitor enter password system unlock go screen mous cursor look unlock environ cours miss unlock dialog box ve seen system displai dialog box system wa displai go lock wiggl mous result desktop reappear unlock password box appear disappear idea',\n",
       " 'wai deal system crash freez wai deal system crash system freez keyboard shortcut work bought macbookpro switch linux linux possibl shutdown x window system log consol commun kernel exampl remount disk reboot system',\n",
       " 'repair mac book pro duo ghz power m attempt reviv core duo mac book purchas laptop power wa told attempt power give sign life lite work power cord plug drive spin power button press chime light power button light fan hold power button second drive drive spind hit power turn pleas give suggest get system boot attempt fix ve reseat ram connect m replac compon updat reset system control brought fan onlin']"
      ]
     },
     "execution_count": 7,
     "metadata": {},
     "output_type": "execute_result"
    }
   ],
   "source": [
    "val_clean[:10]"
   ]
  },
  {
   "cell_type": "code",
   "execution_count": 8,
   "metadata": {},
   "outputs": [],
   "source": [
    "df_val[\"processed_new\"] = val_clean\n",
    "df_val.to_csv(\"../../Model/evaluation/validation_stack.csv\",index = None)"
   ]
  },
  {
   "cell_type": "markdown",
   "metadata": {},
   "source": [
    "### Livechat"
   ]
  },
  {
   "cell_type": "code",
   "execution_count": 91,
   "metadata": {},
   "outputs": [],
   "source": [
    "df_val = pd.read_csv(\"../../Model/evaluation/validation_Angular_result.csv\")"
   ]
  },
  {
   "cell_type": "code",
   "execution_count": 92,
   "metadata": {},
   "outputs": [],
   "source": [
    "data_preprocess = Dataset_Preprocess()\n",
    "val_clean = data_preprocess.call(dataset=list(df_val[\"Issue\"].values))"
   ]
  },
  {
   "cell_type": "code",
   "execution_count": 94,
   "metadata": {},
   "outputs": [
    {
     "data": {
      "text/plain": [
       "['dart depend inject issu',\n",
       " 'ok flutter dart ionic part',\n",
       " 'question googl creat languag dart us tighter js',\n",
       " 'hello us router load compon pass properti bind workaround',\n",
       " 'wai pass input compon insert',\n",
       " 'project version angular version rxj project method figur',\n",
       " 'see get http respons see get http respons',\n",
       " 'hi afternoon get json field respons throw error code',\n",
       " 'get respons need',\n",
       " 'hi benefit respons data subscrib request']"
      ]
     },
     "execution_count": 94,
     "metadata": {},
     "output_type": "execute_result"
    }
   ],
   "source": [
    "val_clean[:10]"
   ]
  },
  {
   "cell_type": "code",
   "execution_count": 95,
   "metadata": {},
   "outputs": [],
   "source": [
    "df_val[\"processed_new\"] = val_clean"
   ]
  },
  {
   "cell_type": "code",
   "execution_count": 97,
   "metadata": {},
   "outputs": [],
   "source": [
    "df_val.to_csv(\"../../Model/evaluation/validation_Angular_new.csv\",index = None)"
   ]
  },
  {
   "cell_type": "code",
   "execution_count": null,
   "metadata": {},
   "outputs": [],
   "source": []
  }
 ],
 "metadata": {
  "kernelspec": {
   "display_name": "Python 3",
   "language": "python",
   "name": "python3"
  },
  "language_info": {
   "codemirror_mode": {
    "name": "ipython",
    "version": 3
   },
   "file_extension": ".py",
   "mimetype": "text/x-python",
   "name": "python",
   "nbconvert_exporter": "python",
   "pygments_lexer": "ipython3",
   "version": "3.8.5"
  }
 },
 "nbformat": 4,
 "nbformat_minor": 4
}
