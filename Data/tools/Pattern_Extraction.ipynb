{
 "cells": [
  {
   "cell_type": "code",
   "execution_count": 1,
   "id": "b05fcf1b",
   "metadata": {},
   "outputs": [],
   "source": [
    "import pandas as pd\n",
    "from random import sample"
   ]
  },
  {
   "cell_type": "markdown",
   "id": "3ca7b5af",
   "metadata": {},
   "source": [
    "## Pattern Frequency Collection"
   ]
  },
  {
   "cell_type": "code",
   "execution_count": 2,
   "id": "c3d9ef3b",
   "metadata": {},
   "outputs": [],
   "source": [
    "def pattern_matrix(df, col):\n",
    "    pattern_code = set()\n",
    "    for pattern_str in df[col]:\n",
    "        if pattern_str == 0:\n",
    "            continue\n",
    "        patterns = pattern_str.split(\",\")\n",
    "        for pattern in patterns:\n",
    "            if len(pattern) != 0:\n",
    "                pattern_code.add(pattern.strip())\n",
    "                \n",
    "    pattern_list = []\n",
    "    for i in range(len(df)):\n",
    "        pattern_str = df.loc[i][col]\n",
    "        pattern_val = dict.fromkeys(pattern_code,0)\n",
    "        if pattern_str != 0:\n",
    "            patterns = pattern_str.split(\",\")\n",
    "            for pattern in patterns:\n",
    "                if len(pattern) != 0:\n",
    "                    pattern_val[pattern.strip()] += 1\n",
    "    \n",
    "        pattern_list.append(pattern_val)\n",
    "    \n",
    "    \n",
    "    return pattern_code,pd.DataFrame.from_dict(pattern_list)"
   ]
  },
  {
   "cell_type": "code",
   "execution_count": 3,
   "id": "2e138db8",
   "metadata": {},
   "outputs": [],
   "source": [
    "def pattern_matrix_testing(pattern_code, df, col):            \n",
    "    pattern_list = []\n",
    "    for i in range(len(df)):\n",
    "        pattern_str = df.loc[i][col]\n",
    "        pattern_val = dict.fromkeys(pattern_code,0)\n",
    "        if pattern_str != 0:\n",
    "            patterns = pattern_str.split(\",\")\n",
    "            for pattern in patterns:\n",
    "                if len(pattern) != 0 and pattern != '0' and pattern in pattern_code:\n",
    "                    pattern_val[pattern.strip()] += 1\n",
    "    \n",
    "        pattern_list.append(pattern_val)\n",
    "    \n",
    "    \n",
    "    return pd.DataFrame.from_dict(pattern_list)"
   ]
  },
  {
   "cell_type": "code",
   "execution_count": 4,
   "id": "68d4062c",
   "metadata": {},
   "outputs": [],
   "source": [
    "def pattern_freq(df, col1, col2, pattern_dict, flag = 0):\n",
    "\n",
    "    for i in range(len(df)):\n",
    "        pattern_str = df.loc[i][col1]\n",
    "        if pattern_str == 0:\n",
    "            continue\n",
    "        patterns = pattern_str.split(\",\")\n",
    "        for pattern in patterns:\n",
    "            if len(pattern) != 0 and df.loc[i][col2] == flag:\n",
    "                pattern_dict[pattern.strip()] += 1\n",
    "       \n",
    "    return pattern_dict"
   ]
  },
  {
   "cell_type": "code",
   "execution_count": 5,
   "id": "6c99624c",
   "metadata": {},
   "outputs": [],
   "source": [
    "def pattern_summary(df, col, pattern_code):\n",
    "    index_list = []\n",
    "    pattern_dict = dict.fromkeys(pattern_code,None)\n",
    "    \n",
    "    for i,pattern_str in enumerate(df[col]):\n",
    "        #print(pattern_dict)\n",
    "        if pattern_str == 0:\n",
    "            continue\n",
    "        #print(pattern_str)\n",
    "\n",
    "        patterns = pattern_str.split(\",\")\n",
    "        for pattern in patterns:\n",
    "            if len(pattern) != 0:\n",
    "                if pattern_dict[pattern] == None:\n",
    "                    pattern_dict[pattern] = [i]\n",
    "                else:\n",
    "                    pattern_dict[pattern].append(i)\n",
    "    \n",
    "    return pattern_dict"
   ]
  },
  {
   "cell_type": "code",
   "execution_count": 6,
   "id": "14b48a62",
   "metadata": {},
   "outputs": [],
   "source": [
    "def add_random_pattern(pattern_set,pattern_code):\n",
    "    pattern_list = [pattern for pattern in pattern_set]\n",
    "    new_pattern = list(set(pattern_code).difference(set(pattern_set)))\n",
    "    pattern_list.append(sample(new_pattern,1)[0])\n",
    "    \n",
    "    return pattern_list"
   ]
  },
  {
   "cell_type": "code",
   "execution_count": 7,
   "id": "c00a851b",
   "metadata": {},
   "outputs": [],
   "source": [
    "def random_pattern_subset(pattern_set, num_pattern):\n",
    "    return sample(pattern_set,num_pattern)"
   ]
  },
  {
   "cell_type": "code",
   "execution_count": 8,
   "id": "fe5601fb",
   "metadata": {},
   "outputs": [],
   "source": [
    "def assign_example(pattern_dict, selected_pattern, df):\n",
    "    sample_dict = {}\n",
    "    for pattern in selected_pattern:\n",
    "        rand_ind = sample(pattern_dict[pattern],1)[0]\n",
    "        issue = df.loc[rand_ind][\"issue\"]\n",
    "        sample_dict[pattern] = issue\n",
    "        \n",
    "        print(pattern,\": \",issue)\n",
    "    \n",
    "    return sample_dict"
   ]
  },
  {
   "cell_type": "markdown",
   "id": "508d295e",
   "metadata": {},
   "source": [
    "### Pattern Discovery Set"
   ]
  },
  {
   "cell_type": "code",
   "execution_count": 11,
   "id": "6e8543e1",
   "metadata": {},
   "outputs": [],
   "source": [
    "df = pd.read_csv(\"../chat_pattern/chat_annotation_1000_pos.csv\")"
   ]
  },
  {
   "cell_type": "code",
   "execution_count": 12,
   "id": "72185fab",
   "metadata": {},
   "outputs": [
    {
     "data": {
      "text/html": [
       "<div>\n",
       "<style scoped>\n",
       "    .dataframe tbody tr th:only-of-type {\n",
       "        vertical-align: middle;\n",
       "    }\n",
       "\n",
       "    .dataframe tbody tr th {\n",
       "        vertical-align: top;\n",
       "    }\n",
       "\n",
       "    .dataframe thead th {\n",
       "        text-align: right;\n",
       "    }\n",
       "</style>\n",
       "<table border=\"1\" class=\"dataframe\">\n",
       "  <thead>\n",
       "    <tr style=\"text-align: right;\">\n",
       "      <th></th>\n",
       "      <th>Id</th>\n",
       "      <th>source</th>\n",
       "      <th>issue</th>\n",
       "      <th>POS</th>\n",
       "      <th>ETD_sent</th>\n",
       "      <th>Pattern for ETD</th>\n",
       "      <th>predicted_ETD</th>\n",
       "      <th>Comment_ETD</th>\n",
       "      <th>y_ETD</th>\n",
       "      <th>y'_ETD</th>\n",
       "      <th>accuracy_ETD</th>\n",
       "      <th>PS_sent</th>\n",
       "      <th>Pattern for PS</th>\n",
       "      <th>predicted_PS</th>\n",
       "      <th>Comment_PS</th>\n",
       "      <th>y_PS</th>\n",
       "      <th>y'_PS</th>\n",
       "      <th>accuracy_PS</th>\n",
       "      <th>TS_sent</th>\n",
       "    </tr>\n",
       "  </thead>\n",
       "  <tbody>\n",
       "    <tr>\n",
       "      <th>0</th>\n",
       "      <td>7</td>\n",
       "      <td>angular</td>\n",
       "      <td>Hey guys, I'm trying to set a property in my c...</td>\n",
       "      <td>Hey-UH guys-NNS , I-PRP 'm-VBP trying-VBG to-T...</td>\n",
       "      <td>T1: I'm trying to set a property in my compone...</td>\n",
       "      <td>ETD_TRYING_TO</td>\n",
       "      <td>ETD_TRYING_TO,</td>\n",
       "      <td>NaN</td>\n",
       "      <td>1</td>\n",
       "      <td>1</td>\n",
       "      <td>1</td>\n",
       "      <td>But everywhere I try to do it messes with chan...</td>\n",
       "      <td>PS_PROBLEM</td>\n",
       "      <td>PS_PROBLEM,</td>\n",
       "      <td>NaN</td>\n",
       "      <td>1</td>\n",
       "      <td>1</td>\n",
       "      <td>1</td>\n",
       "      <td>NaN</td>\n",
       "    </tr>\n",
       "    <tr>\n",
       "      <th>1</th>\n",
       "      <td>14</td>\n",
       "      <td>angular</td>\n",
       "      <td>Hi, I'm following tutorials from angular.io an...</td>\n",
       "      <td>Hi-UH , I-PRP 'm-VBP following-VBG tutorials-N...</td>\n",
       "      <td>Can I configure building anyhow that I don't h...</td>\n",
       "      <td>ETD_CAN_QUESTION</td>\n",
       "      <td>ETD_CAN_QUESTION,</td>\n",
       "      <td>NaN</td>\n",
       "      <td>1</td>\n",
       "      <td>1</td>\n",
       "      <td>1</td>\n",
       "      <td>T1: When I move it somewhere else I have probl...</td>\n",
       "      <td>PS_PROBLEM</td>\n",
       "      <td>PS_NEG_ADV_ADJ,PS_NEG_AUX_VERB,PS_VERB_ERROR,P...</td>\n",
       "      <td>NaN</td>\n",
       "      <td>1</td>\n",
       "      <td>1</td>\n",
       "      <td>1</td>\n",
       "      <td>NaN</td>\n",
       "    </tr>\n",
       "    <tr>\n",
       "      <th>2</th>\n",
       "      <td>21</td>\n",
       "      <td>angular</td>\n",
       "      <td>Trying to come up with a generic pattern valid...</td>\n",
       "      <td>Trying-VBG to-TO come-VB up-RP with-IN a-DT ge...</td>\n",
       "      <td>T1: Trying to come up with a generic pattern v...</td>\n",
       "      <td>ETD_TRYING_TO</td>\n",
       "      <td>ETD_INSTEAD_OF_EXP_BEHAVIOR,ETD_TRYING_TO,</td>\n",
       "      <td>NaN</td>\n",
       "      <td>1</td>\n",
       "      <td>1</td>\n",
       "      <td>1</td>\n",
       "      <td>T2: but running into an issue of only getting ...</td>\n",
       "      <td>PS_PROBLEM</td>\n",
       "      <td>PS_PROBLEM,PS_NO_NOUN,PS_ONLY,</td>\n",
       "      <td>NaN</td>\n",
       "      <td>1</td>\n",
       "      <td>1</td>\n",
       "      <td>1</td>\n",
       "      <td>NaN</td>\n",
       "    </tr>\n",
       "    <tr>\n",
       "      <th>3</th>\n",
       "      <td>34</td>\n",
       "      <td>angular</td>\n",
       "      <td>I'm sure this has been asked plenty before but...</td>\n",
       "      <td>I-PRP 'm-VBP sure-JJ this-DT has-VBZ been-VBN ...</td>\n",
       "      <td>T1: now looking to move to Angular2</td>\n",
       "      <td>ETD_LOOKING_TO</td>\n",
       "      <td>ETD_LOOKING_TO,</td>\n",
       "      <td>NaN</td>\n",
       "      <td>1</td>\n",
       "      <td>1</td>\n",
       "      <td>1</td>\n",
       "      <td>NaN</td>\n",
       "      <td>NaN</td>\n",
       "      <td>0</td>\n",
       "      <td>NaN</td>\n",
       "      <td>0</td>\n",
       "      <td>0</td>\n",
       "      <td>1</td>\n",
       "      <td>NaN</td>\n",
       "    </tr>\n",
       "    <tr>\n",
       "      <th>4</th>\n",
       "      <td>105</td>\n",
       "      <td>angular</td>\n",
       "      <td>Does anyone know why there is anngSubmitEventE...</td>\n",
       "      <td>Does-VBZ anyone-NN know-VB why-WRB there-EX is...</td>\n",
       "      <td>NaN</td>\n",
       "      <td>NaN</td>\n",
       "      <td>ETD_LOOKING_TO,</td>\n",
       "      <td>NaN</td>\n",
       "      <td>0</td>\n",
       "      <td>1</td>\n",
       "      <td>0</td>\n",
       "      <td>T1: But I don't see any reason why there is a ...</td>\n",
       "      <td>PS_NEG_AUX_VERB,PS_ONLY</td>\n",
       "      <td>PS_NEG_AUX_VERB,</td>\n",
       "      <td>NaN</td>\n",
       "      <td>1</td>\n",
       "      <td>1</td>\n",
       "      <td>1</td>\n",
       "      <td>NaN</td>\n",
       "    </tr>\n",
       "    <tr>\n",
       "      <th>...</th>\n",
       "      <td>...</td>\n",
       "      <td>...</td>\n",
       "      <td>...</td>\n",
       "      <td>...</td>\n",
       "      <td>...</td>\n",
       "      <td>...</td>\n",
       "      <td>...</td>\n",
       "      <td>...</td>\n",
       "      <td>...</td>\n",
       "      <td>...</td>\n",
       "      <td>...</td>\n",
       "      <td>...</td>\n",
       "      <td>...</td>\n",
       "      <td>...</td>\n",
       "      <td>...</td>\n",
       "      <td>...</td>\n",
       "      <td>...</td>\n",
       "      <td>...</td>\n",
       "      <td>...</td>\n",
       "    </tr>\n",
       "    <tr>\n",
       "      <th>995</th>\n",
       "      <td>22204</td>\n",
       "      <td>ethereum</td>\n",
       "      <td>Hello, a transaction has given me gas error.Bu...</td>\n",
       "      <td>Hello-UH , a-DT transaction-NN has-VBZ given-V...</td>\n",
       "      <td>NaN</td>\n",
       "      <td>NaN</td>\n",
       "      <td>ETD_CAN_QUESTION,</td>\n",
       "      <td>NaN</td>\n",
       "      <td>0</td>\n",
       "      <td>1</td>\n",
       "      <td>0</td>\n",
       "      <td>a transaction has given me gas error</td>\n",
       "      <td>PS_NEG_AUX_VERB,PS_NEG_ADV_ADJ,</td>\n",
       "      <td>PS_NEG_AUX_VERB,PS_NEG_ADV_ADJ,</td>\n",
       "      <td>NaN</td>\n",
       "      <td>1</td>\n",
       "      <td>1</td>\n",
       "      <td>1</td>\n",
       "      <td>NaN</td>\n",
       "    </tr>\n",
       "    <tr>\n",
       "      <th>996</th>\n",
       "      <td>29720</td>\n",
       "      <td>typescript</td>\n",
       "      <td>Hello  [&lt;-CODE-&gt;] Here I have  [&lt;-CODE-&gt;] Erro...</td>\n",
       "      <td>Hello-UH [--LRB- &lt;-SYM --HYPH CODE-NN --HYPH &gt;...</td>\n",
       "      <td>NaN</td>\n",
       "      <td>NaN</td>\n",
       "      <td>0</td>\n",
       "      <td>NaN</td>\n",
       "      <td>0</td>\n",
       "      <td>0</td>\n",
       "      <td>1</td>\n",
       "      <td>Here I have  [&lt;-CODE-&gt;] Error:(10, 16)</td>\n",
       "      <td>PS_NEG_AUX_ADV_ADJ,PS_PROBLEM,PS_NO_NOUN,PS_VE...</td>\n",
       "      <td>PS_NEG_AUX_ADV_ADJ,PS_PROBLEM,PS_NO_NOUN,PS_VE...</td>\n",
       "      <td>NaN</td>\n",
       "      <td>1</td>\n",
       "      <td>1</td>\n",
       "      <td>1</td>\n",
       "      <td>NaN</td>\n",
       "    </tr>\n",
       "    <tr>\n",
       "      <th>997</th>\n",
       "      <td>6042</td>\n",
       "      <td>appium</td>\n",
       "      <td>org.openqa.selenium.WebDriverException: org.ap...</td>\n",
       "      <td>org.openqa.selenium.WebDriverException-NN : or...</td>\n",
       "      <td>NaN</td>\n",
       "      <td>NaN</td>\n",
       "      <td>0</td>\n",
       "      <td>NaN</td>\n",
       "      <td>0</td>\n",
       "      <td>0</td>\n",
       "      <td>1</td>\n",
       "      <td>failed: Connection refused: connect Getting th...</td>\n",
       "      <td>PS_PROBLEM,PS_NEG_AUX_VERB,PS_NEG_VERB,PS_ERRO...</td>\n",
       "      <td>PS_PROBLEM,PS_NEG_AUX_VERB,PS_NEG_VERB,PS_ERRO...</td>\n",
       "      <td>NaN</td>\n",
       "      <td>1</td>\n",
       "      <td>1</td>\n",
       "      <td>1</td>\n",
       "      <td>NaN</td>\n",
       "    </tr>\n",
       "    <tr>\n",
       "      <th>998</th>\n",
       "      <td>18124</td>\n",
       "      <td>docker</td>\n",
       "      <td>Not sure what this error is about:  Error resp...</td>\n",
       "      <td>Not-RB sure-JJ what-WP this-DT error-NN is-VBZ...</td>\n",
       "      <td>NaN</td>\n",
       "      <td>NaN</td>\n",
       "      <td>ETD_CAN_QUESTION,ETD_FOR_EXAMPLE,</td>\n",
       "      <td>NaN</td>\n",
       "      <td>0</td>\n",
       "      <td>1</td>\n",
       "      <td>0</td>\n",
       "      <td>Error response from daemon: rpc error</td>\n",
       "      <td>PS_VERB_ERROR,PS_ERROR_NOUN_PHRASE,</td>\n",
       "      <td>PS_VERB_ERROR,PS_ERROR_NOUN_PHRASE,</td>\n",
       "      <td>NaN</td>\n",
       "      <td>1</td>\n",
       "      <td>1</td>\n",
       "      <td>1</td>\n",
       "      <td>NaN</td>\n",
       "    </tr>\n",
       "    <tr>\n",
       "      <th>999</th>\n",
       "      <td>22367</td>\n",
       "      <td>ethereum</td>\n",
       "      <td>Hey guys, can somebody explain me what it mean...</td>\n",
       "      <td>Hey-UH guys-NNS , can-MD somebody-NN explain-V...</td>\n",
       "      <td>NaN</td>\n",
       "      <td>NaN</td>\n",
       "      <td>0</td>\n",
       "      <td>NaN</td>\n",
       "      <td>0</td>\n",
       "      <td>0</td>\n",
       "      <td>1</td>\n",
       "      <td>NaN</td>\n",
       "      <td>NaN</td>\n",
       "      <td>PS_NEG_VERB,</td>\n",
       "      <td>NaN</td>\n",
       "      <td>0</td>\n",
       "      <td>1</td>\n",
       "      <td>0</td>\n",
       "      <td>NaN</td>\n",
       "    </tr>\n",
       "  </tbody>\n",
       "</table>\n",
       "<p>1000 rows × 19 columns</p>\n",
       "</div>"
      ],
      "text/plain": [
       "        Id      source                                              issue  \\\n",
       "0        7     angular  Hey guys, I'm trying to set a property in my c...   \n",
       "1       14     angular  Hi, I'm following tutorials from angular.io an...   \n",
       "2       21     angular  Trying to come up with a generic pattern valid...   \n",
       "3       34     angular  I'm sure this has been asked plenty before but...   \n",
       "4      105     angular  Does anyone know why there is anngSubmitEventE...   \n",
       "..     ...         ...                                                ...   \n",
       "995  22204    ethereum  Hello, a transaction has given me gas error.Bu...   \n",
       "996  29720  typescript  Hello  [<-CODE->] Here I have  [<-CODE->] Erro...   \n",
       "997   6042      appium  org.openqa.selenium.WebDriverException: org.ap...   \n",
       "998  18124      docker  Not sure what this error is about:  Error resp...   \n",
       "999  22367    ethereum  Hey guys, can somebody explain me what it mean...   \n",
       "\n",
       "                                                   POS  \\\n",
       "0    Hey-UH guys-NNS , I-PRP 'm-VBP trying-VBG to-T...   \n",
       "1    Hi-UH , I-PRP 'm-VBP following-VBG tutorials-N...   \n",
       "2    Trying-VBG to-TO come-VB up-RP with-IN a-DT ge...   \n",
       "3    I-PRP 'm-VBP sure-JJ this-DT has-VBZ been-VBN ...   \n",
       "4    Does-VBZ anyone-NN know-VB why-WRB there-EX is...   \n",
       "..                                                 ...   \n",
       "995  Hello-UH , a-DT transaction-NN has-VBZ given-V...   \n",
       "996  Hello-UH [--LRB- <-SYM --HYPH CODE-NN --HYPH >...   \n",
       "997  org.openqa.selenium.WebDriverException-NN : or...   \n",
       "998  Not-RB sure-JJ what-WP this-DT error-NN is-VBZ...   \n",
       "999  Hey-UH guys-NNS , can-MD somebody-NN explain-V...   \n",
       "\n",
       "                                              ETD_sent   Pattern for ETD  \\\n",
       "0    T1: I'm trying to set a property in my compone...     ETD_TRYING_TO   \n",
       "1    Can I configure building anyhow that I don't h...  ETD_CAN_QUESTION   \n",
       "2    T1: Trying to come up with a generic pattern v...     ETD_TRYING_TO   \n",
       "3                  T1: now looking to move to Angular2    ETD_LOOKING_TO   \n",
       "4                                                  NaN               NaN   \n",
       "..                                                 ...               ...   \n",
       "995                                                NaN               NaN   \n",
       "996                                                NaN               NaN   \n",
       "997                                                NaN               NaN   \n",
       "998                                                NaN               NaN   \n",
       "999                                                NaN               NaN   \n",
       "\n",
       "                                  predicted_ETD Comment_ETD  y_ETD  y'_ETD  \\\n",
       "0                                ETD_TRYING_TO,         NaN      1       1   \n",
       "1                             ETD_CAN_QUESTION,         NaN      1       1   \n",
       "2    ETD_INSTEAD_OF_EXP_BEHAVIOR,ETD_TRYING_TO,         NaN      1       1   \n",
       "3                               ETD_LOOKING_TO,         NaN      1       1   \n",
       "4                               ETD_LOOKING_TO,         NaN      0       1   \n",
       "..                                          ...         ...    ...     ...   \n",
       "995                           ETD_CAN_QUESTION,         NaN      0       1   \n",
       "996                                           0         NaN      0       0   \n",
       "997                                           0         NaN      0       0   \n",
       "998           ETD_CAN_QUESTION,ETD_FOR_EXAMPLE,         NaN      0       1   \n",
       "999                                           0         NaN      0       0   \n",
       "\n",
       "     accuracy_ETD                                            PS_sent  \\\n",
       "0               1  But everywhere I try to do it messes with chan...   \n",
       "1               1  T1: When I move it somewhere else I have probl...   \n",
       "2               1  T2: but running into an issue of only getting ...   \n",
       "3               1                                                NaN   \n",
       "4               0  T1: But I don't see any reason why there is a ...   \n",
       "..            ...                                                ...   \n",
       "995             0               a transaction has given me gas error   \n",
       "996             1            Here I have  [<-CODE->] Error:(10, 16)    \n",
       "997             1  failed: Connection refused: connect Getting th...   \n",
       "998             0              Error response from daemon: rpc error   \n",
       "999             1                                                NaN   \n",
       "\n",
       "                                        Pattern for PS  \\\n",
       "0                                           PS_PROBLEM   \n",
       "1                                           PS_PROBLEM   \n",
       "2                                           PS_PROBLEM   \n",
       "3                                                  NaN   \n",
       "4                              PS_NEG_AUX_VERB,PS_ONLY   \n",
       "..                                                 ...   \n",
       "995                    PS_NEG_AUX_VERB,PS_NEG_ADV_ADJ,   \n",
       "996  PS_NEG_AUX_ADV_ADJ,PS_PROBLEM,PS_NO_NOUN,PS_VE...   \n",
       "997  PS_PROBLEM,PS_NEG_AUX_VERB,PS_NEG_VERB,PS_ERRO...   \n",
       "998                PS_VERB_ERROR,PS_ERROR_NOUN_PHRASE,   \n",
       "999                                                NaN   \n",
       "\n",
       "                                          predicted_PS  Comment_PS  y_PS  \\\n",
       "0                                          PS_PROBLEM,         NaN     1   \n",
       "1    PS_NEG_ADV_ADJ,PS_NEG_AUX_VERB,PS_VERB_ERROR,P...         NaN     1   \n",
       "2                       PS_PROBLEM,PS_NO_NOUN,PS_ONLY,         NaN     1   \n",
       "3                                                    0         NaN     0   \n",
       "4                                     PS_NEG_AUX_VERB,         NaN     1   \n",
       "..                                                 ...         ...   ...   \n",
       "995                    PS_NEG_AUX_VERB,PS_NEG_ADV_ADJ,         NaN     1   \n",
       "996  PS_NEG_AUX_ADV_ADJ,PS_PROBLEM,PS_NO_NOUN,PS_VE...         NaN     1   \n",
       "997  PS_PROBLEM,PS_NEG_AUX_VERB,PS_NEG_VERB,PS_ERRO...         NaN     1   \n",
       "998                PS_VERB_ERROR,PS_ERROR_NOUN_PHRASE,         NaN     1   \n",
       "999                                       PS_NEG_VERB,         NaN     0   \n",
       "\n",
       "     y'_PS  accuracy_PS TS_sent  \n",
       "0        1            1     NaN  \n",
       "1        1            1     NaN  \n",
       "2        1            1     NaN  \n",
       "3        0            1     NaN  \n",
       "4        1            1     NaN  \n",
       "..     ...          ...     ...  \n",
       "995      1            1     NaN  \n",
       "996      1            1     NaN  \n",
       "997      1            1     NaN  \n",
       "998      1            1     NaN  \n",
       "999      1            0     NaN  \n",
       "\n",
       "[1000 rows x 19 columns]"
      ]
     },
     "execution_count": 12,
     "metadata": {},
     "output_type": "execute_result"
    }
   ],
   "source": [
    "df[\"predicted_ETD\"].fillna(0,inplace=True)\n",
    "df[\"predicted_PS\"].fillna(0,inplace=True)\n",
    "df"
   ]
  },
  {
   "cell_type": "code",
   "execution_count": 13,
   "id": "586bcf91",
   "metadata": {},
   "outputs": [
    {
     "data": {
      "text/html": [
       "<div>\n",
       "<style scoped>\n",
       "    .dataframe tbody tr th:only-of-type {\n",
       "        vertical-align: middle;\n",
       "    }\n",
       "\n",
       "    .dataframe tbody tr th {\n",
       "        vertical-align: top;\n",
       "    }\n",
       "\n",
       "    .dataframe thead th {\n",
       "        text-align: right;\n",
       "    }\n",
       "</style>\n",
       "<table border=\"1\" class=\"dataframe\">\n",
       "  <thead>\n",
       "    <tr style=\"text-align: right;\">\n",
       "      <th></th>\n",
       "      <th>ETD_GOING_TO</th>\n",
       "      <th>ETD_HAVE_TO</th>\n",
       "      <th>ETD_WOULD_RATHER</th>\n",
       "      <th>ETD_PLAN</th>\n",
       "      <th>ETD_CONSIDER_ACTION</th>\n",
       "      <th>ETD_MUST</th>\n",
       "      <th>ETD_BE_POSSIBLE_TO</th>\n",
       "      <th>ETD_GOAL</th>\n",
       "      <th>ETD_MEAN</th>\n",
       "      <th>ETD_REQUIRES</th>\n",
       "      <th>...</th>\n",
       "      <th>ETD_IN_ORDER_FOR</th>\n",
       "      <th>ETD_WORKING_ON</th>\n",
       "      <th>ETD_NORMALLY</th>\n",
       "      <th>ETD_WANT_TO</th>\n",
       "      <th>ETD_BETTER_TO</th>\n",
       "      <th>ETD_ENVISION</th>\n",
       "      <th>ETD_SUPPOSED_TO</th>\n",
       "      <th>ETD_EXPECTED</th>\n",
       "      <th>ETD_FOR_EXAMPLE</th>\n",
       "      <th>ETD_WOULD_BE</th>\n",
       "    </tr>\n",
       "  </thead>\n",
       "  <tbody>\n",
       "    <tr>\n",
       "      <th>0</th>\n",
       "      <td>0</td>\n",
       "      <td>0</td>\n",
       "      <td>0</td>\n",
       "      <td>0</td>\n",
       "      <td>0</td>\n",
       "      <td>0</td>\n",
       "      <td>0</td>\n",
       "      <td>0</td>\n",
       "      <td>0</td>\n",
       "      <td>0</td>\n",
       "      <td>...</td>\n",
       "      <td>0</td>\n",
       "      <td>0</td>\n",
       "      <td>0</td>\n",
       "      <td>0</td>\n",
       "      <td>0</td>\n",
       "      <td>0</td>\n",
       "      <td>0</td>\n",
       "      <td>0</td>\n",
       "      <td>0</td>\n",
       "      <td>0</td>\n",
       "    </tr>\n",
       "    <tr>\n",
       "      <th>1</th>\n",
       "      <td>0</td>\n",
       "      <td>0</td>\n",
       "      <td>0</td>\n",
       "      <td>0</td>\n",
       "      <td>0</td>\n",
       "      <td>0</td>\n",
       "      <td>0</td>\n",
       "      <td>0</td>\n",
       "      <td>0</td>\n",
       "      <td>0</td>\n",
       "      <td>...</td>\n",
       "      <td>0</td>\n",
       "      <td>0</td>\n",
       "      <td>0</td>\n",
       "      <td>0</td>\n",
       "      <td>0</td>\n",
       "      <td>0</td>\n",
       "      <td>0</td>\n",
       "      <td>0</td>\n",
       "      <td>0</td>\n",
       "      <td>0</td>\n",
       "    </tr>\n",
       "    <tr>\n",
       "      <th>2</th>\n",
       "      <td>0</td>\n",
       "      <td>0</td>\n",
       "      <td>0</td>\n",
       "      <td>0</td>\n",
       "      <td>0</td>\n",
       "      <td>0</td>\n",
       "      <td>0</td>\n",
       "      <td>0</td>\n",
       "      <td>0</td>\n",
       "      <td>0</td>\n",
       "      <td>...</td>\n",
       "      <td>0</td>\n",
       "      <td>0</td>\n",
       "      <td>0</td>\n",
       "      <td>0</td>\n",
       "      <td>0</td>\n",
       "      <td>0</td>\n",
       "      <td>0</td>\n",
       "      <td>0</td>\n",
       "      <td>0</td>\n",
       "      <td>0</td>\n",
       "    </tr>\n",
       "    <tr>\n",
       "      <th>3</th>\n",
       "      <td>0</td>\n",
       "      <td>0</td>\n",
       "      <td>0</td>\n",
       "      <td>0</td>\n",
       "      <td>0</td>\n",
       "      <td>0</td>\n",
       "      <td>0</td>\n",
       "      <td>0</td>\n",
       "      <td>0</td>\n",
       "      <td>0</td>\n",
       "      <td>...</td>\n",
       "      <td>0</td>\n",
       "      <td>0</td>\n",
       "      <td>0</td>\n",
       "      <td>0</td>\n",
       "      <td>0</td>\n",
       "      <td>0</td>\n",
       "      <td>0</td>\n",
       "      <td>0</td>\n",
       "      <td>0</td>\n",
       "      <td>0</td>\n",
       "    </tr>\n",
       "    <tr>\n",
       "      <th>4</th>\n",
       "      <td>0</td>\n",
       "      <td>0</td>\n",
       "      <td>0</td>\n",
       "      <td>0</td>\n",
       "      <td>0</td>\n",
       "      <td>0</td>\n",
       "      <td>0</td>\n",
       "      <td>0</td>\n",
       "      <td>0</td>\n",
       "      <td>0</td>\n",
       "      <td>...</td>\n",
       "      <td>0</td>\n",
       "      <td>0</td>\n",
       "      <td>0</td>\n",
       "      <td>0</td>\n",
       "      <td>0</td>\n",
       "      <td>0</td>\n",
       "      <td>0</td>\n",
       "      <td>0</td>\n",
       "      <td>0</td>\n",
       "      <td>0</td>\n",
       "    </tr>\n",
       "    <tr>\n",
       "      <th>...</th>\n",
       "      <td>...</td>\n",
       "      <td>...</td>\n",
       "      <td>...</td>\n",
       "      <td>...</td>\n",
       "      <td>...</td>\n",
       "      <td>...</td>\n",
       "      <td>...</td>\n",
       "      <td>...</td>\n",
       "      <td>...</td>\n",
       "      <td>...</td>\n",
       "      <td>...</td>\n",
       "      <td>...</td>\n",
       "      <td>...</td>\n",
       "      <td>...</td>\n",
       "      <td>...</td>\n",
       "      <td>...</td>\n",
       "      <td>...</td>\n",
       "      <td>...</td>\n",
       "      <td>...</td>\n",
       "      <td>...</td>\n",
       "      <td>...</td>\n",
       "    </tr>\n",
       "    <tr>\n",
       "      <th>995</th>\n",
       "      <td>0</td>\n",
       "      <td>0</td>\n",
       "      <td>0</td>\n",
       "      <td>0</td>\n",
       "      <td>0</td>\n",
       "      <td>0</td>\n",
       "      <td>0</td>\n",
       "      <td>0</td>\n",
       "      <td>0</td>\n",
       "      <td>0</td>\n",
       "      <td>...</td>\n",
       "      <td>0</td>\n",
       "      <td>0</td>\n",
       "      <td>0</td>\n",
       "      <td>0</td>\n",
       "      <td>0</td>\n",
       "      <td>0</td>\n",
       "      <td>0</td>\n",
       "      <td>0</td>\n",
       "      <td>0</td>\n",
       "      <td>0</td>\n",
       "    </tr>\n",
       "    <tr>\n",
       "      <th>996</th>\n",
       "      <td>0</td>\n",
       "      <td>0</td>\n",
       "      <td>0</td>\n",
       "      <td>0</td>\n",
       "      <td>0</td>\n",
       "      <td>0</td>\n",
       "      <td>0</td>\n",
       "      <td>0</td>\n",
       "      <td>0</td>\n",
       "      <td>0</td>\n",
       "      <td>...</td>\n",
       "      <td>0</td>\n",
       "      <td>0</td>\n",
       "      <td>0</td>\n",
       "      <td>0</td>\n",
       "      <td>0</td>\n",
       "      <td>0</td>\n",
       "      <td>0</td>\n",
       "      <td>0</td>\n",
       "      <td>0</td>\n",
       "      <td>0</td>\n",
       "    </tr>\n",
       "    <tr>\n",
       "      <th>997</th>\n",
       "      <td>0</td>\n",
       "      <td>0</td>\n",
       "      <td>0</td>\n",
       "      <td>0</td>\n",
       "      <td>0</td>\n",
       "      <td>0</td>\n",
       "      <td>0</td>\n",
       "      <td>0</td>\n",
       "      <td>0</td>\n",
       "      <td>0</td>\n",
       "      <td>...</td>\n",
       "      <td>0</td>\n",
       "      <td>0</td>\n",
       "      <td>0</td>\n",
       "      <td>0</td>\n",
       "      <td>0</td>\n",
       "      <td>0</td>\n",
       "      <td>0</td>\n",
       "      <td>0</td>\n",
       "      <td>0</td>\n",
       "      <td>0</td>\n",
       "    </tr>\n",
       "    <tr>\n",
       "      <th>998</th>\n",
       "      <td>0</td>\n",
       "      <td>0</td>\n",
       "      <td>0</td>\n",
       "      <td>0</td>\n",
       "      <td>0</td>\n",
       "      <td>0</td>\n",
       "      <td>0</td>\n",
       "      <td>0</td>\n",
       "      <td>0</td>\n",
       "      <td>0</td>\n",
       "      <td>...</td>\n",
       "      <td>0</td>\n",
       "      <td>0</td>\n",
       "      <td>0</td>\n",
       "      <td>0</td>\n",
       "      <td>0</td>\n",
       "      <td>0</td>\n",
       "      <td>0</td>\n",
       "      <td>0</td>\n",
       "      <td>1</td>\n",
       "      <td>0</td>\n",
       "    </tr>\n",
       "    <tr>\n",
       "      <th>999</th>\n",
       "      <td>0</td>\n",
       "      <td>0</td>\n",
       "      <td>0</td>\n",
       "      <td>0</td>\n",
       "      <td>0</td>\n",
       "      <td>0</td>\n",
       "      <td>0</td>\n",
       "      <td>0</td>\n",
       "      <td>0</td>\n",
       "      <td>0</td>\n",
       "      <td>...</td>\n",
       "      <td>0</td>\n",
       "      <td>0</td>\n",
       "      <td>0</td>\n",
       "      <td>0</td>\n",
       "      <td>0</td>\n",
       "      <td>0</td>\n",
       "      <td>0</td>\n",
       "      <td>0</td>\n",
       "      <td>0</td>\n",
       "      <td>0</td>\n",
       "    </tr>\n",
       "  </tbody>\n",
       "</table>\n",
       "<p>1000 rows × 36 columns</p>\n",
       "</div>"
      ],
      "text/plain": [
       "     ETD_GOING_TO  ETD_HAVE_TO  ETD_WOULD_RATHER  ETD_PLAN  \\\n",
       "0               0            0                 0         0   \n",
       "1               0            0                 0         0   \n",
       "2               0            0                 0         0   \n",
       "3               0            0                 0         0   \n",
       "4               0            0                 0         0   \n",
       "..            ...          ...               ...       ...   \n",
       "995             0            0                 0         0   \n",
       "996             0            0                 0         0   \n",
       "997             0            0                 0         0   \n",
       "998             0            0                 0         0   \n",
       "999             0            0                 0         0   \n",
       "\n",
       "     ETD_CONSIDER_ACTION  ETD_MUST  ETD_BE_POSSIBLE_TO  ETD_GOAL  ETD_MEAN  \\\n",
       "0                      0         0                   0         0         0   \n",
       "1                      0         0                   0         0         0   \n",
       "2                      0         0                   0         0         0   \n",
       "3                      0         0                   0         0         0   \n",
       "4                      0         0                   0         0         0   \n",
       "..                   ...       ...                 ...       ...       ...   \n",
       "995                    0         0                   0         0         0   \n",
       "996                    0         0                   0         0         0   \n",
       "997                    0         0                   0         0         0   \n",
       "998                    0         0                   0         0         0   \n",
       "999                    0         0                   0         0         0   \n",
       "\n",
       "     ETD_REQUIRES  ...  ETD_IN_ORDER_FOR  ETD_WORKING_ON  ETD_NORMALLY  \\\n",
       "0               0  ...                 0               0             0   \n",
       "1               0  ...                 0               0             0   \n",
       "2               0  ...                 0               0             0   \n",
       "3               0  ...                 0               0             0   \n",
       "4               0  ...                 0               0             0   \n",
       "..            ...  ...               ...             ...           ...   \n",
       "995             0  ...                 0               0             0   \n",
       "996             0  ...                 0               0             0   \n",
       "997             0  ...                 0               0             0   \n",
       "998             0  ...                 0               0             0   \n",
       "999             0  ...                 0               0             0   \n",
       "\n",
       "     ETD_WANT_TO  ETD_BETTER_TO  ETD_ENVISION  ETD_SUPPOSED_TO  ETD_EXPECTED  \\\n",
       "0              0              0             0                0             0   \n",
       "1              0              0             0                0             0   \n",
       "2              0              0             0                0             0   \n",
       "3              0              0             0                0             0   \n",
       "4              0              0             0                0             0   \n",
       "..           ...            ...           ...              ...           ...   \n",
       "995            0              0             0                0             0   \n",
       "996            0              0             0                0             0   \n",
       "997            0              0             0                0             0   \n",
       "998            0              0             0                0             0   \n",
       "999            0              0             0                0             0   \n",
       "\n",
       "     ETD_FOR_EXAMPLE  ETD_WOULD_BE  \n",
       "0                  0             0  \n",
       "1                  0             0  \n",
       "2                  0             0  \n",
       "3                  0             0  \n",
       "4                  0             0  \n",
       "..               ...           ...  \n",
       "995                0             0  \n",
       "996                0             0  \n",
       "997                0             0  \n",
       "998                1             0  \n",
       "999                0             0  \n",
       "\n",
       "[1000 rows x 36 columns]"
      ]
     },
     "execution_count": 13,
     "metadata": {},
     "output_type": "execute_result"
    }
   ],
   "source": [
    "etd_pattern_code,df_etd = pattern_matrix(df,\"predicted_ETD\")\n",
    "df_etd"
   ]
  },
  {
   "cell_type": "code",
   "execution_count": 310,
   "id": "2d299534",
   "metadata": {},
   "outputs": [
    {
     "data": {
      "text/plain": [
       "4                        ETD_LOOKING_TO,\n",
       "5                                      0\n",
       "7                                      0\n",
       "9                                      0\n",
       "10                                     0\n",
       "                     ...                \n",
       "995                    ETD_CAN_QUESTION,\n",
       "996                                    0\n",
       "997                                    0\n",
       "998    ETD_CAN_QUESTION,ETD_FOR_EXAMPLE,\n",
       "999                                    0\n",
       "Name: predicted_ETD, Length: 396, dtype: object"
      ]
     },
     "execution_count": 310,
     "metadata": {},
     "output_type": "execute_result"
    }
   ],
   "source": [
    "df[df[\"y_ETD\"] == 0].predicted_ETD"
   ]
  },
  {
   "cell_type": "code",
   "execution_count": 311,
   "id": "c874d6b2",
   "metadata": {},
   "outputs": [
    {
     "data": {
      "text/plain": [
       "{'ETD_CAN_QUESTION',\n",
       " 'ETD_FOR_EXAMPLE',\n",
       " 'ETD_GOING_TO',\n",
       " 'ETD_HAVE_TO',\n",
       " 'ETD_HOPE',\n",
       " 'ETD_IMPLEMENT',\n",
       " 'ETD_INSTEAD_OF_EXP_BEHAVIOR',\n",
       " 'ETD_LOOKING_TO',\n",
       " 'ETD_MEAN',\n",
       " 'ETD_MUST',\n",
       " 'ETD_NEED_TO',\n",
       " 'ETD_NORMALLY',\n",
       " 'ETD_REQUIRES',\n",
       " 'ETD_SHOULD',\n",
       " 'ETD_TRYING_TO',\n",
       " 'ETD_USED_TO',\n",
       " 'ETD_WANT_TO',\n",
       " 'ETD_WORKING_ON',\n",
       " 'ETD_WOULD_BE'}"
      ]
     },
     "execution_count": 311,
     "metadata": {},
     "output_type": "execute_result"
    }
   ],
   "source": [
    "pattern_code = set()\n",
    "for pattern_str in df[df[\"y_ETD\"] == 0][\"predicted_ETD\"]:\n",
    "    if pattern_str == 0:\n",
    "        continue\n",
    "    patterns = pattern_str.split(\",\")\n",
    "    for pattern in patterns:\n",
    "        if len(pattern) != 0:\n",
    "            pattern_code.add(pattern.strip())\n",
    "pattern_code"
   ]
  },
  {
   "cell_type": "code",
   "execution_count": 24,
   "id": "169a807c",
   "metadata": {},
   "outputs": [
    {
     "name": "stdout",
     "output_type": "stream",
     "text": [
      "['ETD_NEED_TO', 'ETD_IMPLEMENT', 'ETD_WOULD_LIKE', 'ETD_PLAN', 'ETD_HAVE_TO', 'ETD_FOR_EXAMPLE']\n"
     ]
    }
   ],
   "source": [
    "## Take 6 random ETD patterns\n",
    "from random import sample\n",
    "\n",
    "ETD_random = sample(etd_pattern_code,6)\n",
    "print(ETD_random)"
   ]
  },
  {
   "cell_type": "code",
   "execution_count": 76,
   "id": "bced4a3c",
   "metadata": {},
   "outputs": [],
   "source": [
    "ETD_summary = pattern_summary(df,\"predicted_ETD\",etd_pattern_code)"
   ]
  },
  {
   "cell_type": "code",
   "execution_count": 159,
   "id": "39fc75bc",
   "metadata": {},
   "outputs": [
    {
     "name": "stdout",
     "output_type": "stream",
     "text": [
      "ETD_LOOKING_TO :  Hello, does anyone know if there is any possibility of getting an undefined NavigationTransition when router is trying to apply redirects? I'm getting this error: `TypeError: Cannot read property 'extractedUrl' of undefined`. Looking at the router source code (https://github.com/angular/angular/blob/master/packages/router/src/router.ts#L583) it seems like it's getting the navigation object as undefined inside the `applyRedirects` function. But how is that possible? I've read the source code many times already trying to figure out how could it be undefined but I haven't understood. Could anyone help me to crack it out?\n",
      "ETD_WANT_TO :  is it possible to connect to mysql port 3306 from another container without exposing the 3306 port from the mysql container docker file? exposing is exposing the port to host for outside connection or also for docker bridge network I need to expose certain port? I have a bridge network setup up on all my containers with static ip. I don't want to expose the mysql port to outside world through the host. I only want the httpd container to be able to access the mysql container to access databases.\n",
      "ETD_BE_POSSIBLE_TO :  Hi all,  is there a way I can use ngSwitch and have the ngSwitchCase blocks render a specific ID referenced ng-template somewhere further down the document? I am asking from a purely organizational perspective Is it possible to create a <ng-template #someReferenceId/> and then render it as an ngSwitchCase?\n"
     ]
    }
   ],
   "source": [
    "etd_8 = assign_example(ETD_summary, ETD_random3, df)"
   ]
  },
  {
   "cell_type": "code",
   "execution_count": 28,
   "id": "1e28c7a5",
   "metadata": {},
   "outputs": [
    {
     "data": {
      "text/plain": [
       "[{'ETD_TRYING_TO': 200},\n",
       " {'ETD_WANT_TO': 130},\n",
       " {'ETD_NEED_TO': 122},\n",
       " {'ETD_SHOULD': 115},\n",
       " {'ETD_WOULD_BE': 70},\n",
       " {'ETD_CAN_QUESTION': 66},\n",
       " {'ETD_USED_TO': 45},\n",
       " {'ETD_IS_THERE_QUESTION': 42},\n",
       " {'ETD_WOULD_LIKE': 42},\n",
       " {'ETD_HAVE_TO': 40},\n",
       " {'ETD_BE_POSSIBLE_TO': 36},\n",
       " {'ETD_REQUIRES': 33},\n",
       " {'ETD_LOOKING_TO': 28},\n",
       " {'ETD_FOR_EXAMPLE': 25},\n",
       " {'ETD_NORMALLY': 18},\n",
       " {'ETD_INSTEAD_OF_EXP_BEHAVIOR': 18},\n",
       " {'ETD_WORKING_ON': 16},\n",
       " {'ETD_IMPLEMENT': 13},\n",
       " {'ETD_MUST': 12},\n",
       " {'ETD_GOING_TO': 9},\n",
       " {'ETD_IN_ORDER_FOR': 8},\n",
       " {'ETD_HOPE': 8},\n",
       " {'ETD_MEAN': 7},\n",
       " {'ETD_THINK_ABOUT': 5},\n",
       " {'ETD_PLAN': 5},\n",
       " {'ETD_BETTER_TO': 4},\n",
       " {'ETD_SUPPOSED_TO': 4},\n",
       " {'ETD_GOAL': 4},\n",
       " {'ETD_ATTEMPT': 4},\n",
       " {'ETD_EXPECTED': 3},\n",
       " {'ETD_CONSIDER_ACTION': 3},\n",
       " {'ETD_MAKE_SENSE': 2},\n",
       " {'ETD_WOULD_RATHER': 2},\n",
       " {'ETD_ENVISION': 1},\n",
       " {'ETD_LEARN': 1},\n",
       " {'ETD_ACCORDING_TO_DOC': 1}]"
      ]
     },
     "execution_count": 28,
     "metadata": {},
     "output_type": "execute_result"
    }
   ],
   "source": [
    "pattern_sum = [{k:int(df_etd[k].sum())} for k in etd_pattern_code]\n",
    "pattern_sum.sort(key=lambda d: list(d.values()), reverse=True)\n",
    "pattern_sum"
   ]
  },
  {
   "cell_type": "code",
   "execution_count": 41,
   "id": "4eaa856b",
   "metadata": {},
   "outputs": [
    {
     "data": {
      "text/plain": [
       "['ETD_TRYING_TO',\n",
       " 'ETD_WANT_TO',\n",
       " 'ETD_NEED_TO',\n",
       " 'ETD_SHOULD',\n",
       " 'ETD_WOULD_BE',\n",
       " 'ETD_CAN_QUESTION',\n",
       " 'ETD_USED_TO',\n",
       " 'ETD_IS_THERE_QUESTION']"
      ]
     },
     "execution_count": 41,
     "metadata": {},
     "output_type": "execute_result"
    }
   ],
   "source": [
    "top8_patterns = [list(pattern_sum[i].keys())[0] for i in range(8)]\n",
    "top8_patterns"
   ]
  },
  {
   "cell_type": "code",
   "execution_count": 129,
   "id": "cf150d3f",
   "metadata": {},
   "outputs": [
    {
     "name": "stdout",
     "output_type": "stream",
     "text": [
      "ETD_TRYING_TO :  Hi, I am trying to mine Eth but when I try to first set up account or look at my account in CMD I get this error: Failed to start Ledger hub, disabling: libusb: not found [code -5] I tried downloading libusb using a driver installer but it didn't seem to fix it Doesn't that still require me to setup my account in geth.\n",
      "ETD_WANT_TO :  If I want to properly update my DL4J examples folder as well, do I only need to update the version numbers in the pom.xml of the examples-parent file, or those in the pom.xml of all the subfolders as well (datavec-examples, dl4j-cuda-specific-examples, etc)? raver119: Sorry, you mean a git pull on the dl4j-examples-parent folder? I haven't updated DL4J before and don't want to break my working setup. I also have a couple of modified examples in there hmm yeah i tried to just raise the version in the pom.xml, but then i got 41 compile errors afterwards. now i tried to git pull, but it says the pull failed because it can't create an index.lock file i am clearly messing this up\n",
      "ETD_NEED_TO :  I have an input component that receives an array of numbers. The component modifies those numbers directly from the value Input and I see the changes reflected in the parent component, but I don't need to use an EventEmitter in this case. Is that right? Since the values are getting updates something like \"by reference\"\n",
      "ETD_SHOULD :  If I don't know what URL my application will be hosted at until it starts running, what is the list of \"things\" that should be set at run-time knowing that my API path will always be hosted at the same URL and all relative URLs within the application will be valid? BaseHref, anything else? I'm almost certain that the proxy's custom JavaScript injection is causing the problem, but I want to cover my bases.\n",
      "ETD_WOULD_BE :  `clockmaster`  * Hi I need some help with comparing two values in form controls  In my html file ``` <input number type=\"text\" numberOnly placeholder=\"Enter Minimum Salary \"    formControlName=\"minsalary\" name=\"minsalary\" id=\"minsalary\"    [(ngModel)]=\"minSalary\" (ngModelChange)=\"checkGreater($event)\" />   <input number type=\"text\" numberOnly placeholder=\"Enter Maximum Salary\"       formControlName=\"maxsalary\" name=\"maxsalary\" id=\"maxsalary\"       [(ngModel)]=\"maxSalary\" (ngModelChange)=\"checkGreater($event)\" />  <p class=\"errormsg\" *ngIf=\"checkSalary\">     Max salary Cannot be less than Minimum salary </p> ``` ``` In my  ts file    minSalary: any;   maxSalary: any;    public checkGreater(evnt: any): void {     this.checkSalary = this.maxSalary > this.minSalary;   } ```  I followed a stackoverflow answer -> https://stackoverflow.com/questions/49328802/how-to-compare-two-inputs-in-form-angular-2-form-validation  But It is working properly the error message just randomly shows and disappears while changing the values in input boxes. I have posted screenshots of same issue below.\n",
      "ETD_CAN_QUESTION :  How can I create definitions for this type of module? [<-CODE->] I tried: [<-CODE->]\n",
      "ETD_USED_TO :  Hi everyone, I'm was training my net when I came across something (maybe) weird. I'm using the UI to visualize the learning and when I look at the \"update : Parameter ratios\" chart, all the weights but one seem to stabilize at around -3.4. The other one is stabilizing around -4. Should I retune a bit my net ?\n",
      "ETD_IS_THERE_QUESTION :  I have a component in a dynamically loaded module that will not load but I can't tell what's stopping it from loading.  I do have the path guarded but, if I remove the guards it still does not load or even instantiate  the component.  Does anyone know a clever way of debugging this issue.  I can't tell what could be stopping it from loading\n",
      " Oddly, if I refresh the application it will load but I can see what's different.  Since I am using ngrx and am serializing the router I can tell that when it's successful and when it's not, I get a `@ngrx/router-store/navigated` action\n"
     ]
    }
   ],
   "source": [
    "etd_8 = assign_example(ETD_summary, top8_patterns, df)"
   ]
  },
  {
   "cell_type": "code",
   "execution_count": 99,
   "id": "c27d8a26",
   "metadata": {},
   "outputs": [],
   "source": [
    "etd_train_dict = pattern_freq(df, \"predicted_ETD\", \"accuracy_ETD\", dict.fromkeys(etd_pattern_code,0))"
   ]
  },
  {
   "cell_type": "code",
   "execution_count": 100,
   "id": "7360fa78",
   "metadata": {},
   "outputs": [],
   "source": [
    "pattern = []\n",
    "freq = []\n",
    "for pattern_freq in pattern_sum:\n",
    "    for k, v in pattern_freq.items():\n",
    "        pattern.append(k)\n",
    "        freq.append(v)"
   ]
  },
  {
   "cell_type": "code",
   "execution_count": 101,
   "id": "97662700",
   "metadata": {},
   "outputs": [
    {
     "data": {
      "text/html": [
       "<div>\n",
       "<style scoped>\n",
       "    .dataframe tbody tr th:only-of-type {\n",
       "        vertical-align: middle;\n",
       "    }\n",
       "\n",
       "    .dataframe tbody tr th {\n",
       "        vertical-align: top;\n",
       "    }\n",
       "\n",
       "    .dataframe thead th {\n",
       "        text-align: right;\n",
       "    }\n",
       "</style>\n",
       "<table border=\"1\" class=\"dataframe\">\n",
       "  <thead>\n",
       "    <tr style=\"text-align: right;\">\n",
       "      <th></th>\n",
       "      <th>pattern</th>\n",
       "      <th>frequency</th>\n",
       "      <th>num_predicted_wrong</th>\n",
       "    </tr>\n",
       "  </thead>\n",
       "  <tbody>\n",
       "    <tr>\n",
       "      <th>0</th>\n",
       "      <td>ETD_TRYING_TO</td>\n",
       "      <td>200</td>\n",
       "      <td>11</td>\n",
       "    </tr>\n",
       "    <tr>\n",
       "      <th>1</th>\n",
       "      <td>ETD_WANT_TO</td>\n",
       "      <td>130</td>\n",
       "      <td>3</td>\n",
       "    </tr>\n",
       "    <tr>\n",
       "      <th>2</th>\n",
       "      <td>ETD_NEED_TO</td>\n",
       "      <td>122</td>\n",
       "      <td>17</td>\n",
       "    </tr>\n",
       "    <tr>\n",
       "      <th>3</th>\n",
       "      <td>ETD_SHOULD</td>\n",
       "      <td>115</td>\n",
       "      <td>17</td>\n",
       "    </tr>\n",
       "    <tr>\n",
       "      <th>4</th>\n",
       "      <td>ETD_WOULD_BE</td>\n",
       "      <td>70</td>\n",
       "      <td>15</td>\n",
       "    </tr>\n",
       "  </tbody>\n",
       "</table>\n",
       "</div>"
      ],
      "text/plain": [
       "         pattern  frequency  num_predicted_wrong\n",
       "0  ETD_TRYING_TO        200                   11\n",
       "1    ETD_WANT_TO        130                    3\n",
       "2    ETD_NEED_TO        122                   17\n",
       "3     ETD_SHOULD        115                   17\n",
       "4   ETD_WOULD_BE         70                   15"
      ]
     },
     "execution_count": 101,
     "metadata": {},
     "output_type": "execute_result"
    }
   ],
   "source": [
    "df_pattern_etd_train = pd.DataFrame()\n",
    "df_pattern_etd_train[\"pattern\"] = pattern\n",
    "df_pattern_etd_train[\"frequency\"] = freq\n",
    "df_pattern_etd_train[\"num_predicted_wrong\"] = [etd_train_dict[df_pattern_etd_train.loc[i][\"pattern\"]] for i in range(len(df_pattern_etd_train))]\n",
    "df_pattern_etd_train.head()"
   ]
  },
  {
   "cell_type": "code",
   "execution_count": 102,
   "id": "b65cd547",
   "metadata": {},
   "outputs": [],
   "source": [
    "df_pattern_etd_train.to_csv(\"../chat_pattern/train/etd_pattern_result_analysis.csv\",index =None)"
   ]
  },
  {
   "cell_type": "code",
   "execution_count": 14,
   "id": "68660641",
   "metadata": {},
   "outputs": [
    {
     "data": {
      "text/html": [
       "<div>\n",
       "<style scoped>\n",
       "    .dataframe tbody tr th:only-of-type {\n",
       "        vertical-align: middle;\n",
       "    }\n",
       "\n",
       "    .dataframe tbody tr th {\n",
       "        vertical-align: top;\n",
       "    }\n",
       "\n",
       "    .dataframe thead th {\n",
       "        text-align: right;\n",
       "    }\n",
       "</style>\n",
       "<table border=\"1\" class=\"dataframe\">\n",
       "  <thead>\n",
       "    <tr style=\"text-align: right;\">\n",
       "      <th></th>\n",
       "      <th>PS_WITH_NO</th>\n",
       "      <th>PS_TIME_LIMIT</th>\n",
       "      <th>PS_ETD_TRY</th>\n",
       "      <th>PS_ERROR_OCCUR</th>\n",
       "      <th>PS_ONLY</th>\n",
       "      <th>PS_NOTICE</th>\n",
       "      <th>PS_SURPRISED_THAT</th>\n",
       "      <th>PS_PROBLEM</th>\n",
       "      <th>PS_NO_LONGER</th>\n",
       "      <th>PS_BUT_RB</th>\n",
       "      <th>...</th>\n",
       "      <th>PS_NEG_AUX_VERB</th>\n",
       "      <th>PS_STUCK</th>\n",
       "      <th>PS_STRUGGLING</th>\n",
       "      <th>PS_NOT_IN</th>\n",
       "      <th>PS_NEG_AUX_ADV_ADJ</th>\n",
       "      <th>PS_TOO</th>\n",
       "      <th>PS_END_UP</th>\n",
       "      <th>PS_VERB_NO</th>\n",
       "      <th>PS_VERB_TO_BE_NEGATIVE</th>\n",
       "      <th>PS_PROBLEM_IS</th>\n",
       "    </tr>\n",
       "  </thead>\n",
       "  <tbody>\n",
       "    <tr>\n",
       "      <th>0</th>\n",
       "      <td>0</td>\n",
       "      <td>0</td>\n",
       "      <td>0</td>\n",
       "      <td>0</td>\n",
       "      <td>0</td>\n",
       "      <td>0</td>\n",
       "      <td>0</td>\n",
       "      <td>1</td>\n",
       "      <td>0</td>\n",
       "      <td>0</td>\n",
       "      <td>...</td>\n",
       "      <td>0</td>\n",
       "      <td>0</td>\n",
       "      <td>0</td>\n",
       "      <td>0</td>\n",
       "      <td>0</td>\n",
       "      <td>0</td>\n",
       "      <td>0</td>\n",
       "      <td>0</td>\n",
       "      <td>0</td>\n",
       "      <td>0</td>\n",
       "    </tr>\n",
       "    <tr>\n",
       "      <th>1</th>\n",
       "      <td>0</td>\n",
       "      <td>0</td>\n",
       "      <td>0</td>\n",
       "      <td>0</td>\n",
       "      <td>0</td>\n",
       "      <td>0</td>\n",
       "      <td>0</td>\n",
       "      <td>1</td>\n",
       "      <td>0</td>\n",
       "      <td>0</td>\n",
       "      <td>...</td>\n",
       "      <td>1</td>\n",
       "      <td>0</td>\n",
       "      <td>0</td>\n",
       "      <td>0</td>\n",
       "      <td>0</td>\n",
       "      <td>0</td>\n",
       "      <td>0</td>\n",
       "      <td>0</td>\n",
       "      <td>0</td>\n",
       "      <td>0</td>\n",
       "    </tr>\n",
       "    <tr>\n",
       "      <th>2</th>\n",
       "      <td>0</td>\n",
       "      <td>0</td>\n",
       "      <td>0</td>\n",
       "      <td>0</td>\n",
       "      <td>1</td>\n",
       "      <td>0</td>\n",
       "      <td>0</td>\n",
       "      <td>1</td>\n",
       "      <td>0</td>\n",
       "      <td>0</td>\n",
       "      <td>...</td>\n",
       "      <td>0</td>\n",
       "      <td>0</td>\n",
       "      <td>0</td>\n",
       "      <td>0</td>\n",
       "      <td>0</td>\n",
       "      <td>0</td>\n",
       "      <td>0</td>\n",
       "      <td>0</td>\n",
       "      <td>0</td>\n",
       "      <td>0</td>\n",
       "    </tr>\n",
       "    <tr>\n",
       "      <th>3</th>\n",
       "      <td>0</td>\n",
       "      <td>0</td>\n",
       "      <td>0</td>\n",
       "      <td>0</td>\n",
       "      <td>0</td>\n",
       "      <td>0</td>\n",
       "      <td>0</td>\n",
       "      <td>0</td>\n",
       "      <td>0</td>\n",
       "      <td>0</td>\n",
       "      <td>...</td>\n",
       "      <td>0</td>\n",
       "      <td>0</td>\n",
       "      <td>0</td>\n",
       "      <td>0</td>\n",
       "      <td>0</td>\n",
       "      <td>0</td>\n",
       "      <td>0</td>\n",
       "      <td>0</td>\n",
       "      <td>0</td>\n",
       "      <td>0</td>\n",
       "    </tr>\n",
       "    <tr>\n",
       "      <th>4</th>\n",
       "      <td>0</td>\n",
       "      <td>0</td>\n",
       "      <td>0</td>\n",
       "      <td>0</td>\n",
       "      <td>0</td>\n",
       "      <td>0</td>\n",
       "      <td>0</td>\n",
       "      <td>0</td>\n",
       "      <td>0</td>\n",
       "      <td>0</td>\n",
       "      <td>...</td>\n",
       "      <td>1</td>\n",
       "      <td>0</td>\n",
       "      <td>0</td>\n",
       "      <td>0</td>\n",
       "      <td>0</td>\n",
       "      <td>0</td>\n",
       "      <td>0</td>\n",
       "      <td>0</td>\n",
       "      <td>0</td>\n",
       "      <td>0</td>\n",
       "    </tr>\n",
       "    <tr>\n",
       "      <th>...</th>\n",
       "      <td>...</td>\n",
       "      <td>...</td>\n",
       "      <td>...</td>\n",
       "      <td>...</td>\n",
       "      <td>...</td>\n",
       "      <td>...</td>\n",
       "      <td>...</td>\n",
       "      <td>...</td>\n",
       "      <td>...</td>\n",
       "      <td>...</td>\n",
       "      <td>...</td>\n",
       "      <td>...</td>\n",
       "      <td>...</td>\n",
       "      <td>...</td>\n",
       "      <td>...</td>\n",
       "      <td>...</td>\n",
       "      <td>...</td>\n",
       "      <td>...</td>\n",
       "      <td>...</td>\n",
       "      <td>...</td>\n",
       "      <td>...</td>\n",
       "    </tr>\n",
       "    <tr>\n",
       "      <th>995</th>\n",
       "      <td>0</td>\n",
       "      <td>0</td>\n",
       "      <td>0</td>\n",
       "      <td>0</td>\n",
       "      <td>0</td>\n",
       "      <td>0</td>\n",
       "      <td>0</td>\n",
       "      <td>0</td>\n",
       "      <td>0</td>\n",
       "      <td>0</td>\n",
       "      <td>...</td>\n",
       "      <td>1</td>\n",
       "      <td>0</td>\n",
       "      <td>0</td>\n",
       "      <td>0</td>\n",
       "      <td>0</td>\n",
       "      <td>0</td>\n",
       "      <td>0</td>\n",
       "      <td>0</td>\n",
       "      <td>0</td>\n",
       "      <td>0</td>\n",
       "    </tr>\n",
       "    <tr>\n",
       "      <th>996</th>\n",
       "      <td>0</td>\n",
       "      <td>0</td>\n",
       "      <td>0</td>\n",
       "      <td>0</td>\n",
       "      <td>0</td>\n",
       "      <td>0</td>\n",
       "      <td>0</td>\n",
       "      <td>1</td>\n",
       "      <td>0</td>\n",
       "      <td>0</td>\n",
       "      <td>...</td>\n",
       "      <td>0</td>\n",
       "      <td>0</td>\n",
       "      <td>0</td>\n",
       "      <td>0</td>\n",
       "      <td>1</td>\n",
       "      <td>0</td>\n",
       "      <td>0</td>\n",
       "      <td>1</td>\n",
       "      <td>0</td>\n",
       "      <td>0</td>\n",
       "    </tr>\n",
       "    <tr>\n",
       "      <th>997</th>\n",
       "      <td>0</td>\n",
       "      <td>0</td>\n",
       "      <td>0</td>\n",
       "      <td>0</td>\n",
       "      <td>0</td>\n",
       "      <td>0</td>\n",
       "      <td>0</td>\n",
       "      <td>1</td>\n",
       "      <td>0</td>\n",
       "      <td>0</td>\n",
       "      <td>...</td>\n",
       "      <td>1</td>\n",
       "      <td>0</td>\n",
       "      <td>0</td>\n",
       "      <td>0</td>\n",
       "      <td>0</td>\n",
       "      <td>0</td>\n",
       "      <td>0</td>\n",
       "      <td>0</td>\n",
       "      <td>0</td>\n",
       "      <td>0</td>\n",
       "    </tr>\n",
       "    <tr>\n",
       "      <th>998</th>\n",
       "      <td>0</td>\n",
       "      <td>0</td>\n",
       "      <td>0</td>\n",
       "      <td>0</td>\n",
       "      <td>0</td>\n",
       "      <td>0</td>\n",
       "      <td>0</td>\n",
       "      <td>0</td>\n",
       "      <td>0</td>\n",
       "      <td>0</td>\n",
       "      <td>...</td>\n",
       "      <td>0</td>\n",
       "      <td>0</td>\n",
       "      <td>0</td>\n",
       "      <td>0</td>\n",
       "      <td>0</td>\n",
       "      <td>0</td>\n",
       "      <td>0</td>\n",
       "      <td>0</td>\n",
       "      <td>0</td>\n",
       "      <td>0</td>\n",
       "    </tr>\n",
       "    <tr>\n",
       "      <th>999</th>\n",
       "      <td>0</td>\n",
       "      <td>0</td>\n",
       "      <td>0</td>\n",
       "      <td>0</td>\n",
       "      <td>0</td>\n",
       "      <td>0</td>\n",
       "      <td>0</td>\n",
       "      <td>0</td>\n",
       "      <td>0</td>\n",
       "      <td>0</td>\n",
       "      <td>...</td>\n",
       "      <td>0</td>\n",
       "      <td>0</td>\n",
       "      <td>0</td>\n",
       "      <td>0</td>\n",
       "      <td>0</td>\n",
       "      <td>0</td>\n",
       "      <td>0</td>\n",
       "      <td>0</td>\n",
       "      <td>0</td>\n",
       "      <td>0</td>\n",
       "    </tr>\n",
       "  </tbody>\n",
       "</table>\n",
       "<p>1000 rows × 30 columns</p>\n",
       "</div>"
      ],
      "text/plain": [
       "     PS_WITH_NO  PS_TIME_LIMIT  PS_ETD_TRY  PS_ERROR_OCCUR  PS_ONLY  \\\n",
       "0             0              0           0               0        0   \n",
       "1             0              0           0               0        0   \n",
       "2             0              0           0               0        1   \n",
       "3             0              0           0               0        0   \n",
       "4             0              0           0               0        0   \n",
       "..          ...            ...         ...             ...      ...   \n",
       "995           0              0           0               0        0   \n",
       "996           0              0           0               0        0   \n",
       "997           0              0           0               0        0   \n",
       "998           0              0           0               0        0   \n",
       "999           0              0           0               0        0   \n",
       "\n",
       "     PS_NOTICE  PS_SURPRISED_THAT  PS_PROBLEM  PS_NO_LONGER  PS_BUT_RB  ...  \\\n",
       "0            0                  0           1             0          0  ...   \n",
       "1            0                  0           1             0          0  ...   \n",
       "2            0                  0           1             0          0  ...   \n",
       "3            0                  0           0             0          0  ...   \n",
       "4            0                  0           0             0          0  ...   \n",
       "..         ...                ...         ...           ...        ...  ...   \n",
       "995          0                  0           0             0          0  ...   \n",
       "996          0                  0           1             0          0  ...   \n",
       "997          0                  0           1             0          0  ...   \n",
       "998          0                  0           0             0          0  ...   \n",
       "999          0                  0           0             0          0  ...   \n",
       "\n",
       "     PS_NEG_AUX_VERB  PS_STUCK  PS_STRUGGLING  PS_NOT_IN  PS_NEG_AUX_ADV_ADJ  \\\n",
       "0                  0         0              0          0                   0   \n",
       "1                  1         0              0          0                   0   \n",
       "2                  0         0              0          0                   0   \n",
       "3                  0         0              0          0                   0   \n",
       "4                  1         0              0          0                   0   \n",
       "..               ...       ...            ...        ...                 ...   \n",
       "995                1         0              0          0                   0   \n",
       "996                0         0              0          0                   1   \n",
       "997                1         0              0          0                   0   \n",
       "998                0         0              0          0                   0   \n",
       "999                0         0              0          0                   0   \n",
       "\n",
       "     PS_TOO  PS_END_UP  PS_VERB_NO  PS_VERB_TO_BE_NEGATIVE  PS_PROBLEM_IS  \n",
       "0         0          0           0                       0              0  \n",
       "1         0          0           0                       0              0  \n",
       "2         0          0           0                       0              0  \n",
       "3         0          0           0                       0              0  \n",
       "4         0          0           0                       0              0  \n",
       "..      ...        ...         ...                     ...            ...  \n",
       "995       0          0           0                       0              0  \n",
       "996       0          0           1                       0              0  \n",
       "997       0          0           0                       0              0  \n",
       "998       0          0           0                       0              0  \n",
       "999       0          0           0                       0              0  \n",
       "\n",
       "[1000 rows x 30 columns]"
      ]
     },
     "execution_count": 14,
     "metadata": {},
     "output_type": "execute_result"
    }
   ],
   "source": [
    "ps_pattern_code,df_ps = pattern_matrix(df,\"predicted_PS\")\n",
    "df_ps"
   ]
  },
  {
   "cell_type": "code",
   "execution_count": 314,
   "id": "9d8261f7",
   "metadata": {},
   "outputs": [
    {
     "data": {
      "text/plain": [
       "[{'PS_NEG_AUX_VERB': 456},\n",
       " {'PS_VERB_ERROR': 270},\n",
       " {'PS_PROBLEM': 233},\n",
       " {'PS_NEG_ADV_ADJ': 190},\n",
       " {'PS_NEG_VERB': 159},\n",
       " {'PS_ERROR_NOUN_PHRASE': 140},\n",
       " {'PS_NEG_AUX_ADV_ADJ': 140},\n",
       " {'PS_ETD_TRY': 120},\n",
       " {'PS_ONLY': 72},\n",
       " {'PS_NO_NOUN': 55},\n",
       " {'PS_PROBLEM_IS': 47},\n",
       " {'PS_BUT_RB': 26},\n",
       " {'PS_VERB_NO': 26},\n",
       " {'PS_ERROR_OCCUR': 21},\n",
       " {'PS_SEEMS_TO_NEG_VERB': 20},\n",
       " {'PS_STUCK': 11},\n",
       " {'PS_NOTICE': 9},\n",
       " {'PS_WITH_NO': 8},\n",
       " {'PS_TOO': 8},\n",
       " {'PS_END_UP': 7},\n",
       " {'PS_STRUGGLING': 7},\n",
       " {'PS_IS_THIS_NEG': 6},\n",
       " {'PS_VERB_TO_BE_NEGATIVE': 5},\n",
       " {'PS_NOT_IN': 4},\n",
       " {'PS_TIME_LIMIT': 3},\n",
       " {'PS_MAKE_NEG_ADV': 3},\n",
       " {'PS_FIND_HARD': 3},\n",
       " {'PS_NO_LONGER': 2},\n",
       " {'PS_WHERE_SHOULD_NEG': 1},\n",
       " {'PS_SURPRISED_THAT': 1}]"
      ]
     },
     "execution_count": 314,
     "metadata": {},
     "output_type": "execute_result"
    }
   ],
   "source": [
    "pattern_sum = [{k:int(df_ps[k].sum())} for k in ps_pattern_code]\n",
    "pattern_sum.sort(key=lambda d: list(d.values()), reverse=True)\n",
    "pattern_sum"
   ]
  },
  {
   "cell_type": "code",
   "execution_count": 315,
   "id": "1a425cb4",
   "metadata": {},
   "outputs": [
    {
     "data": {
      "text/plain": [
       "{'PS_ERROR_NOUN_PHRASE',\n",
       " 'PS_ETD_TRY',\n",
       " 'PS_IS_THIS_NEG',\n",
       " 'PS_NEG_ADV_ADJ',\n",
       " 'PS_NEG_AUX_ADV_ADJ',\n",
       " 'PS_NEG_AUX_VERB',\n",
       " 'PS_NEG_VERB',\n",
       " 'PS_NO_NOUN',\n",
       " 'PS_ONLY',\n",
       " 'PS_PROBLEM',\n",
       " 'PS_PROBLEM_IS',\n",
       " 'PS_SEEMS_TO_NEG_VERB',\n",
       " 'PS_TOO',\n",
       " 'PS_VERB_ERROR',\n",
       " 'PS_VERB_NO',\n",
       " 'PS_VERB_TO_BE_NEGATIVE',\n",
       " 'PS_WITH_NO'}"
      ]
     },
     "execution_count": 315,
     "metadata": {},
     "output_type": "execute_result"
    }
   ],
   "source": [
    "pattern_code = set()\n",
    "for pattern_str in df[df[\"y_PS\"] == 0][\"predicted_PS\"]:\n",
    "    if pattern_str == 0:\n",
    "        continue\n",
    "    patterns = pattern_str.split(\",\")\n",
    "    for pattern in patterns:\n",
    "        if len(pattern) != 0:\n",
    "            pattern_code.add(pattern.strip())\n",
    "pattern_code"
   ]
  },
  {
   "cell_type": "code",
   "execution_count": 163,
   "id": "270af347",
   "metadata": {},
   "outputs": [
    {
     "name": "stdout",
     "output_type": "stream",
     "text": [
      "['PS_ONLY', 'PS_STUCK', 'PS_ERROR_NOUN_PHRASE', 'PS_ERROR_OCCUR', 'PS_IS_THIS_NEG', 'PS_VERB_TO_BE_NEGATIVE', 'PS_WITH_NO', 'PS_PROBLEM']\n"
     ]
    }
   ],
   "source": [
    "from random import sample\n",
    "\n",
    "PS_random8 = sample(ps_pattern_code,8)\n",
    "print(PS_random8)"
   ]
  },
  {
   "cell_type": "code",
   "execution_count": 200,
   "id": "82151162",
   "metadata": {},
   "outputs": [],
   "source": [
    "PS_summary = pattern_summary(df,\"predicted_PS\",ps_pattern_code)"
   ]
  },
  {
   "cell_type": "code",
   "execution_count": 288,
   "id": "0952269c",
   "metadata": {},
   "outputs": [
    {
     "name": "stdout",
     "output_type": "stream",
     "text": [
      "PS_END_UP :  hello - have you ever noticed that propagation of the BehaviourSubject works faster than pushing a new value through Input? - here's an example:  (the console). I had a use case similar to this and ended up with passing a value through another BehaviorSubject to the child instead of passing it through Input\n",
      "PS_VERB_NO :  Hi, I need help please. Some eth was sent  to some address  but I never made the transaction. How and is it possible to get my ETH back ? I have no idea why that has happened. I will provide more information please somebody get in touch with me. FabianSchuessler: 0xAf814c63F722ED3Cd28549Cb86a21468A13cEBD9 thsi is where it was sent to FabianSchuessler: tx : 0xb1d4a364662a62cd67ebb59ac832e41e0853fa830382cef088694f568f385e67 FabianSchuessler: yes exactly : I wanted to buy some NEW ICO with the ETH but the ETH never arrived ? It did not happened before only today\n",
      "PS_STUCK :  anyone using an Omit and Diff types in 2.9 RC? needed to upgrade to 2.9 to finally correctly type my helper class but now stuck getting 3rd party library errors on Omit and Diff or is it possible to ignore invalid types in node_modules in 2.9? because my standard tsconfig exclude isn't working...\n"
     ]
    },
    {
     "data": {
      "text/plain": [
       "{'PS_END_UP': \"hello - have you ever noticed that propagation of the BehaviourSubject works faster than pushing a new value through Input? - here's an example:  (the console). I had a use case similar to this and ended up with passing a value through another BehaviorSubject to the child instead of passing it through Input\",\n",
       " 'PS_VERB_NO': 'Hi, I need help please. Some eth was sent  to some address  but I never made the transaction. How and is it possible to get my ETH back ? I have no idea why that has happened. I will provide more information please somebody get in touch with me. FabianSchuessler: 0xAf814c63F722ED3Cd28549Cb86a21468A13cEBD9 thsi is where it was sent to FabianSchuessler: tx : 0xb1d4a364662a62cd67ebb59ac832e41e0853fa830382cef088694f568f385e67 FabianSchuessler: yes exactly : I wanted to buy some NEW ICO with the ETH but the ETH never arrived ? It did not happened before only today',\n",
       " 'PS_STUCK': \"anyone using an Omit and Diff types in 2.9 RC? needed to upgrade to 2.9 to finally correctly type my helper class but now stuck getting 3rd party library errors on Omit and Diff or is it possible to ignore invalid types in node_modules in 2.9? because my standard tsconfig exclude isn't working...\"}"
      ]
     },
     "execution_count": 288,
     "metadata": {},
     "output_type": "execute_result"
    }
   ],
   "source": [
    "assign_example(PS_summary, PS_random3, df)"
   ]
  },
  {
   "cell_type": "code",
   "execution_count": 107,
   "id": "d38f1dda",
   "metadata": {},
   "outputs": [],
   "source": [
    "ps_train_dict = pattern_freq(df, \"predicted_PS\", \"accuracy_PS\", dict.fromkeys(ps_pattern_code,0))"
   ]
  },
  {
   "cell_type": "code",
   "execution_count": 108,
   "id": "3da06ff3",
   "metadata": {},
   "outputs": [],
   "source": [
    "pattern = []\n",
    "freq = []\n",
    "for pattern_freq in pattern_sum:\n",
    "    for k, v in pattern_freq.items():\n",
    "        pattern.append(k)\n",
    "        freq.append(v)"
   ]
  },
  {
   "cell_type": "code",
   "execution_count": 109,
   "id": "025d5f77",
   "metadata": {},
   "outputs": [
    {
     "data": {
      "text/html": [
       "<div>\n",
       "<style scoped>\n",
       "    .dataframe tbody tr th:only-of-type {\n",
       "        vertical-align: middle;\n",
       "    }\n",
       "\n",
       "    .dataframe tbody tr th {\n",
       "        vertical-align: top;\n",
       "    }\n",
       "\n",
       "    .dataframe thead th {\n",
       "        text-align: right;\n",
       "    }\n",
       "</style>\n",
       "<table border=\"1\" class=\"dataframe\">\n",
       "  <thead>\n",
       "    <tr style=\"text-align: right;\">\n",
       "      <th></th>\n",
       "      <th>pattern</th>\n",
       "      <th>frequency</th>\n",
       "      <th>num_predicted_wrong</th>\n",
       "    </tr>\n",
       "  </thead>\n",
       "  <tbody>\n",
       "    <tr>\n",
       "      <th>0</th>\n",
       "      <td>PS_NEG_AUX_VERB</td>\n",
       "      <td>456</td>\n",
       "      <td>39</td>\n",
       "    </tr>\n",
       "    <tr>\n",
       "      <th>1</th>\n",
       "      <td>PS_VERB_ERROR</td>\n",
       "      <td>270</td>\n",
       "      <td>12</td>\n",
       "    </tr>\n",
       "    <tr>\n",
       "      <th>2</th>\n",
       "      <td>PS_PROBLEM</td>\n",
       "      <td>233</td>\n",
       "      <td>10</td>\n",
       "    </tr>\n",
       "    <tr>\n",
       "      <th>3</th>\n",
       "      <td>PS_NEG_ADV_ADJ</td>\n",
       "      <td>190</td>\n",
       "      <td>24</td>\n",
       "    </tr>\n",
       "    <tr>\n",
       "      <th>4</th>\n",
       "      <td>PS_NEG_VERB</td>\n",
       "      <td>159</td>\n",
       "      <td>25</td>\n",
       "    </tr>\n",
       "  </tbody>\n",
       "</table>\n",
       "</div>"
      ],
      "text/plain": [
       "           pattern  frequency  num_predicted_wrong\n",
       "0  PS_NEG_AUX_VERB        456                   39\n",
       "1    PS_VERB_ERROR        270                   12\n",
       "2       PS_PROBLEM        233                   10\n",
       "3   PS_NEG_ADV_ADJ        190                   24\n",
       "4      PS_NEG_VERB        159                   25"
      ]
     },
     "execution_count": 109,
     "metadata": {},
     "output_type": "execute_result"
    }
   ],
   "source": [
    "df_pattern_ps_train = pd.DataFrame()\n",
    "df_pattern_ps_train[\"pattern\"] = pattern\n",
    "df_pattern_ps_train[\"frequency\"] = freq\n",
    "df_pattern_ps_train[\"num_predicted_wrong\"] = [ps_train_dict[df_pattern_ps_train.loc[i][\"pattern\"]] for i in range(len(df_pattern_ps_train))]\n",
    "df_pattern_ps_train.head()"
   ]
  },
  {
   "cell_type": "code",
   "execution_count": 110,
   "id": "fc7022c3",
   "metadata": {},
   "outputs": [],
   "source": [
    "df_pattern_ps_train.to_csv(\"../chat_pattern/train/ps_pattern_result_analysis.csv\",index =None)"
   ]
  },
  {
   "cell_type": "code",
   "execution_count": 47,
   "id": "15bf5cb9",
   "metadata": {},
   "outputs": [],
   "source": [
    "df_etd.to_csv(\"../chat_pattern/training/etd_pattern_training.csv\",index =None)"
   ]
  },
  {
   "cell_type": "code",
   "execution_count": 48,
   "id": "1e0cf9e6",
   "metadata": {},
   "outputs": [],
   "source": [
    "df_ps.to_csv(\"../chat_pattern/training/ps_pattern_training.csv\",index =None)"
   ]
  },
  {
   "cell_type": "markdown",
   "id": "660c820b",
   "metadata": {},
   "source": [
    "### Test Set"
   ]
  },
  {
   "cell_type": "code",
   "execution_count": 17,
   "id": "49365e0b",
   "metadata": {},
   "outputs": [],
   "source": [
    "df_test = pd.read_csv(\"../chat_pattern/chat_test_missing_1000.csv\")"
   ]
  },
  {
   "cell_type": "code",
   "execution_count": 18,
   "id": "8a5485ec",
   "metadata": {},
   "outputs": [
    {
     "data": {
      "text/html": [
       "<div>\n",
       "<style scoped>\n",
       "    .dataframe tbody tr th:only-of-type {\n",
       "        vertical-align: middle;\n",
       "    }\n",
       "\n",
       "    .dataframe tbody tr th {\n",
       "        vertical-align: top;\n",
       "    }\n",
       "\n",
       "    .dataframe thead th {\n",
       "        text-align: right;\n",
       "    }\n",
       "</style>\n",
       "<table border=\"1\" class=\"dataframe\">\n",
       "  <thead>\n",
       "    <tr style=\"text-align: right;\">\n",
       "      <th></th>\n",
       "      <th>source</th>\n",
       "      <th>issue</th>\n",
       "      <th>PS_sent</th>\n",
       "      <th>predicted_PS</th>\n",
       "      <th>ETD_sent</th>\n",
       "      <th>predicted_ETD</th>\n",
       "      <th>y_PS</th>\n",
       "      <th>y'_PS</th>\n",
       "      <th>Acc_PS</th>\n",
       "      <th>y_ETD</th>\n",
       "      <th>...</th>\n",
       "      <th>Acc_ETD</th>\n",
       "      <th>openAI_PS</th>\n",
       "      <th>Inferred_PS_pattern</th>\n",
       "      <th>y''_PS</th>\n",
       "      <th>ACC_AI_PS</th>\n",
       "      <th>openAI_ETD</th>\n",
       "      <th>Inferred_ETD_pattern</th>\n",
       "      <th>coment</th>\n",
       "      <th>y''_ETD</th>\n",
       "      <th>ACC_AI_ETD</th>\n",
       "    </tr>\n",
       "  </thead>\n",
       "  <tbody>\n",
       "    <tr>\n",
       "      <th>0</th>\n",
       "      <td>angular</td>\n",
       "      <td>Hi, when I am trying to apply class dynamicall...</td>\n",
       "      <td>T2: it is messing up my material css i.e I am ...</td>\n",
       "      <td>PS_NEG_VERB,PS_NEG_AUX_ADV_ADJ,PS_NEG_AUX_VERB,</td>\n",
       "      <td>T1: when I am trying to apply class dynamicall...</td>\n",
       "      <td>ETD_TRYING_TO,</td>\n",
       "      <td>0</td>\n",
       "      <td>0</td>\n",
       "      <td>1</td>\n",
       "      <td>0</td>\n",
       "      <td>...</td>\n",
       "      <td>1</td>\n",
       "      <td>The sentence \"\"\" it is messing up my material ...</td>\n",
       "      <td>PS_NEG_VERB</td>\n",
       "      <td>1.0</td>\n",
       "      <td>0.0</td>\n",
       "      <td>The sentence \"\"\" when I am trying to apply cla...</td>\n",
       "      <td>NaN</td>\n",
       "      <td>NaN</td>\n",
       "      <td>1.0</td>\n",
       "      <td>0.0</td>\n",
       "    </tr>\n",
       "    <tr>\n",
       "      <th>1</th>\n",
       "      <td>angular</td>\n",
       "      <td>is it possible to get a RouteConfig matched ag...</td>\n",
       "      <td>NaN</td>\n",
       "      <td>0</td>\n",
       "      <td>T1: I'm trying to create a Breadcrumb componen...</td>\n",
       "      <td>ETD_BE_POSSIBLE_TO,ETD_TRYING_TO,ETD_WOULD_LIKE,</td>\n",
       "      <td>1</td>\n",
       "      <td>1</td>\n",
       "      <td>1</td>\n",
       "      <td>0</td>\n",
       "      <td>...</td>\n",
       "      <td>1</td>\n",
       "      <td>No patterns found. The answer is NO.</td>\n",
       "      <td>NaN</td>\n",
       "      <td>0.0</td>\n",
       "      <td>0.0</td>\n",
       "      <td>The sentence \"\"\" I'm trying to create a Breadc...</td>\n",
       "      <td>NaN</td>\n",
       "      <td>NaN</td>\n",
       "      <td>1.0</td>\n",
       "      <td>0.0</td>\n",
       "    </tr>\n",
       "    <tr>\n",
       "      <th>2</th>\n",
       "      <td>angular</td>\n",
       "      <td>I have angular running from a .Net Core server...</td>\n",
       "      <td>T1: The server won't even load the app (by des...</td>\n",
       "      <td>PS_NEG_AUX_VERB,</td>\n",
       "      <td>What's the best way for the angular app to get...</td>\n",
       "      <td>0</td>\n",
       "      <td>0</td>\n",
       "      <td>0</td>\n",
       "      <td>1</td>\n",
       "      <td>0</td>\n",
       "      <td>...</td>\n",
       "      <td>0</td>\n",
       "      <td>No patterns found. The answer is NO.</td>\n",
       "      <td>NaN</td>\n",
       "      <td>0.0</td>\n",
       "      <td>1.0</td>\n",
       "      <td>The sentence \"\"\" What's the best way for the a...</td>\n",
       "      <td>new</td>\n",
       "      <td>NaN</td>\n",
       "      <td>1.0</td>\n",
       "      <td>0.0</td>\n",
       "    </tr>\n",
       "    <tr>\n",
       "      <th>3</th>\n",
       "      <td>angular</td>\n",
       "      <td>Hello everyone, I want to do sub menu with sea...</td>\n",
       "      <td>T2: but  i have problem in sub menu</td>\n",
       "      <td>PS_PROBLEM,</td>\n",
       "      <td>T1: I want to do sub menu with searh like in g...</td>\n",
       "      <td>ETD_WANT_TO,ETD_CAN_QUESTION,</td>\n",
       "      <td>0</td>\n",
       "      <td>0</td>\n",
       "      <td>1</td>\n",
       "      <td>0</td>\n",
       "      <td>...</td>\n",
       "      <td>1</td>\n",
       "      <td>The sentence \"\"\" i have problem in sub menu wi...</td>\n",
       "      <td>\"problem\" is the [error-term]</td>\n",
       "      <td>1.0</td>\n",
       "      <td>0.0</td>\n",
       "      <td>The sentence \"i have problem in sub menu with ...</td>\n",
       "      <td>new</td>\n",
       "      <td>NaN</td>\n",
       "      <td>1.0</td>\n",
       "      <td>0.0</td>\n",
       "    </tr>\n",
       "    <tr>\n",
       "      <th>4</th>\n",
       "      <td>angular</td>\n",
       "      <td>I'm struggling with getting this logic\\n      ...</td>\n",
       "      <td>T1: I'm struggling with getting this logic</td>\n",
       "      <td>PS_STRUGGLING,PS_VERB_NO,</td>\n",
       "      <td>T2: I wanted to set a default value to the dro...</td>\n",
       "      <td>ETD_WANT_TO,</td>\n",
       "      <td>0</td>\n",
       "      <td>0</td>\n",
       "      <td>1</td>\n",
       "      <td>0</td>\n",
       "      <td>...</td>\n",
       "      <td>1</td>\n",
       "      <td>The sentence \"I'm struggling with getting this...</td>\n",
       "      <td>NaN</td>\n",
       "      <td>1.0</td>\n",
       "      <td>0.0</td>\n",
       "      <td>The sentence \"\"\"I wanted to set a default valu...</td>\n",
       "      <td>NaN</td>\n",
       "      <td>NaN</td>\n",
       "      <td>1.0</td>\n",
       "      <td>0.0</td>\n",
       "    </tr>\n",
       "    <tr>\n",
       "      <th>...</th>\n",
       "      <td>...</td>\n",
       "      <td>...</td>\n",
       "      <td>...</td>\n",
       "      <td>...</td>\n",
       "      <td>...</td>\n",
       "      <td>...</td>\n",
       "      <td>...</td>\n",
       "      <td>...</td>\n",
       "      <td>...</td>\n",
       "      <td>...</td>\n",
       "      <td>...</td>\n",
       "      <td>...</td>\n",
       "      <td>...</td>\n",
       "      <td>...</td>\n",
       "      <td>...</td>\n",
       "      <td>...</td>\n",
       "      <td>...</td>\n",
       "      <td>...</td>\n",
       "      <td>...</td>\n",
       "      <td>...</td>\n",
       "      <td>...</td>\n",
       "    </tr>\n",
       "    <tr>\n",
       "      <th>995</th>\n",
       "      <td>appium</td>\n",
       "      <td>Hello Can we run automation scripts with signe...</td>\n",
       "      <td>NaN</td>\n",
       "      <td>PS_NEG_VERB,</td>\n",
       "      <td>NaN</td>\n",
       "      <td>ETD_CAN_QUESTION,</td>\n",
       "      <td>0</td>\n",
       "      <td>0</td>\n",
       "      <td>1</td>\n",
       "      <td>0</td>\n",
       "      <td>...</td>\n",
       "      <td>1</td>\n",
       "      <td>NaN</td>\n",
       "      <td>NaN</td>\n",
       "      <td>NaN</td>\n",
       "      <td>NaN</td>\n",
       "      <td>NaN</td>\n",
       "      <td>NaN</td>\n",
       "      <td>NaN</td>\n",
       "      <td>NaN</td>\n",
       "      <td>NaN</td>\n",
       "    </tr>\n",
       "    <tr>\n",
       "      <th>996</th>\n",
       "      <td>deeplearning4j</td>\n",
       "      <td>Hi, I am trying to move to 3.9, but it seems t...</td>\n",
       "      <td>NaN</td>\n",
       "      <td>PS_NEG_AUX_VERB,PS_NEG_AUX_ADV_ADJ,PS_ETD_TRY,</td>\n",
       "      <td>NaN</td>\n",
       "      <td>ETD_TRYING_TO,</td>\n",
       "      <td>0</td>\n",
       "      <td>0</td>\n",
       "      <td>1</td>\n",
       "      <td>0</td>\n",
       "      <td>...</td>\n",
       "      <td>1</td>\n",
       "      <td>NaN</td>\n",
       "      <td>NaN</td>\n",
       "      <td>NaN</td>\n",
       "      <td>NaN</td>\n",
       "      <td>NaN</td>\n",
       "      <td>NaN</td>\n",
       "      <td>NaN</td>\n",
       "      <td>NaN</td>\n",
       "      <td>NaN</td>\n",
       "    </tr>\n",
       "    <tr>\n",
       "      <th>997</th>\n",
       "      <td>angular</td>\n",
       "      <td>Hi, I'm new to angular and I'm trying to integ...</td>\n",
       "      <td>NaN</td>\n",
       "      <td>PS_VERB_ERROR,PS_NEG_ADV_ADJ,</td>\n",
       "      <td>NaN</td>\n",
       "      <td>ETD_TRYING_TO,</td>\n",
       "      <td>0</td>\n",
       "      <td>0</td>\n",
       "      <td>1</td>\n",
       "      <td>0</td>\n",
       "      <td>...</td>\n",
       "      <td>1</td>\n",
       "      <td>NaN</td>\n",
       "      <td>NaN</td>\n",
       "      <td>NaN</td>\n",
       "      <td>NaN</td>\n",
       "      <td>NaN</td>\n",
       "      <td>NaN</td>\n",
       "      <td>NaN</td>\n",
       "      <td>NaN</td>\n",
       "      <td>NaN</td>\n",
       "    </tr>\n",
       "    <tr>\n",
       "      <th>998</th>\n",
       "      <td>angular</td>\n",
       "      <td>I have a service X that currently is scoped to...</td>\n",
       "      <td>NaN</td>\n",
       "      <td>PS_NEG_AUX_ADV_ADJ,PS_ETD_TRY,</td>\n",
       "      <td>NaN</td>\n",
       "      <td>ETD_NEED_TO,ETD_IS_THERE_QUESTION,ETD_WOULD_BE,</td>\n",
       "      <td>0</td>\n",
       "      <td>0</td>\n",
       "      <td>1</td>\n",
       "      <td>0</td>\n",
       "      <td>...</td>\n",
       "      <td>1</td>\n",
       "      <td>NaN</td>\n",
       "      <td>NaN</td>\n",
       "      <td>NaN</td>\n",
       "      <td>NaN</td>\n",
       "      <td>NaN</td>\n",
       "      <td>NaN</td>\n",
       "      <td>NaN</td>\n",
       "      <td>NaN</td>\n",
       "      <td>NaN</td>\n",
       "    </tr>\n",
       "    <tr>\n",
       "      <th>999</th>\n",
       "      <td>angular</td>\n",
       "      <td>Hi guys, hope you're all doing good :) In my a...</td>\n",
       "      <td>NaN</td>\n",
       "      <td>0</td>\n",
       "      <td>and how to prevent this</td>\n",
       "      <td>ETD_HOPE,</td>\n",
       "      <td>0</td>\n",
       "      <td>1</td>\n",
       "      <td>0</td>\n",
       "      <td>0</td>\n",
       "      <td>...</td>\n",
       "      <td>1</td>\n",
       "      <td>NaN</td>\n",
       "      <td>NaN</td>\n",
       "      <td>NaN</td>\n",
       "      <td>NaN</td>\n",
       "      <td>NaN</td>\n",
       "      <td>NaN</td>\n",
       "      <td>NaN</td>\n",
       "      <td>NaN</td>\n",
       "      <td>NaN</td>\n",
       "    </tr>\n",
       "  </tbody>\n",
       "</table>\n",
       "<p>1000 rows × 21 columns</p>\n",
       "</div>"
      ],
      "text/plain": [
       "             source                                              issue  \\\n",
       "0           angular  Hi, when I am trying to apply class dynamicall...   \n",
       "1           angular  is it possible to get a RouteConfig matched ag...   \n",
       "2           angular  I have angular running from a .Net Core server...   \n",
       "3           angular  Hello everyone, I want to do sub menu with sea...   \n",
       "4           angular  I'm struggling with getting this logic\\n      ...   \n",
       "..              ...                                                ...   \n",
       "995          appium  Hello Can we run automation scripts with signe...   \n",
       "996  deeplearning4j  Hi, I am trying to move to 3.9, but it seems t...   \n",
       "997         angular  Hi, I'm new to angular and I'm trying to integ...   \n",
       "998         angular  I have a service X that currently is scoped to...   \n",
       "999         angular  Hi guys, hope you're all doing good :) In my a...   \n",
       "\n",
       "                                               PS_sent  \\\n",
       "0    T2: it is messing up my material css i.e I am ...   \n",
       "1                                                  NaN   \n",
       "2    T1: The server won't even load the app (by des...   \n",
       "3                  T2: but  i have problem in sub menu   \n",
       "4           T1: I'm struggling with getting this logic   \n",
       "..                                                 ...   \n",
       "995                                                NaN   \n",
       "996                                                NaN   \n",
       "997                                                NaN   \n",
       "998                                                NaN   \n",
       "999                                                NaN   \n",
       "\n",
       "                                        predicted_PS  \\\n",
       "0    PS_NEG_VERB,PS_NEG_AUX_ADV_ADJ,PS_NEG_AUX_VERB,   \n",
       "1                                                  0   \n",
       "2                                   PS_NEG_AUX_VERB,   \n",
       "3                                        PS_PROBLEM,   \n",
       "4                          PS_STRUGGLING,PS_VERB_NO,   \n",
       "..                                               ...   \n",
       "995                                     PS_NEG_VERB,   \n",
       "996   PS_NEG_AUX_VERB,PS_NEG_AUX_ADV_ADJ,PS_ETD_TRY,   \n",
       "997                    PS_VERB_ERROR,PS_NEG_ADV_ADJ,   \n",
       "998                   PS_NEG_AUX_ADV_ADJ,PS_ETD_TRY,   \n",
       "999                                                0   \n",
       "\n",
       "                                              ETD_sent  \\\n",
       "0    T1: when I am trying to apply class dynamicall...   \n",
       "1    T1: I'm trying to create a Breadcrumb componen...   \n",
       "2    What's the best way for the angular app to get...   \n",
       "3    T1: I want to do sub menu with searh like in g...   \n",
       "4    T2: I wanted to set a default value to the dro...   \n",
       "..                                                 ...   \n",
       "995                                                NaN   \n",
       "996                                                NaN   \n",
       "997                                                NaN   \n",
       "998                                                NaN   \n",
       "999                            and how to prevent this   \n",
       "\n",
       "                                        predicted_ETD  y_PS  y'_PS  Acc_PS  \\\n",
       "0                                      ETD_TRYING_TO,     0      0       1   \n",
       "1    ETD_BE_POSSIBLE_TO,ETD_TRYING_TO,ETD_WOULD_LIKE,     1      1       1   \n",
       "2                                                   0     0      0       1   \n",
       "3                       ETD_WANT_TO,ETD_CAN_QUESTION,     0      0       1   \n",
       "4                                        ETD_WANT_TO,     0      0       1   \n",
       "..                                                ...   ...    ...     ...   \n",
       "995                                 ETD_CAN_QUESTION,     0      0       1   \n",
       "996                                    ETD_TRYING_TO,     0      0       1   \n",
       "997                                    ETD_TRYING_TO,     0      0       1   \n",
       "998   ETD_NEED_TO,ETD_IS_THERE_QUESTION,ETD_WOULD_BE,     0      0       1   \n",
       "999                                         ETD_HOPE,     0      1       0   \n",
       "\n",
       "     y_ETD  ...  Acc_ETD                                          openAI_PS  \\\n",
       "0        0  ...        1  The sentence \"\"\" it is messing up my material ...   \n",
       "1        0  ...        1               No patterns found. The answer is NO.   \n",
       "2        0  ...        0               No patterns found. The answer is NO.   \n",
       "3        0  ...        1  The sentence \"\"\" i have problem in sub menu wi...   \n",
       "4        0  ...        1  The sentence \"I'm struggling with getting this...   \n",
       "..     ...  ...      ...                                                ...   \n",
       "995      0  ...        1                                                NaN   \n",
       "996      0  ...        1                                                NaN   \n",
       "997      0  ...        1                                                NaN   \n",
       "998      0  ...        1                                                NaN   \n",
       "999      0  ...        1                                                NaN   \n",
       "\n",
       "               Inferred_PS_pattern y''_PS  ACC_AI_PS  \\\n",
       "0                      PS_NEG_VERB    1.0        0.0   \n",
       "1                              NaN    0.0        0.0   \n",
       "2                              NaN    0.0        1.0   \n",
       "3    \"problem\" is the [error-term]    1.0        0.0   \n",
       "4                              NaN    1.0        0.0   \n",
       "..                             ...    ...        ...   \n",
       "995                            NaN    NaN        NaN   \n",
       "996                            NaN    NaN        NaN   \n",
       "997                            NaN    NaN        NaN   \n",
       "998                            NaN    NaN        NaN   \n",
       "999                            NaN    NaN        NaN   \n",
       "\n",
       "                                            openAI_ETD Inferred_ETD_pattern  \\\n",
       "0    The sentence \"\"\" when I am trying to apply cla...                  NaN   \n",
       "1    The sentence \"\"\" I'm trying to create a Breadc...                  NaN   \n",
       "2    The sentence \"\"\" What's the best way for the a...                  new   \n",
       "3    The sentence \"i have problem in sub menu with ...                  new   \n",
       "4    The sentence \"\"\"I wanted to set a default valu...                  NaN   \n",
       "..                                                 ...                  ...   \n",
       "995                                                NaN                  NaN   \n",
       "996                                                NaN                  NaN   \n",
       "997                                                NaN                  NaN   \n",
       "998                                                NaN                  NaN   \n",
       "999                                                NaN                  NaN   \n",
       "\n",
       "    coment y''_ETD  ACC_AI_ETD  \n",
       "0      NaN     1.0         0.0  \n",
       "1      NaN     1.0         0.0  \n",
       "2      NaN     1.0         0.0  \n",
       "3      NaN     1.0         0.0  \n",
       "4      NaN     1.0         0.0  \n",
       "..     ...     ...         ...  \n",
       "995    NaN     NaN         NaN  \n",
       "996    NaN     NaN         NaN  \n",
       "997    NaN     NaN         NaN  \n",
       "998    NaN     NaN         NaN  \n",
       "999    NaN     NaN         NaN  \n",
       "\n",
       "[1000 rows x 21 columns]"
      ]
     },
     "execution_count": 18,
     "metadata": {},
     "output_type": "execute_result"
    }
   ],
   "source": [
    "df_test[\"predicted_ETD\"].fillna(0,inplace=True)\n",
    "df_test[\"predicted_PS\"].fillna(0,inplace=True)\n",
    "df_test"
   ]
  },
  {
   "cell_type": "code",
   "execution_count": 19,
   "id": "4c95015f",
   "metadata": {},
   "outputs": [
    {
     "data": {
      "text/html": [
       "<div>\n",
       "<style scoped>\n",
       "    .dataframe tbody tr th:only-of-type {\n",
       "        vertical-align: middle;\n",
       "    }\n",
       "\n",
       "    .dataframe tbody tr th {\n",
       "        vertical-align: top;\n",
       "    }\n",
       "\n",
       "    .dataframe thead th {\n",
       "        text-align: right;\n",
       "    }\n",
       "</style>\n",
       "<table border=\"1\" class=\"dataframe\">\n",
       "  <thead>\n",
       "    <tr style=\"text-align: right;\">\n",
       "      <th></th>\n",
       "      <th>ETD_GOING_TO</th>\n",
       "      <th>ETD_HAVE_TO</th>\n",
       "      <th>ETD_WOULD_RATHER</th>\n",
       "      <th>ETD_PLAN</th>\n",
       "      <th>ETD_CONSIDER_ACTION</th>\n",
       "      <th>ETD_MUST</th>\n",
       "      <th>ETD_BE_POSSIBLE_TO</th>\n",
       "      <th>ETD_GOAL</th>\n",
       "      <th>ETD_MEAN</th>\n",
       "      <th>ETD_REQUIRES</th>\n",
       "      <th>...</th>\n",
       "      <th>ETD_IN_ORDER_FOR</th>\n",
       "      <th>ETD_WORKING_ON</th>\n",
       "      <th>ETD_NORMALLY</th>\n",
       "      <th>ETD_WANT_TO</th>\n",
       "      <th>ETD_BETTER_TO</th>\n",
       "      <th>ETD_ENVISION</th>\n",
       "      <th>ETD_SUPPOSED_TO</th>\n",
       "      <th>ETD_EXPECTED</th>\n",
       "      <th>ETD_FOR_EXAMPLE</th>\n",
       "      <th>ETD_WOULD_BE</th>\n",
       "    </tr>\n",
       "  </thead>\n",
       "  <tbody>\n",
       "    <tr>\n",
       "      <th>0</th>\n",
       "      <td>0</td>\n",
       "      <td>0</td>\n",
       "      <td>0</td>\n",
       "      <td>0</td>\n",
       "      <td>0</td>\n",
       "      <td>0</td>\n",
       "      <td>0</td>\n",
       "      <td>0</td>\n",
       "      <td>0</td>\n",
       "      <td>0</td>\n",
       "      <td>...</td>\n",
       "      <td>0</td>\n",
       "      <td>0</td>\n",
       "      <td>0</td>\n",
       "      <td>0</td>\n",
       "      <td>0</td>\n",
       "      <td>0</td>\n",
       "      <td>0</td>\n",
       "      <td>0</td>\n",
       "      <td>0</td>\n",
       "      <td>0</td>\n",
       "    </tr>\n",
       "    <tr>\n",
       "      <th>1</th>\n",
       "      <td>0</td>\n",
       "      <td>0</td>\n",
       "      <td>0</td>\n",
       "      <td>0</td>\n",
       "      <td>0</td>\n",
       "      <td>0</td>\n",
       "      <td>1</td>\n",
       "      <td>0</td>\n",
       "      <td>0</td>\n",
       "      <td>0</td>\n",
       "      <td>...</td>\n",
       "      <td>0</td>\n",
       "      <td>0</td>\n",
       "      <td>0</td>\n",
       "      <td>0</td>\n",
       "      <td>0</td>\n",
       "      <td>0</td>\n",
       "      <td>0</td>\n",
       "      <td>0</td>\n",
       "      <td>0</td>\n",
       "      <td>0</td>\n",
       "    </tr>\n",
       "    <tr>\n",
       "      <th>2</th>\n",
       "      <td>0</td>\n",
       "      <td>0</td>\n",
       "      <td>0</td>\n",
       "      <td>0</td>\n",
       "      <td>0</td>\n",
       "      <td>0</td>\n",
       "      <td>0</td>\n",
       "      <td>0</td>\n",
       "      <td>0</td>\n",
       "      <td>0</td>\n",
       "      <td>...</td>\n",
       "      <td>0</td>\n",
       "      <td>0</td>\n",
       "      <td>0</td>\n",
       "      <td>0</td>\n",
       "      <td>0</td>\n",
       "      <td>0</td>\n",
       "      <td>0</td>\n",
       "      <td>0</td>\n",
       "      <td>0</td>\n",
       "      <td>0</td>\n",
       "    </tr>\n",
       "    <tr>\n",
       "      <th>3</th>\n",
       "      <td>0</td>\n",
       "      <td>0</td>\n",
       "      <td>0</td>\n",
       "      <td>0</td>\n",
       "      <td>0</td>\n",
       "      <td>0</td>\n",
       "      <td>0</td>\n",
       "      <td>0</td>\n",
       "      <td>0</td>\n",
       "      <td>0</td>\n",
       "      <td>...</td>\n",
       "      <td>0</td>\n",
       "      <td>0</td>\n",
       "      <td>0</td>\n",
       "      <td>1</td>\n",
       "      <td>0</td>\n",
       "      <td>0</td>\n",
       "      <td>0</td>\n",
       "      <td>0</td>\n",
       "      <td>0</td>\n",
       "      <td>0</td>\n",
       "    </tr>\n",
       "    <tr>\n",
       "      <th>4</th>\n",
       "      <td>0</td>\n",
       "      <td>0</td>\n",
       "      <td>0</td>\n",
       "      <td>0</td>\n",
       "      <td>0</td>\n",
       "      <td>0</td>\n",
       "      <td>0</td>\n",
       "      <td>0</td>\n",
       "      <td>0</td>\n",
       "      <td>0</td>\n",
       "      <td>...</td>\n",
       "      <td>0</td>\n",
       "      <td>0</td>\n",
       "      <td>0</td>\n",
       "      <td>1</td>\n",
       "      <td>0</td>\n",
       "      <td>0</td>\n",
       "      <td>0</td>\n",
       "      <td>0</td>\n",
       "      <td>0</td>\n",
       "      <td>0</td>\n",
       "    </tr>\n",
       "    <tr>\n",
       "      <th>...</th>\n",
       "      <td>...</td>\n",
       "      <td>...</td>\n",
       "      <td>...</td>\n",
       "      <td>...</td>\n",
       "      <td>...</td>\n",
       "      <td>...</td>\n",
       "      <td>...</td>\n",
       "      <td>...</td>\n",
       "      <td>...</td>\n",
       "      <td>...</td>\n",
       "      <td>...</td>\n",
       "      <td>...</td>\n",
       "      <td>...</td>\n",
       "      <td>...</td>\n",
       "      <td>...</td>\n",
       "      <td>...</td>\n",
       "      <td>...</td>\n",
       "      <td>...</td>\n",
       "      <td>...</td>\n",
       "      <td>...</td>\n",
       "      <td>...</td>\n",
       "    </tr>\n",
       "    <tr>\n",
       "      <th>995</th>\n",
       "      <td>0</td>\n",
       "      <td>0</td>\n",
       "      <td>0</td>\n",
       "      <td>0</td>\n",
       "      <td>0</td>\n",
       "      <td>0</td>\n",
       "      <td>0</td>\n",
       "      <td>0</td>\n",
       "      <td>0</td>\n",
       "      <td>0</td>\n",
       "      <td>...</td>\n",
       "      <td>0</td>\n",
       "      <td>0</td>\n",
       "      <td>0</td>\n",
       "      <td>0</td>\n",
       "      <td>0</td>\n",
       "      <td>0</td>\n",
       "      <td>0</td>\n",
       "      <td>0</td>\n",
       "      <td>0</td>\n",
       "      <td>0</td>\n",
       "    </tr>\n",
       "    <tr>\n",
       "      <th>996</th>\n",
       "      <td>0</td>\n",
       "      <td>0</td>\n",
       "      <td>0</td>\n",
       "      <td>0</td>\n",
       "      <td>0</td>\n",
       "      <td>0</td>\n",
       "      <td>0</td>\n",
       "      <td>0</td>\n",
       "      <td>0</td>\n",
       "      <td>0</td>\n",
       "      <td>...</td>\n",
       "      <td>0</td>\n",
       "      <td>0</td>\n",
       "      <td>0</td>\n",
       "      <td>0</td>\n",
       "      <td>0</td>\n",
       "      <td>0</td>\n",
       "      <td>0</td>\n",
       "      <td>0</td>\n",
       "      <td>0</td>\n",
       "      <td>0</td>\n",
       "    </tr>\n",
       "    <tr>\n",
       "      <th>997</th>\n",
       "      <td>0</td>\n",
       "      <td>0</td>\n",
       "      <td>0</td>\n",
       "      <td>0</td>\n",
       "      <td>0</td>\n",
       "      <td>0</td>\n",
       "      <td>0</td>\n",
       "      <td>0</td>\n",
       "      <td>0</td>\n",
       "      <td>0</td>\n",
       "      <td>...</td>\n",
       "      <td>0</td>\n",
       "      <td>0</td>\n",
       "      <td>0</td>\n",
       "      <td>0</td>\n",
       "      <td>0</td>\n",
       "      <td>0</td>\n",
       "      <td>0</td>\n",
       "      <td>0</td>\n",
       "      <td>0</td>\n",
       "      <td>0</td>\n",
       "    </tr>\n",
       "    <tr>\n",
       "      <th>998</th>\n",
       "      <td>0</td>\n",
       "      <td>0</td>\n",
       "      <td>0</td>\n",
       "      <td>0</td>\n",
       "      <td>0</td>\n",
       "      <td>0</td>\n",
       "      <td>0</td>\n",
       "      <td>0</td>\n",
       "      <td>0</td>\n",
       "      <td>0</td>\n",
       "      <td>...</td>\n",
       "      <td>0</td>\n",
       "      <td>0</td>\n",
       "      <td>0</td>\n",
       "      <td>0</td>\n",
       "      <td>0</td>\n",
       "      <td>0</td>\n",
       "      <td>0</td>\n",
       "      <td>0</td>\n",
       "      <td>0</td>\n",
       "      <td>1</td>\n",
       "    </tr>\n",
       "    <tr>\n",
       "      <th>999</th>\n",
       "      <td>0</td>\n",
       "      <td>0</td>\n",
       "      <td>0</td>\n",
       "      <td>0</td>\n",
       "      <td>0</td>\n",
       "      <td>0</td>\n",
       "      <td>0</td>\n",
       "      <td>0</td>\n",
       "      <td>0</td>\n",
       "      <td>0</td>\n",
       "      <td>...</td>\n",
       "      <td>0</td>\n",
       "      <td>0</td>\n",
       "      <td>0</td>\n",
       "      <td>0</td>\n",
       "      <td>0</td>\n",
       "      <td>0</td>\n",
       "      <td>0</td>\n",
       "      <td>0</td>\n",
       "      <td>0</td>\n",
       "      <td>0</td>\n",
       "    </tr>\n",
       "  </tbody>\n",
       "</table>\n",
       "<p>1000 rows × 36 columns</p>\n",
       "</div>"
      ],
      "text/plain": [
       "     ETD_GOING_TO  ETD_HAVE_TO  ETD_WOULD_RATHER  ETD_PLAN  \\\n",
       "0               0            0                 0         0   \n",
       "1               0            0                 0         0   \n",
       "2               0            0                 0         0   \n",
       "3               0            0                 0         0   \n",
       "4               0            0                 0         0   \n",
       "..            ...          ...               ...       ...   \n",
       "995             0            0                 0         0   \n",
       "996             0            0                 0         0   \n",
       "997             0            0                 0         0   \n",
       "998             0            0                 0         0   \n",
       "999             0            0                 0         0   \n",
       "\n",
       "     ETD_CONSIDER_ACTION  ETD_MUST  ETD_BE_POSSIBLE_TO  ETD_GOAL  ETD_MEAN  \\\n",
       "0                      0         0                   0         0         0   \n",
       "1                      0         0                   1         0         0   \n",
       "2                      0         0                   0         0         0   \n",
       "3                      0         0                   0         0         0   \n",
       "4                      0         0                   0         0         0   \n",
       "..                   ...       ...                 ...       ...       ...   \n",
       "995                    0         0                   0         0         0   \n",
       "996                    0         0                   0         0         0   \n",
       "997                    0         0                   0         0         0   \n",
       "998                    0         0                   0         0         0   \n",
       "999                    0         0                   0         0         0   \n",
       "\n",
       "     ETD_REQUIRES  ...  ETD_IN_ORDER_FOR  ETD_WORKING_ON  ETD_NORMALLY  \\\n",
       "0               0  ...                 0               0             0   \n",
       "1               0  ...                 0               0             0   \n",
       "2               0  ...                 0               0             0   \n",
       "3               0  ...                 0               0             0   \n",
       "4               0  ...                 0               0             0   \n",
       "..            ...  ...               ...             ...           ...   \n",
       "995             0  ...                 0               0             0   \n",
       "996             0  ...                 0               0             0   \n",
       "997             0  ...                 0               0             0   \n",
       "998             0  ...                 0               0             0   \n",
       "999             0  ...                 0               0             0   \n",
       "\n",
       "     ETD_WANT_TO  ETD_BETTER_TO  ETD_ENVISION  ETD_SUPPOSED_TO  ETD_EXPECTED  \\\n",
       "0              0              0             0                0             0   \n",
       "1              0              0             0                0             0   \n",
       "2              0              0             0                0             0   \n",
       "3              1              0             0                0             0   \n",
       "4              1              0             0                0             0   \n",
       "..           ...            ...           ...              ...           ...   \n",
       "995            0              0             0                0             0   \n",
       "996            0              0             0                0             0   \n",
       "997            0              0             0                0             0   \n",
       "998            0              0             0                0             0   \n",
       "999            0              0             0                0             0   \n",
       "\n",
       "     ETD_FOR_EXAMPLE  ETD_WOULD_BE  \n",
       "0                  0             0  \n",
       "1                  0             0  \n",
       "2                  0             0  \n",
       "3                  0             0  \n",
       "4                  0             0  \n",
       "..               ...           ...  \n",
       "995                0             0  \n",
       "996                0             0  \n",
       "997                0             0  \n",
       "998                0             1  \n",
       "999                0             0  \n",
       "\n",
       "[1000 rows x 36 columns]"
      ]
     },
     "execution_count": 19,
     "metadata": {},
     "output_type": "execute_result"
    }
   ],
   "source": [
    "df_etd = pattern_matrix_testing(etd_pattern_code, df_test,\"predicted_ETD\")\n",
    "df_etd"
   ]
  },
  {
   "cell_type": "code",
   "execution_count": 20,
   "id": "476523d9",
   "metadata": {},
   "outputs": [
    {
     "data": {
      "text/plain": [
       "[{'ETD_TRYING_TO': 159},\n",
       " {'ETD_WANT_TO': 99},\n",
       " {'ETD_SHOULD': 92},\n",
       " {'ETD_NEED_TO': 81},\n",
       " {'ETD_CAN_QUESTION': 71},\n",
       " {'ETD_IS_THERE_QUESTION': 53},\n",
       " {'ETD_WOULD_LIKE': 35},\n",
       " {'ETD_WOULD_BE': 35},\n",
       " {'ETD_BE_POSSIBLE_TO': 34},\n",
       " {'ETD_HAVE_TO': 33},\n",
       " {'ETD_USED_TO': 32},\n",
       " {'ETD_LOOKING_TO': 19},\n",
       " {'ETD_INSTEAD_OF_EXP_BEHAVIOR': 14},\n",
       " {'ETD_WORKING_ON': 14},\n",
       " {'ETD_REQUIRES': 13},\n",
       " {'ETD_FOR_EXAMPLE': 10},\n",
       " {'ETD_NORMALLY': 7},\n",
       " {'ETD_MUST': 5},\n",
       " {'ETD_IMPLEMENT': 5},\n",
       " {'ETD_EXPECTED': 5},\n",
       " {'ETD_GOING_TO': 2},\n",
       " {'ETD_WOULD_RATHER': 2},\n",
       " {'ETD_MEAN': 2},\n",
       " {'ETD_THINK_ABOUT': 2},\n",
       " {'ETD_ATTEMPT': 2},\n",
       " {'ETD_HOPE': 2},\n",
       " {'ETD_PLAN': 1},\n",
       " {'ETD_CONSIDER_ACTION': 1},\n",
       " {'ETD_GOAL': 1},\n",
       " {'ETD_MAKE_SENSE': 1},\n",
       " {'ETD_IN_ORDER_FOR': 1},\n",
       " {'ETD_SUPPOSED_TO': 1},\n",
       " {'ETD_LEARN': 0},\n",
       " {'ETD_ACCORDING_TO_DOC': 0},\n",
       " {'ETD_BETTER_TO': 0},\n",
       " {'ETD_ENVISION': 0}]"
      ]
     },
     "execution_count": 20,
     "metadata": {},
     "output_type": "execute_result"
    }
   ],
   "source": [
    "pattern_sum = [{k:int(df_etd[k].sum())} for k in etd_pattern_code]\n",
    "pattern_sum.sort(key=lambda d: list(d.values()), reverse=True)\n",
    "pattern_sum"
   ]
  },
  {
   "cell_type": "code",
   "execution_count": null,
   "id": "399e3201",
   "metadata": {},
   "outputs": [],
   "source": [
    "etd_dict = pattern_freq(df_test, \"predicted_ETD\", \"Acc_ETD\", dict.fromkeys(etd_pattern_code,0))"
   ]
  },
  {
   "cell_type": "code",
   "execution_count": 64,
   "id": "31fb67c3",
   "metadata": {},
   "outputs": [],
   "source": [
    "pattern = []\n",
    "freq = []\n",
    "for pattern_freq in pattern_sum:\n",
    "    for k, v in pattern_freq.items():\n",
    "        pattern.append(k)\n",
    "        freq.append(v)"
   ]
  },
  {
   "cell_type": "code",
   "execution_count": 65,
   "id": "45bde66a",
   "metadata": {},
   "outputs": [
    {
     "data": {
      "text/html": [
       "<div>\n",
       "<style scoped>\n",
       "    .dataframe tbody tr th:only-of-type {\n",
       "        vertical-align: middle;\n",
       "    }\n",
       "\n",
       "    .dataframe tbody tr th {\n",
       "        vertical-align: top;\n",
       "    }\n",
       "\n",
       "    .dataframe thead th {\n",
       "        text-align: right;\n",
       "    }\n",
       "</style>\n",
       "<table border=\"1\" class=\"dataframe\">\n",
       "  <thead>\n",
       "    <tr style=\"text-align: right;\">\n",
       "      <th></th>\n",
       "      <th>pattern</th>\n",
       "      <th>frequency</th>\n",
       "    </tr>\n",
       "  </thead>\n",
       "  <tbody>\n",
       "    <tr>\n",
       "      <th>0</th>\n",
       "      <td>ETD_SHOULD</td>\n",
       "      <td>35</td>\n",
       "    </tr>\n",
       "    <tr>\n",
       "      <th>1</th>\n",
       "      <td>ETD_WANT_TO</td>\n",
       "      <td>35</td>\n",
       "    </tr>\n",
       "    <tr>\n",
       "      <th>2</th>\n",
       "      <td>ETD_TRYING_TO</td>\n",
       "      <td>29</td>\n",
       "    </tr>\n",
       "    <tr>\n",
       "      <th>3</th>\n",
       "      <td>ETD_NEED_TO</td>\n",
       "      <td>22</td>\n",
       "    </tr>\n",
       "    <tr>\n",
       "      <th>4</th>\n",
       "      <td>ETD_CAN_QUESTION</td>\n",
       "      <td>16</td>\n",
       "    </tr>\n",
       "  </tbody>\n",
       "</table>\n",
       "</div>"
      ],
      "text/plain": [
       "            pattern  frequency\n",
       "0        ETD_SHOULD         35\n",
       "1       ETD_WANT_TO         35\n",
       "2     ETD_TRYING_TO         29\n",
       "3       ETD_NEED_TO         22\n",
       "4  ETD_CAN_QUESTION         16"
      ]
     },
     "execution_count": 65,
     "metadata": {},
     "output_type": "execute_result"
    }
   ],
   "source": [
    "df_pattern_etd_test = pd.DataFrame()\n",
    "df_pattern_etd_test[\"pattern\"] = pattern\n",
    "df_pattern_etd_test[\"frequency\"] = freq\n",
    "df_pattern_etd_test[\"num_predicted_wrong\"] = [etd_dict[df_pattern_etd_test.loc[i][\"pattern\"]] for i in range(len(df_pattern_etd_test))]\n",
    "df_pattern_etd_test.head()"
   ]
  },
  {
   "cell_type": "code",
   "execution_count": 78,
   "id": "f9296fdb",
   "metadata": {},
   "outputs": [],
   "source": [
    "df_pattern_etd_test.to_csv(\"../chat_pattern/test/etd_pattern_result_analysis.csv\",index =None)"
   ]
  },
  {
   "cell_type": "code",
   "execution_count": 21,
   "id": "6110fe70",
   "metadata": {},
   "outputs": [
    {
     "data": {
      "text/html": [
       "<div>\n",
       "<style scoped>\n",
       "    .dataframe tbody tr th:only-of-type {\n",
       "        vertical-align: middle;\n",
       "    }\n",
       "\n",
       "    .dataframe tbody tr th {\n",
       "        vertical-align: top;\n",
       "    }\n",
       "\n",
       "    .dataframe thead th {\n",
       "        text-align: right;\n",
       "    }\n",
       "</style>\n",
       "<table border=\"1\" class=\"dataframe\">\n",
       "  <thead>\n",
       "    <tr style=\"text-align: right;\">\n",
       "      <th></th>\n",
       "      <th>PS_WITH_NO</th>\n",
       "      <th>PS_TIME_LIMIT</th>\n",
       "      <th>PS_ETD_TRY</th>\n",
       "      <th>PS_ERROR_OCCUR</th>\n",
       "      <th>PS_ONLY</th>\n",
       "      <th>PS_NOTICE</th>\n",
       "      <th>PS_SURPRISED_THAT</th>\n",
       "      <th>PS_PROBLEM</th>\n",
       "      <th>PS_NO_LONGER</th>\n",
       "      <th>PS_BUT_RB</th>\n",
       "      <th>...</th>\n",
       "      <th>PS_NEG_AUX_VERB</th>\n",
       "      <th>PS_STUCK</th>\n",
       "      <th>PS_STRUGGLING</th>\n",
       "      <th>PS_NOT_IN</th>\n",
       "      <th>PS_NEG_AUX_ADV_ADJ</th>\n",
       "      <th>PS_TOO</th>\n",
       "      <th>PS_END_UP</th>\n",
       "      <th>PS_VERB_NO</th>\n",
       "      <th>PS_VERB_TO_BE_NEGATIVE</th>\n",
       "      <th>PS_PROBLEM_IS</th>\n",
       "    </tr>\n",
       "  </thead>\n",
       "  <tbody>\n",
       "    <tr>\n",
       "      <th>0</th>\n",
       "      <td>0</td>\n",
       "      <td>0</td>\n",
       "      <td>0</td>\n",
       "      <td>0</td>\n",
       "      <td>0</td>\n",
       "      <td>0</td>\n",
       "      <td>0</td>\n",
       "      <td>0</td>\n",
       "      <td>0</td>\n",
       "      <td>0</td>\n",
       "      <td>...</td>\n",
       "      <td>1</td>\n",
       "      <td>0</td>\n",
       "      <td>0</td>\n",
       "      <td>0</td>\n",
       "      <td>1</td>\n",
       "      <td>0</td>\n",
       "      <td>0</td>\n",
       "      <td>0</td>\n",
       "      <td>0</td>\n",
       "      <td>0</td>\n",
       "    </tr>\n",
       "    <tr>\n",
       "      <th>1</th>\n",
       "      <td>0</td>\n",
       "      <td>0</td>\n",
       "      <td>0</td>\n",
       "      <td>0</td>\n",
       "      <td>0</td>\n",
       "      <td>0</td>\n",
       "      <td>0</td>\n",
       "      <td>0</td>\n",
       "      <td>0</td>\n",
       "      <td>0</td>\n",
       "      <td>...</td>\n",
       "      <td>0</td>\n",
       "      <td>0</td>\n",
       "      <td>0</td>\n",
       "      <td>0</td>\n",
       "      <td>0</td>\n",
       "      <td>0</td>\n",
       "      <td>0</td>\n",
       "      <td>0</td>\n",
       "      <td>0</td>\n",
       "      <td>0</td>\n",
       "    </tr>\n",
       "    <tr>\n",
       "      <th>2</th>\n",
       "      <td>0</td>\n",
       "      <td>0</td>\n",
       "      <td>0</td>\n",
       "      <td>0</td>\n",
       "      <td>0</td>\n",
       "      <td>0</td>\n",
       "      <td>0</td>\n",
       "      <td>0</td>\n",
       "      <td>0</td>\n",
       "      <td>0</td>\n",
       "      <td>...</td>\n",
       "      <td>1</td>\n",
       "      <td>0</td>\n",
       "      <td>0</td>\n",
       "      <td>0</td>\n",
       "      <td>0</td>\n",
       "      <td>0</td>\n",
       "      <td>0</td>\n",
       "      <td>0</td>\n",
       "      <td>0</td>\n",
       "      <td>0</td>\n",
       "    </tr>\n",
       "    <tr>\n",
       "      <th>3</th>\n",
       "      <td>0</td>\n",
       "      <td>0</td>\n",
       "      <td>0</td>\n",
       "      <td>0</td>\n",
       "      <td>0</td>\n",
       "      <td>0</td>\n",
       "      <td>0</td>\n",
       "      <td>1</td>\n",
       "      <td>0</td>\n",
       "      <td>0</td>\n",
       "      <td>...</td>\n",
       "      <td>0</td>\n",
       "      <td>0</td>\n",
       "      <td>0</td>\n",
       "      <td>0</td>\n",
       "      <td>0</td>\n",
       "      <td>0</td>\n",
       "      <td>0</td>\n",
       "      <td>0</td>\n",
       "      <td>0</td>\n",
       "      <td>0</td>\n",
       "    </tr>\n",
       "    <tr>\n",
       "      <th>4</th>\n",
       "      <td>0</td>\n",
       "      <td>0</td>\n",
       "      <td>0</td>\n",
       "      <td>0</td>\n",
       "      <td>0</td>\n",
       "      <td>0</td>\n",
       "      <td>0</td>\n",
       "      <td>0</td>\n",
       "      <td>0</td>\n",
       "      <td>0</td>\n",
       "      <td>...</td>\n",
       "      <td>0</td>\n",
       "      <td>0</td>\n",
       "      <td>1</td>\n",
       "      <td>0</td>\n",
       "      <td>0</td>\n",
       "      <td>0</td>\n",
       "      <td>0</td>\n",
       "      <td>1</td>\n",
       "      <td>0</td>\n",
       "      <td>0</td>\n",
       "    </tr>\n",
       "    <tr>\n",
       "      <th>...</th>\n",
       "      <td>...</td>\n",
       "      <td>...</td>\n",
       "      <td>...</td>\n",
       "      <td>...</td>\n",
       "      <td>...</td>\n",
       "      <td>...</td>\n",
       "      <td>...</td>\n",
       "      <td>...</td>\n",
       "      <td>...</td>\n",
       "      <td>...</td>\n",
       "      <td>...</td>\n",
       "      <td>...</td>\n",
       "      <td>...</td>\n",
       "      <td>...</td>\n",
       "      <td>...</td>\n",
       "      <td>...</td>\n",
       "      <td>...</td>\n",
       "      <td>...</td>\n",
       "      <td>...</td>\n",
       "      <td>...</td>\n",
       "      <td>...</td>\n",
       "    </tr>\n",
       "    <tr>\n",
       "      <th>995</th>\n",
       "      <td>0</td>\n",
       "      <td>0</td>\n",
       "      <td>0</td>\n",
       "      <td>0</td>\n",
       "      <td>0</td>\n",
       "      <td>0</td>\n",
       "      <td>0</td>\n",
       "      <td>0</td>\n",
       "      <td>0</td>\n",
       "      <td>0</td>\n",
       "      <td>...</td>\n",
       "      <td>0</td>\n",
       "      <td>0</td>\n",
       "      <td>0</td>\n",
       "      <td>0</td>\n",
       "      <td>0</td>\n",
       "      <td>0</td>\n",
       "      <td>0</td>\n",
       "      <td>0</td>\n",
       "      <td>0</td>\n",
       "      <td>0</td>\n",
       "    </tr>\n",
       "    <tr>\n",
       "      <th>996</th>\n",
       "      <td>0</td>\n",
       "      <td>0</td>\n",
       "      <td>1</td>\n",
       "      <td>0</td>\n",
       "      <td>0</td>\n",
       "      <td>0</td>\n",
       "      <td>0</td>\n",
       "      <td>0</td>\n",
       "      <td>0</td>\n",
       "      <td>0</td>\n",
       "      <td>...</td>\n",
       "      <td>1</td>\n",
       "      <td>0</td>\n",
       "      <td>0</td>\n",
       "      <td>0</td>\n",
       "      <td>1</td>\n",
       "      <td>0</td>\n",
       "      <td>0</td>\n",
       "      <td>0</td>\n",
       "      <td>0</td>\n",
       "      <td>0</td>\n",
       "    </tr>\n",
       "    <tr>\n",
       "      <th>997</th>\n",
       "      <td>0</td>\n",
       "      <td>0</td>\n",
       "      <td>0</td>\n",
       "      <td>0</td>\n",
       "      <td>0</td>\n",
       "      <td>0</td>\n",
       "      <td>0</td>\n",
       "      <td>0</td>\n",
       "      <td>0</td>\n",
       "      <td>0</td>\n",
       "      <td>...</td>\n",
       "      <td>0</td>\n",
       "      <td>0</td>\n",
       "      <td>0</td>\n",
       "      <td>0</td>\n",
       "      <td>0</td>\n",
       "      <td>0</td>\n",
       "      <td>0</td>\n",
       "      <td>0</td>\n",
       "      <td>0</td>\n",
       "      <td>0</td>\n",
       "    </tr>\n",
       "    <tr>\n",
       "      <th>998</th>\n",
       "      <td>0</td>\n",
       "      <td>0</td>\n",
       "      <td>1</td>\n",
       "      <td>0</td>\n",
       "      <td>0</td>\n",
       "      <td>0</td>\n",
       "      <td>0</td>\n",
       "      <td>0</td>\n",
       "      <td>0</td>\n",
       "      <td>0</td>\n",
       "      <td>...</td>\n",
       "      <td>0</td>\n",
       "      <td>0</td>\n",
       "      <td>0</td>\n",
       "      <td>0</td>\n",
       "      <td>1</td>\n",
       "      <td>0</td>\n",
       "      <td>0</td>\n",
       "      <td>0</td>\n",
       "      <td>0</td>\n",
       "      <td>0</td>\n",
       "    </tr>\n",
       "    <tr>\n",
       "      <th>999</th>\n",
       "      <td>0</td>\n",
       "      <td>0</td>\n",
       "      <td>0</td>\n",
       "      <td>0</td>\n",
       "      <td>0</td>\n",
       "      <td>0</td>\n",
       "      <td>0</td>\n",
       "      <td>0</td>\n",
       "      <td>0</td>\n",
       "      <td>0</td>\n",
       "      <td>...</td>\n",
       "      <td>0</td>\n",
       "      <td>0</td>\n",
       "      <td>0</td>\n",
       "      <td>0</td>\n",
       "      <td>0</td>\n",
       "      <td>0</td>\n",
       "      <td>0</td>\n",
       "      <td>0</td>\n",
       "      <td>0</td>\n",
       "      <td>0</td>\n",
       "    </tr>\n",
       "  </tbody>\n",
       "</table>\n",
       "<p>1000 rows × 30 columns</p>\n",
       "</div>"
      ],
      "text/plain": [
       "     PS_WITH_NO  PS_TIME_LIMIT  PS_ETD_TRY  PS_ERROR_OCCUR  PS_ONLY  \\\n",
       "0             0              0           0               0        0   \n",
       "1             0              0           0               0        0   \n",
       "2             0              0           0               0        0   \n",
       "3             0              0           0               0        0   \n",
       "4             0              0           0               0        0   \n",
       "..          ...            ...         ...             ...      ...   \n",
       "995           0              0           0               0        0   \n",
       "996           0              0           1               0        0   \n",
       "997           0              0           0               0        0   \n",
       "998           0              0           1               0        0   \n",
       "999           0              0           0               0        0   \n",
       "\n",
       "     PS_NOTICE  PS_SURPRISED_THAT  PS_PROBLEM  PS_NO_LONGER  PS_BUT_RB  ...  \\\n",
       "0            0                  0           0             0          0  ...   \n",
       "1            0                  0           0             0          0  ...   \n",
       "2            0                  0           0             0          0  ...   \n",
       "3            0                  0           1             0          0  ...   \n",
       "4            0                  0           0             0          0  ...   \n",
       "..         ...                ...         ...           ...        ...  ...   \n",
       "995          0                  0           0             0          0  ...   \n",
       "996          0                  0           0             0          0  ...   \n",
       "997          0                  0           0             0          0  ...   \n",
       "998          0                  0           0             0          0  ...   \n",
       "999          0                  0           0             0          0  ...   \n",
       "\n",
       "     PS_NEG_AUX_VERB  PS_STUCK  PS_STRUGGLING  PS_NOT_IN  PS_NEG_AUX_ADV_ADJ  \\\n",
       "0                  1         0              0          0                   1   \n",
       "1                  0         0              0          0                   0   \n",
       "2                  1         0              0          0                   0   \n",
       "3                  0         0              0          0                   0   \n",
       "4                  0         0              1          0                   0   \n",
       "..               ...       ...            ...        ...                 ...   \n",
       "995                0         0              0          0                   0   \n",
       "996                1         0              0          0                   1   \n",
       "997                0         0              0          0                   0   \n",
       "998                0         0              0          0                   1   \n",
       "999                0         0              0          0                   0   \n",
       "\n",
       "     PS_TOO  PS_END_UP  PS_VERB_NO  PS_VERB_TO_BE_NEGATIVE  PS_PROBLEM_IS  \n",
       "0         0          0           0                       0              0  \n",
       "1         0          0           0                       0              0  \n",
       "2         0          0           0                       0              0  \n",
       "3         0          0           0                       0              0  \n",
       "4         0          0           1                       0              0  \n",
       "..      ...        ...         ...                     ...            ...  \n",
       "995       0          0           0                       0              0  \n",
       "996       0          0           0                       0              0  \n",
       "997       0          0           0                       0              0  \n",
       "998       0          0           0                       0              0  \n",
       "999       0          0           0                       0              0  \n",
       "\n",
       "[1000 rows x 30 columns]"
      ]
     },
     "execution_count": 21,
     "metadata": {},
     "output_type": "execute_result"
    }
   ],
   "source": [
    "df_ps = pattern_matrix_testing(ps_pattern_code, df_test,\"predicted_PS\")\n",
    "df_ps"
   ]
  },
  {
   "cell_type": "code",
   "execution_count": 22,
   "id": "254a926a",
   "metadata": {},
   "outputs": [
    {
     "data": {
      "text/plain": [
       "[{'PS_NEG_AUX_VERB': 422},\n",
       " {'PS_VERB_ERROR': 210},\n",
       " {'PS_PROBLEM': 178},\n",
       " {'PS_NEG_ADV_ADJ': 136},\n",
       " {'PS_NEG_VERB': 128},\n",
       " {'PS_ERROR_NOUN_PHRASE': 125},\n",
       " {'PS_NEG_AUX_ADV_ADJ': 82},\n",
       " {'PS_ETD_TRY': 68},\n",
       " {'PS_ONLY': 50},\n",
       " {'PS_NO_NOUN': 36},\n",
       " {'PS_PROBLEM_IS': 33},\n",
       " {'PS_ERROR_OCCUR': 26},\n",
       " {'PS_BUT_RB': 14},\n",
       " {'PS_SEEMS_TO_NEG_VERB': 13},\n",
       " {'PS_NOTICE': 12},\n",
       " {'PS_VERB_NO': 11},\n",
       " {'PS_VERB_TO_BE_NEGATIVE': 9},\n",
       " {'PS_TOO': 6},\n",
       " {'PS_STUCK': 5},\n",
       " {'PS_STRUGGLING': 5},\n",
       " {'PS_WITH_NO': 4},\n",
       " {'PS_NO_LONGER': 3},\n",
       " {'PS_IS_THIS_NEG': 3},\n",
       " {'PS_NOT_IN': 3},\n",
       " {'PS_TIME_LIMIT': 1},\n",
       " {'PS_END_UP': 1},\n",
       " {'PS_SURPRISED_THAT': 0},\n",
       " {'PS_FIND_HARD': 0},\n",
       " {'PS_WHERE_SHOULD_NEG': 0},\n",
       " {'PS_MAKE_NEG_ADV': 0}]"
      ]
     },
     "execution_count": 22,
     "metadata": {},
     "output_type": "execute_result"
    }
   ],
   "source": [
    "pattern_sum = [{k:int(df_ps[k].sum())} for k in ps_pattern_code]\n",
    "pattern_sum.sort(key=lambda d: list(d.values()), reverse=True)\n",
    "pattern_sum"
   ]
  },
  {
   "cell_type": "code",
   "execution_count": 118,
   "id": "c0a6ea93",
   "metadata": {},
   "outputs": [],
   "source": [
    "ps_dict = pattern_freq(df_test, \"predicted_PS\", \"Acc_PS\", dict.fromkeys(ps_pattern_code,0))"
   ]
  },
  {
   "cell_type": "code",
   "execution_count": 119,
   "id": "8d6e25e7",
   "metadata": {},
   "outputs": [],
   "source": [
    "pattern = []\n",
    "freq = []\n",
    "for pattern_freq in pattern_sum:\n",
    "    for k, v in pattern_freq.items():\n",
    "        pattern.append(k)\n",
    "        freq.append(v)"
   ]
  },
  {
   "cell_type": "code",
   "execution_count": 120,
   "id": "8f7fb64f",
   "metadata": {},
   "outputs": [
    {
     "data": {
      "text/html": [
       "<div>\n",
       "<style scoped>\n",
       "    .dataframe tbody tr th:only-of-type {\n",
       "        vertical-align: middle;\n",
       "    }\n",
       "\n",
       "    .dataframe tbody tr th {\n",
       "        vertical-align: top;\n",
       "    }\n",
       "\n",
       "    .dataframe thead th {\n",
       "        text-align: right;\n",
       "    }\n",
       "</style>\n",
       "<table border=\"1\" class=\"dataframe\">\n",
       "  <thead>\n",
       "    <tr style=\"text-align: right;\">\n",
       "      <th></th>\n",
       "      <th>pattern</th>\n",
       "      <th>frequency</th>\n",
       "      <th>num_predicted_wrong</th>\n",
       "    </tr>\n",
       "  </thead>\n",
       "  <tbody>\n",
       "    <tr>\n",
       "      <th>0</th>\n",
       "      <td>PS_NEG_AUX_VERB</td>\n",
       "      <td>90</td>\n",
       "      <td>2</td>\n",
       "    </tr>\n",
       "    <tr>\n",
       "      <th>1</th>\n",
       "      <td>PS_VERB_ERROR</td>\n",
       "      <td>45</td>\n",
       "      <td>2</td>\n",
       "    </tr>\n",
       "    <tr>\n",
       "      <th>2</th>\n",
       "      <td>PS_NEG_ADV_ADJ</td>\n",
       "      <td>42</td>\n",
       "      <td>3</td>\n",
       "    </tr>\n",
       "    <tr>\n",
       "      <th>3</th>\n",
       "      <td>PS_PROBLEM</td>\n",
       "      <td>40</td>\n",
       "      <td>0</td>\n",
       "    </tr>\n",
       "    <tr>\n",
       "      <th>4</th>\n",
       "      <td>PS_ERROR_NOUN_PHRASE</td>\n",
       "      <td>36</td>\n",
       "      <td>1</td>\n",
       "    </tr>\n",
       "  </tbody>\n",
       "</table>\n",
       "</div>"
      ],
      "text/plain": [
       "                pattern  frequency  num_predicted_wrong\n",
       "0       PS_NEG_AUX_VERB         90                    2\n",
       "1         PS_VERB_ERROR         45                    2\n",
       "2        PS_NEG_ADV_ADJ         42                    3\n",
       "3            PS_PROBLEM         40                    0\n",
       "4  PS_ERROR_NOUN_PHRASE         36                    1"
      ]
     },
     "execution_count": 120,
     "metadata": {},
     "output_type": "execute_result"
    }
   ],
   "source": [
    "df_pattern_ps_test = pd.DataFrame()\n",
    "df_pattern_ps_test[\"pattern\"] = pattern\n",
    "df_pattern_ps_test[\"frequency\"] = freq\n",
    "df_pattern_ps_test[\"num_predicted_wrong\"] = [ps_dict[df_pattern_ps_test.loc[i][\"pattern\"]] for i in range(len(df_pattern_ps_test))]\n",
    "df_pattern_ps_test.head()"
   ]
  },
  {
   "cell_type": "code",
   "execution_count": 121,
   "id": "bc601ea0",
   "metadata": {},
   "outputs": [],
   "source": [
    "df_pattern_ps_test.to_csv(\"../chat_pattern/test/ps_pattern_result_analysis.csv\",index =None)"
   ]
  },
  {
   "cell_type": "code",
   "execution_count": 123,
   "id": "c9d957c0",
   "metadata": {},
   "outputs": [],
   "source": [
    "df_etd.to_csv(\"../chat_pattern/test/etd_pattern_testing.csv\",index =None)\n",
    "df_ps.to_csv(\"../chat_pattern/test/ps_pattern_testing.csv\",index =None)"
   ]
  },
  {
   "cell_type": "markdown",
   "id": "41dbbf82",
   "metadata": {},
   "source": [
    "## Evaluation"
   ]
  },
  {
   "cell_type": "code",
   "execution_count": 289,
   "id": "827140ce",
   "metadata": {},
   "outputs": [],
   "source": [
    "from sklearn.model_selection import StratifiedKFold\n",
    "from sklearn.model_selection import validation_curve\n",
    "from sklearn.metrics import make_scorer\n",
    "from sklearn import metrics as mt\n",
    "from sklearn.metrics import f1_score as f1\n",
    "from sklearn.svm import SVC\n",
    "import seaborn as sns\n",
    "from sklearn.metrics import mean_squared_error\n",
    "import matplotlib.pyplot as plt\n",
    "import warnings\n",
    "warnings.simplefilter('ignore', DeprecationWarning)\n",
    "%matplotlib inline"
   ]
  },
  {
   "cell_type": "code",
   "execution_count": 11,
   "id": "7825b858",
   "metadata": {},
   "outputs": [],
   "source": [
    "df_test = pd.read_csv(\"../chat_pattern/chat_test_missing_1000.csv\")"
   ]
  },
  {
   "cell_type": "code",
   "execution_count": 12,
   "id": "49b62902",
   "metadata": {},
   "outputs": [
    {
     "name": "stdout",
     "output_type": "stream",
     "text": [
      "precision: 0.617 recall: 0.811 F1: 0.701\n"
     ]
    }
   ],
   "source": [
    "predictions_etd = df_test[\"y'_ETD\"]\n",
    "y_test = df_test[\"y_ETD\"]\n",
    "precison_etd = mt.precision_score(y_test, predictions_etd)\n",
    "recall_etd = mt.recall_score(y_test, predictions_etd)\n",
    "score_etd = mt.f1_score(y_test, predictions_etd)\n",
    "\n",
    "print(\"precision:\",round(precison_etd,3),\"recall:\",round(recall_etd,3),\"F1:\",round(score_etd,3))"
   ]
  },
  {
   "cell_type": "code",
   "execution_count": 13,
   "id": "a932051f",
   "metadata": {},
   "outputs": [
    {
     "name": "stdout",
     "output_type": "stream",
     "text": [
      "precision: 0.793 recall: 0.69 F1: 0.738\n"
     ]
    }
   ],
   "source": [
    "predictions = df_test[\"y'_PS\"]\n",
    "y_test = df_test[\"y_PS\"]\n",
    "precison_ps = mt.precision_score(y_test, predictions)\n",
    "recall_ps = mt.recall_score(y_test, predictions)\n",
    "score_ps = mt.f1_score(y_test, predictions)\n",
    "\n",
    "print(\"precision:\",round(precison_ps,3),\"recall:\",round(recall_ps,3),\"F1:\",round(score_ps,3))"
   ]
  },
  {
   "cell_type": "code",
   "execution_count": 150,
   "id": "48077a6a",
   "metadata": {},
   "outputs": [
    {
     "name": "stdout",
     "output_type": "stream",
     "text": [
      "precision: 0.891 recall: 0.756 F1: 0.818\n"
     ]
    }
   ],
   "source": [
    "predictions_etd = df_test[\"y'_ETD\"]\n",
    "y_test = df_test[\"y_ETD\"]\n",
    "precison_etd = mt.precision_score(y_test, predictions_etd)\n",
    "recall_etd = mt.recall_score(y_test, predictions_etd)\n",
    "score_etd = mt.f1_score(y_test, predictions_etd)\n",
    "\n",
    "print(\"precision:\",round(precison_etd,3),\"recall:\",round(recall_etd,3),\"F1:\",round(score_etd,3))"
   ]
  },
  {
   "cell_type": "code",
   "execution_count": 142,
   "id": "f58b2a93",
   "metadata": {},
   "outputs": [
    {
     "name": "stdout",
     "output_type": "stream",
     "text": [
      "precision: 0.871 recall: 0.921 F1: 0.895\n"
     ]
    }
   ],
   "source": [
    "predictions = df_test[\"y'_PS\"]\n",
    "y_test = df_test[\"y_PS\"]\n",
    "precison_ps = mt.precision_score(y_test, predictions)\n",
    "recall_ps = mt.recall_score(y_test, predictions)\n",
    "score_ps = mt.f1_score(y_test, predictions)\n",
    "\n",
    "print(\"precision:\",round(precison_ps,3),\"recall:\",round(recall_ps,3),\"F1:\",round(score_ps,3))"
   ]
  },
  {
   "cell_type": "code",
   "execution_count": 12,
   "id": "0cd2c384",
   "metadata": {},
   "outputs": [
    {
     "name": "stdout",
     "output_type": "stream",
     "text": [
      "precision: 0.81 recall: 0.943 F1: 0.871\n"
     ]
    }
   ],
   "source": [
    "predictions = df_test[\"y''_ETD\"]\n",
    "y_test = df_test[\"y_ETD\"]\n",
    "precison_ps = mt.precision_score(y_test, predictions)\n",
    "recall_ps = mt.recall_score(y_test, predictions)\n",
    "score_ps = mt.f1_score(y_test, predictions)\n",
    "\n",
    "print(\"precision:\",round(precison_ps,3),\"recall:\",round(recall_ps,3),\"F1:\",round(score_ps,3))"
   ]
  },
  {
   "cell_type": "code",
   "execution_count": null,
   "id": "9234b8ff",
   "metadata": {},
   "outputs": [],
   "source": []
  },
  {
   "cell_type": "code",
   "execution_count": 151,
   "id": "7a971dce",
   "metadata": {},
   "outputs": [
    {
     "name": "stdout",
     "output_type": "stream",
     "text": [
      "precision: 0.915 recall: 0.934 F1: 0.925\n"
     ]
    }
   ],
   "source": [
    "df_test_random = pd.read_csv(\"../../openai/experiment/random/etd_rand1_6example_result.csv\")\n",
    "predictions_etd = df_test_random[\"y''_ETD\"]\n",
    "y_test = df_test_random[\"y_ETD\"]\n",
    "precison_etd = mt.precision_score(y_test, predictions_etd)\n",
    "recall_etd = mt.recall_score(y_test, predictions_etd)\n",
    "score_etd = mt.f1_score(y_test, predictions_etd)\n",
    "\n",
    "print(\"precision:\",round(precison_etd,3),\"recall:\",round(recall_etd,3),\"F1:\",round(score_etd,3))"
   ]
  },
  {
   "cell_type": "code",
   "execution_count": 152,
   "id": "5d2808b9",
   "metadata": {},
   "outputs": [
    {
     "name": "stdout",
     "output_type": "stream",
     "text": [
      "precision: 0.878 recall: 0.954 F1: 0.914\n"
     ]
    }
   ],
   "source": [
    "df_test_random = pd.read_csv(\"../../openai/experiment/random/etd_rand1_5example_result.csv\")\n",
    "predictions_etd = df_test_random[\"y''_ETD\"]\n",
    "y_test = df_test_random[\"y_ETD\"]\n",
    "precison_etd = mt.precision_score(y_test, predictions_etd)\n",
    "recall_etd = mt.recall_score(y_test, predictions_etd)\n",
    "score_etd = mt.f1_score(y_test, predictions_etd)\n",
    "\n",
    "print(\"precision:\",round(precison_etd,3),\"recall:\",round(recall_etd,3),\"F1:\",round(score_etd,3))"
   ]
  },
  {
   "cell_type": "code",
   "execution_count": 153,
   "id": "ea5b81fa",
   "metadata": {},
   "outputs": [
    {
     "name": "stdout",
     "output_type": "stream",
     "text": [
      "precision: 0.875 recall: 0.917 F1: 0.895\n"
     ]
    }
   ],
   "source": [
    "df_test_random = pd.read_csv(\"../../openai/experiment/random/etd_rand1_4example_result.csv\")\n",
    "predictions_etd = df_test_random[\"y''_ETD\"]\n",
    "y_test = df_test_random[\"y_ETD\"]\n",
    "precison_etd = mt.precision_score(y_test, predictions_etd)\n",
    "recall_etd = mt.recall_score(y_test, predictions_etd)\n",
    "score_etd = mt.f1_score(y_test, predictions_etd)\n",
    "\n",
    "print(\"precision:\",round(precison_etd,3),\"recall:\",round(recall_etd,3),\"F1:\",round(score_etd,3))"
   ]
  },
  {
   "cell_type": "code",
   "execution_count": 154,
   "id": "99179ce0",
   "metadata": {},
   "outputs": [
    {
     "name": "stdout",
     "output_type": "stream",
     "text": [
      "precision: 0.888 recall: 0.866 F1: 0.877\n"
     ]
    }
   ],
   "source": [
    "df_test_random = pd.read_csv(\"../../openai/experiment/random/etd_rand1_3example_result.csv\")\n",
    "predictions_etd = df_test_random[\"y''_ETD\"]\n",
    "y_test = df_test_random[\"y_ETD\"]\n",
    "precison_etd = mt.precision_score(y_test, predictions_etd)\n",
    "recall_etd = mt.recall_score(y_test, predictions_etd)\n",
    "score_etd = mt.f1_score(y_test, predictions_etd)\n",
    "\n",
    "print(\"precision:\",round(precison_etd,3),\"recall:\",round(recall_etd,3),\"F1:\",round(score_etd,3))"
   ]
  },
  {
   "cell_type": "code",
   "execution_count": 155,
   "id": "f900c66a",
   "metadata": {},
   "outputs": [
    {
     "name": "stdout",
     "output_type": "stream",
     "text": [
      "precision: 0.879 recall: 0.921 F1: 0.9\n"
     ]
    }
   ],
   "source": [
    "df_test_random = pd.read_csv(\"../../openai/experiment/random/etd_rand1_7example_result.csv\")\n",
    "predictions_etd = df_test_random[\"y''_ETD\"]\n",
    "y_test = df_test_random[\"y_ETD\"]\n",
    "precison_etd = mt.precision_score(y_test, predictions_etd)\n",
    "recall_etd = mt.recall_score(y_test, predictions_etd)\n",
    "score_etd = mt.f1_score(y_test, predictions_etd)\n",
    "\n",
    "print(\"precision:\",round(precison_etd,3),\"recall:\",round(recall_etd,3),\"F1:\",round(score_etd,3))"
   ]
  },
  {
   "cell_type": "code",
   "execution_count": 10,
   "id": "895d6311",
   "metadata": {},
   "outputs": [
    {
     "name": "stdout",
     "output_type": "stream",
     "text": [
      "precision: 0.912 recall: 0.821 F1: 0.865\n"
     ]
    }
   ],
   "source": [
    "df_test_random = pd.read_csv(\"../../openai/experiment/random/etd_rand1_8example_result.csv\")\n",
    "predictions_etd = df_test_random[\"y''_ETD\"]\n",
    "y_test = df_test_random[\"y_ETD\"]\n",
    "precison_etd = mt.precision_score(y_test, predictions_etd)\n",
    "recall_etd = mt.recall_score(y_test, predictions_etd)\n",
    "score_etd = mt.f1_score(y_test, predictions_etd)\n",
    "\n",
    "print(\"precision:\",round(precison_etd,3),\"recall:\",round(recall_etd,3),\"F1:\",round(score_etd,3))"
   ]
  },
  {
   "cell_type": "code",
   "execution_count": 11,
   "id": "a4446183",
   "metadata": {},
   "outputs": [
    {
     "name": "stdout",
     "output_type": "stream",
     "text": [
      "precision: 0.865 recall: 0.914 F1: 0.889\n"
     ]
    }
   ],
   "source": [
    "df_test_random = pd.read_csv(\"../../openai/experiment/random/etd_rand2_6example_result.csv\")\n",
    "predictions_etd = df_test_random[\"y''_ETD\"]\n",
    "y_test = df_test_random[\"y_ETD\"]\n",
    "precison_etd = mt.precision_score(y_test, predictions_etd)\n",
    "recall_etd = mt.recall_score(y_test, predictions_etd)\n",
    "score_etd = mt.f1_score(y_test, predictions_etd)\n",
    "\n",
    "print(\"precision:\",round(precison_etd,3),\"recall:\",round(recall_etd,3),\"F1:\",round(score_etd,3))"
   ]
  },
  {
   "cell_type": "code",
   "execution_count": 12,
   "id": "145b946c",
   "metadata": {},
   "outputs": [
    {
     "name": "stdout",
     "output_type": "stream",
     "text": [
      "precision: 0.846 recall: 0.951 F1: 0.896\n"
     ]
    }
   ],
   "source": [
    "df_test_random = pd.read_csv(\"../../openai/experiment/random/etd_rand2_5example_result.csv\")\n",
    "predictions_etd = df_test_random[\"y''_ETD\"]\n",
    "y_test = df_test_random[\"y_ETD\"]\n",
    "precison_etd = mt.precision_score(y_test, predictions_etd)\n",
    "recall_etd = mt.recall_score(y_test, predictions_etd)\n",
    "score_etd = mt.f1_score(y_test, predictions_etd)\n",
    "\n",
    "print(\"precision:\",round(precison_etd,3),\"recall:\",round(recall_etd,3),\"F1:\",round(score_etd,3))"
   ]
  },
  {
   "cell_type": "code",
   "execution_count": 13,
   "id": "c44fa27f",
   "metadata": {},
   "outputs": [
    {
     "name": "stdout",
     "output_type": "stream",
     "text": [
      "precision: 0.839 recall: 0.961 F1: 0.896\n"
     ]
    }
   ],
   "source": [
    "df_test_random = pd.read_csv(\"../../openai/experiment/random/etd_rand2_4example_result.csv\")\n",
    "predictions_etd = df_test_random[\"y''_ETD\"]\n",
    "y_test = df_test_random[\"y_ETD\"]\n",
    "precison_etd = mt.precision_score(y_test, predictions_etd)\n",
    "recall_etd = mt.recall_score(y_test, predictions_etd)\n",
    "score_etd = mt.f1_score(y_test, predictions_etd)\n",
    "\n",
    "print(\"precision:\",round(precison_etd,3),\"recall:\",round(recall_etd,3),\"F1:\",round(score_etd,3))"
   ]
  },
  {
   "cell_type": "code",
   "execution_count": 14,
   "id": "8f6d37ee",
   "metadata": {},
   "outputs": [
    {
     "name": "stdout",
     "output_type": "stream",
     "text": [
      "precision: 0.836 recall: 0.936 F1: 0.883\n"
     ]
    }
   ],
   "source": [
    "df_test_random = pd.read_csv(\"../../openai/experiment/random/etd_rand2_3example_result.csv\")\n",
    "predictions_etd = df_test_random[\"y''_ETD\"]\n",
    "y_test = df_test_random[\"y_ETD\"]\n",
    "precison_etd = mt.precision_score(y_test, predictions_etd)\n",
    "recall_etd = mt.recall_score(y_test, predictions_etd)\n",
    "score_etd = mt.f1_score(y_test, predictions_etd)\n",
    "\n",
    "print(\"precision:\",round(precison_etd,3),\"recall:\",round(recall_etd,3),\"F1:\",round(score_etd,3))"
   ]
  },
  {
   "cell_type": "code",
   "execution_count": 15,
   "id": "1c6bc6a4",
   "metadata": {},
   "outputs": [
    {
     "name": "stdout",
     "output_type": "stream",
     "text": [
      "precision: 0.879 recall: 0.911 F1: 0.895\n"
     ]
    }
   ],
   "source": [
    "df_test_random = pd.read_csv(\"../../openai/experiment/random/etd_rand2_7example_result.csv\")\n",
    "predictions_etd = df_test_random[\"y''_ETD\"]\n",
    "y_test = df_test_random[\"y_ETD\"]\n",
    "precison_etd = mt.precision_score(y_test, predictions_etd)\n",
    "recall_etd = mt.recall_score(y_test, predictions_etd)\n",
    "score_etd = mt.f1_score(y_test, predictions_etd)\n",
    "\n",
    "print(\"precision:\",round(precison_etd,3),\"recall:\",round(recall_etd,3),\"F1:\",round(score_etd,3))"
   ]
  },
  {
   "cell_type": "code",
   "execution_count": 16,
   "id": "6ffe9314",
   "metadata": {},
   "outputs": [
    {
     "name": "stdout",
     "output_type": "stream",
     "text": [
      "precision: 0.87 recall: 0.829 F1: 0.849\n"
     ]
    }
   ],
   "source": [
    "df_test_random = pd.read_csv(\"../../openai/experiment/random/etd_rand2_8example_result.csv\")\n",
    "predictions_etd = df_test_random[\"y''_ETD\"]\n",
    "y_test = df_test_random[\"y_ETD\"]\n",
    "precison_etd = mt.precision_score(y_test, predictions_etd)\n",
    "recall_etd = mt.recall_score(y_test, predictions_etd)\n",
    "score_etd = mt.f1_score(y_test, predictions_etd)\n",
    "\n",
    "print(\"precision:\",round(precison_etd,3),\"recall:\",round(recall_etd,3),\"F1:\",round(score_etd,3))"
   ]
  },
  {
   "cell_type": "code",
   "execution_count": 10,
   "id": "9fee0d44",
   "metadata": {},
   "outputs": [
    {
     "name": "stdout",
     "output_type": "stream",
     "text": [
      "precision: 0.886 recall: 0.841 F1: 0.863\n"
     ]
    }
   ],
   "source": [
    "df_test_random = pd.read_csv(\"../../openai/experiment/random/etd_rand3_6example_result.csv\")\n",
    "predictions_etd = df_test_random[\"y''_ETD\"]\n",
    "y_test = df_test_random[\"y_ETD\"]\n",
    "precison_etd = mt.precision_score(y_test, predictions_etd)\n",
    "recall_etd = mt.recall_score(y_test, predictions_etd)\n",
    "score_etd = mt.f1_score(y_test, predictions_etd)\n",
    "\n",
    "print(\"precision:\",round(precison_etd,3),\"recall:\",round(recall_etd,3),\"F1:\",round(score_etd,3))"
   ]
  },
  {
   "cell_type": "code",
   "execution_count": 11,
   "id": "ea445dca",
   "metadata": {},
   "outputs": [
    {
     "name": "stdout",
     "output_type": "stream",
     "text": [
      "precision: 0.881 recall: 0.836 F1: 0.858\n"
     ]
    }
   ],
   "source": [
    "df_test_random = pd.read_csv(\"../../openai/experiment/random/etd_rand3_5example_result.csv\")\n",
    "predictions_etd = df_test_random[\"y''_ETD\"]\n",
    "y_test = df_test_random[\"y_ETD\"]\n",
    "precison_etd = mt.precision_score(y_test, predictions_etd)\n",
    "recall_etd = mt.recall_score(y_test, predictions_etd)\n",
    "score_etd = mt.f1_score(y_test, predictions_etd)\n",
    "\n",
    "print(\"precision:\",round(precison_etd,3),\"recall:\",round(recall_etd,3),\"F1:\",round(score_etd,3))"
   ]
  },
  {
   "cell_type": "code",
   "execution_count": 12,
   "id": "58c8deb5",
   "metadata": {},
   "outputs": [
    {
     "name": "stdout",
     "output_type": "stream",
     "text": [
      "precision: 0.88 recall: 0.908 F1: 0.894\n"
     ]
    }
   ],
   "source": [
    "df_test_random = pd.read_csv(\"../../openai/experiment/random/etd_rand3_4example_result.csv\")\n",
    "predictions_etd = df_test_random[\"y''_ETD\"]\n",
    "y_test = df_test_random[\"y_ETD\"]\n",
    "precison_etd = mt.precision_score(y_test, predictions_etd)\n",
    "recall_etd = mt.recall_score(y_test, predictions_etd)\n",
    "score_etd = mt.f1_score(y_test, predictions_etd)\n",
    "\n",
    "print(\"precision:\",round(precison_etd,3),\"recall:\",round(recall_etd,3),\"F1:\",round(score_etd,3))"
   ]
  },
  {
   "cell_type": "code",
   "execution_count": 13,
   "id": "c339113b",
   "metadata": {},
   "outputs": [
    {
     "name": "stdout",
     "output_type": "stream",
     "text": [
      "precision: 0.924 recall: 0.845 F1: 0.883\n"
     ]
    }
   ],
   "source": [
    "df_test_random = pd.read_csv(\"../../openai/experiment/random/etd_rand3_3example_result.csv\")\n",
    "predictions_etd = df_test_random[\"y''_ETD\"]\n",
    "y_test = df_test_random[\"y_ETD\"]\n",
    "precison_etd = mt.precision_score(y_test, predictions_etd)\n",
    "recall_etd = mt.recall_score(y_test, predictions_etd)\n",
    "score_etd = mt.f1_score(y_test, predictions_etd)\n",
    "\n",
    "print(\"precision:\",round(precison_etd,3),\"recall:\",round(recall_etd,3),\"F1:\",round(score_etd,3))"
   ]
  },
  {
   "cell_type": "code",
   "execution_count": 14,
   "id": "97fd2c4c",
   "metadata": {},
   "outputs": [
    {
     "name": "stdout",
     "output_type": "stream",
     "text": [
      "precision: 0.894 recall: 0.902 F1: 0.898\n"
     ]
    }
   ],
   "source": [
    "df_test_random = pd.read_csv(\"../../openai/experiment/random/etd_rand3_7example_result.csv\")\n",
    "predictions_etd = df_test_random[\"y''_ETD\"]\n",
    "y_test = df_test_random[\"y_ETD\"]\n",
    "precison_etd = mt.precision_score(y_test, predictions_etd)\n",
    "recall_etd = mt.recall_score(y_test, predictions_etd)\n",
    "score_etd = mt.f1_score(y_test, predictions_etd)\n",
    "\n",
    "print(\"precision:\",round(precison_etd,3),\"recall:\",round(recall_etd,3),\"F1:\",round(score_etd,3))"
   ]
  },
  {
   "cell_type": "code",
   "execution_count": 15,
   "id": "4e6ae98d",
   "metadata": {},
   "outputs": [
    {
     "name": "stdout",
     "output_type": "stream",
     "text": [
      "precision: 0.869 recall: 0.911 F1: 0.89\n"
     ]
    }
   ],
   "source": [
    "df_test_random = pd.read_csv(\"../../openai/experiment/random/etd_rand3_8example_result.csv\")\n",
    "predictions_etd = df_test_random[\"y''_ETD\"]\n",
    "y_test = df_test_random[\"y_ETD\"]\n",
    "precison_etd = mt.precision_score(y_test, predictions_etd)\n",
    "recall_etd = mt.recall_score(y_test, predictions_etd)\n",
    "score_etd = mt.f1_score(y_test, predictions_etd)\n",
    "\n",
    "print(\"precision:\",round(precison_etd,3),\"recall:\",round(recall_etd,3),\"F1:\",round(score_etd,3))"
   ]
  },
  {
   "cell_type": "code",
   "execution_count": 138,
   "id": "66dc9948",
   "metadata": {},
   "outputs": [
    {
     "name": "stdout",
     "output_type": "stream",
     "text": [
      "precision: 0.821 recall: 0.741 F1: 0.779\n"
     ]
    }
   ],
   "source": [
    "df_test_random = pd.read_csv(\"../../openai/experiment/random/etd_rand1_7example_result1.csv\")\n",
    "predictions_etd = df_test_random[\"y''_ETD\"]\n",
    "y_test = df_test_random[\"y_ETD\"]\n",
    "precison_etd = mt.precision_score(y_test, predictions_etd)\n",
    "recall_etd = mt.recall_score(y_test, predictions_etd)\n",
    "score_etd = mt.f1_score(y_test, predictions_etd)\n",
    "\n",
    "print(\"precision:\",round(precison_etd,3),\"recall:\",round(recall_etd,3),\"F1:\",round(score_etd,3))"
   ]
  },
  {
   "cell_type": "code",
   "execution_count": 139,
   "id": "6f703e24",
   "metadata": {},
   "outputs": [
    {
     "name": "stdout",
     "output_type": "stream",
     "text": [
      "precision: 0.86 recall: 0.823 F1: 0.841\n"
     ]
    }
   ],
   "source": [
    "df_test_random = pd.read_csv(\"../../openai/experiment/random/etd_rand1_6example_result1.csv\")\n",
    "predictions_etd = df_test_random[\"y''_ETD\"]\n",
    "y_test = df_test_random[\"y_ETD\"]\n",
    "precison_etd = mt.precision_score(y_test, predictions_etd)\n",
    "recall_etd = mt.recall_score(y_test, predictions_etd)\n",
    "score_etd = mt.f1_score(y_test, predictions_etd)\n",
    "\n",
    "print(\"precision:\",round(precison_etd,3),\"recall:\",round(recall_etd,3),\"F1:\",round(score_etd,3))"
   ]
  },
  {
   "cell_type": "code",
   "execution_count": 140,
   "id": "9683374b",
   "metadata": {},
   "outputs": [
    {
     "name": "stdout",
     "output_type": "stream",
     "text": [
      "precision: 0.865 recall: 0.646 F1: 0.74\n"
     ]
    }
   ],
   "source": [
    "df_test_random = pd.read_csv(\"../../openai/experiment/random/etd_rand2_5example_result1.csv\")\n",
    "predictions_etd = df_test_random[\"y''_ETD\"]\n",
    "y_test = df_test_random[\"y_ETD\"]\n",
    "precison_etd = mt.precision_score(y_test, predictions_etd)\n",
    "recall_etd = mt.recall_score(y_test, predictions_etd)\n",
    "score_etd = mt.f1_score(y_test, predictions_etd)\n",
    "\n",
    "print(\"precision:\",round(precison_etd,3),\"recall:\",round(recall_etd,3),\"F1:\",round(score_etd,3))"
   ]
  },
  {
   "cell_type": "code",
   "execution_count": 15,
   "id": "c5c44245",
   "metadata": {},
   "outputs": [
    {
     "name": "stdout",
     "output_type": "stream",
     "text": [
      "precision: 0.696 recall: 0.838 F1: 0.761\n"
     ]
    }
   ],
   "source": [
    "df_test_random = pd.read_csv(\"../../openai/experiment/random/result_missing/etd_rand1_8example_result1.csv\")\n",
    "predictions_etd = df_test_random[\"y''_ETD\"]\n",
    "y_test = df_test_random[\"y_ETD\"]\n",
    "precison_etd = mt.precision_score(y_test, predictions_etd)\n",
    "recall_etd = mt.recall_score(y_test, predictions_etd)\n",
    "score_etd = mt.f1_score(y_test, predictions_etd)\n",
    "\n",
    "print(\"precision:\",round(precison_etd,3),\"recall:\",round(recall_etd,3),\"F1:\",round(score_etd,3))"
   ]
  },
  {
   "cell_type": "code",
   "execution_count": 16,
   "id": "dd19c895",
   "metadata": {},
   "outputs": [
    {
     "name": "stdout",
     "output_type": "stream",
     "text": [
      "precision: 0.885 recall: 0.729 F1: 0.799\n"
     ]
    }
   ],
   "source": [
    "df_test_random = pd.read_csv(\"../../openai/experiment/random/result_missing/etd_rand1_5example_result1.csv\")\n",
    "predictions_etd = df_test_random[\"y''_ETD\"]\n",
    "y_test = df_test_random[\"y_ETD\"]\n",
    "precison_etd = mt.precision_score(y_test, predictions_etd)\n",
    "recall_etd = mt.recall_score(y_test, predictions_etd)\n",
    "score_etd = mt.f1_score(y_test, predictions_etd)\n",
    "\n",
    "print(\"precision:\",round(precison_etd,3),\"recall:\",round(recall_etd,3),\"F1:\",round(score_etd,3))"
   ]
  },
  {
   "cell_type": "code",
   "execution_count": 297,
   "id": "ff11cebe",
   "metadata": {},
   "outputs": [
    {
     "name": "stdout",
     "output_type": "stream",
     "text": [
      "precision: 0.811 recall: 0.732 F1: 0.769\n"
     ]
    }
   ],
   "source": [
    "df_test_random = pd.read_csv(\"../../openai/experiment/random/ETD/result_missing/etd_rand1_4example_result1.csv\")\n",
    "predictions_etd = df_test_random[\"y''_ETD\"]\n",
    "y_test = df_test_random[\"y_ETD\"]\n",
    "precison_etd = mt.precision_score(y_test, predictions_etd)\n",
    "recall_etd = mt.recall_score(y_test, predictions_etd)\n",
    "score_etd = mt.f1_score(y_test, predictions_etd)\n",
    "\n",
    "print(\"precision:\",round(precison_etd,3),\"recall:\",round(recall_etd,3),\"F1:\",round(score_etd,3))"
   ]
  },
  {
   "cell_type": "code",
   "execution_count": 298,
   "id": "b278eb4e",
   "metadata": {},
   "outputs": [
    {
     "name": "stdout",
     "output_type": "stream",
     "text": [
      "precision: 0.739 recall: 0.777 F1: 0.758\n"
     ]
    }
   ],
   "source": [
    "df_test_random = pd.read_csv(\"../../openai/experiment/random/ETD/result_missing/etd_rand1_3example_result1.csv\")\n",
    "predictions_etd = df_test_random[\"y''_ETD\"]\n",
    "y_test = df_test_random[\"y_ETD\"]\n",
    "precison_etd = mt.precision_score(y_test, predictions_etd)\n",
    "recall_etd = mt.recall_score(y_test, predictions_etd)\n",
    "score_etd = mt.f1_score(y_test, predictions_etd)\n",
    "\n",
    "print(\"precision:\",round(precison_etd,3),\"recall:\",round(recall_etd,3),\"F1:\",round(score_etd,3))"
   ]
  },
  {
   "cell_type": "code",
   "execution_count": 17,
   "id": "3ef9b9d2",
   "metadata": {},
   "outputs": [
    {
     "name": "stdout",
     "output_type": "stream",
     "text": [
      "precision: 0.803 recall: 0.744 F1: 0.772\n"
     ]
    }
   ],
   "source": [
    "df_test_random = pd.read_csv(\"../../openai/experiment/random/result_missing/etd_rand2_7example_result1.csv\")\n",
    "predictions_etd = df_test_random[\"y''_ETD\"]\n",
    "y_test = df_test_random[\"y_ETD\"]\n",
    "precison_etd = mt.precision_score(y_test, predictions_etd)\n",
    "recall_etd = mt.recall_score(y_test, predictions_etd)\n",
    "score_etd = mt.f1_score(y_test, predictions_etd)\n",
    "\n",
    "print(\"precision:\",round(precison_etd,3),\"recall:\",round(recall_etd,3),\"F1:\",round(score_etd,3))"
   ]
  },
  {
   "cell_type": "code",
   "execution_count": 18,
   "id": "0bb9064f",
   "metadata": {},
   "outputs": [
    {
     "name": "stdout",
     "output_type": "stream",
     "text": [
      "precision: 0.681 recall: 0.747 F1: 0.712\n"
     ]
    }
   ],
   "source": [
    "df_test_random = pd.read_csv(\"../../openai/experiment/random/result_missing/etd_rand2_8example_result1.csv\")\n",
    "predictions_etd = df_test_random[\"y''_ETD\"]\n",
    "y_test = df_test_random[\"y_ETD\"]\n",
    "precison_etd = mt.precision_score(y_test, predictions_etd)\n",
    "recall_etd = mt.recall_score(y_test, predictions_etd)\n",
    "score_etd = mt.f1_score(y_test, predictions_etd)\n",
    "\n",
    "print(\"precision:\",round(precison_etd,3),\"recall:\",round(recall_etd,3),\"F1:\",round(score_etd,3))"
   ]
  },
  {
   "cell_type": "code",
   "execution_count": 299,
   "id": "e249d6b7",
   "metadata": {},
   "outputs": [
    {
     "name": "stdout",
     "output_type": "stream",
     "text": [
      "precision: 0.8 recall: 0.707 F1: 0.751\n"
     ]
    }
   ],
   "source": [
    "df_test_random = pd.read_csv(\"../../openai/experiment/random/ETD/result_missing/etd_rand2_6example_result1.csv\")\n",
    "predictions_etd = df_test_random[\"y''_ETD\"]\n",
    "y_test = df_test_random[\"y_ETD\"]\n",
    "precison_etd = mt.precision_score(y_test, predictions_etd)\n",
    "recall_etd = mt.recall_score(y_test, predictions_etd)\n",
    "score_etd = mt.f1_score(y_test, predictions_etd)\n",
    "\n",
    "print(\"precision:\",round(precison_etd,3),\"recall:\",round(recall_etd,3),\"F1:\",round(score_etd,3))"
   ]
  },
  {
   "cell_type": "code",
   "execution_count": 300,
   "id": "dc0ee9fe",
   "metadata": {},
   "outputs": [
    {
     "name": "stdout",
     "output_type": "stream",
     "text": [
      "precision: 0.887 recall: 0.622 F1: 0.731\n"
     ]
    }
   ],
   "source": [
    "df_test_random = pd.read_csv(\"../../openai/experiment/random/ETD/result_missing/etd_rand2_4example_result1.csv\")\n",
    "predictions_etd = df_test_random[\"y''_ETD\"]\n",
    "y_test = df_test_random[\"y_ETD\"]\n",
    "precison_etd = mt.precision_score(y_test, predictions_etd)\n",
    "recall_etd = mt.recall_score(y_test, predictions_etd)\n",
    "score_etd = mt.f1_score(y_test, predictions_etd)\n",
    "\n",
    "print(\"precision:\",round(precison_etd,3),\"recall:\",round(recall_etd,3),\"F1:\",round(score_etd,3))"
   ]
  },
  {
   "cell_type": "code",
   "execution_count": 301,
   "id": "0ee5edf3",
   "metadata": {},
   "outputs": [
    {
     "name": "stdout",
     "output_type": "stream",
     "text": [
      "precision: 0.827 recall: 0.625 F1: 0.712\n"
     ]
    }
   ],
   "source": [
    "df_test_random = pd.read_csv(\"../../openai/experiment/random/ETD/result_missing/etd_rand2_3example_result1.csv\")\n",
    "predictions_etd = df_test_random[\"y''_ETD\"]\n",
    "y_test = df_test_random[\"y_ETD\"]\n",
    "precison_etd = mt.precision_score(y_test, predictions_etd)\n",
    "recall_etd = mt.recall_score(y_test, predictions_etd)\n",
    "score_etd = mt.f1_score(y_test, predictions_etd)\n",
    "\n",
    "print(\"precision:\",round(precison_etd,3),\"recall:\",round(recall_etd,3),\"F1:\",round(score_etd,3))"
   ]
  },
  {
   "cell_type": "code",
   "execution_count": 19,
   "id": "a1c08b45",
   "metadata": {},
   "outputs": [
    {
     "name": "stdout",
     "output_type": "stream",
     "text": [
      "precision: 0.797 recall: 0.72 F1: 0.756\n"
     ]
    }
   ],
   "source": [
    "df_test_random = pd.read_csv(\"../../openai/experiment/random/result_missing/etd_rand3_8example_result1.csv\")\n",
    "predictions_etd = df_test_random[\"y''_ETD\"]\n",
    "y_test = df_test_random[\"y_ETD\"]\n",
    "precison_etd = mt.precision_score(y_test, predictions_etd)\n",
    "recall_etd = mt.recall_score(y_test, predictions_etd)\n",
    "score_etd = mt.f1_score(y_test, predictions_etd)\n",
    "\n",
    "print(\"precision:\",round(precison_etd,3),\"recall:\",round(recall_etd,3),\"F1:\",round(score_etd,3))"
   ]
  },
  {
   "cell_type": "code",
   "execution_count": 20,
   "id": "ae190f0c",
   "metadata": {},
   "outputs": [
    {
     "name": "stdout",
     "output_type": "stream",
     "text": [
      "precision: 0.795 recall: 0.78 F1: 0.788\n"
     ]
    }
   ],
   "source": [
    "df_test_random = pd.read_csv(\"../../openai/experiment/random/result_missing/etd_rand3_7example_result1.csv\")\n",
    "predictions_etd = df_test_random[\"y''_ETD\"]\n",
    "y_test = df_test_random[\"y_ETD\"]\n",
    "precison_etd = mt.precision_score(y_test, predictions_etd)\n",
    "recall_etd = mt.recall_score(y_test, predictions_etd)\n",
    "score_etd = mt.f1_score(y_test, predictions_etd)\n",
    "\n",
    "print(\"precision:\",round(precison_etd,3),\"recall:\",round(recall_etd,3),\"F1:\",round(score_etd,3))"
   ]
  },
  {
   "cell_type": "code",
   "execution_count": 303,
   "id": "7535016a",
   "metadata": {},
   "outputs": [
    {
     "name": "stdout",
     "output_type": "stream",
     "text": [
      "precision: 0.704 recall: 0.777 F1: 0.739\n"
     ]
    }
   ],
   "source": [
    "df_test_random = pd.read_csv(\"../../openai/experiment/random/ETD/result_missing/etd_rand3_6example_result1.csv\")\n",
    "predictions_etd = df_test_random[\"y''_ETD\"]\n",
    "y_test = df_test_random[\"y_ETD\"]\n",
    "precison_etd = mt.precision_score(y_test, predictions_etd)\n",
    "recall_etd = mt.recall_score(y_test, predictions_etd)\n",
    "score_etd = mt.f1_score(y_test, predictions_etd)\n",
    "\n",
    "print(\"precision:\",round(precison_etd,3),\"recall:\",round(recall_etd,3),\"F1:\",round(score_etd,3))"
   ]
  },
  {
   "cell_type": "code",
   "execution_count": 304,
   "id": "936dffb1",
   "metadata": {},
   "outputs": [
    {
     "name": "stdout",
     "output_type": "stream",
     "text": [
      "precision: 0.696 recall: 0.768 F1: 0.73\n"
     ]
    }
   ],
   "source": [
    "df_test_random = pd.read_csv(\"../../openai/experiment/random/ETD/result_missing/etd_rand3_5example_result1.csv\")\n",
    "predictions_etd = df_test_random[\"y''_ETD\"]\n",
    "y_test = df_test_random[\"y_ETD\"]\n",
    "precison_etd = mt.precision_score(y_test, predictions_etd)\n",
    "recall_etd = mt.recall_score(y_test, predictions_etd)\n",
    "score_etd = mt.f1_score(y_test, predictions_etd)\n",
    "\n",
    "print(\"precision:\",round(precison_etd,3),\"recall:\",round(recall_etd,3),\"F1:\",round(score_etd,3))"
   ]
  },
  {
   "cell_type": "code",
   "execution_count": 305,
   "id": "9d9f9b73",
   "metadata": {},
   "outputs": [
    {
     "name": "stdout",
     "output_type": "stream",
     "text": [
      "precision: 0.798 recall: 0.747 F1: 0.772\n"
     ]
    }
   ],
   "source": [
    "df_test_random = pd.read_csv(\"../../openai/experiment/random/ETD/result_missing/etd_rand3_4example_result1.csv\")\n",
    "predictions_etd = df_test_random[\"y''_ETD\"]\n",
    "y_test = df_test_random[\"y_ETD\"]\n",
    "precison_etd = mt.precision_score(y_test, predictions_etd)\n",
    "recall_etd = mt.recall_score(y_test, predictions_etd)\n",
    "score_etd = mt.f1_score(y_test, predictions_etd)\n",
    "\n",
    "print(\"precision:\",round(precison_etd,3),\"recall:\",round(recall_etd,3),\"F1:\",round(score_etd,3))"
   ]
  },
  {
   "cell_type": "code",
   "execution_count": 306,
   "id": "82449dbc",
   "metadata": {},
   "outputs": [
    {
     "name": "stdout",
     "output_type": "stream",
     "text": [
      "precision: 0.73 recall: 0.857 F1: 0.788\n"
     ]
    }
   ],
   "source": [
    "df_test_random = pd.read_csv(\"../../openai/experiment/random/ETD/result_missing/etd_rand3_3example_result1.csv\")\n",
    "predictions_etd = df_test_random[\"y''_ETD\"]\n",
    "y_test = df_test_random[\"y_ETD\"]\n",
    "precison_etd = mt.precision_score(y_test, predictions_etd)\n",
    "recall_etd = mt.recall_score(y_test, predictions_etd)\n",
    "score_etd = mt.f1_score(y_test, predictions_etd)\n",
    "\n",
    "print(\"precision:\",round(precison_etd,3),\"recall:\",round(recall_etd,3),\"F1:\",round(score_etd,3))"
   ]
  },
  {
   "cell_type": "code",
   "execution_count": 291,
   "id": "e7bd2f7f",
   "metadata": {},
   "outputs": [
    {
     "name": "stdout",
     "output_type": "stream",
     "text": [
      "precision: 0.531 recall: 0.954 F1: 0.682\n"
     ]
    }
   ],
   "source": [
    "df_test_random = pd.read_csv(\"../../openai/experiment/random/ETD/result_missing/etd_rand1_6example_result.csv\")\n",
    "predictions_etd = df_test_random[\"y''_ETD\"]\n",
    "y_test = df_test_random[\"y_ETD\"]\n",
    "precison_etd = mt.precision_score(y_test, predictions_etd)\n",
    "recall_etd = mt.recall_score(y_test, predictions_etd)\n",
    "score_etd = mt.f1_score(y_test, predictions_etd)\n",
    "\n",
    "print(\"precision:\",round(precison_etd,3),\"recall:\",round(recall_etd,3),\"F1:\",round(score_etd,3))"
   ]
  },
  {
   "cell_type": "code",
   "execution_count": 292,
   "id": "d7a9776b",
   "metadata": {},
   "outputs": [
    {
     "name": "stdout",
     "output_type": "stream",
     "text": [
      "precision: 0.607 recall: 0.896 F1: 0.724\n"
     ]
    }
   ],
   "source": [
    "df_test_random = pd.read_csv(\"../../openai/experiment/random/ETD/result_missing/etd_rand1_8example_result.csv\")\n",
    "predictions_etd = df_test_random[\"y''_ETD\"]\n",
    "y_test = df_test_random[\"y_ETD\"]\n",
    "precison_etd = mt.precision_score(y_test, predictions_etd)\n",
    "recall_etd = mt.recall_score(y_test, predictions_etd)\n",
    "score_etd = mt.f1_score(y_test, predictions_etd)\n",
    "\n",
    "print(\"precision:\",round(precison_etd,3),\"recall:\",round(recall_etd,3),\"F1:\",round(score_etd,3))"
   ]
  },
  {
   "cell_type": "code",
   "execution_count": 294,
   "id": "94d5282f",
   "metadata": {},
   "outputs": [
    {
     "name": "stdout",
     "output_type": "stream",
     "text": [
      "precision: 0.74 recall: 0.893 F1: 0.809\n"
     ]
    }
   ],
   "source": [
    "df_test_random = pd.read_csv(\"../../openai/experiment/random/ETD/result_missing/etd_rand1_5example_result.csv\")\n",
    "predictions_etd = df_test_random[\"y''_ETD\"]\n",
    "y_test = df_test_random[\"y_ETD\"]\n",
    "precison_etd = mt.precision_score(y_test, predictions_etd)\n",
    "recall_etd = mt.recall_score(y_test, predictions_etd)\n",
    "score_etd = mt.f1_score(y_test, predictions_etd)\n",
    "\n",
    "print(\"precision:\",round(precison_etd,3),\"recall:\",round(recall_etd,3),\"F1:\",round(score_etd,3))"
   ]
  },
  {
   "cell_type": "code",
   "execution_count": 295,
   "id": "434cba36",
   "metadata": {},
   "outputs": [
    {
     "name": "stdout",
     "output_type": "stream",
     "text": [
      "precision: 0.682 recall: 0.857 F1: 0.759\n"
     ]
    }
   ],
   "source": [
    "df_test_random = pd.read_csv(\"../../openai/experiment/random/ETD/result_missing/etd_rand1_4example_result.csv\")\n",
    "predictions_etd = df_test_random[\"y''_ETD\"]\n",
    "y_test = df_test_random[\"y_ETD\"]\n",
    "precison_etd = mt.precision_score(y_test, predictions_etd)\n",
    "recall_etd = mt.recall_score(y_test, predictions_etd)\n",
    "score_etd = mt.f1_score(y_test, predictions_etd)\n",
    "\n",
    "print(\"precision:\",round(precison_etd,3),\"recall:\",round(recall_etd,3),\"F1:\",round(score_etd,3))"
   ]
  },
  {
   "cell_type": "code",
   "execution_count": 307,
   "id": "9b566a62",
   "metadata": {},
   "outputs": [
    {
     "name": "stdout",
     "output_type": "stream",
     "text": [
      "precision: 0.827 recall: 0.829 F1: 0.828\n"
     ]
    }
   ],
   "source": [
    "df_test_random = pd.read_csv(\"../../openai/experiment/random/ETD/result_missing/etd_rand1_3example_result.csv\")\n",
    "predictions_etd = df_test_random[\"y''_ETD\"]\n",
    "y_test = df_test_random[\"y_ETD\"]\n",
    "precison_etd = mt.precision_score(y_test, predictions_etd)\n",
    "recall_etd = mt.recall_score(y_test, predictions_etd)\n",
    "score_etd = mt.f1_score(y_test, predictions_etd)\n",
    "\n",
    "print(\"precision:\",round(precison_etd,3),\"recall:\",round(recall_etd,3),\"F1:\",round(score_etd,3))"
   ]
  },
  {
   "cell_type": "code",
   "execution_count": 312,
   "id": "7867cb64",
   "metadata": {},
   "outputs": [
    {
     "name": "stdout",
     "output_type": "stream",
     "text": [
      "precision: 0.903 recall: 0.649 F1: 0.755\n"
     ]
    }
   ],
   "source": [
    "df_test_random = pd.read_csv(\"../../openai/experiment/random/ETD/result_missing/etd_rand1_3example_result2.csv\")\n",
    "predictions_etd = df_test_random[\"y''_ETD\"]\n",
    "y_test = df_test_random[\"y_ETD\"]\n",
    "precison_etd = mt.precision_score(y_test, predictions_etd)\n",
    "recall_etd = mt.recall_score(y_test, predictions_etd)\n",
    "score_etd = mt.f1_score(y_test, predictions_etd)\n",
    "\n",
    "print(\"precision:\",round(precison_etd,3),\"recall:\",round(recall_etd,3),\"F1:\",round(score_etd,3))"
   ]
  },
  {
   "cell_type": "code",
   "execution_count": 316,
   "id": "4c28eabd",
   "metadata": {},
   "outputs": [
    {
     "name": "stdout",
     "output_type": "stream",
     "text": [
      "precision: 0.843 recall: 0.854 F1: 0.848\n"
     ]
    }
   ],
   "source": [
    "df_test_random = pd.read_csv(\"../../openai/experiment/random/ETD/result_missing/etd_rand1_1example_result2.csv\")\n",
    "predictions_etd = df_test_random[\"y''_ETD\"]\n",
    "y_test = df_test_random[\"y_ETD\"]\n",
    "precison_etd = mt.precision_score(y_test, predictions_etd)\n",
    "recall_etd = mt.recall_score(y_test, predictions_etd)\n",
    "score_etd = mt.f1_score(y_test, predictions_etd)\n",
    "\n",
    "print(\"precision:\",round(precison_etd,3),\"recall:\",round(recall_etd,3),\"F1:\",round(score_etd,3))"
   ]
  },
  {
   "cell_type": "code",
   "execution_count": 317,
   "id": "4a984a16",
   "metadata": {},
   "outputs": [
    {
     "name": "stdout",
     "output_type": "stream",
     "text": [
      "precision: 0.803 recall: 0.857 F1: 0.829\n"
     ]
    }
   ],
   "source": [
    "df_test_random = pd.read_csv(\"../../openai/experiment/random/ETD/result_missing/etd_rand1_2example_result2.csv\")\n",
    "predictions_etd = df_test_random[\"y''_ETD\"]\n",
    "y_test = df_test_random[\"y_ETD\"]\n",
    "precison_etd = mt.precision_score(y_test, predictions_etd)\n",
    "recall_etd = mt.recall_score(y_test, predictions_etd)\n",
    "score_etd = mt.f1_score(y_test, predictions_etd)\n",
    "\n",
    "print(\"precision:\",round(precison_etd,3),\"recall:\",round(recall_etd,3),\"F1:\",round(score_etd,3))"
   ]
  },
  {
   "cell_type": "code",
   "execution_count": 318,
   "id": "241ab246",
   "metadata": {},
   "outputs": [
    {
     "name": "stdout",
     "output_type": "stream",
     "text": [
      "precision: 0.871 recall: 0.619 F1: 0.724\n"
     ]
    }
   ],
   "source": [
    "df_test_random = pd.read_csv(\"../../openai/experiment/random/ETD/result_missing/etd_rand1_4example_result2.csv\")\n",
    "predictions_etd = df_test_random[\"y''_ETD\"]\n",
    "y_test = df_test_random[\"y_ETD\"]\n",
    "precison_etd = mt.precision_score(y_test, predictions_etd)\n",
    "recall_etd = mt.recall_score(y_test, predictions_etd)\n",
    "score_etd = mt.f1_score(y_test, predictions_etd)\n",
    "\n",
    "print(\"precision:\",round(precison_etd,3),\"recall:\",round(recall_etd,3),\"F1:\",round(score_etd,3))"
   ]
  },
  {
   "cell_type": "code",
   "execution_count": 319,
   "id": "0678afb5",
   "metadata": {},
   "outputs": [
    {
     "name": "stdout",
     "output_type": "stream",
     "text": [
      "precision: 0.953 recall: 0.5 F1: 0.656\n"
     ]
    }
   ],
   "source": [
    "df_test_random = pd.read_csv(\"../../openai/experiment/random/ETD/result_missing/etd_rand1_5example_result2.csv\")\n",
    "predictions_etd = df_test_random[\"y''_ETD\"]\n",
    "y_test = df_test_random[\"y_ETD\"]\n",
    "precison_etd = mt.precision_score(y_test, predictions_etd)\n",
    "recall_etd = mt.recall_score(y_test, predictions_etd)\n",
    "score_etd = mt.f1_score(y_test, predictions_etd)\n",
    "\n",
    "print(\"precision:\",round(precison_etd,3),\"recall:\",round(recall_etd,3),\"F1:\",round(score_etd,3))"
   ]
  },
  {
   "cell_type": "code",
   "execution_count": 324,
   "id": "e04dfb39",
   "metadata": {},
   "outputs": [
    {
     "name": "stdout",
     "output_type": "stream",
     "text": [
      "precision: 0.9 recall: 0.763 F1: 0.826\n"
     ]
    }
   ],
   "source": [
    "df_test_random = pd.read_csv(\"../../openai/experiment/random/PS/result_missing/ps_rand1_2example_result2.csv\")\n",
    "predictions_etd = df_test_random[\"y''_PS\"]\n",
    "y_test = df_test_random[\"y_PS\"]\n",
    "precison_etd = mt.precision_score(y_test, predictions_etd)\n",
    "recall_etd = mt.recall_score(y_test, predictions_etd)\n",
    "score_etd = mt.f1_score(y_test, predictions_etd)\n",
    "\n",
    "print(\"precision:\",round(precison_etd,3),\"recall:\",round(recall_etd,3),\"F1:\",round(score_etd,3))"
   ]
  },
  {
   "cell_type": "code",
   "execution_count": 325,
   "id": "36424215",
   "metadata": {},
   "outputs": [
    {
     "name": "stdout",
     "output_type": "stream",
     "text": [
      "precision: 0.883 recall: 0.73 F1: 0.799\n"
     ]
    }
   ],
   "source": [
    "df_test_random = pd.read_csv(\"../../openai/experiment/random/PS/result_missing/ps_rand1_3example_result2.csv\")\n",
    "predictions_etd = df_test_random[\"y''_PS\"]\n",
    "y_test = df_test_random[\"y_PS\"]\n",
    "precison_etd = mt.precision_score(y_test, predictions_etd)\n",
    "recall_etd = mt.recall_score(y_test, predictions_etd)\n",
    "score_etd = mt.f1_score(y_test, predictions_etd)\n",
    "\n",
    "print(\"precision:\",round(precison_etd,3),\"recall:\",round(recall_etd,3),\"F1:\",round(score_etd,3))"
   ]
  },
  {
   "cell_type": "code",
   "execution_count": 326,
   "id": "e3fdff6e",
   "metadata": {},
   "outputs": [
    {
     "name": "stdout",
     "output_type": "stream",
     "text": [
      "precision: 0.644 recall: 0.919 F1: 0.757\n"
     ]
    }
   ],
   "source": [
    "df_test_random = pd.read_csv(\"../../openai/experiment/random/PS/result_missing/ps_rand1_1example_result2.csv\")\n",
    "predictions_etd = df_test_random[\"y''_PS\"]\n",
    "y_test = df_test_random[\"y_PS\"]\n",
    "precison_etd = mt.precision_score(y_test, predictions_etd)\n",
    "recall_etd = mt.recall_score(y_test, predictions_etd)\n",
    "score_etd = mt.f1_score(y_test, predictions_etd)\n",
    "\n",
    "print(\"precision:\",round(precison_etd,3),\"recall:\",round(recall_etd,3),\"F1:\",round(score_etd,3))"
   ]
  },
  {
   "cell_type": "code",
   "execution_count": 327,
   "id": "7bbb2a6a",
   "metadata": {},
   "outputs": [
    {
     "name": "stdout",
     "output_type": "stream",
     "text": [
      "precision: 0.897 recall: 0.707 F1: 0.791\n"
     ]
    }
   ],
   "source": [
    "df_test_random = pd.read_csv(\"../../openai/experiment/random/PS/result_missing/ps_rand1_4example_result2.csv\")\n",
    "predictions_etd = df_test_random[\"y''_PS\"]\n",
    "y_test = df_test_random[\"y_PS\"]\n",
    "precison_etd = mt.precision_score(y_test, predictions_etd)\n",
    "recall_etd = mt.recall_score(y_test, predictions_etd)\n",
    "score_etd = mt.f1_score(y_test, predictions_etd)\n",
    "\n",
    "print(\"precision:\",round(precison_etd,3),\"recall:\",round(recall_etd,3),\"F1:\",round(score_etd,3))"
   ]
  },
  {
   "cell_type": "code",
   "execution_count": 328,
   "id": "6655c974",
   "metadata": {},
   "outputs": [
    {
     "name": "stdout",
     "output_type": "stream",
     "text": [
      "precision: 0.91 recall: 0.715 F1: 0.801\n"
     ]
    }
   ],
   "source": [
    "df_test_random = pd.read_csv(\"../../openai/experiment/random/PS/result_missing/ps_rand1_5example_result2.csv\")\n",
    "predictions_etd = df_test_random[\"y''_PS\"]\n",
    "y_test = df_test_random[\"y_PS\"]\n",
    "precison_etd = mt.precision_score(y_test, predictions_etd)\n",
    "recall_etd = mt.recall_score(y_test, predictions_etd)\n",
    "score_etd = mt.f1_score(y_test, predictions_etd)\n",
    "\n",
    "print(\"precision:\",round(precison_etd,3),\"recall:\",round(recall_etd,3),\"F1:\",round(score_etd,3))"
   ]
  },
  {
   "cell_type": "code",
   "execution_count": 329,
   "id": "b0737342",
   "metadata": {},
   "outputs": [
    {
     "name": "stdout",
     "output_type": "stream",
     "text": [
      "precision: 0.904 recall: 0.634 F1: 0.746\n"
     ]
    }
   ],
   "source": [
    "df_test_random = pd.read_csv(\"../../openai/experiment/frequent/ETD/etd_freq1_2example_result2.csv\")\n",
    "predictions_etd = df_test_random[\"y''_ETD\"]\n",
    "y_test = df_test_random[\"y_ETD\"]\n",
    "precison_etd = mt.precision_score(y_test, predictions_etd)\n",
    "recall_etd = mt.recall_score(y_test, predictions_etd)\n",
    "score_etd = mt.f1_score(y_test, predictions_etd)\n",
    "\n",
    "print(\"precision:\",round(precison_etd,3),\"recall:\",round(recall_etd,3),\"F1:\",round(score_etd,3))"
   ]
  },
  {
   "cell_type": "code",
   "execution_count": 330,
   "id": "35b9d812",
   "metadata": {},
   "outputs": [
    {
     "name": "stdout",
     "output_type": "stream",
     "text": [
      "precision: 0.873 recall: 0.649 F1: 0.745\n"
     ]
    }
   ],
   "source": [
    "df_test_random = pd.read_csv(\"../../openai/experiment/frequent/ETD/etd_freq1_1example_result2.csv\")\n",
    "predictions_etd = df_test_random[\"y''_ETD\"]\n",
    "y_test = df_test_random[\"y_ETD\"]\n",
    "precison_etd = mt.precision_score(y_test, predictions_etd)\n",
    "recall_etd = mt.recall_score(y_test, predictions_etd)\n",
    "score_etd = mt.f1_score(y_test, predictions_etd)\n",
    "\n",
    "print(\"precision:\",round(precison_etd,3),\"recall:\",round(recall_etd,3),\"F1:\",round(score_etd,3))"
   ]
  },
  {
   "cell_type": "code",
   "execution_count": 331,
   "id": "108d4467",
   "metadata": {},
   "outputs": [
    {
     "name": "stdout",
     "output_type": "stream",
     "text": [
      "precision: 0.872 recall: 0.771 F1: 0.819\n"
     ]
    }
   ],
   "source": [
    "df_test_random = pd.read_csv(\"../../openai/experiment/frequent/ETD/etd_freq1_3example_result2.csv\")\n",
    "predictions_etd = df_test_random[\"y''_ETD\"]\n",
    "y_test = df_test_random[\"y_ETD\"]\n",
    "precison_etd = mt.precision_score(y_test, predictions_etd)\n",
    "recall_etd = mt.recall_score(y_test, predictions_etd)\n",
    "score_etd = mt.f1_score(y_test, predictions_etd)\n",
    "\n",
    "print(\"precision:\",round(precison_etd,3),\"recall:\",round(recall_etd,3),\"F1:\",round(score_etd,3))"
   ]
  },
  {
   "cell_type": "code",
   "execution_count": 332,
   "id": "37183947",
   "metadata": {},
   "outputs": [
    {
     "name": "stdout",
     "output_type": "stream",
     "text": [
      "precision: 0.845 recall: 0.68 F1: 0.753\n"
     ]
    }
   ],
   "source": [
    "df_test_random = pd.read_csv(\"../../openai/experiment/frequent/ETD/etd_freq1_4example_result2.csv\")\n",
    "predictions_etd = df_test_random[\"y''_ETD\"]\n",
    "y_test = df_test_random[\"y_ETD\"]\n",
    "precison_etd = mt.precision_score(y_test, predictions_etd)\n",
    "recall_etd = mt.recall_score(y_test, predictions_etd)\n",
    "score_etd = mt.f1_score(y_test, predictions_etd)\n",
    "\n",
    "print(\"precision:\",round(precison_etd,3),\"recall:\",round(recall_etd,3),\"F1:\",round(score_etd,3))"
   ]
  },
  {
   "cell_type": "code",
   "execution_count": 333,
   "id": "d8cd1618",
   "metadata": {},
   "outputs": [
    {
     "name": "stdout",
     "output_type": "stream",
     "text": [
      "precision: 0.868 recall: 0.604 F1: 0.712\n"
     ]
    }
   ],
   "source": [
    "df_test_random = pd.read_csv(\"../../openai/experiment/frequent/ETD/etd_freq1_5example_result2.csv\")\n",
    "predictions_etd = df_test_random[\"y''_ETD\"]\n",
    "y_test = df_test_random[\"y_ETD\"]\n",
    "precison_etd = mt.precision_score(y_test, predictions_etd)\n",
    "recall_etd = mt.recall_score(y_test, predictions_etd)\n",
    "score_etd = mt.f1_score(y_test, predictions_etd)\n",
    "\n",
    "print(\"precision:\",round(precison_etd,3),\"recall:\",round(recall_etd,3),\"F1:\",round(score_etd,3))"
   ]
  },
  {
   "cell_type": "code",
   "execution_count": 334,
   "id": "0fba735d",
   "metadata": {},
   "outputs": [
    {
     "name": "stdout",
     "output_type": "stream",
     "text": [
      "precision: 0.823 recall: 0.756 F1: 0.788\n"
     ]
    }
   ],
   "source": [
    "df_test_random = pd.read_csv(\"../../openai/experiment/frequent/PS/ps_freq1_1example_result2.csv\")\n",
    "predictions_etd = df_test_random[\"y''_PS\"]\n",
    "y_test = df_test_random[\"y_PS\"]\n",
    "precison_etd = mt.precision_score(y_test, predictions_etd)\n",
    "recall_etd = mt.recall_score(y_test, predictions_etd)\n",
    "score_etd = mt.f1_score(y_test, predictions_etd)\n",
    "\n",
    "print(\"precision:\",round(precison_etd,3),\"recall:\",round(recall_etd,3),\"F1:\",round(score_etd,3))"
   ]
  },
  {
   "cell_type": "code",
   "execution_count": 335,
   "id": "7b143432",
   "metadata": {},
   "outputs": [
    {
     "name": "stdout",
     "output_type": "stream",
     "text": [
      "precision: 0.934 recall: 0.63 F1: 0.752\n"
     ]
    }
   ],
   "source": [
    "df_test_random = pd.read_csv(\"../../openai/experiment/frequent/PS/ps_freq1_2example_result2.csv\")\n",
    "predictions_etd = df_test_random[\"y''_PS\"]\n",
    "y_test = df_test_random[\"y_PS\"]\n",
    "precison_etd = mt.precision_score(y_test, predictions_etd)\n",
    "recall_etd = mt.recall_score(y_test, predictions_etd)\n",
    "score_etd = mt.f1_score(y_test, predictions_etd)\n",
    "\n",
    "print(\"precision:\",round(precison_etd,3),\"recall:\",round(recall_etd,3),\"F1:\",round(score_etd,3))"
   ]
  },
  {
   "cell_type": "code",
   "execution_count": 338,
   "id": "f9319894",
   "metadata": {},
   "outputs": [
    {
     "name": "stdout",
     "output_type": "stream",
     "text": [
      "precision: 0.951 recall: 0.5 F1: 0.655\n"
     ]
    }
   ],
   "source": [
    "df_test_random = pd.read_csv(\"../../openai/experiment/frequent/PS/ps_freq1_3example_result2.csv\")\n",
    "predictions_etd = df_test_random[\"y''_PS\"]\n",
    "y_test = df_test_random[\"y_PS\"]\n",
    "precison_etd = mt.precision_score(y_test, predictions_etd)\n",
    "recall_etd = mt.recall_score(y_test, predictions_etd)\n",
    "score_etd = mt.f1_score(y_test, predictions_etd)\n",
    "\n",
    "print(\"precision:\",round(precison_etd,3),\"recall:\",round(recall_etd,3),\"F1:\",round(score_etd,3))"
   ]
  },
  {
   "cell_type": "code",
   "execution_count": 339,
   "id": "fa7bb7ec",
   "metadata": {},
   "outputs": [
    {
     "name": "stdout",
     "output_type": "stream",
     "text": [
      "precision: 0.928 recall: 0.57 F1: 0.706\n"
     ]
    }
   ],
   "source": [
    "df_test_random = pd.read_csv(\"../../openai/experiment/frequent/PS/ps_freq1_4example_result2.csv\")\n",
    "predictions_etd = df_test_random[\"y''_PS\"]\n",
    "y_test = df_test_random[\"y_PS\"]\n",
    "precison_etd = mt.precision_score(y_test, predictions_etd)\n",
    "recall_etd = mt.recall_score(y_test, predictions_etd)\n",
    "score_etd = mt.f1_score(y_test, predictions_etd)\n",
    "\n",
    "print(\"precision:\",round(precison_etd,3),\"recall:\",round(recall_etd,3),\"F1:\",round(score_etd,3))"
   ]
  },
  {
   "cell_type": "code",
   "execution_count": 340,
   "id": "db8162d9",
   "metadata": {},
   "outputs": [
    {
     "name": "stdout",
     "output_type": "stream",
     "text": [
      "precision: 0.929 recall: 0.722 F1: 0.813\n"
     ]
    }
   ],
   "source": [
    "df_test_random = pd.read_csv(\"../../openai/experiment/frequent/PS/ps_freq1_5example_result2.csv\")\n",
    "predictions_etd = df_test_random[\"y''_PS\"]\n",
    "y_test = df_test_random[\"y_PS\"]\n",
    "precison_etd = mt.precision_score(y_test, predictions_etd)\n",
    "recall_etd = mt.recall_score(y_test, predictions_etd)\n",
    "score_etd = mt.f1_score(y_test, predictions_etd)\n",
    "\n",
    "print(\"precision:\",round(precison_etd,3),\"recall:\",round(recall_etd,3),\"F1:\",round(score_etd,3))"
   ]
  },
  {
   "cell_type": "code",
   "execution_count": null,
   "id": "9600cbfd",
   "metadata": {},
   "outputs": [],
   "source": []
  }
 ],
 "metadata": {
  "kernelspec": {
   "display_name": "Python 3 (ipykernel)",
   "language": "python",
   "name": "python3"
  },
  "language_info": {
   "codemirror_mode": {
    "name": "ipython",
    "version": 3
   },
   "file_extension": ".py",
   "mimetype": "text/x-python",
   "name": "python",
   "nbconvert_exporter": "python",
   "pygments_lexer": "ipython3",
   "version": "3.8.16"
  }
 },
 "nbformat": 4,
 "nbformat_minor": 5
}
