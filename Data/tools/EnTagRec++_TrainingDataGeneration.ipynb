{
 "cells": [
  {
   "cell_type": "markdown",
   "metadata": {},
   "source": [
    "## Rawdata generation"
   ]
  },
  {
   "cell_type": "code",
   "execution_count": null,
   "metadata": {},
   "outputs": [],
   "source": [
    "df = pd.read_csv(\"../StackExchange/final_data/stackexchange.csv\")"
   ]
  },
  {
   "cell_type": "code",
   "execution_count": null,
   "metadata": {},
   "outputs": [],
   "source": [
    "df.head()"
   ]
  },
  {
   "cell_type": "code",
   "execution_count": null,
   "metadata": {},
   "outputs": [],
   "source": [
    "output_path = \"../StackExchange/final_data/rawdata/\"\n",
    "for i,(title,question) in enumerate(zip(df[\"Title\"],df[\"Body\"])):\n",
    "    with open(output_path+str(i+1),\"w\",encoding=\"UTF-8\") as f:\n",
    "        for line in title:\n",
    "            f.write(line)\n",
    "        f.write(\"\\n\")\n",
    "        for line in question:\n",
    "            f.write(line)"
   ]
  },
  {
   "cell_type": "markdown",
   "metadata": {},
   "source": [
    "### Validation set"
   ]
  },
  {
   "cell_type": "code",
   "execution_count": 1,
   "metadata": {},
   "outputs": [],
   "source": [
    "with open('../../Model/evaluation/eval.txt', 'r',encoding='utf-8') as fp:\n",
    "    eval_data = fp.readlines()"
   ]
  },
  {
   "cell_type": "code",
   "execution_count": 2,
   "metadata": {},
   "outputs": [],
   "source": [
    "output_path = \"../../Model/evaluation/rawdata/\"\n",
    "for i,issue in enumerate(eval_data):\n",
    "    with open(output_path+str(i+1),\"w\",encoding=\"UTF-8\") as f:\n",
    "        f.write(issue)\n",
    "        f.write(\"\\n\")"
   ]
  },
  {
   "cell_type": "markdown",
   "metadata": {},
   "source": [
    "## tag_doc_50.txt Generation"
   ]
  },
  {
   "cell_type": "code",
   "execution_count": null,
   "metadata": {},
   "outputs": [],
   "source": [
    "from collections import defaultdict\n",
    "import json"
   ]
  },
  {
   "cell_type": "code",
   "execution_count": null,
   "metadata": {},
   "outputs": [],
   "source": [
    "st_tags = []\n",
    "for tag_string in df[\"Tags\"]:\n",
    "    tag_string = tag_string.replace(\"<\",\"\")\n",
    "    tag_string = tag_string.replace(\">\",\" \")\n",
    "    st_tags.append(tag_string.strip().split(\" \"))"
   ]
  },
  {
   "cell_type": "code",
   "execution_count": null,
   "metadata": {},
   "outputs": [],
   "source": [
    "len(st_tags)"
   ]
  },
  {
   "cell_type": "code",
   "execution_count": null,
   "metadata": {},
   "outputs": [],
   "source": [
    "#DO NOT RUN\n",
    "st_tags"
   ]
  },
  {
   "cell_type": "code",
   "execution_count": null,
   "metadata": {},
   "outputs": [],
   "source": [
    "tag_dict=defaultdict(list)\n",
    "\n",
    "for val,keys in enumerate(st_tags):\n",
    "    doc_id = val+1\n",
    "    \n",
    "    for key in keys:\n",
    "        tag_dict[key.lower()].append(doc_id)"
   ]
  },
  {
   "cell_type": "code",
   "execution_count": null,
   "metadata": {},
   "outputs": [],
   "source": [
    "len(dict(tag_dict).keys())"
   ]
  },
  {
   "cell_type": "code",
   "execution_count": null,
   "metadata": {},
   "outputs": [],
   "source": [
    "#save tag data\n",
    "with open(\"../StackExchange/final_data/tag_doc_mapping.json\", 'w') as outfile:\n",
    "    json.dump(dict(tag_dict), outfile)"
   ]
  },
  {
   "cell_type": "code",
   "execution_count": null,
   "metadata": {},
   "outputs": [],
   "source": [
    "with open(\"../StackExchange/final_data/tag_doc_50.txt\", 'w') as f:\n",
    "    for key in dict(tag_dict).keys():\n",
    "        f.write(key+\":\")\n",
    "        for val in dict(tag_dict)[key]:\n",
    "            f.write(str(val)+\",\")\n",
    "        f.write(\"\\n\")"
   ]
  },
  {
   "cell_type": "markdown",
   "metadata": {},
   "source": [
    "### (QAtext, target set) generation"
   ]
  },
  {
   "cell_type": "code",
   "execution_count": null,
   "metadata": {},
   "outputs": [],
   "source": [
    "pairs = []\n",
    "path = \"../StackExchange/final_data/posdata_preprocessed/\"\n",
    "\n",
    "allfiles = os.listdir(path)\n",
    "print(len(allfiles),\"files\")"
   ]
  },
  {
   "cell_type": "code",
   "execution_count": null,
   "metadata": {},
   "outputs": [],
   "source": [
    "# only for filtering\n",
    "rest=[]\n",
    "for filename in data_selectedId:\n",
    "    text = \"\"\n",
    "    tag_str = \"\"\n",
    "    #retreive qa_text\n",
    "    \n",
    "    with open(path+str(filename), 'r') as f:\n",
    "        for line in f.readlines():\n",
    "            line = line.replace(\"\\n\",\"\")\n",
    "            line = line.strip()\n",
    "            if line == \"\":\n",
    "                continue\n",
    "\n",
    "            text += line+\" \"\n",
    "        \n",
    "    text = '<start> '+text.strip().lower()+' <end>'\n",
    "    \n",
    "    #retreive tag set\n",
    "    tag_string = df.iloc[filename-1][\"Tags\"]\n",
    "    tag_string = tag_string.replace(\"<\",\"\")\n",
    "    tag_string = tag_string.replace(\">\",\" \")\n",
    "    \n",
    "    for tag in tag_string.split(\" \"):\n",
    "        if tag in tag_corrected.keys() and tag_corrected[tag] != -1:\n",
    "            tag = tag_corrected[tag]\n",
    "        tag_str += tag.strip() + \" \"\n",
    "    \n",
    "    tag_str = '<start> '+tag_str.strip().lower()+' <end>'\n",
    "    \n",
    "    final_str = text + \"\\t\" + tag_str\n",
    "    rest.append(final_str)\n",
    "    "
   ]
  },
  {
   "cell_type": "code",
   "execution_count": null,
   "metadata": {},
   "outputs": [],
   "source": [
    "with open(\"../StackExchange/final_data/pairs_filtered.txt\",\"a\",encoding=\"UTF-8\") as f:\n",
    "    for line in rest:\n",
    "        f.write(line)\n",
    "        f.write(\"\\n\")"
   ]
  },
  {
   "cell_type": "code",
   "execution_count": null,
   "metadata": {},
   "outputs": [],
   "source": [
    "for i,filename in enumerate(os.listdir(path)):\n",
    "    text = \"\"\n",
    "    tag_str = \"\"\n",
    "    #retreive qa_text\n",
    "    with open(path+filename, 'r') as f:\n",
    "        for line in f.readlines():\n",
    "            line = line.replace(\"\\n\",\"\")\n",
    "            line = line.strip()\n",
    "            if line == \"\":\n",
    "                continue\n",
    "\n",
    "            text += line+\" \"\n",
    "        \n",
    "    text = '<start> '+text.strip().lower()+' <end>'\n",
    "    \n",
    "    #retreive tag set\n",
    "    for tag in st_tags[i]:\n",
    "        tag_str += tag.strip() + \" \"\n",
    "    \n",
    "    tag_str = '<start> '+tag_str.strip().lower()+' <end>'\n",
    "    \n",
    "    final_str = text + \"\\t\" + tag_str\n",
    "    \n",
    "    pairs.append(final_str)\n",
    "    \n",
    "        "
   ]
  },
  {
   "cell_type": "code",
   "execution_count": null,
   "metadata": {},
   "outputs": [],
   "source": [
    "len(pairs)"
   ]
  },
  {
   "cell_type": "code",
   "execution_count": null,
   "metadata": {},
   "outputs": [],
   "source": [
    "pairs[:5]"
   ]
  },
  {
   "cell_type": "code",
   "execution_count": null,
   "metadata": {},
   "outputs": [],
   "source": [
    "with open(\"../StackExchange/final_data/pairs.txt\",\"w\",encoding=\"UTF-8\") as f:\n",
    "    for line in pairs:\n",
    "        f.write(line)\n",
    "        f.write(\"\\n\")"
   ]
  },
  {
   "cell_type": "code",
   "execution_count": null,
   "metadata": {},
   "outputs": [],
   "source": []
  }
 ],
 "metadata": {
  "kernelspec": {
   "display_name": "Python 3",
   "language": "python",
   "name": "python3"
  },
  "language_info": {
   "codemirror_mode": {
    "name": "ipython",
    "version": 3
   },
   "file_extension": ".py",
   "mimetype": "text/x-python",
   "name": "python",
   "nbconvert_exporter": "python",
   "pygments_lexer": "ipython3",
   "version": "3.8.5"
  }
 },
 "nbformat": 4,
 "nbformat_minor": 4
}
