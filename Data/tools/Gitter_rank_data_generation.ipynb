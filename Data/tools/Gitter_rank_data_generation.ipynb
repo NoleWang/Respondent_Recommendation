{
 "cells": [
  {
   "cell_type": "code",
   "execution_count": 1,
   "metadata": {
    "scrolled": true
   },
   "outputs": [],
   "source": [
    "import pandas as pd\n",
    "import numpy as np\n",
    "from bs4 import BeautifulSoup\n",
    "import os\n",
    "from nltk.tokenize import word_tokenize\n",
    "from nltk.corpus import stopwords"
   ]
  },
  {
   "cell_type": "code",
   "execution_count": 2,
   "metadata": {},
   "outputs": [],
   "source": [
    "# Define a function to calculate Jaccard similarity\n",
    "def sen_jaccard_similarity(s1, s2):\n",
    "    # Tokenize the strings and remove stop words\n",
    "    s1 = BeautifulSoup(s1, \"lxml\").text\n",
    "    s1 = ''.join(char for char in s1 if ord(char) < 128)\n",
    "    s2 = BeautifulSoup(s2, \"lxml\").text\n",
    "    s2 = ''.join(char for char in s2 if ord(char) < 128)\n",
    "    \n",
    "    s1_tokens = set([word.lower() for word in word_tokenize(s1)])\n",
    "    s2_tokens = set([word.lower() for word in word_tokenize(s2)])\n",
    "    # Calculate the Jaccard similarity coefficient\n",
    "    #print(s1_tokens)\n",
    "    #print(s2_tokens)\n",
    "    \n",
    "    return float(len(s1_tokens.intersection(s2_tokens))) / float(len(s1_tokens.union(s2_tokens)))\n",
    "\n",
    "\n",
    "def tag_jaccard_similarity(s1, s2):\n",
    "    # Tokenize the strings and remove stop words\n",
    "    s1 = s1.replace(\"<\",\"\")\n",
    "    s1 = s1.replace(\">\",\" \").strip()\n",
    "    \n",
    "    s2 = s2.replace(\"<\",\"\")\n",
    "    s2 = s2.replace(\">\",\" \").strip()\n",
    "    \n",
    "    s1_tokens = set([word.lower() for word in word_tokenize(s1)])\n",
    "    s2_tokens = set([word.lower() for word in word_tokenize(s2)])\n",
    "    # Calculate the Jaccard similarity coefficient\n",
    "    #print(s1_tokens)\n",
    "    #print(s2_tokens)\n",
    "    \n",
    "    return float(len(s1_tokens.intersection(s2_tokens))) / float(len(s1_tokens.union(s2_tokens)))\n",
    "\n",
    "def cosine_similarity(s1, s2):\n",
    "    # Tokenize the strings and remove stop words\n",
    "    s1 = s1.replace(\"<\",\"\")\n",
    "    s1 = s1.replace(\">\",\" \").strip()\n",
    "    \n",
    "    s2 = s2.replace(\"<\",\"\")\n",
    "    s2 = s2.replace(\">\",\" \").strip()\n",
    "    \n",
    "    s1_tokens = set([word.lower() for word in word_tokenize(s1)])\n",
    "    s2_tokens = set([word.lower() for word in word_tokenize(s2)])\n",
    "    \n",
    "    # form a set containing keywords of both strings\n",
    "    l1 =[]\n",
    "    l2 =[]\n",
    "    rvector = s1_tokens.union(s2_tokens) \n",
    "    for w in rvector:\n",
    "        if w in s1_tokens: \n",
    "            l1.append(1) # create a vector\n",
    "        else: \n",
    "            l1.append(0)\n",
    "        if w in s2_tokens: \n",
    "            l2.append(1)\n",
    "        else: \n",
    "            l2.append(0)\n",
    "            \n",
    "    c = 0\n",
    "    # cosine formula \n",
    "    for i in range(len(rvector)):\n",
    "        c+= l1[i]*l2[i]\n",
    "    cosine = c / float((sum(l1)*sum(l2))**0.5)\n",
    "    print(\"similarity: \", cosine)\n",
    "    \n",
    "    return cosine"
   ]
  },
  {
   "cell_type": "code",
   "execution_count": 4,
   "metadata": {},
   "outputs": [
    {
     "name": "stdout",
     "output_type": "stream",
     "text": [
      "similarity:  0.3730019232961255\n"
     ]
    }
   ],
   "source": [
    "s1 = \"With tools such as cheat engine, you can read values from the RAM of other programs and when I save the key/iv in a variable you can read them too. Is there a way to prevent that? And is there an way to save the decrypted Text instantly in a SecureString? So it is never saved as a plain string?\"\n",
    "s2 = \"Safe way to encrypt and decrypt a text? <p>I use the CryptoStream class to encrypt a text. If I want to decrypt it, I have to know the key and the iv so I can get the original text back, but where do I save them, so that they cannot be stolen?</p>\"\n",
    "result = cosine_similarity(s1,s2)"
   ]
  },
  {
   "cell_type": "code",
   "execution_count": 118,
   "metadata": {},
   "outputs": [],
   "source": [
    "df_result = pd.read_csv(\"../StackExchange/Stackoverflow/cluster/result/test1_result1.csv\")"
   ]
  },
  {
   "cell_type": "code",
   "execution_count": 119,
   "metadata": {},
   "outputs": [
    {
     "data": {
      "text/html": [
       "<div>\n",
       "<style scoped>\n",
       "    .dataframe tbody tr th:only-of-type {\n",
       "        vertical-align: middle;\n",
       "    }\n",
       "\n",
       "    .dataframe tbody tr th {\n",
       "        vertical-align: top;\n",
       "    }\n",
       "\n",
       "    .dataframe thead th {\n",
       "        text-align: right;\n",
       "    }\n",
       "</style>\n",
       "<table border=\"1\" class=\"dataframe\">\n",
       "  <thead>\n",
       "    <tr style=\"text-align: right;\">\n",
       "      <th></th>\n",
       "      <th>Id</th>\n",
       "      <th>sentence</th>\n",
       "      <th>tag</th>\n",
       "      <th>label</th>\n",
       "      <th>data_group</th>\n",
       "      <th>y_pred</th>\n",
       "      <th>compare</th>\n",
       "    </tr>\n",
       "  </thead>\n",
       "  <tbody>\n",
       "    <tr>\n",
       "      <th>0</th>\n",
       "      <td>14523598</td>\n",
       "      <td>AutoDeploy a WAR file found in a subfolder of ...</td>\n",
       "      <td>&lt;tomcat&gt;&lt;war&gt;&lt;autodeploy&gt;</td>\n",
       "      <td>50591</td>\n",
       "      <td>2</td>\n",
       "      <td>1258</td>\n",
       "      <td>0</td>\n",
       "    </tr>\n",
       "    <tr>\n",
       "      <th>1</th>\n",
       "      <td>14533903</td>\n",
       "      <td>MVC ORM and user related data &lt;p&gt;Yii provides ...</td>\n",
       "      <td>&lt;php&gt;&lt;session&gt;&lt;orm&gt;&lt;yii&gt;&lt;yii-cmodel&gt;</td>\n",
       "      <td>329</td>\n",
       "      <td>2</td>\n",
       "      <td>281019</td>\n",
       "      <td>0</td>\n",
       "    </tr>\n",
       "    <tr>\n",
       "      <th>2</th>\n",
       "      <td>1515086</td>\n",
       "      <td>#defined bitflags and enums - peaceful coexist...</td>\n",
       "      <td>&lt;c&gt;&lt;enums&gt;&lt;macros&gt;&lt;bitflags&gt;</td>\n",
       "      <td>155</td>\n",
       "      <td>2</td>\n",
       "      <td>4837</td>\n",
       "      <td>0</td>\n",
       "    </tr>\n",
       "    <tr>\n",
       "      <th>3</th>\n",
       "      <td>18756728</td>\n",
       "      <td>Mysql match against unknown column &lt;p&gt;I have a...</td>\n",
       "      <td>&lt;mysql&gt;&lt;sql&gt;&lt;match&gt;&lt;against&gt;</td>\n",
       "      <td>266811</td>\n",
       "      <td>2</td>\n",
       "      <td>98579</td>\n",
       "      <td>0</td>\n",
       "    </tr>\n",
       "    <tr>\n",
       "      <th>4</th>\n",
       "      <td>22487446</td>\n",
       "      <td>Object.getOwnPropertyNames() vs Object.prototy...</td>\n",
       "      <td>&lt;javascript&gt;&lt;hasownproperty&gt;</td>\n",
       "      <td>16827</td>\n",
       "      <td>2</td>\n",
       "      <td>16827</td>\n",
       "      <td>1</td>\n",
       "    </tr>\n",
       "  </tbody>\n",
       "</table>\n",
       "</div>"
      ],
      "text/plain": [
       "         Id                                           sentence  \\\n",
       "0  14523598  AutoDeploy a WAR file found in a subfolder of ...   \n",
       "1  14533903  MVC ORM and user related data <p>Yii provides ...   \n",
       "2   1515086  #defined bitflags and enums - peaceful coexist...   \n",
       "3  18756728  Mysql match against unknown column <p>I have a...   \n",
       "4  22487446  Object.getOwnPropertyNames() vs Object.prototy...   \n",
       "\n",
       "                                    tag   label  data_group  y_pred  compare  \n",
       "0             <tomcat><war><autodeploy>   50591           2    1258        0  \n",
       "1  <php><session><orm><yii><yii-cmodel>     329           2  281019        0  \n",
       "2          <c><enums><macros><bitflags>     155           2    4837        0  \n",
       "3          <mysql><sql><match><against>  266811           2   98579        0  \n",
       "4          <javascript><hasownproperty>   16827           2   16827        1  "
      ]
     },
     "execution_count": 119,
     "metadata": {},
     "output_type": "execute_result"
    }
   ],
   "source": [
    "df_result.head()"
   ]
  },
  {
   "cell_type": "code",
   "execution_count": 120,
   "metadata": {},
   "outputs": [],
   "source": [
    "wrong_list = list(df_result[df_result[\"compare\"] == 0].label.values)"
   ]
  },
  {
   "cell_type": "code",
   "execution_count": 121,
   "metadata": {},
   "outputs": [
    {
     "data": {
      "text/plain": [
       "52"
      ]
     },
     "execution_count": 121,
     "metadata": {},
     "output_type": "execute_result"
    }
   ],
   "source": [
    "len(wrong_list)"
   ]
  },
  {
   "cell_type": "code",
   "execution_count": 122,
   "metadata": {},
   "outputs": [],
   "source": [
    "right_list = list(df_result[df_result[\"compare\"] == 1].label.values)"
   ]
  },
  {
   "cell_type": "code",
   "execution_count": 123,
   "metadata": {},
   "outputs": [
    {
     "data": {
      "text/plain": [
       "74"
      ]
     },
     "execution_count": 123,
     "metadata": {},
     "output_type": "execute_result"
    }
   ],
   "source": [
    "len(right_list)"
   ]
  },
  {
   "cell_type": "code",
   "execution_count": 110,
   "metadata": {},
   "outputs": [],
   "source": [
    "df = pd.read_csv(\"../StackExchange/Stackoverflow/cluster_clean.csv\")"
   ]
  },
  {
   "cell_type": "code",
   "execution_count": 111,
   "metadata": {},
   "outputs": [],
   "source": [
    "tags_wrong = [list(df[df[\"label\"] == label_num][\"tag\"].values) for label_num in wrong_list]\n",
    "tags_right = [list(df[df[\"label\"] == label_num][\"tag\"].values) for label_num in right_list]"
   ]
  },
  {
   "cell_type": "code",
   "execution_count": 112,
   "metadata": {
    "scrolled": true
   },
   "outputs": [
    {
     "name": "stdout",
     "output_type": "stream",
     "text": [
      "Similarity: 0.08004046446164666\n",
      "Similarity: 0.043639472806139466\n",
      "Similarity: 0.0613300492610837\n",
      "Similarity: 0.13322622796307054\n",
      "Similarity: 0.09757245069745078\n",
      "Similarity: 0.09848618459729565\n",
      "Similarity: 0.05354512385762382\n",
      "Similarity: 0.17335992907801362\n",
      "Similarity: 0.05576471968097583\n",
      "Similarity: 0.14218214417550024\n",
      "Similarity: 0.08955060198682664\n",
      "Similarity: 0.15582778631165747\n",
      "Similarity: 0.11685540069686444\n",
      "Similarity: 0.10223190089043785\n",
      "Similarity: 0.14581327871650485\n",
      "Similarity: 0.12485039042498736\n",
      "Similarity: 0.10393838538999857\n",
      "Similarity: 0.01664418641019626\n",
      "Similarity: 0.21185437137818136\n",
      "Similarity: 0.24614478114478064\n",
      "Similarity: 0.1364712408260797\n",
      "Similarity: 0.06422333453583451\n",
      "Similarity: 0.09872333389620663\n",
      "Similarity: 0.20085300786981514\n",
      "Similarity: 0.1186468385803937\n",
      "Similarity: 0.19467155067155073\n",
      "Similarity: 0.3566404722808666\n",
      "Similarity: 0.18730718355718406\n",
      "Similarity: 0.058087342079689186\n",
      "Similarity: 0.03430814354727398\n",
      "Similarity: 0.10407224958949116\n",
      "Similarity: 0.023888185765262162\n",
      "Similarity: 0.05335470085470092\n",
      "Similarity: 0.10469550051203286\n",
      "Similarity: 0.3057611832611825\n",
      "Similarity: 0.2803688141923432\n",
      "Similarity: 0.17361950065438425\n",
      "Similarity: 0.18348608977641268\n",
      "Similarity: 0.11701950895300654\n",
      "Similarity: 0.27058138070042853\n",
      "Similarity: 0.22796722990271445\n",
      "Similarity: 0.05452821869488541\n",
      "Similarity: 0.11111711351207168\n",
      "Similarity: 0.07084997439836144\n",
      "Similarity: 0.20269736050986079\n",
      "Similarity: 0.12818167671108877\n",
      "Similarity: 0.1127013449057786\n",
      "Similarity: 0.1283385338940896\n",
      "Similarity: 0.16399725274725308\n",
      "Similarity: 0.2290396524771528\n"
     ]
    }
   ],
   "source": [
    "sim_result = []\n",
    "for group in tags_wrong:\n",
    "    total_sim = 0\n",
    "    count = 0\n",
    "    for i in range(len(group)):\n",
    "        for j in range(i+1, len(group)):\n",
    "            similarity = tag_jaccard_similarity(group[i], group[j])\n",
    "            total_sim += similarity\n",
    "            count += 1\n",
    "    result = total_sim/count\n",
    "    sim_result.append(result)\n",
    "    print(\"Similarity: {}\".format(result))"
   ]
  },
  {
   "cell_type": "code",
   "execution_count": 113,
   "metadata": {},
   "outputs": [
    {
     "data": {
      "text/plain": [
       "0.1349811153957326"
      ]
     },
     "execution_count": 113,
     "metadata": {},
     "output_type": "execute_result"
    }
   ],
   "source": [
    "sum(sim_result) / len(sim_result)"
   ]
  },
  {
   "cell_type": "code",
   "execution_count": 114,
   "metadata": {
    "scrolled": true
   },
   "outputs": [
    {
     "name": "stdout",
     "output_type": "stream",
     "text": [
      "Similarity: 0.1497595951961033\n",
      "Similarity: 0.07676681783824636\n",
      "Similarity: 0.3954323370990028\n",
      "Similarity: 0.17083673469387647\n",
      "Similarity: 0.1852370777370779\n",
      "Similarity: 0.22394599303135845\n",
      "Similarity: 0.1913912231559296\n",
      "Similarity: 0.18994617770479882\n",
      "Similarity: 0.18572281959378795\n",
      "Similarity: 0.23285250256016427\n",
      "Similarity: 0.21924001924001998\n",
      "Similarity: 0.16255077658303496\n",
      "Similarity: 0.24341728754994085\n",
      "Similarity: 0.18743505410172095\n",
      "Similarity: 0.16250510026372122\n",
      "Similarity: 0.07983956306536953\n",
      "Similarity: 0.2108052575443881\n",
      "Similarity: 0.22074452764977026\n",
      "Similarity: 0.14608803332207498\n",
      "Similarity: 0.3172772055530671\n",
      "Similarity: 0.1503794037940383\n",
      "Similarity: 0.16792850473522775\n",
      "Similarity: 0.09663028001898474\n",
      "Similarity: 0.19515248975934507\n",
      "Similarity: 0.1835927704415105\n",
      "Similarity: 0.0234465362372339\n",
      "Similarity: 0.2380075339314472\n",
      "Similarity: 0.13412424740010967\n",
      "Similarity: 0.16090597855303773\n",
      "Similarity: 0.07261871018248588\n",
      "Similarity: 0.08192449819433939\n",
      "Similarity: 0.305818994264372\n",
      "Similarity: 0.12304761904761906\n",
      "Similarity: 0.07882584485407072\n",
      "Similarity: 0.1910180857549282\n",
      "Similarity: 0.17835497835497902\n",
      "Similarity: 0.09324970131421748\n",
      "Similarity: 0.0907460317460317\n",
      "Similarity: 0.0718720080624843\n",
      "Similarity: 0.23847716764383436\n",
      "Similarity: 0.14622360455693825\n",
      "Similarity: 0.17868089764641495\n",
      "Similarity: 0.05643046107331821\n",
      "Similarity: 0.18994646006550844\n",
      "Similarity: 0.032491789819376005\n",
      "Similarity: 0.23636434053100744\n",
      "Similarity: 0.11096332785987965\n",
      "Similarity: 0.3468119571060738\n",
      "Similarity: 0.1572101238869536\n",
      "Similarity: 0.19686935286935314\n",
      "Similarity: 0.18516583642913298\n",
      "Similarity: 0.18678403460149526\n",
      "Similarity: 0.22940709617180247\n",
      "Similarity: 0.13349206349206366\n",
      "Similarity: 0.14461584633853575\n",
      "Similarity: 0.2190183150183154\n",
      "Similarity: 0.1317618625464371\n",
      "Similarity: 0.05993066958584195\n",
      "Similarity: 0.17132430049096786\n",
      "Similarity: 0.18798831185590692\n",
      "Similarity: 0.09832752613240438\n",
      "Similarity: 0.1433862433862438\n",
      "Similarity: 0.09396441990644921\n",
      "Similarity: 0.16109577164199063\n",
      "Similarity: 0.10953553835327243\n",
      "Similarity: 0.44654260171501486\n",
      "Similarity: 0.032467921941606116\n",
      "Similarity: 0.05424667178699433\n",
      "Similarity: 0.08582510131712291\n",
      "Similarity: 0.3058063225290113\n",
      "Similarity: 0.14830229134664638\n",
      "Similarity: 0.28628709454796386\n",
      "Similarity: 0.5190212291813278\n",
      "Similarity: 0.07480386790731615\n",
      "Similarity: 0.1324927462024237\n",
      "Similarity: 0.10322906940554005\n"
     ]
    }
   ],
   "source": [
    "sim_result_good = []\n",
    "for group in tags_right:\n",
    "    total_sim = 0\n",
    "    count = 0\n",
    "    for i in range(len(group)):\n",
    "        for j in range(i+1, len(group)):\n",
    "            similarity = tag_jaccard_similarity(group[i], group[j])\n",
    "            total_sim += similarity\n",
    "            count += 1\n",
    "    result = total_sim/count\n",
    "    sim_result_good.append(result)\n",
    "    print(\"Similarity: {}\".format(result))"
   ]
  },
  {
   "cell_type": "code",
   "execution_count": 115,
   "metadata": {},
   "outputs": [
    {
     "data": {
      "text/plain": [
       "0.1700622441713211"
      ]
     },
     "execution_count": 115,
     "metadata": {},
     "output_type": "execute_result"
    }
   ],
   "source": [
    "sum(sim_result_good) / len(sim_result_good)"
   ]
  },
  {
   "cell_type": "code",
   "execution_count": 25,
   "metadata": {},
   "outputs": [
    {
     "name": "stdout",
     "output_type": "stream",
     "text": [
      "{'fromcharcode', 'javascript', 'string'}\n",
      "{'opencv-stitching', 'java-native-interface', 'c++', 'opencv', 'android'}\n",
      "Similarity between '<javascript><string><fromcharcode>' and '<android><c++><opencv><java-native-interface><opencv-stitching>' is: 0.0\n",
      "{'fromcharcode', 'javascript', 'string'}\n",
      "{'angle', 'tilt', 'java', 'sensors', 'android'}\n",
      "Similarity between '<javascript><string><fromcharcode>' and '<java><android><sensors><angle><tilt>' is: 0.0\n",
      "{'fromcharcode', 'javascript', 'string'}\n",
      "{'swing', 'fest', 'swingx', 'java', 'jxtreetable'}\n",
      "Similarity between '<javascript><string><fromcharcode>' and '<java><swing><swingx><fest><jxtreetable>' is: 0.0\n",
      "{'opencv-stitching', 'java-native-interface', 'c++', 'opencv', 'android'}\n",
      "{'angle', 'tilt', 'java', 'sensors', 'android'}\n",
      "Similarity between '<android><c++><opencv><java-native-interface><opencv-stitching>' and '<java><android><sensors><angle><tilt>' is: 0.1111111111111111\n",
      "{'opencv-stitching', 'java-native-interface', 'c++', 'opencv', 'android'}\n",
      "{'swing', 'fest', 'swingx', 'java', 'jxtreetable'}\n",
      "Similarity between '<android><c++><opencv><java-native-interface><opencv-stitching>' and '<java><swing><swingx><fest><jxtreetable>' is: 0.0\n",
      "{'angle', 'tilt', 'java', 'sensors', 'android'}\n",
      "{'swing', 'fest', 'swingx', 'java', 'jxtreetable'}\n",
      "Similarity between '<java><android><sensors><angle><tilt>' and '<java><swing><swingx><fest><jxtreetable>' is: 0.1111111111111111\n"
     ]
    }
   ],
   "source": [
    "# Define a list of strings\n",
    "string_list = [\"I love apples\", \"I love oranges\", \"I like bananas\", \"I hate broccoli\"]\n",
    "string_list1 = [\"<javascript><string><fromcharcode>\", \"<android><c++><opencv><java-native-interface><opencv-stitching>\", \n",
    "               \"<java><android><sensors><angle><tilt>\", \"<java><swing><swingx><fest><jxtreetable>\"]\n",
    "\n",
    "# Loop through each pair of strings and print their Jaccard similarity coefficient\n",
    "for i in range(len(string_list1)):\n",
    "    for j in range(i+1, len(string_list1)):\n",
    "        similarity = tag_jaccard_similarity(string_list1[i], string_list1[j])\n",
    "        print(\"Similarity between '{}' and '{}' is: {}\".format(string_list1[i], string_list1[j], similarity))"
   ]
  },
  {
   "cell_type": "code",
   "execution_count": null,
   "metadata": {},
   "outputs": [],
   "source": []
  },
  {
   "cell_type": "code",
   "execution_count": 124,
   "metadata": {},
   "outputs": [],
   "source": [
    "tags_wrong_index = []\n",
    "for ilist in [list(df[df[\"label\"] == label_num].index.values) for label_num in wrong_list]:\n",
    "    tags_wrong_index.extend(ilist)"
   ]
  },
  {
   "cell_type": "code",
   "execution_count": 126,
   "metadata": {},
   "outputs": [
    {
     "data": {
      "text/plain": [
       "1846"
      ]
     },
     "execution_count": 126,
     "metadata": {},
     "output_type": "execute_result"
    }
   ],
   "source": [
    "len(tags_wrong_index)"
   ]
  },
  {
   "cell_type": "code",
   "execution_count": 128,
   "metadata": {},
   "outputs": [],
   "source": [
    "set_category = np.zeros(len(df)).tolist()\n"
   ]
  },
  {
   "cell_type": "code",
   "execution_count": 131,
   "metadata": {},
   "outputs": [],
   "source": [
    "for index in tags_wrong_index:\n",
    "    set_category[index] = 1"
   ]
  },
  {
   "cell_type": "code",
   "execution_count": 135,
   "metadata": {},
   "outputs": [],
   "source": [
    "df[\"y_wrong\"] = set_category\n",
    "df.to_csv(\"../StackExchange/Stackoverflow/cluster/result/dataset_result1.csv\",index = None)"
   ]
  },
  {
   "cell_type": "code",
   "execution_count": null,
   "metadata": {},
   "outputs": [],
   "source": []
  }
 ],
 "metadata": {
  "kernelspec": {
   "display_name": "Python 3 (ipykernel)",
   "language": "python",
   "name": "python3"
  },
  "language_info": {
   "codemirror_mode": {
    "name": "ipython",
    "version": 3
   },
   "file_extension": ".py",
   "mimetype": "text/x-python",
   "name": "python",
   "nbconvert_exporter": "python",
   "pygments_lexer": "ipython3",
   "version": "3.8.16"
  }
 },
 "nbformat": 4,
 "nbformat_minor": 4
}
