{
 "cells": [
  {
   "cell_type": "code",
   "execution_count": 2,
   "metadata": {},
   "outputs": [],
   "source": [
    "import pandas as pd\n",
    "import datetime"
   ]
  },
  {
   "cell_type": "code",
   "execution_count": 3,
   "metadata": {},
   "outputs": [],
   "source": [
    "channel = \"Scikitlearn\"\n",
    "channel2 = \"Angular\""
   ]
  },
  {
   "cell_type": "markdown",
   "metadata": {},
   "source": [
    "## Read users"
   ]
  },
  {
   "cell_type": "code",
   "execution_count": 2,
   "metadata": {
    "collapsed": true
   },
   "outputs": [],
   "source": [
    "df = pd.read_json('../Gitter_Channels/Scikitlearn/Scikitearn_user.json')"
   ]
  },
  {
   "cell_type": "code",
   "execution_count": 3,
   "metadata": {},
   "outputs": [
    {
     "name": "stdout",
     "output_type": "stream",
     "text": [
      "<class 'pandas.core.frame.DataFrame'>\n",
      "Int64Index: 4318 entries, 0 to 4317\n",
      "Data columns (total 3 columns):\n",
      "displayName    4318 non-null object\n",
      "id             4318 non-null object\n",
      "username       4318 non-null object\n",
      "dtypes: object(3)\n",
      "memory usage: 134.9+ KB\n"
     ]
    }
   ],
   "source": [
    "df.info()"
   ]
  },
  {
   "cell_type": "code",
   "execution_count": 4,
   "metadata": {},
   "outputs": [
    {
     "data": {
      "text/html": [
       "<div>\n",
       "<style>\n",
       "    .dataframe thead tr:only-child th {\n",
       "        text-align: right;\n",
       "    }\n",
       "\n",
       "    .dataframe thead th {\n",
       "        text-align: left;\n",
       "    }\n",
       "\n",
       "    .dataframe tbody tr th {\n",
       "        vertical-align: top;\n",
       "    }\n",
       "</style>\n",
       "<table border=\"1\" class=\"dataframe\">\n",
       "  <thead>\n",
       "    <tr style=\"text-align: right;\">\n",
       "      <th></th>\n",
       "      <th>displayName</th>\n",
       "      <th>id</th>\n",
       "      <th>username</th>\n",
       "    </tr>\n",
       "  </thead>\n",
       "  <tbody>\n",
       "    <tr>\n",
       "      <th>0</th>\n",
       "      <td>Jitesh Khandelwal</td>\n",
       "      <td>529c6a18ed5ab0b3bf04d26a</td>\n",
       "      <td>jiteshk23</td>\n",
       "    </tr>\n",
       "    <tr>\n",
       "      <th>1</th>\n",
       "      <td>Rahul Kulhari</td>\n",
       "      <td>529c6bdded5ab0b3bf04d758</td>\n",
       "      <td>RahulKulhari</td>\n",
       "    </tr>\n",
       "    <tr>\n",
       "      <th>2</th>\n",
       "      <td>Jaepil Jeong</td>\n",
       "      <td>529c6c0bed5ab0b3bf04d7db</td>\n",
       "      <td>jaepil</td>\n",
       "    </tr>\n",
       "    <tr>\n",
       "      <th>3</th>\n",
       "      <td>Edwin Khoo</td>\n",
       "      <td>529c6c8eed5ab0b3bf04d94a</td>\n",
       "      <td>edwinksl</td>\n",
       "    </tr>\n",
       "    <tr>\n",
       "      <th>4</th>\n",
       "      <td>Thanh Nguyen</td>\n",
       "      <td>529c6c9bed5ab0b3bf04d96b</td>\n",
       "      <td>tienthanh8490</td>\n",
       "    </tr>\n",
       "  </tbody>\n",
       "</table>\n",
       "</div>"
      ],
      "text/plain": [
       "         displayName                        id       username\n",
       "0  Jitesh Khandelwal  529c6a18ed5ab0b3bf04d26a      jiteshk23\n",
       "1      Rahul Kulhari  529c6bdded5ab0b3bf04d758   RahulKulhari\n",
       "2       Jaepil Jeong  529c6c0bed5ab0b3bf04d7db         jaepil\n",
       "3         Edwin Khoo  529c6c8eed5ab0b3bf04d94a       edwinksl\n",
       "4       Thanh Nguyen  529c6c9bed5ab0b3bf04d96b  tienthanh8490"
      ]
     },
     "execution_count": 4,
     "metadata": {},
     "output_type": "execute_result"
    }
   ],
   "source": [
    "df.head()"
   ]
  },
  {
   "cell_type": "code",
   "execution_count": null,
   "metadata": {
    "collapsed": true
   },
   "outputs": [],
   "source": []
  },
  {
   "cell_type": "markdown",
   "metadata": {},
   "source": [
    "## Read chat logs"
   ]
  },
  {
   "cell_type": "code",
   "execution_count": 4,
   "metadata": {},
   "outputs": [],
   "source": [
    "import json"
   ]
  },
  {
   "cell_type": "code",
   "execution_count": 5,
   "metadata": {},
   "outputs": [],
   "source": [
    "save_path = \"../../Analysis/\""
   ]
  },
  {
   "cell_type": "code",
   "execution_count": 6,
   "metadata": {},
   "outputs": [],
   "source": [
    "def read_logs(utterance_list):\n",
    "    prev_user = \"\"\n",
    "    dialog_id = 0\n",
    "    results = []\n",
    "    profile = {}\n",
    "    isHead =False\n",
    "    create_time = \"\"\n",
    "    line = 0\n",
    "    \n",
    "    for utterance in utterance_list:     \n",
    "        if len(utterance) == 0:\n",
    "            continue\n",
    "        if '-------------------------------------' in utterance:\n",
    "            if dialog_id != 0:\n",
    "                issue[\"Id\"] = dialog_id\n",
    "                #print(issue[\"Id\"])\n",
    "                issue[\"asker\"] = prev_user\n",
    "                #print(issue[\"asker\"])\n",
    "                issue[\"time\"] = create_time\n",
    "                #print(issue[\"time\"])\n",
    "                issue[\"content\"] = content\n",
    "                #print(issue[\"content\"])\n",
    "                issue[\"lines\"] = line\n",
    "                #print(issue[\"lines\"])\n",
    "                results.append(issue)\n",
    "            dialog_id += 1\n",
    "            line = 0\n",
    "            issue = {}\n",
    "            content = \"\"\n",
    "            isHead =True\n",
    "        else:\n",
    "            line += 1\n",
    "            start_index = 0\n",
    "            end_index = 0\n",
    "            #retreive time\n",
    "            while utterance[start_index] != \"[\":\n",
    "                start_index += 1\n",
    "        \n",
    "            start_index += 1\n",
    "            end_index = start_index\n",
    "            while utterance[end_index] != \"]\":\n",
    "                end_index += 1\n",
    "        \n",
    "            time = utterance[start_index:end_index]\n",
    "        \n",
    "            #retreive user\n",
    "            start_index = end_index\n",
    "            while utterance[start_index] != \"<\":\n",
    "                start_index += 1\n",
    "        \n",
    "            start_index += 1\n",
    "            end_index = start_index\n",
    "            while utterance[end_index] != \">\":\n",
    "                end_index += 1\n",
    "            \n",
    "            curr_user= utterance[start_index:end_index]\n",
    "        \n",
    "            #retreive message\n",
    "            message = utterance[(end_index+2):]\n",
    "            #print(\"message:\",message)\n",
    "\n",
    "            \n",
    "            if line == 1:\n",
    "                prev_user = curr_user\n",
    "                create_time = time\n",
    "            \n",
    "            if isHead and prev_user == curr_user:\n",
    "                content += message\n",
    "            else:\n",
    "                isHead =False\n",
    "                if prev_user == curr_user:\n",
    "                    continue\n",
    "            \n",
    "                if len(profile) > 0 and curr_user in profile.keys():\n",
    "                    if dialog_id in profile[curr_user].keys():\n",
    "                        profile[curr_user][dialog_id][\"Answer\"] += message\n",
    "                    else:\n",
    "                        profile[curr_user][dialog_id] = {}\n",
    "                        profile[curr_user][dialog_id][\"Time\"] = time\n",
    "                        profile[curr_user][dialog_id][\"Answer\"] = message\n",
    "    \n",
    "                else:\n",
    "                    profile[curr_user] = {}\n",
    "                    profile[curr_user][dialog_id] = {}\n",
    "                    profile[curr_user][dialog_id][\"Time\"] = time\n",
    "                    profile[curr_user][dialog_id][\"Answer\"] = message\n",
    "    \n",
    "    return results, profile"
   ]
  },
  {
   "cell_type": "markdown",
   "metadata": {},
   "source": [
    "### Scikitlearn"
   ]
  },
  {
   "cell_type": "code",
   "execution_count": 93,
   "metadata": {
    "collapsed": true
   },
   "outputs": [],
   "source": [
    "with open(\"../Gitter_Channels/\"+channel+\"/disentangle/\"+channel+\"_result.txt\", \"r\") as f:\n",
    "        utterance_list = f.readlines()"
   ]
  },
  {
   "cell_type": "code",
   "execution_count": null,
   "metadata": {},
   "outputs": [],
   "source": [
    "scikitlearn_results,scikitlearn_profile = read_logs(utterance_list)"
   ]
  },
  {
   "cell_type": "code",
   "execution_count": 91,
   "metadata": {},
   "outputs": [
    {
     "data": {
      "text/plain": [
       "5414"
      ]
     },
     "execution_count": 91,
     "metadata": {},
     "output_type": "execute_result"
    }
   ],
   "source": [
    "len(scikitlearn_results)"
   ]
  },
  {
   "cell_type": "code",
   "execution_count": null,
   "metadata": {
    "collapsed": true
   },
   "outputs": [],
   "source": [
    "with open(save_path+channel+'/Scikitlearn_issue.json', 'w') as outfile:\n",
    "    json.dump(scikitlearn_results, outfile)\n",
    "with open(save_path+channel+'/Scikitlearn_profile.json', 'w') as outfile:\n",
    "    json.dump(scikitlearn_profile, outfile)"
   ]
  },
  {
   "cell_type": "code",
   "execution_count": null,
   "metadata": {},
   "outputs": [],
   "source": []
  },
  {
   "cell_type": "markdown",
   "metadata": {},
   "source": [
    "### Angular"
   ]
  },
  {
   "cell_type": "code",
   "execution_count": null,
   "metadata": {},
   "outputs": [],
   "source": [
    "with open(\"../Gitter_Channels/\"+channel2+\"/disentangle/\"+channel2+\"_result.txt\", \"r\") as f:\n",
    "        utterance_list = f.readlines()"
   ]
  },
  {
   "cell_type": "code",
   "execution_count": null,
   "metadata": {},
   "outputs": [],
   "source": [
    "augular_results,angluar_profile = read_logs(utterance_list)"
   ]
  },
  {
   "cell_type": "code",
   "execution_count": null,
   "metadata": {},
   "outputs": [],
   "source": [
    "len(augular_results)"
   ]
  },
  {
   "cell_type": "code",
   "execution_count": null,
   "metadata": {},
   "outputs": [],
   "source": [
    "with open(save_path+channel2+'/Angular_issue.json', 'w') as outfile:\n",
    "    json.dump(augular_results, outfile)\n",
    "with open(save_path+channel2+'/Angular_profile.json', 'w') as outfile:\n",
    "    json.dump(angluar_profile, outfile)"
   ]
  },
  {
   "cell_type": "markdown",
   "metadata": {},
   "source": [
    "## Convert to csv"
   ]
  },
  {
   "cell_type": "code",
   "execution_count": 7,
   "metadata": {},
   "outputs": [],
   "source": [
    "def strToDatetime(str):\n",
    "    strptime = datetime.datetime.strptime(str, \"%Y-%m-%d %H:%M\")\n",
    "    return strptime"
   ]
  },
  {
   "cell_type": "code",
   "execution_count": 8,
   "metadata": {},
   "outputs": [],
   "source": [
    "def conv_to_dateframe(profile):\n",
    "    user_Id = []\n",
    "    cluster_Id = []\n",
    "    answer_date = []\n",
    "    answers = []\n",
    "\n",
    "    for user in profile:\n",
    "        for cluster in profile[user]:\n",
    "            #print(profile[user][cluster][\"Time\"])\n",
    "            time = strToDatetime(profile[user][cluster][\"Time\"])\n",
    "            user_Id.append(user)\n",
    "            cluster_Id.append(cluster)\n",
    "            answer_date.append(time)\n",
    "            answers.append(profile[user][cluster][\"Answer\"])\n",
    "    \n",
    "    df_user = pd.DataFrame()\n",
    "    df_user[\"user_Id\"] =user_Id\n",
    "    df_user[\"cluster_Id\"] =cluster_Id\n",
    "    df_user[\"answer_date\"] =answer_date\n",
    "    df_user[\"answers\"] =answers\n",
    "    \n",
    "    return df_user"
   ]
  },
  {
   "cell_type": "markdown",
   "metadata": {},
   "source": [
    "### Scikitlearn"
   ]
  },
  {
   "cell_type": "code",
   "execution_count": 99,
   "metadata": {},
   "outputs": [],
   "source": [
    "with open(save_path+channel+'/'+channel+'_profile.json', 'r') as f:\n",
    "    profile = json.load(f)"
   ]
  },
  {
   "cell_type": "code",
   "execution_count": 104,
   "metadata": {},
   "outputs": [
    {
     "data": {
      "text/plain": [
       "106"
      ]
     },
     "execution_count": 104,
     "metadata": {},
     "output_type": "execute_result"
    }
   ],
   "source": [
    "len(profile)"
   ]
  },
  {
   "cell_type": "code",
   "execution_count": 105,
   "metadata": {
    "collapsed": true
   },
   "outputs": [],
   "source": [
    "df_scikitlearn_profile = conv_to_dateframe(profile)"
   ]
  },
  {
   "cell_type": "code",
   "execution_count": 107,
   "metadata": {},
   "outputs": [
    {
     "data": {
      "text/html": [
       "<div>\n",
       "<style>\n",
       "    .dataframe thead tr:only-child th {\n",
       "        text-align: right;\n",
       "    }\n",
       "\n",
       "    .dataframe thead th {\n",
       "        text-align: left;\n",
       "    }\n",
       "\n",
       "    .dataframe tbody tr th {\n",
       "        vertical-align: top;\n",
       "    }\n",
       "</style>\n",
       "<table border=\"1\" class=\"dataframe\">\n",
       "  <thead>\n",
       "    <tr style=\"text-align: right;\">\n",
       "      <th></th>\n",
       "      <th>user_Id</th>\n",
       "      <th>cluster_Id</th>\n",
       "      <th>answer_date</th>\n",
       "      <th>answers</th>\n",
       "    </tr>\n",
       "  </thead>\n",
       "  <tbody>\n",
       "    <tr>\n",
       "      <th>0</th>\n",
       "      <td>54d4a1d6db8155e6700f853b</td>\n",
       "      <td>12</td>\n",
       "      <td>2015-02-06 11:14:00</td>\n",
       "      <td>I'm with family this week and so not super act...</td>\n",
       "    </tr>\n",
       "    <tr>\n",
       "      <th>1</th>\n",
       "      <td>54d4a1d6db8155e6700f853b</td>\n",
       "      <td>61</td>\n",
       "      <td>2015-02-24 22:46:00</td>\n",
       "      <td>cool\\nok\\n</td>\n",
       "    </tr>\n",
       "    <tr>\n",
       "      <th>2</th>\n",
       "      <td>54d4a1d6db8155e6700f853b</td>\n",
       "      <td>69</td>\n",
       "      <td>2015-02-25 18:59:00</td>\n",
       "      <td>yeah that sounds like a good idea\\n</td>\n",
       "    </tr>\n",
       "    <tr>\n",
       "      <th>3</th>\n",
       "      <td>54d4a1d6db8155e6700f853b</td>\n",
       "      <td>72</td>\n",
       "      <td>2015-02-25 19:14:00</td>\n",
       "      <td>you mean == 1\\n</td>\n",
       "    </tr>\n",
       "    <tr>\n",
       "      <th>4</th>\n",
       "      <td>54d4a1d6db8155e6700f853b</td>\n",
       "      <td>75</td>\n",
       "      <td>2015-02-25 19:19:00</td>\n",
       "      <td>that is also weird ;)\\n</td>\n",
       "    </tr>\n",
       "  </tbody>\n",
       "</table>\n",
       "</div>"
      ],
      "text/plain": [
       "                    user_Id cluster_Id         answer_date  \\\n",
       "0  54d4a1d6db8155e6700f853b         12 2015-02-06 11:14:00   \n",
       "1  54d4a1d6db8155e6700f853b         61 2015-02-24 22:46:00   \n",
       "2  54d4a1d6db8155e6700f853b         69 2015-02-25 18:59:00   \n",
       "3  54d4a1d6db8155e6700f853b         72 2015-02-25 19:14:00   \n",
       "4  54d4a1d6db8155e6700f853b         75 2015-02-25 19:19:00   \n",
       "\n",
       "                                             answers  \n",
       "0  I'm with family this week and so not super act...  \n",
       "1                                         cool\\nok\\n  \n",
       "2                yeah that sounds like a good idea\\n  \n",
       "3                                    you mean == 1\\n  \n",
       "4                            that is also weird ;)\\n  "
      ]
     },
     "execution_count": 107,
     "metadata": {},
     "output_type": "execute_result"
    }
   ],
   "source": [
    "df_scikitlearn_profile.head()"
   ]
  },
  {
   "cell_type": "code",
   "execution_count": 108,
   "metadata": {
    "collapsed": true
   },
   "outputs": [],
   "source": [
    "df_scikitlearn_profile.to_csv(save_path+channel+'/'+channel+'_profile.csv', index=False) "
   ]
  },
  {
   "cell_type": "markdown",
   "metadata": {
    "collapsed": true
   },
   "source": [
    "### Angular"
   ]
  },
  {
   "cell_type": "code",
   "execution_count": 9,
   "metadata": {},
   "outputs": [],
   "source": [
    "with open(save_path+channel2+'/'+channel2+'_profile.json', 'r') as f:\n",
    "    profile = json.load(f)"
   ]
  },
  {
   "cell_type": "code",
   "execution_count": 10,
   "metadata": {},
   "outputs": [
    {
     "data": {
      "text/plain": [
       "6707"
      ]
     },
     "execution_count": 10,
     "metadata": {},
     "output_type": "execute_result"
    }
   ],
   "source": [
    "len(profile)"
   ]
  },
  {
   "cell_type": "code",
   "execution_count": 11,
   "metadata": {},
   "outputs": [],
   "source": [
    "df_angular_profile = conv_to_dateframe(profile)"
   ]
  },
  {
   "cell_type": "code",
   "execution_count": 12,
   "metadata": {},
   "outputs": [
    {
     "data": {
      "text/html": [
       "<div>\n",
       "<style scoped>\n",
       "    .dataframe tbody tr th:only-of-type {\n",
       "        vertical-align: middle;\n",
       "    }\n",
       "\n",
       "    .dataframe tbody tr th {\n",
       "        vertical-align: top;\n",
       "    }\n",
       "\n",
       "    .dataframe thead th {\n",
       "        text-align: right;\n",
       "    }\n",
       "</style>\n",
       "<table border=\"1\" class=\"dataframe\">\n",
       "  <thead>\n",
       "    <tr style=\"text-align: right;\">\n",
       "      <th></th>\n",
       "      <th>user_Id</th>\n",
       "      <th>cluster_Id</th>\n",
       "      <th>answer_date</th>\n",
       "      <th>answers</th>\n",
       "    </tr>\n",
       "  </thead>\n",
       "  <tbody>\n",
       "    <tr>\n",
       "      <th>0</th>\n",
       "      <td>54e6ee3b15522ed4b3dc3c24</td>\n",
       "      <td>15</td>\n",
       "      <td>2015-03-08 18:01:00</td>\n",
       "      <td>currently only working in chrome until shadow ...</td>\n",
       "    </tr>\n",
       "    <tr>\n",
       "      <th>1</th>\n",
       "      <td>54e6ee3b15522ed4b3dc3c24</td>\n",
       "      <td>20</td>\n",
       "      <td>2015-03-09 02:39:00</td>\n",
       "      <td>::shadow\\nhttp://www.html5rocks.com/en/tutoria...</td>\n",
       "    </tr>\n",
       "    <tr>\n",
       "      <th>2</th>\n",
       "      <td>54e6ee3b15522ed4b3dc3c24</td>\n",
       "      <td>100</td>\n",
       "      <td>2015-03-13 19:48:00</td>\n",
       "      <td>@mhevery  that was my worry too (Dart version ...</td>\n",
       "    </tr>\n",
       "    <tr>\n",
       "      <th>3</th>\n",
       "      <td>54e6ee3b15522ed4b3dc3c24</td>\n",
       "      <td>113</td>\n",
       "      <td>2015-03-14 02:46:00</td>\n",
       "      <td>you donat need to inject it since itas going t...</td>\n",
       "    </tr>\n",
       "    <tr>\n",
       "      <th>4</th>\n",
       "      <td>54e6ee3b15522ed4b3dc3c24</td>\n",
       "      <td>118</td>\n",
       "      <td>2015-03-14 07:23:00</td>\n",
       "      <td>what version of node?\\n</td>\n",
       "    </tr>\n",
       "  </tbody>\n",
       "</table>\n",
       "</div>"
      ],
      "text/plain": [
       "                    user_Id cluster_Id         answer_date  \\\n",
       "0  54e6ee3b15522ed4b3dc3c24         15 2015-03-08 18:01:00   \n",
       "1  54e6ee3b15522ed4b3dc3c24         20 2015-03-09 02:39:00   \n",
       "2  54e6ee3b15522ed4b3dc3c24        100 2015-03-13 19:48:00   \n",
       "3  54e6ee3b15522ed4b3dc3c24        113 2015-03-14 02:46:00   \n",
       "4  54e6ee3b15522ed4b3dc3c24        118 2015-03-14 07:23:00   \n",
       "\n",
       "                                             answers  \n",
       "0  currently only working in chrome until shadow ...  \n",
       "1  ::shadow\\nhttp://www.html5rocks.com/en/tutoria...  \n",
       "2  @mhevery  that was my worry too (Dart version ...  \n",
       "3  you donat need to inject it since itas going t...  \n",
       "4                            what version of node?\\n  "
      ]
     },
     "execution_count": 12,
     "metadata": {},
     "output_type": "execute_result"
    }
   ],
   "source": [
    "df_angular_profile.head()"
   ]
  },
  {
   "cell_type": "code",
   "execution_count": null,
   "metadata": {},
   "outputs": [],
   "source": [
    "df_angular_profile.to_csv(save_path+channel2+'/'+channel2+'_profile.csv', index=False) "
   ]
  }
 ],
 "metadata": {
  "kernelspec": {
   "display_name": "Python 3",
   "language": "python",
   "name": "python3"
  },
  "language_info": {
   "codemirror_mode": {
    "name": "ipython",
    "version": 3
   },
   "file_extension": ".py",
   "mimetype": "text/x-python",
   "name": "python",
   "nbconvert_exporter": "python",
   "pygments_lexer": "ipython3",
   "version": "3.8.5"
  }
 },
 "nbformat": 4,
 "nbformat_minor": 4
}
