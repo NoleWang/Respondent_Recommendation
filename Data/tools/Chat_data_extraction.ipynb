{
 "cells": [
  {
   "cell_type": "code",
   "execution_count": 1,
   "metadata": {},
   "outputs": [],
   "source": [
    "import pandas as pd\n",
    "import datetime\n",
    "import json"
   ]
  },
  {
   "cell_type": "code",
   "execution_count": 2,
   "metadata": {},
   "outputs": [],
   "source": [
    "channel = \"Scikitlearn\"\n",
    "channel2 = \"Angular\""
   ]
  },
  {
   "cell_type": "markdown",
   "metadata": {},
   "source": [
    "## Read users"
   ]
  },
  {
   "cell_type": "code",
   "execution_count": 2,
   "metadata": {
    "collapsed": true
   },
   "outputs": [],
   "source": [
    "df = pd.read_json('../Gitter_Channels/Scikitlearn/Scikitearn_user.json')"
   ]
  },
  {
   "cell_type": "code",
   "execution_count": 3,
   "metadata": {},
   "outputs": [
    {
     "name": "stdout",
     "output_type": "stream",
     "text": [
      "<class 'pandas.core.frame.DataFrame'>\n",
      "Int64Index: 4318 entries, 0 to 4317\n",
      "Data columns (total 3 columns):\n",
      "displayName    4318 non-null object\n",
      "id             4318 non-null object\n",
      "username       4318 non-null object\n",
      "dtypes: object(3)\n",
      "memory usage: 134.9+ KB\n"
     ]
    }
   ],
   "source": [
    "df.info()"
   ]
  },
  {
   "cell_type": "code",
   "execution_count": 4,
   "metadata": {},
   "outputs": [
    {
     "data": {
      "text/html": [
       "<div>\n",
       "<style>\n",
       "    .dataframe thead tr:only-child th {\n",
       "        text-align: right;\n",
       "    }\n",
       "\n",
       "    .dataframe thead th {\n",
       "        text-align: left;\n",
       "    }\n",
       "\n",
       "    .dataframe tbody tr th {\n",
       "        vertical-align: top;\n",
       "    }\n",
       "</style>\n",
       "<table border=\"1\" class=\"dataframe\">\n",
       "  <thead>\n",
       "    <tr style=\"text-align: right;\">\n",
       "      <th></th>\n",
       "      <th>displayName</th>\n",
       "      <th>id</th>\n",
       "      <th>username</th>\n",
       "    </tr>\n",
       "  </thead>\n",
       "  <tbody>\n",
       "    <tr>\n",
       "      <th>0</th>\n",
       "      <td>Jitesh Khandelwal</td>\n",
       "      <td>529c6a18ed5ab0b3bf04d26a</td>\n",
       "      <td>jiteshk23</td>\n",
       "    </tr>\n",
       "    <tr>\n",
       "      <th>1</th>\n",
       "      <td>Rahul Kulhari</td>\n",
       "      <td>529c6bdded5ab0b3bf04d758</td>\n",
       "      <td>RahulKulhari</td>\n",
       "    </tr>\n",
       "    <tr>\n",
       "      <th>2</th>\n",
       "      <td>Jaepil Jeong</td>\n",
       "      <td>529c6c0bed5ab0b3bf04d7db</td>\n",
       "      <td>jaepil</td>\n",
       "    </tr>\n",
       "    <tr>\n",
       "      <th>3</th>\n",
       "      <td>Edwin Khoo</td>\n",
       "      <td>529c6c8eed5ab0b3bf04d94a</td>\n",
       "      <td>edwinksl</td>\n",
       "    </tr>\n",
       "    <tr>\n",
       "      <th>4</th>\n",
       "      <td>Thanh Nguyen</td>\n",
       "      <td>529c6c9bed5ab0b3bf04d96b</td>\n",
       "      <td>tienthanh8490</td>\n",
       "    </tr>\n",
       "  </tbody>\n",
       "</table>\n",
       "</div>"
      ],
      "text/plain": [
       "         displayName                        id       username\n",
       "0  Jitesh Khandelwal  529c6a18ed5ab0b3bf04d26a      jiteshk23\n",
       "1      Rahul Kulhari  529c6bdded5ab0b3bf04d758   RahulKulhari\n",
       "2       Jaepil Jeong  529c6c0bed5ab0b3bf04d7db         jaepil\n",
       "3         Edwin Khoo  529c6c8eed5ab0b3bf04d94a       edwinksl\n",
       "4       Thanh Nguyen  529c6c9bed5ab0b3bf04d96b  tienthanh8490"
      ]
     },
     "execution_count": 4,
     "metadata": {},
     "output_type": "execute_result"
    }
   ],
   "source": [
    "df.head()"
   ]
  },
  {
   "cell_type": "code",
   "execution_count": null,
   "metadata": {
    "collapsed": true
   },
   "outputs": [],
   "source": []
  },
  {
   "cell_type": "markdown",
   "metadata": {},
   "source": [
    "## Read chat logs"
   ]
  },
  {
   "cell_type": "code",
   "execution_count": 3,
   "metadata": {},
   "outputs": [],
   "source": [
    "import json"
   ]
  },
  {
   "cell_type": "code",
   "execution_count": 4,
   "metadata": {},
   "outputs": [],
   "source": [
    "save_path = \"../Gitter_Channels/\""
   ]
  },
  {
   "cell_type": "code",
   "execution_count": 10,
   "metadata": {},
   "outputs": [],
   "source": [
    "def read_logs(utterance_list):\n",
    "    prev_user = \"\"\n",
    "    dialog_id = 0\n",
    "    results = []\n",
    "    profile = {}\n",
    "    isHead =False\n",
    "    create_time = \"\"\n",
    "    line = 0\n",
    "    \n",
    "    for utterance in utterance_list:     \n",
    "        if len(utterance) == 0:\n",
    "            continue\n",
    "        if '-------------------------------------' in utterance:\n",
    "            if dialog_id != 0:\n",
    "                issue[\"Id\"] = dialog_id\n",
    "                #print(issue[\"Id\"])\n",
    "                issue[\"asker\"] = prev_user\n",
    "                #print(issue[\"asker\"])\n",
    "                issue[\"time\"] = create_time\n",
    "                #print(issue[\"time\"])\n",
    "                issue[\"content\"] = content\n",
    "                #print(issue[\"content\"])\n",
    "                issue[\"lines\"] = line\n",
    "                #print(issue[\"lines\"])\n",
    "                results.append(issue)\n",
    "            dialog_id += 1\n",
    "            line = 0\n",
    "            issue = {}\n",
    "            content = \"\"\n",
    "            isHead =True\n",
    "        else:\n",
    "            line += 1\n",
    "            start_index = 0\n",
    "            end_index = 0\n",
    "            #retreive time\n",
    "            while utterance[start_index] != \"[\":\n",
    "                start_index += 1\n",
    "        \n",
    "            start_index += 1\n",
    "            end_index = start_index\n",
    "            while utterance[end_index] != \"]\":\n",
    "                end_index += 1\n",
    "        \n",
    "            time = utterance[start_index:end_index]\n",
    "        \n",
    "            #retreive user\n",
    "            start_index = end_index\n",
    "            while utterance[start_index] != \"<\":\n",
    "                start_index += 1\n",
    "        \n",
    "            start_index += 1\n",
    "            end_index = start_index\n",
    "            while utterance[end_index] != \">\":\n",
    "                end_index += 1\n",
    "            \n",
    "            curr_user= utterance[start_index:end_index]\n",
    "        \n",
    "            #retreive message\n",
    "            message = utterance[(end_index+2):]\n",
    "            #print(\"message:\",message)\n",
    "\n",
    "            \n",
    "            if line == 1:\n",
    "                prev_user = curr_user\n",
    "                create_time = time\n",
    "            \n",
    "            if isHead and prev_user == curr_user:\n",
    "                content += message\n",
    "            else:\n",
    "                isHead =False\n",
    "                if prev_user == curr_user:\n",
    "                    continue\n",
    "            \n",
    "                if len(profile) > 0 and curr_user in profile.keys():\n",
    "                    if dialog_id in profile[curr_user].keys():\n",
    "                        profile[curr_user][dialog_id][\"Answer\"] += message\n",
    "                    else:\n",
    "                        profile[curr_user][dialog_id] = {}\n",
    "                        profile[curr_user][dialog_id][\"Time\"] = time\n",
    "                        profile[curr_user][dialog_id][\"Answer\"] = message\n",
    "    \n",
    "                else:\n",
    "                    profile[curr_user] = {}\n",
    "                    profile[curr_user][dialog_id] = {}\n",
    "                    profile[curr_user][dialog_id][\"Time\"] = time\n",
    "                    profile[curr_user][dialog_id][\"Answer\"] = message\n",
    "    \n",
    "    return results, profile"
   ]
  },
  {
   "cell_type": "code",
   "execution_count": 22,
   "metadata": {},
   "outputs": [],
   "source": [
    "def read_msg(utterance_list):\n",
    "    dialog_id = 0\n",
    "    results = []\n",
    "    isHead =True\n",
    "    \n",
    "    for utterance in utterance_list:    \n",
    "        if len(utterance) == 0:\n",
    "            continue\n",
    "            \n",
    "        if '-------------------------------------' in utterance:\n",
    "            dialog_id += 1\n",
    "            isHead =True\n",
    "            continue\n",
    "        \n",
    "        dialog = {}  \n",
    "        dialog[\"Id\"] = dialog_id\n",
    "        start_index = 0\n",
    "        end_index = 0\n",
    "        \n",
    "        #retreive time\n",
    "        while utterance[start_index] != \"[\":\n",
    "            start_index += 1\n",
    "            \n",
    "        start_index += 1\n",
    "        end_index = start_index\n",
    "        while utterance[end_index] != \"]\":\n",
    "            end_index += 1\n",
    "            \n",
    "        dialog[\"date\"] = utterance[start_index:end_index]\n",
    "        \n",
    "        #retreive user\n",
    "        start_index = end_index\n",
    "        while utterance[start_index] != \"<\":\n",
    "            start_index += 1\n",
    "        \n",
    "        start_index += 1\n",
    "        end_index = start_index\n",
    "        while utterance[end_index] != \">\":\n",
    "            end_index += 1\n",
    "        \n",
    "        curr_user= utterance[start_index:end_index]\n",
    "        \n",
    "        dialog[\"asker\"] = curr_user\n",
    "        \n",
    "        \n",
    "        #determine type \n",
    "        if isHead:\n",
    "            dialog[\"type\"] = \"issue\"\n",
    "        elif results[len(results)-1][\"type\"] == \"issue\" and results[len(results)-1][\"asker\"] == curr_user:\n",
    "            dialog[\"type\"] = \"issue\"\n",
    "        else:\n",
    "            dialog[\"type\"] = \"answer\"\n",
    "        \n",
    "        #retreive message\n",
    "        dialog[\"content\"] = utterance[(end_index+2):]\n",
    "\n",
    "        results.append(dialog)\n",
    "        isHead =False\n",
    "    \n",
    "    return results, dialog_id"
   ]
  },
  {
   "cell_type": "code",
   "execution_count": 19,
   "metadata": {},
   "outputs": [],
   "source": [
    "with open(save_path+channel2+\"/disentangle/test.txt\", \"r\") as f:\n",
    "        utterance_list = f.readlines()"
   ]
  },
  {
   "cell_type": "code",
   "execution_count": 23,
   "metadata": {},
   "outputs": [],
   "source": [
    "augular_results, num_dialog = read_msg(utterance_list)"
   ]
  },
  {
   "cell_type": "code",
   "execution_count": 24,
   "metadata": {},
   "outputs": [
    {
     "data": {
      "text/plain": [
       "15"
      ]
     },
     "execution_count": 24,
     "metadata": {},
     "output_type": "execute_result"
    }
   ],
   "source": [
    "num_dialog"
   ]
  },
  {
   "cell_type": "code",
   "execution_count": 26,
   "metadata": {},
   "outputs": [],
   "source": [
    "\n",
    "df = pd.read_json(json.dumps(augular_results))"
   ]
  },
  {
   "cell_type": "code",
   "execution_count": 27,
   "metadata": {},
   "outputs": [
    {
     "data": {
      "text/html": [
       "<div>\n",
       "<style scoped>\n",
       "    .dataframe tbody tr th:only-of-type {\n",
       "        vertical-align: middle;\n",
       "    }\n",
       "\n",
       "    .dataframe tbody tr th {\n",
       "        vertical-align: top;\n",
       "    }\n",
       "\n",
       "    .dataframe thead th {\n",
       "        text-align: right;\n",
       "    }\n",
       "</style>\n",
       "<table border=\"1\" class=\"dataframe\">\n",
       "  <thead>\n",
       "    <tr style=\"text-align: right;\">\n",
       "      <th></th>\n",
       "      <th>Id</th>\n",
       "      <th>date</th>\n",
       "      <th>asker</th>\n",
       "      <th>type</th>\n",
       "      <th>content</th>\n",
       "    </tr>\n",
       "  </thead>\n",
       "  <tbody>\n",
       "    <tr>\n",
       "      <th>0</th>\n",
       "      <td>0</td>\n",
       "      <td>2015-03-07 19:32:00</td>\n",
       "      <td>530cd1eb5e986b0712efb4d2</td>\n",
       "      <td>issue</td>\n",
       "      <td>Welcome all to Angular 2 public discussion!\\n</td>\n",
       "    </tr>\n",
       "    <tr>\n",
       "      <th>1</th>\n",
       "      <td>1</td>\n",
       "      <td>2015-03-07 21:41:00</td>\n",
       "      <td>54c89b1cdb8155e6700f2ac3</td>\n",
       "      <td>issue</td>\n",
       "      <td>Awesome!\\n</td>\n",
       "    </tr>\n",
       "    <tr>\n",
       "      <th>2</th>\n",
       "      <td>2</td>\n",
       "      <td>2015-03-07 21:53:00</td>\n",
       "      <td>54e6ee3b15522ed4b3dc3c24</td>\n",
       "      <td>issue</td>\n",
       "      <td>sweet, now we can ask angular2 questions in re...</td>\n",
       "    </tr>\n",
       "    <tr>\n",
       "      <th>3</th>\n",
       "      <td>3</td>\n",
       "      <td>2015-03-07 22:04:00</td>\n",
       "      <td>530cd1eb5e986b0712efb4d2</td>\n",
       "      <td>issue</td>\n",
       "      <td>Yes!\\n</td>\n",
       "    </tr>\n",
       "    <tr>\n",
       "      <th>4</th>\n",
       "      <td>4</td>\n",
       "      <td>2015-03-07 22:06:00</td>\n",
       "      <td>54e6ee3b15522ed4b3dc3c24</td>\n",
       "      <td>issue</td>\n",
       "      <td>we're missing the [View Source] [Improve this ...</td>\n",
       "    </tr>\n",
       "    <tr>\n",
       "      <th>5</th>\n",
       "      <td>5</td>\n",
       "      <td>2015-03-07 23:18:00</td>\n",
       "      <td>530cd1eb5e986b0712efb4d2</td>\n",
       "      <td>issue</td>\n",
       "      <td>Good idea can you file an issue with repo?\\n</td>\n",
       "    </tr>\n",
       "    <tr>\n",
       "      <th>6</th>\n",
       "      <td>6</td>\n",
       "      <td>2015-03-08 00:20:00</td>\n",
       "      <td>54e6ee3b15522ed4b3dc3c24</td>\n",
       "      <td>issue</td>\n",
       "      <td>I submitted it an issue about view source etc ...</td>\n",
       "    </tr>\n",
       "    <tr>\n",
       "      <th>7</th>\n",
       "      <td>7</td>\n",
       "      <td>2015-03-08 05:45:00</td>\n",
       "      <td>54f9f23015522ed4b3dce8b5</td>\n",
       "      <td>issue</td>\n",
       "      <td>Great job on Angular 2 so far! IMHO, the Angul...</td>\n",
       "    </tr>\n",
       "    <tr>\n",
       "      <th>8</th>\n",
       "      <td>8</td>\n",
       "      <td>2015-03-08 05:56:00</td>\n",
       "      <td>54e6ee3b15522ed4b3dc3c24</td>\n",
       "      <td>issue</td>\n",
       "      <td>So your answer is yes, eventually. TypeScript ...</td>\n",
       "    </tr>\n",
       "    <tr>\n",
       "      <th>9</th>\n",
       "      <td>8</td>\n",
       "      <td>2015-03-08 05:58:00</td>\n",
       "      <td>54e6ee3b15522ed4b3dc3c24</td>\n",
       "      <td>issue</td>\n",
       "      <td>here is the link to the typescript todo app de...</td>\n",
       "    </tr>\n",
       "    <tr>\n",
       "      <th>10</th>\n",
       "      <td>8</td>\n",
       "      <td>2015-03-08 06:02:00</td>\n",
       "      <td>54e6ee3b15522ed4b3dc3c24</td>\n",
       "      <td>issue</td>\n",
       "      <td>Well the TypeScript guys suggested their compi...</td>\n",
       "    </tr>\n",
       "    <tr>\n",
       "      <th>11</th>\n",
       "      <td>9</td>\n",
       "      <td>2015-03-08 06:01:00</td>\n",
       "      <td>54f9f23015522ed4b3dce8b5</td>\n",
       "      <td>issue</td>\n",
       "      <td>The TypeScript compiler will eventually emit D...</td>\n",
       "    </tr>\n",
       "    <tr>\n",
       "      <th>12</th>\n",
       "      <td>10</td>\n",
       "      <td>2015-03-08 06:04:00</td>\n",
       "      <td>54f9f23015522ed4b3dce8b5</td>\n",
       "      <td>issue</td>\n",
       "      <td>Piggy backing on the TypeScript compiler seems...</td>\n",
       "    </tr>\n",
       "    <tr>\n",
       "      <th>13</th>\n",
       "      <td>10</td>\n",
       "      <td>2015-03-08 06:05:00</td>\n",
       "      <td>54f9f23015522ed4b3dce8b5</td>\n",
       "      <td>issue</td>\n",
       "      <td>[Angular issues have labels](https://github.co...</td>\n",
       "    </tr>\n",
       "    <tr>\n",
       "      <th>14</th>\n",
       "      <td>11</td>\n",
       "      <td>2015-03-08 06:07:00</td>\n",
       "      <td>54e6ee3b15522ed4b3dc3c24</td>\n",
       "      <td>issue</td>\n",
       "      <td>Can you submit an issue suggesting that in the...</td>\n",
       "    </tr>\n",
       "    <tr>\n",
       "      <th>15</th>\n",
       "      <td>12</td>\n",
       "      <td>2015-03-08 07:27:00</td>\n",
       "      <td>54531c68db8155e6700d0016</td>\n",
       "      <td>issue</td>\n",
       "      <td>On this page: https://angular.io/docs/js/lates...</td>\n",
       "    </tr>\n",
       "    <tr>\n",
       "      <th>16</th>\n",
       "      <td>13</td>\n",
       "      <td>2015-03-08 07:29:00</td>\n",
       "      <td>54e6ee3b15522ed4b3dc3c24</td>\n",
       "      <td>issue</td>\n",
       "      <td>I was thinking the same thing although TypeScr...</td>\n",
       "    </tr>\n",
       "    <tr>\n",
       "      <th>17</th>\n",
       "      <td>13</td>\n",
       "      <td>2015-03-08 18:09:00</td>\n",
       "      <td>54e6ee3b15522ed4b3dc3c24</td>\n",
       "      <td>issue</td>\n",
       "      <td>np\\n</td>\n",
       "    </tr>\n",
       "    <tr>\n",
       "      <th>18</th>\n",
       "      <td>14</td>\n",
       "      <td>2015-03-09 02:38:00</td>\n",
       "      <td>529c6c1ded5ab0b3bf04d80e</td>\n",
       "      <td>issue</td>\n",
       "      <td>yeah, I'm importing the whole stylesheet per c...</td>\n",
       "    </tr>\n",
       "    <tr>\n",
       "      <th>19</th>\n",
       "      <td>14</td>\n",
       "      <td>2015-03-09 02:39:00</td>\n",
       "      <td>54e6ee3b15522ed4b3dc3c24</td>\n",
       "      <td>answer</td>\n",
       "      <td>::shadow\\n</td>\n",
       "    </tr>\n",
       "    <tr>\n",
       "      <th>20</th>\n",
       "      <td>14</td>\n",
       "      <td>2015-03-09 02:39:00</td>\n",
       "      <td>54e6ee3b15522ed4b3dc3c24</td>\n",
       "      <td>answer</td>\n",
       "      <td>http://www.html5rocks.com/en/tutorials/webcomp...</td>\n",
       "    </tr>\n",
       "    <tr>\n",
       "      <th>21</th>\n",
       "      <td>14</td>\n",
       "      <td>2015-03-09 02:39:00</td>\n",
       "      <td>54e6ee3b15522ed4b3dc3c24</td>\n",
       "      <td>answer</td>\n",
       "      <td>styling children from parent\\n</td>\n",
       "    </tr>\n",
       "    <tr>\n",
       "      <th>22</th>\n",
       "      <td>14</td>\n",
       "      <td>2015-03-09 02:42:00</td>\n",
       "      <td>529c6c1ded5ab0b3bf04d80e</td>\n",
       "      <td>answer</td>\n",
       "      <td>thanks\\n</td>\n",
       "    </tr>\n",
       "  </tbody>\n",
       "</table>\n",
       "</div>"
      ],
      "text/plain": [
       "    Id                date                     asker    type  \\\n",
       "0    0 2015-03-07 19:32:00  530cd1eb5e986b0712efb4d2   issue   \n",
       "1    1 2015-03-07 21:41:00  54c89b1cdb8155e6700f2ac3   issue   \n",
       "2    2 2015-03-07 21:53:00  54e6ee3b15522ed4b3dc3c24   issue   \n",
       "3    3 2015-03-07 22:04:00  530cd1eb5e986b0712efb4d2   issue   \n",
       "4    4 2015-03-07 22:06:00  54e6ee3b15522ed4b3dc3c24   issue   \n",
       "5    5 2015-03-07 23:18:00  530cd1eb5e986b0712efb4d2   issue   \n",
       "6    6 2015-03-08 00:20:00  54e6ee3b15522ed4b3dc3c24   issue   \n",
       "7    7 2015-03-08 05:45:00  54f9f23015522ed4b3dce8b5   issue   \n",
       "8    8 2015-03-08 05:56:00  54e6ee3b15522ed4b3dc3c24   issue   \n",
       "9    8 2015-03-08 05:58:00  54e6ee3b15522ed4b3dc3c24   issue   \n",
       "10   8 2015-03-08 06:02:00  54e6ee3b15522ed4b3dc3c24   issue   \n",
       "11   9 2015-03-08 06:01:00  54f9f23015522ed4b3dce8b5   issue   \n",
       "12  10 2015-03-08 06:04:00  54f9f23015522ed4b3dce8b5   issue   \n",
       "13  10 2015-03-08 06:05:00  54f9f23015522ed4b3dce8b5   issue   \n",
       "14  11 2015-03-08 06:07:00  54e6ee3b15522ed4b3dc3c24   issue   \n",
       "15  12 2015-03-08 07:27:00  54531c68db8155e6700d0016   issue   \n",
       "16  13 2015-03-08 07:29:00  54e6ee3b15522ed4b3dc3c24   issue   \n",
       "17  13 2015-03-08 18:09:00  54e6ee3b15522ed4b3dc3c24   issue   \n",
       "18  14 2015-03-09 02:38:00  529c6c1ded5ab0b3bf04d80e   issue   \n",
       "19  14 2015-03-09 02:39:00  54e6ee3b15522ed4b3dc3c24  answer   \n",
       "20  14 2015-03-09 02:39:00  54e6ee3b15522ed4b3dc3c24  answer   \n",
       "21  14 2015-03-09 02:39:00  54e6ee3b15522ed4b3dc3c24  answer   \n",
       "22  14 2015-03-09 02:42:00  529c6c1ded5ab0b3bf04d80e  answer   \n",
       "\n",
       "                                              content  \n",
       "0       Welcome all to Angular 2 public discussion!\\n  \n",
       "1                                          Awesome!\\n  \n",
       "2   sweet, now we can ask angular2 questions in re...  \n",
       "3                                              Yes!\\n  \n",
       "4   we're missing the [View Source] [Improve this ...  \n",
       "5        Good idea can you file an issue with repo?\\n  \n",
       "6   I submitted it an issue about view source etc ...  \n",
       "7   Great job on Angular 2 so far! IMHO, the Angul...  \n",
       "8   So your answer is yes, eventually. TypeScript ...  \n",
       "9   here is the link to the typescript todo app de...  \n",
       "10  Well the TypeScript guys suggested their compi...  \n",
       "11  The TypeScript compiler will eventually emit D...  \n",
       "12  Piggy backing on the TypeScript compiler seems...  \n",
       "13  [Angular issues have labels](https://github.co...  \n",
       "14  Can you submit an issue suggesting that in the...  \n",
       "15  On this page: https://angular.io/docs/js/lates...  \n",
       "16  I was thinking the same thing although TypeScr...  \n",
       "17                                               np\\n  \n",
       "18  yeah, I'm importing the whole stylesheet per c...  \n",
       "19                                         ::shadow\\n  \n",
       "20  http://www.html5rocks.com/en/tutorials/webcomp...  \n",
       "21                     styling children from parent\\n  \n",
       "22                                           thanks\\n  "
      ]
     },
     "execution_count": 27,
     "metadata": {},
     "output_type": "execute_result"
    }
   ],
   "source": [
    "df"
   ]
  },
  {
   "cell_type": "code",
   "execution_count": null,
   "metadata": {},
   "outputs": [],
   "source": [
    "for did in range(num_dialog):\n",
    "    df_select = df[df[\"Id\"] == did]"
   ]
  },
  {
   "cell_type": "markdown",
   "metadata": {},
   "source": [
    "### Scikitlearn"
   ]
  },
  {
   "cell_type": "code",
   "execution_count": 28,
   "metadata": {},
   "outputs": [],
   "source": [
    "with open(\"../Gitter_Channels/\"+channel+\"/disentangle/\"+channel+\"_result.txt\", \"r\") as f:\n",
    "        utterance_list = f.readlines()"
   ]
  },
  {
   "cell_type": "code",
   "execution_count": null,
   "metadata": {},
   "outputs": [],
   "source": [
    "scikitlearn_results,scikitlearn_profile = read_logs(utterance_list)"
   ]
  },
  {
   "cell_type": "code",
   "execution_count": 91,
   "metadata": {},
   "outputs": [
    {
     "data": {
      "text/plain": [
       "5414"
      ]
     },
     "execution_count": 91,
     "metadata": {},
     "output_type": "execute_result"
    }
   ],
   "source": [
    "len(scikitlearn_results)"
   ]
  },
  {
   "cell_type": "code",
   "execution_count": null,
   "metadata": {
    "collapsed": true
   },
   "outputs": [],
   "source": [
    "with open(save_path+channel+'/Scikitlearn_issue.json', 'w') as outfile:\n",
    "    json.dump(scikitlearn_results, outfile)\n",
    "with open(save_path+channel+'/Scikitlearn_profile.json', 'w') as outfile:\n",
    "    json.dump(scikitlearn_profile, outfile)"
   ]
  },
  {
   "cell_type": "markdown",
   "metadata": {},
   "source": [
    "### Angular"
   ]
  },
  {
   "cell_type": "code",
   "execution_count": 30,
   "metadata": {},
   "outputs": [],
   "source": [
    "with open(save_path+channel2+\"/disentangle/\"+channel2+\"_result.txt\", \"r\") as f:\n",
    "        utterance_list = f.readlines()"
   ]
  },
  {
   "cell_type": "code",
   "execution_count": 11,
   "metadata": {},
   "outputs": [],
   "source": [
    "augular_results,angluar_profile = read_logs(utterance_list)"
   ]
  },
  {
   "cell_type": "code",
   "execution_count": 12,
   "metadata": {},
   "outputs": [
    {
     "data": {
      "text/plain": [
       "422974"
      ]
     },
     "execution_count": 12,
     "metadata": {},
     "output_type": "execute_result"
    }
   ],
   "source": [
    "len(augular_results)"
   ]
  },
  {
   "cell_type": "code",
   "execution_count": 9,
   "metadata": {},
   "outputs": [],
   "source": [
    "with open(save_path+channel2+'/Angular_issue.json', 'w') as outfile:\n",
    "    json.dump(augular_results, outfile)\n",
    "with open(save_path+channel2+'/Angular_profile.json', 'w') as outfile:\n",
    "    json.dump(angluar_profile, outfile)"
   ]
  },
  {
   "cell_type": "code",
   "execution_count": 31,
   "metadata": {},
   "outputs": [],
   "source": [
    "augular_results, num_dialog = read_msg(utterance_list)"
   ]
  },
  {
   "cell_type": "code",
   "execution_count": 32,
   "metadata": {},
   "outputs": [
    {
     "data": {
      "text/plain": [
       "422975"
      ]
     },
     "execution_count": 32,
     "metadata": {},
     "output_type": "execute_result"
    }
   ],
   "source": [
    "num_dialog"
   ]
  },
  {
   "cell_type": "code",
   "execution_count": 33,
   "metadata": {},
   "outputs": [
    {
     "data": {
      "text/html": [
       "<div>\n",
       "<style scoped>\n",
       "    .dataframe tbody tr th:only-of-type {\n",
       "        vertical-align: middle;\n",
       "    }\n",
       "\n",
       "    .dataframe tbody tr th {\n",
       "        vertical-align: top;\n",
       "    }\n",
       "\n",
       "    .dataframe thead th {\n",
       "        text-align: right;\n",
       "    }\n",
       "</style>\n",
       "<table border=\"1\" class=\"dataframe\">\n",
       "  <thead>\n",
       "    <tr style=\"text-align: right;\">\n",
       "      <th></th>\n",
       "      <th>Id</th>\n",
       "      <th>date</th>\n",
       "      <th>asker</th>\n",
       "      <th>type</th>\n",
       "      <th>content</th>\n",
       "    </tr>\n",
       "  </thead>\n",
       "  <tbody>\n",
       "    <tr>\n",
       "      <th>0</th>\n",
       "      <td>0</td>\n",
       "      <td>2015-03-07 19:32:00</td>\n",
       "      <td>530cd1eb5e986b0712efb4d2</td>\n",
       "      <td>issue</td>\n",
       "      <td>Welcome all to Angular 2 public discussion!\\n</td>\n",
       "    </tr>\n",
       "    <tr>\n",
       "      <th>1</th>\n",
       "      <td>1</td>\n",
       "      <td>2015-03-07 21:41:00</td>\n",
       "      <td>54c89b1cdb8155e6700f2ac3</td>\n",
       "      <td>issue</td>\n",
       "      <td>Awesome!\\n</td>\n",
       "    </tr>\n",
       "    <tr>\n",
       "      <th>2</th>\n",
       "      <td>2</td>\n",
       "      <td>2015-03-07 21:53:00</td>\n",
       "      <td>54e6ee3b15522ed4b3dc3c24</td>\n",
       "      <td>issue</td>\n",
       "      <td>sweet, now we can ask angular2 questions in re...</td>\n",
       "    </tr>\n",
       "    <tr>\n",
       "      <th>3</th>\n",
       "      <td>3</td>\n",
       "      <td>2015-03-07 22:04:00</td>\n",
       "      <td>530cd1eb5e986b0712efb4d2</td>\n",
       "      <td>issue</td>\n",
       "      <td>Yes!\\n</td>\n",
       "    </tr>\n",
       "    <tr>\n",
       "      <th>4</th>\n",
       "      <td>4</td>\n",
       "      <td>2015-03-07 22:06:00</td>\n",
       "      <td>54e6ee3b15522ed4b3dc3c24</td>\n",
       "      <td>issue</td>\n",
       "      <td>we're missing the [View Source] [Improve this ...</td>\n",
       "    </tr>\n",
       "    <tr>\n",
       "      <th>...</th>\n",
       "      <td>...</td>\n",
       "      <td>...</td>\n",
       "      <td>...</td>\n",
       "      <td>...</td>\n",
       "      <td>...</td>\n",
       "    </tr>\n",
       "    <tr>\n",
       "      <th>1135246</th>\n",
       "      <td>422971</td>\n",
       "      <td>2022-08-18 14:26:00</td>\n",
       "      <td>5ea477add73408ce4fe1af23</td>\n",
       "      <td>issue</td>\n",
       "      <td>Hi there. A short question. Is there any benef...</td>\n",
       "    </tr>\n",
       "    <tr>\n",
       "      <th>1135247</th>\n",
       "      <td>422972</td>\n",
       "      <td>2022-08-18 15:13:00</td>\n",
       "      <td>62fe56da6da03739849b8211</td>\n",
       "      <td>issue</td>\n",
       "      <td>[![MicrosoftTeams-image (1).png](https://files...</td>\n",
       "    </tr>\n",
       "    <tr>\n",
       "      <th>1135248</th>\n",
       "      <td>422972</td>\n",
       "      <td>2022-08-18 15:13:00</td>\n",
       "      <td>62fe56da6da03739849b8211</td>\n",
       "      <td>issue</td>\n",
       "      <td>can someone help me achieve this using materia...</td>\n",
       "    </tr>\n",
       "    <tr>\n",
       "      <th>1135249</th>\n",
       "      <td>422973</td>\n",
       "      <td>2022-08-19 03:23:00</td>\n",
       "      <td>matrix-sharonmary:matrix.org</td>\n",
       "      <td>issue</td>\n",
       "      <td>Good news  Put an end to your financial proble...</td>\n",
       "    </tr>\n",
       "    <tr>\n",
       "      <th>1135250</th>\n",
       "      <td>422974</td>\n",
       "      <td>2022-08-19 19:00:00</td>\n",
       "      <td>57712a9ac2f0db084a202935</td>\n",
       "      <td>issue</td>\n",
       "      <td>So, I'm trying to set the content of a bound i...</td>\n",
       "    </tr>\n",
       "  </tbody>\n",
       "</table>\n",
       "<p>1135251 rows × 5 columns</p>\n",
       "</div>"
      ],
      "text/plain": [
       "             Id                date                         asker   type  \\\n",
       "0             0 2015-03-07 19:32:00      530cd1eb5e986b0712efb4d2  issue   \n",
       "1             1 2015-03-07 21:41:00      54c89b1cdb8155e6700f2ac3  issue   \n",
       "2             2 2015-03-07 21:53:00      54e6ee3b15522ed4b3dc3c24  issue   \n",
       "3             3 2015-03-07 22:04:00      530cd1eb5e986b0712efb4d2  issue   \n",
       "4             4 2015-03-07 22:06:00      54e6ee3b15522ed4b3dc3c24  issue   \n",
       "...         ...                 ...                           ...    ...   \n",
       "1135246  422971 2022-08-18 14:26:00      5ea477add73408ce4fe1af23  issue   \n",
       "1135247  422972 2022-08-18 15:13:00      62fe56da6da03739849b8211  issue   \n",
       "1135248  422972 2022-08-18 15:13:00      62fe56da6da03739849b8211  issue   \n",
       "1135249  422973 2022-08-19 03:23:00  matrix-sharonmary:matrix.org  issue   \n",
       "1135250  422974 2022-08-19 19:00:00      57712a9ac2f0db084a202935  issue   \n",
       "\n",
       "                                                   content  \n",
       "0            Welcome all to Angular 2 public discussion!\\n  \n",
       "1                                               Awesome!\\n  \n",
       "2        sweet, now we can ask angular2 questions in re...  \n",
       "3                                                   Yes!\\n  \n",
       "4        we're missing the [View Source] [Improve this ...  \n",
       "...                                                    ...  \n",
       "1135246  Hi there. A short question. Is there any benef...  \n",
       "1135247  [![MicrosoftTeams-image (1).png](https://files...  \n",
       "1135248  can someone help me achieve this using materia...  \n",
       "1135249  Good news  Put an end to your financial proble...  \n",
       "1135250  So, I'm trying to set the content of a bound i...  \n",
       "\n",
       "[1135251 rows x 5 columns]"
      ]
     },
     "execution_count": 33,
     "metadata": {},
     "output_type": "execute_result"
    }
   ],
   "source": [
    "df = pd.read_json(json.dumps(augular_results))\n",
    "df"
   ]
  },
  {
   "cell_type": "code",
   "execution_count": 38,
   "metadata": {},
   "outputs": [
    {
     "ename": "AttributeError",
     "evalue": "'Series' object has no attribute 'year'",
     "output_type": "error",
     "traceback": [
      "\u001b[1;31m---------------------------------------------------------------------------\u001b[0m",
      "\u001b[1;31mAttributeError\u001b[0m                            Traceback (most recent call last)",
      "Cell \u001b[1;32mIn[38], line 1\u001b[0m\n\u001b[1;32m----> 1\u001b[0m df[(\u001b[43mdf\u001b[49m\u001b[43m[\u001b[49m\u001b[38;5;124;43m\"\u001b[39;49m\u001b[38;5;124;43mdate\u001b[39;49m\u001b[38;5;124;43m\"\u001b[39;49m\u001b[43m]\u001b[49m\u001b[38;5;241;43m.\u001b[39;49m\u001b[43myear\u001b[49m \u001b[38;5;241m==\u001b[39m \u001b[38;5;241m2022\u001b[39m) \u001b[38;5;241m&\u001b[39m (df[\u001b[38;5;124m\"\u001b[39m\u001b[38;5;124mdate\u001b[39m\u001b[38;5;124m\"\u001b[39m]\u001b[38;5;241m.\u001b[39mmonth \u001b[38;5;241m==\u001b[39m \u001b[38;5;241m6\u001b[39m) \u001b[38;5;241m&\u001b[39m (df[\u001b[38;5;124m\"\u001b[39m\u001b[38;5;124mdate\u001b[39m\u001b[38;5;124m\"\u001b[39m]\u001b[38;5;241m.\u001b[39mday \u001b[38;5;241m==\u001b[39m \u001b[38;5;241m21\u001b[39m) ]\n",
      "File \u001b[1;32m~\\anaconda3\\lib\\site-packages\\pandas\\core\\generic.py:5902\u001b[0m, in \u001b[0;36mNDFrame.__getattr__\u001b[1;34m(self, name)\u001b[0m\n\u001b[0;32m   5895\u001b[0m \u001b[38;5;28;01mif\u001b[39;00m (\n\u001b[0;32m   5896\u001b[0m     name \u001b[38;5;129;01mnot\u001b[39;00m \u001b[38;5;129;01min\u001b[39;00m \u001b[38;5;28mself\u001b[39m\u001b[38;5;241m.\u001b[39m_internal_names_set\n\u001b[0;32m   5897\u001b[0m     \u001b[38;5;129;01mand\u001b[39;00m name \u001b[38;5;129;01mnot\u001b[39;00m \u001b[38;5;129;01min\u001b[39;00m \u001b[38;5;28mself\u001b[39m\u001b[38;5;241m.\u001b[39m_metadata\n\u001b[0;32m   5898\u001b[0m     \u001b[38;5;129;01mand\u001b[39;00m name \u001b[38;5;129;01mnot\u001b[39;00m \u001b[38;5;129;01min\u001b[39;00m \u001b[38;5;28mself\u001b[39m\u001b[38;5;241m.\u001b[39m_accessors\n\u001b[0;32m   5899\u001b[0m     \u001b[38;5;129;01mand\u001b[39;00m \u001b[38;5;28mself\u001b[39m\u001b[38;5;241m.\u001b[39m_info_axis\u001b[38;5;241m.\u001b[39m_can_hold_identifiers_and_holds_name(name)\n\u001b[0;32m   5900\u001b[0m ):\n\u001b[0;32m   5901\u001b[0m     \u001b[38;5;28;01mreturn\u001b[39;00m \u001b[38;5;28mself\u001b[39m[name]\n\u001b[1;32m-> 5902\u001b[0m \u001b[38;5;28;01mreturn\u001b[39;00m \u001b[38;5;28;43mobject\u001b[39;49m\u001b[38;5;241;43m.\u001b[39;49m\u001b[38;5;21;43m__getattribute__\u001b[39;49m\u001b[43m(\u001b[49m\u001b[38;5;28;43mself\u001b[39;49m\u001b[43m,\u001b[49m\u001b[43m \u001b[49m\u001b[43mname\u001b[49m\u001b[43m)\u001b[49m\n",
      "\u001b[1;31mAttributeError\u001b[0m: 'Series' object has no attribute 'year'"
     ]
    }
   ],
   "source": [
    "df[(df[\"date\"].year == 2022) & (df[\"date\"].month == 6) & (df[\"date\"].day == 21) ]"
   ]
  },
  {
   "cell_type": "code",
   "execution_count": 37,
   "metadata": {},
   "outputs": [
    {
     "data": {
      "text/plain": [
       "7"
      ]
     },
     "execution_count": 37,
     "metadata": {},
     "output_type": "execute_result"
    }
   ],
   "source": [
    "df.loc[0][\"date\"].day"
   ]
  },
  {
   "cell_type": "markdown",
   "metadata": {},
   "source": [
    "## Read issues from ISPY"
   ]
  },
  {
   "cell_type": "code",
   "execution_count": 4,
   "metadata": {},
   "outputs": [],
   "source": [
    "with open(\"../ISPY_data/angular_ispair.txt\", \"r\",encoding = \"utf-8\") as f:\n",
    "        utterance_list = f.readlines()"
   ]
  },
  {
   "cell_type": "code",
   "execution_count": 5,
   "metadata": {},
   "outputs": [
    {
     "data": {
      "text/plain": [
       "19986"
      ]
     },
     "execution_count": 5,
     "metadata": {},
     "output_type": "execute_result"
    }
   ],
   "source": [
    "len(utterance_list)"
   ]
  },
  {
   "cell_type": "code",
   "execution_count": 30,
   "metadata": {},
   "outputs": [],
   "source": [
    "#tags = [\"[<-CODE->]\",\"[<-ISSUE->]\",\"[<-LINK->]\"]\n",
    "issues = []\n",
    "solutions = []\n",
    "skip = False\n",
    "for index, sentence in enumerate(utterance_list):\n",
    "    sentence =sentence.replace(\"[<-CODE->]\",\"\")\n",
    "    sentence =sentence.replace(\"[<-ISSUE->]\",\"\")\n",
    "    sentence =sentence.replace(\"[<-LINK->]\",\"\")\n",
    "        \n",
    "    \n",
    "    #issue\n",
    "    if (index+1) % 3 == 1:\n",
    "        if len(sentence) < 25:\n",
    "            skip = True\n",
    "            continue\n",
    "            \n",
    "        issues.append(sentence[7:].strip())\n",
    "        skip = False\n",
    "    elif (index+1) % 3 == 2 and not skip:\n",
    "        solutions.append(sentence[10:].strip())"
   ]
  },
  {
   "cell_type": "code",
   "execution_count": 31,
   "metadata": {},
   "outputs": [
    {
     "data": {
      "text/plain": [
       "5947"
      ]
     },
     "execution_count": 31,
     "metadata": {},
     "output_type": "execute_result"
    }
   ],
   "source": [
    "len(issues)"
   ]
  },
  {
   "cell_type": "code",
   "execution_count": 32,
   "metadata": {},
   "outputs": [
    {
     "data": {
      "text/plain": [
       "5947"
      ]
     },
     "execution_count": 32,
     "metadata": {},
     "output_type": "execute_result"
    }
   ],
   "source": [
    "len(solutions)"
   ]
  },
  {
   "cell_type": "code",
   "execution_count": 33,
   "metadata": {},
   "outputs": [
    {
     "data": {
      "text/html": [
       "<div>\n",
       "<style scoped>\n",
       "    .dataframe tbody tr th:only-of-type {\n",
       "        vertical-align: middle;\n",
       "    }\n",
       "\n",
       "    .dataframe tbody tr th {\n",
       "        vertical-align: top;\n",
       "    }\n",
       "\n",
       "    .dataframe thead th {\n",
       "        text-align: right;\n",
       "    }\n",
       "</style>\n",
       "<table border=\"1\" class=\"dataframe\">\n",
       "  <thead>\n",
       "    <tr style=\"text-align: right;\">\n",
       "      <th></th>\n",
       "      <th>issue</th>\n",
       "      <th>solution</th>\n",
       "    </tr>\n",
       "  </thead>\n",
       "  <tbody>\n",
       "    <tr>\n",
       "      <th>0</th>\n",
       "      <td>there isn't a.just()in Rx5   note that that's ...</td>\n",
       "      <td>Check out this . This is the documentation for...</td>\n",
       "    </tr>\n",
       "    <tr>\n",
       "      <th>1</th>\n",
       "      <td>Shouldn'tDynamicComponentLoader#loadIntoLocati...</td>\n",
       "      <td>gionkunz: so how could i add it inside the div...</td>\n",
       "    </tr>\n",
       "    <tr>\n",
       "      <th>2</th>\n",
       "      <td>Will there be a material stuff for angular 2?</td>\n",
       "      <td>Currently I am using  . I wonder if I am going...</td>\n",
       "    </tr>\n",
       "    <tr>\n",
       "      <th>3</th>\n",
       "      <td>Has anyone run into a situation where ng2 inst...</td>\n",
       "      <td>justindujardin: no.. are you sure it doesn't m...</td>\n",
       "    </tr>\n",
       "    <tr>\n",
       "      <th>4</th>\n",
       "      <td>Who hereplans on writing all their angular 2 a...</td>\n",
       "      <td>seanpar203: the biggest issue in using pure JS...</td>\n",
       "    </tr>\n",
       "    <tr>\n",
       "      <th>...</th>\n",
       "      <td>...</td>\n",
       "      <td>...</td>\n",
       "    </tr>\n",
       "    <tr>\n",
       "      <th>5942</th>\n",
       "      <td>that's a new one :)</td>\n",
       "      <td></td>\n",
       "    </tr>\n",
       "    <tr>\n",
       "      <th>5943</th>\n",
       "      <td>I'm running angular 8.2.14 wanting to migrate ...</td>\n",
       "      <td>I saw no example of that, even I saw lot of un...</td>\n",
       "    </tr>\n",
       "    <tr>\n",
       "      <th>5944</th>\n",
       "      <td>East coast here too. No celebrating just yet XD</td>\n",
       "      <td></td>\n",
       "    </tr>\n",
       "    <tr>\n",
       "      <th>5945</th>\n",
       "      <td>so your api is on port 8080? your http call sh...</td>\n",
       "      <td>I set up a docker environment and nginx proxy ...</td>\n",
       "    </tr>\n",
       "    <tr>\n",
       "      <th>5946</th>\n",
       "      <td>Fabian is in 2021 already</td>\n",
       "      <td>ericmartinezr: drunk!. ericmartinezr: can't de...</td>\n",
       "    </tr>\n",
       "  </tbody>\n",
       "</table>\n",
       "<p>5947 rows × 2 columns</p>\n",
       "</div>"
      ],
      "text/plain": [
       "                                                  issue  \\\n",
       "0     there isn't a.just()in Rx5   note that that's ...   \n",
       "1     Shouldn'tDynamicComponentLoader#loadIntoLocati...   \n",
       "2         Will there be a material stuff for angular 2?   \n",
       "3     Has anyone run into a situation where ng2 inst...   \n",
       "4     Who hereplans on writing all their angular 2 a...   \n",
       "...                                                 ...   \n",
       "5942                                that's a new one :)   \n",
       "5943  I'm running angular 8.2.14 wanting to migrate ...   \n",
       "5944    East coast here too. No celebrating just yet XD   \n",
       "5945  so your api is on port 8080? your http call sh...   \n",
       "5946                          Fabian is in 2021 already   \n",
       "\n",
       "                                               solution  \n",
       "0     Check out this . This is the documentation for...  \n",
       "1     gionkunz: so how could i add it inside the div...  \n",
       "2     Currently I am using  . I wonder if I am going...  \n",
       "3     justindujardin: no.. are you sure it doesn't m...  \n",
       "4     seanpar203: the biggest issue in using pure JS...  \n",
       "...                                                 ...  \n",
       "5942                                                     \n",
       "5943  I saw no example of that, even I saw lot of un...  \n",
       "5944                                                     \n",
       "5945  I set up a docker environment and nginx proxy ...  \n",
       "5946  ericmartinezr: drunk!. ericmartinezr: can't de...  \n",
       "\n",
       "[5947 rows x 2 columns]"
      ]
     },
     "execution_count": 33,
     "metadata": {},
     "output_type": "execute_result"
    }
   ],
   "source": [
    "df= pd.DataFrame()\n",
    "df[\"issue\"] = issues\n",
    "df[\"solution\"] = solutions\n",
    "df"
   ]
  },
  {
   "cell_type": "code",
   "execution_count": 35,
   "metadata": {},
   "outputs": [],
   "source": [
    "df.to_csv(\"C:/Users/wangs/Desktop/lucene/angular_ispy.csv\")"
   ]
  },
  {
   "cell_type": "markdown",
   "metadata": {},
   "source": [
    "## Convert to csv"
   ]
  },
  {
   "cell_type": "code",
   "execution_count": 7,
   "metadata": {},
   "outputs": [],
   "source": [
    "def strToDatetime(str):\n",
    "    strptime = datetime.datetime.strptime(str, \"%Y-%m-%d %H:%M\")\n",
    "    return strptime"
   ]
  },
  {
   "cell_type": "code",
   "execution_count": 8,
   "metadata": {},
   "outputs": [],
   "source": [
    "def conv_to_dateframe(profile):\n",
    "    user_Id = []\n",
    "    cluster_Id = []\n",
    "    answer_date = []\n",
    "    answers = []\n",
    "\n",
    "    for user in profile:\n",
    "        for cluster in profile[user]:\n",
    "            #print(profile[user][cluster][\"Time\"])\n",
    "            time = strToDatetime(profile[user][cluster][\"Time\"])\n",
    "            user_Id.append(user)\n",
    "            cluster_Id.append(cluster)\n",
    "            answer_date.append(time)\n",
    "            answers.append(profile[user][cluster][\"Answer\"])\n",
    "    \n",
    "    df_user = pd.DataFrame()\n",
    "    df_user[\"user_Id\"] =user_Id\n",
    "    df_user[\"cluster_Id\"] =cluster_Id\n",
    "    df_user[\"answer_date\"] =answer_date\n",
    "    df_user[\"answers\"] =answers\n",
    "    \n",
    "    return df_user"
   ]
  },
  {
   "cell_type": "markdown",
   "metadata": {},
   "source": [
    "### Scikitlearn"
   ]
  },
  {
   "cell_type": "code",
   "execution_count": 99,
   "metadata": {},
   "outputs": [],
   "source": [
    "with open(save_path+channel+'/'+channel+'_profile.json', 'r') as f:\n",
    "    profile = json.load(f)"
   ]
  },
  {
   "cell_type": "code",
   "execution_count": 104,
   "metadata": {},
   "outputs": [
    {
     "data": {
      "text/plain": [
       "106"
      ]
     },
     "execution_count": 104,
     "metadata": {},
     "output_type": "execute_result"
    }
   ],
   "source": [
    "len(profile)"
   ]
  },
  {
   "cell_type": "code",
   "execution_count": 105,
   "metadata": {
    "collapsed": true
   },
   "outputs": [],
   "source": [
    "df_scikitlearn_profile = conv_to_dateframe(profile)"
   ]
  },
  {
   "cell_type": "code",
   "execution_count": 107,
   "metadata": {},
   "outputs": [
    {
     "data": {
      "text/html": [
       "<div>\n",
       "<style>\n",
       "    .dataframe thead tr:only-child th {\n",
       "        text-align: right;\n",
       "    }\n",
       "\n",
       "    .dataframe thead th {\n",
       "        text-align: left;\n",
       "    }\n",
       "\n",
       "    .dataframe tbody tr th {\n",
       "        vertical-align: top;\n",
       "    }\n",
       "</style>\n",
       "<table border=\"1\" class=\"dataframe\">\n",
       "  <thead>\n",
       "    <tr style=\"text-align: right;\">\n",
       "      <th></th>\n",
       "      <th>user_Id</th>\n",
       "      <th>cluster_Id</th>\n",
       "      <th>answer_date</th>\n",
       "      <th>answers</th>\n",
       "    </tr>\n",
       "  </thead>\n",
       "  <tbody>\n",
       "    <tr>\n",
       "      <th>0</th>\n",
       "      <td>54d4a1d6db8155e6700f853b</td>\n",
       "      <td>12</td>\n",
       "      <td>2015-02-06 11:14:00</td>\n",
       "      <td>I'm with family this week and so not super act...</td>\n",
       "    </tr>\n",
       "    <tr>\n",
       "      <th>1</th>\n",
       "      <td>54d4a1d6db8155e6700f853b</td>\n",
       "      <td>61</td>\n",
       "      <td>2015-02-24 22:46:00</td>\n",
       "      <td>cool\\nok\\n</td>\n",
       "    </tr>\n",
       "    <tr>\n",
       "      <th>2</th>\n",
       "      <td>54d4a1d6db8155e6700f853b</td>\n",
       "      <td>69</td>\n",
       "      <td>2015-02-25 18:59:00</td>\n",
       "      <td>yeah that sounds like a good idea\\n</td>\n",
       "    </tr>\n",
       "    <tr>\n",
       "      <th>3</th>\n",
       "      <td>54d4a1d6db8155e6700f853b</td>\n",
       "      <td>72</td>\n",
       "      <td>2015-02-25 19:14:00</td>\n",
       "      <td>you mean == 1\\n</td>\n",
       "    </tr>\n",
       "    <tr>\n",
       "      <th>4</th>\n",
       "      <td>54d4a1d6db8155e6700f853b</td>\n",
       "      <td>75</td>\n",
       "      <td>2015-02-25 19:19:00</td>\n",
       "      <td>that is also weird ;)\\n</td>\n",
       "    </tr>\n",
       "  </tbody>\n",
       "</table>\n",
       "</div>"
      ],
      "text/plain": [
       "                    user_Id cluster_Id         answer_date  \\\n",
       "0  54d4a1d6db8155e6700f853b         12 2015-02-06 11:14:00   \n",
       "1  54d4a1d6db8155e6700f853b         61 2015-02-24 22:46:00   \n",
       "2  54d4a1d6db8155e6700f853b         69 2015-02-25 18:59:00   \n",
       "3  54d4a1d6db8155e6700f853b         72 2015-02-25 19:14:00   \n",
       "4  54d4a1d6db8155e6700f853b         75 2015-02-25 19:19:00   \n",
       "\n",
       "                                             answers  \n",
       "0  I'm with family this week and so not super act...  \n",
       "1                                         cool\\nok\\n  \n",
       "2                yeah that sounds like a good idea\\n  \n",
       "3                                    you mean == 1\\n  \n",
       "4                            that is also weird ;)\\n  "
      ]
     },
     "execution_count": 107,
     "metadata": {},
     "output_type": "execute_result"
    }
   ],
   "source": [
    "df_scikitlearn_profile.head()"
   ]
  },
  {
   "cell_type": "code",
   "execution_count": 108,
   "metadata": {
    "collapsed": true
   },
   "outputs": [],
   "source": [
    "df_scikitlearn_profile.to_csv(save_path+channel+'/'+channel+'_profile.csv', index=False) "
   ]
  },
  {
   "cell_type": "markdown",
   "metadata": {
    "collapsed": true
   },
   "source": [
    "### Angular"
   ]
  },
  {
   "cell_type": "code",
   "execution_count": 9,
   "metadata": {},
   "outputs": [],
   "source": [
    "with open(save_path+channel2+'/'+channel2+'_profile.json', 'r') as f:\n",
    "    profile = json.load(f)"
   ]
  },
  {
   "cell_type": "code",
   "execution_count": 10,
   "metadata": {},
   "outputs": [
    {
     "data": {
      "text/plain": [
       "6707"
      ]
     },
     "execution_count": 10,
     "metadata": {},
     "output_type": "execute_result"
    }
   ],
   "source": [
    "len(profile)"
   ]
  },
  {
   "cell_type": "code",
   "execution_count": 11,
   "metadata": {},
   "outputs": [],
   "source": [
    "df_angular_profile = conv_to_dateframe(profile)"
   ]
  },
  {
   "cell_type": "code",
   "execution_count": 12,
   "metadata": {},
   "outputs": [
    {
     "data": {
      "text/html": [
       "<div>\n",
       "<style scoped>\n",
       "    .dataframe tbody tr th:only-of-type {\n",
       "        vertical-align: middle;\n",
       "    }\n",
       "\n",
       "    .dataframe tbody tr th {\n",
       "        vertical-align: top;\n",
       "    }\n",
       "\n",
       "    .dataframe thead th {\n",
       "        text-align: right;\n",
       "    }\n",
       "</style>\n",
       "<table border=\"1\" class=\"dataframe\">\n",
       "  <thead>\n",
       "    <tr style=\"text-align: right;\">\n",
       "      <th></th>\n",
       "      <th>user_Id</th>\n",
       "      <th>cluster_Id</th>\n",
       "      <th>answer_date</th>\n",
       "      <th>answers</th>\n",
       "    </tr>\n",
       "  </thead>\n",
       "  <tbody>\n",
       "    <tr>\n",
       "      <th>0</th>\n",
       "      <td>54e6ee3b15522ed4b3dc3c24</td>\n",
       "      <td>15</td>\n",
       "      <td>2015-03-08 18:01:00</td>\n",
       "      <td>currently only working in chrome until shadow ...</td>\n",
       "    </tr>\n",
       "    <tr>\n",
       "      <th>1</th>\n",
       "      <td>54e6ee3b15522ed4b3dc3c24</td>\n",
       "      <td>20</td>\n",
       "      <td>2015-03-09 02:39:00</td>\n",
       "      <td>::shadow\\nhttp://www.html5rocks.com/en/tutoria...</td>\n",
       "    </tr>\n",
       "    <tr>\n",
       "      <th>2</th>\n",
       "      <td>54e6ee3b15522ed4b3dc3c24</td>\n",
       "      <td>100</td>\n",
       "      <td>2015-03-13 19:48:00</td>\n",
       "      <td>@mhevery  that was my worry too (Dart version ...</td>\n",
       "    </tr>\n",
       "    <tr>\n",
       "      <th>3</th>\n",
       "      <td>54e6ee3b15522ed4b3dc3c24</td>\n",
       "      <td>113</td>\n",
       "      <td>2015-03-14 02:46:00</td>\n",
       "      <td>you donat need to inject it since itas going t...</td>\n",
       "    </tr>\n",
       "    <tr>\n",
       "      <th>4</th>\n",
       "      <td>54e6ee3b15522ed4b3dc3c24</td>\n",
       "      <td>118</td>\n",
       "      <td>2015-03-14 07:23:00</td>\n",
       "      <td>what version of node?\\n</td>\n",
       "    </tr>\n",
       "  </tbody>\n",
       "</table>\n",
       "</div>"
      ],
      "text/plain": [
       "                    user_Id cluster_Id         answer_date  \\\n",
       "0  54e6ee3b15522ed4b3dc3c24         15 2015-03-08 18:01:00   \n",
       "1  54e6ee3b15522ed4b3dc3c24         20 2015-03-09 02:39:00   \n",
       "2  54e6ee3b15522ed4b3dc3c24        100 2015-03-13 19:48:00   \n",
       "3  54e6ee3b15522ed4b3dc3c24        113 2015-03-14 02:46:00   \n",
       "4  54e6ee3b15522ed4b3dc3c24        118 2015-03-14 07:23:00   \n",
       "\n",
       "                                             answers  \n",
       "0  currently only working in chrome until shadow ...  \n",
       "1  ::shadow\\nhttp://www.html5rocks.com/en/tutoria...  \n",
       "2  @mhevery  that was my worry too (Dart version ...  \n",
       "3  you donat need to inject it since itas going t...  \n",
       "4                            what version of node?\\n  "
      ]
     },
     "execution_count": 12,
     "metadata": {},
     "output_type": "execute_result"
    }
   ],
   "source": [
    "df_angular_profile.head()"
   ]
  },
  {
   "cell_type": "code",
   "execution_count": null,
   "metadata": {},
   "outputs": [],
   "source": [
    "df_angular_profile.to_csv(save_path+channel2+'/'+channel2+'_profile.csv', index=False) "
   ]
  }
 ],
 "metadata": {
  "kernelspec": {
   "display_name": "Python 3 (ipykernel)",
   "language": "python",
   "name": "python3"
  },
  "language_info": {
   "codemirror_mode": {
    "name": "ipython",
    "version": 3
   },
   "file_extension": ".py",
   "mimetype": "text/x-python",
   "name": "python",
   "nbconvert_exporter": "python",
   "pygments_lexer": "ipython3",
   "version": "3.8.16"
  }
 },
 "nbformat": 4,
 "nbformat_minor": 4
}
