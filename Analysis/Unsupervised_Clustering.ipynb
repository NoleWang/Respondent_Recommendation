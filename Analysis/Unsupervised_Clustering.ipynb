{
 "cells": [
  {
   "cell_type": "code",
   "execution_count": 2,
   "metadata": {},
   "outputs": [],
   "source": [
    "import pandas as pd\n",
    "import numpy as np\n",
    "from sklearn.cluster import AgglomerativeClustering"
   ]
  },
  {
   "cell_type": "code",
   "execution_count": 3,
   "metadata": {},
   "outputs": [],
   "source": [
    "channel1 = 'Scikitlearn'\n",
    "channel2 = 'Angular'"
   ]
  },
  {
   "cell_type": "code",
   "execution_count": 4,
   "metadata": {},
   "outputs": [],
   "source": [
    "df_issue = pd.read_csv(channel2+'/'+channel2+'_issue_tags.csv')"
   ]
  },
  {
   "cell_type": "code",
   "execution_count": 5,
   "metadata": {},
   "outputs": [
    {
     "data": {
      "text/html": [
       "<div>\n",
       "<style scoped>\n",
       "    .dataframe tbody tr th:only-of-type {\n",
       "        vertical-align: middle;\n",
       "    }\n",
       "\n",
       "    .dataframe tbody tr th {\n",
       "        vertical-align: top;\n",
       "    }\n",
       "\n",
       "    .dataframe thead th {\n",
       "        text-align: right;\n",
       "    }\n",
       "</style>\n",
       "<table border=\"1\" class=\"dataframe\">\n",
       "  <thead>\n",
       "    <tr style=\"text-align: right;\">\n",
       "      <th></th>\n",
       "      <th>Id</th>\n",
       "      <th>asker</th>\n",
       "      <th>time</th>\n",
       "      <th>content</th>\n",
       "      <th>lines</th>\n",
       "      <th>tags</th>\n",
       "      <th>content_stem</th>\n",
       "    </tr>\n",
       "  </thead>\n",
       "  <tbody>\n",
       "    <tr>\n",
       "      <th>0</th>\n",
       "      <td>1</td>\n",
       "      <td>54c89b1cdb8155e6700f2ac3</td>\n",
       "      <td>2015-03-07 21:41</td>\n",
       "      <td>Awesome!\\n</td>\n",
       "      <td>1</td>\n",
       "      <td>[]</td>\n",
       "      <td>awesom!\\n</td>\n",
       "    </tr>\n",
       "    <tr>\n",
       "      <th>1</th>\n",
       "      <td>2</td>\n",
       "      <td>54e6ee3b15522ed4b3dc3c24</td>\n",
       "      <td>2015-03-07 21:53</td>\n",
       "      <td>sweet, now we can ask angular2 questions in re...</td>\n",
       "      <td>1</td>\n",
       "      <td>['time', 'timing', 'real-time', 'angular']</td>\n",
       "      <td>sweet, now we can ask angular2 question in rea...</td>\n",
       "    </tr>\n",
       "    <tr>\n",
       "      <th>2</th>\n",
       "      <td>3</td>\n",
       "      <td>530cd1eb5e986b0712efb4d2</td>\n",
       "      <td>2015-03-07 22:04</td>\n",
       "      <td>Yes!\\n</td>\n",
       "      <td>1</td>\n",
       "      <td>[]</td>\n",
       "      <td>ye!\\n</td>\n",
       "    </tr>\n",
       "    <tr>\n",
       "      <th>3</th>\n",
       "      <td>4</td>\n",
       "      <td>54e6ee3b15522ed4b3dc3c24</td>\n",
       "      <td>2015-03-07 22:06</td>\n",
       "      <td>we're missing the [View Source] [Improve this ...</td>\n",
       "      <td>1</td>\n",
       "      <td>['button', 'io', 'views', 'angular', 'ios', 'v...</td>\n",
       "      <td>we're miss the [view sourc] [improv thi doc] b...</td>\n",
       "    </tr>\n",
       "    <tr>\n",
       "      <th>4</th>\n",
       "      <td>5</td>\n",
       "      <td>530cd1eb5e986b0712efb4d2</td>\n",
       "      <td>2015-03-07 23:18</td>\n",
       "      <td>Good idea can you file an issue with repo?\\n</td>\n",
       "      <td>1</td>\n",
       "      <td>['file']</td>\n",
       "      <td>good idea can you file an issu with repo?\\n</td>\n",
       "    </tr>\n",
       "  </tbody>\n",
       "</table>\n",
       "</div>"
      ],
      "text/plain": [
       "   Id                     asker              time  \\\n",
       "0   1  54c89b1cdb8155e6700f2ac3  2015-03-07 21:41   \n",
       "1   2  54e6ee3b15522ed4b3dc3c24  2015-03-07 21:53   \n",
       "2   3  530cd1eb5e986b0712efb4d2  2015-03-07 22:04   \n",
       "3   4  54e6ee3b15522ed4b3dc3c24  2015-03-07 22:06   \n",
       "4   5  530cd1eb5e986b0712efb4d2  2015-03-07 23:18   \n",
       "\n",
       "                                             content  lines  \\\n",
       "0                                         Awesome!\\n      1   \n",
       "1  sweet, now we can ask angular2 questions in re...      1   \n",
       "2                                             Yes!\\n      1   \n",
       "3  we're missing the [View Source] [Improve this ...      1   \n",
       "4       Good idea can you file an issue with repo?\\n      1   \n",
       "\n",
       "                                                tags  \\\n",
       "0                                                 []   \n",
       "1         ['time', 'timing', 'real-time', 'angular']   \n",
       "2                                                 []   \n",
       "3  ['button', 'io', 'views', 'angular', 'ios', 'v...   \n",
       "4                                           ['file']   \n",
       "\n",
       "                                        content_stem  \n",
       "0                                          awesom!\\n  \n",
       "1  sweet, now we can ask angular2 question in rea...  \n",
       "2                                              ye!\\n  \n",
       "3  we're miss the [view sourc] [improv thi doc] b...  \n",
       "4        good idea can you file an issu with repo?\\n  "
      ]
     },
     "execution_count": 5,
     "metadata": {},
     "output_type": "execute_result"
    }
   ],
   "source": [
    "df_issue.head()"
   ]
  },
  {
   "cell_type": "code",
   "execution_count": 6,
   "metadata": {},
   "outputs": [
    {
     "data": {
      "text/plain": [
       "378280"
      ]
     },
     "execution_count": 6,
     "metadata": {},
     "output_type": "execute_result"
    }
   ],
   "source": [
    "len(df_issue[df_issue[\"tags\"] != \"[]\"])"
   ]
  },
  {
   "cell_type": "code",
   "execution_count": null,
   "metadata": {},
   "outputs": [],
   "source": []
  }
 ],
 "metadata": {
  "kernelspec": {
   "display_name": "Python 3",
   "language": "python",
   "name": "python3"
  },
  "language_info": {
   "codemirror_mode": {
    "name": "ipython",
    "version": 3
   },
   "file_extension": ".py",
   "mimetype": "text/x-python",
   "name": "python",
   "nbconvert_exporter": "python",
   "pygments_lexer": "ipython3",
   "version": "3.8.5"
  }
 },
 "nbformat": 4,
 "nbformat_minor": 4
}
