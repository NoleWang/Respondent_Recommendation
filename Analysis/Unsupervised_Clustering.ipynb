{
 "cells": [
  {
   "cell_type": "code",
   "execution_count": 74,
   "metadata": {},
   "outputs": [],
   "source": [
    "import pandas as pd\n",
    "import numpy as np\n",
    "from sklearn.cluster import AgglomerativeClustering\n",
    "from sklearn.feature_extraction.text import TfidfVectorizer"
   ]
  },
  {
   "cell_type": "code",
   "execution_count": 3,
   "metadata": {},
   "outputs": [],
   "source": [
    "channel1 = 'Scikitlearn'\n",
    "channel2 = 'Angular'"
   ]
  },
  {
   "cell_type": "code",
   "execution_count": 4,
   "metadata": {},
   "outputs": [],
   "source": [
    "df_issue = pd.read_csv(channel2+'/'+channel2+'_issue_tags.csv')"
   ]
  },
  {
   "cell_type": "code",
   "execution_count": 5,
   "metadata": {
    "scrolled": true
   },
   "outputs": [
    {
     "data": {
      "text/html": [
       "<div>\n",
       "<style scoped>\n",
       "    .dataframe tbody tr th:only-of-type {\n",
       "        vertical-align: middle;\n",
       "    }\n",
       "\n",
       "    .dataframe tbody tr th {\n",
       "        vertical-align: top;\n",
       "    }\n",
       "\n",
       "    .dataframe thead th {\n",
       "        text-align: right;\n",
       "    }\n",
       "</style>\n",
       "<table border=\"1\" class=\"dataframe\">\n",
       "  <thead>\n",
       "    <tr style=\"text-align: right;\">\n",
       "      <th></th>\n",
       "      <th>Id</th>\n",
       "      <th>asker</th>\n",
       "      <th>time</th>\n",
       "      <th>content</th>\n",
       "      <th>lines</th>\n",
       "      <th>tags</th>\n",
       "      <th>content_stem</th>\n",
       "    </tr>\n",
       "  </thead>\n",
       "  <tbody>\n",
       "    <tr>\n",
       "      <th>0</th>\n",
       "      <td>1</td>\n",
       "      <td>54c89b1cdb8155e6700f2ac3</td>\n",
       "      <td>2015-03-07 21:41</td>\n",
       "      <td>Awesome!\\n</td>\n",
       "      <td>1</td>\n",
       "      <td>[]</td>\n",
       "      <td>awesom!\\n</td>\n",
       "    </tr>\n",
       "    <tr>\n",
       "      <th>1</th>\n",
       "      <td>2</td>\n",
       "      <td>54e6ee3b15522ed4b3dc3c24</td>\n",
       "      <td>2015-03-07 21:53</td>\n",
       "      <td>sweet, now we can ask angular2 questions in re...</td>\n",
       "      <td>1</td>\n",
       "      <td>['time', 'timing', 'real-time', 'angular']</td>\n",
       "      <td>sweet, now we can ask angular2 question in rea...</td>\n",
       "    </tr>\n",
       "    <tr>\n",
       "      <th>2</th>\n",
       "      <td>3</td>\n",
       "      <td>530cd1eb5e986b0712efb4d2</td>\n",
       "      <td>2015-03-07 22:04</td>\n",
       "      <td>Yes!\\n</td>\n",
       "      <td>1</td>\n",
       "      <td>[]</td>\n",
       "      <td>ye!\\n</td>\n",
       "    </tr>\n",
       "    <tr>\n",
       "      <th>3</th>\n",
       "      <td>4</td>\n",
       "      <td>54e6ee3b15522ed4b3dc3c24</td>\n",
       "      <td>2015-03-07 22:06</td>\n",
       "      <td>we're missing the [View Source] [Improve this ...</td>\n",
       "      <td>1</td>\n",
       "      <td>['button', 'io', 'views', 'angular', 'ios', 'v...</td>\n",
       "      <td>we're miss the [view sourc] [improv thi doc] b...</td>\n",
       "    </tr>\n",
       "    <tr>\n",
       "      <th>4</th>\n",
       "      <td>5</td>\n",
       "      <td>530cd1eb5e986b0712efb4d2</td>\n",
       "      <td>2015-03-07 23:18</td>\n",
       "      <td>Good idea can you file an issue with repo?\\n</td>\n",
       "      <td>1</td>\n",
       "      <td>['file']</td>\n",
       "      <td>good idea can you file an issu with repo?\\n</td>\n",
       "    </tr>\n",
       "  </tbody>\n",
       "</table>\n",
       "</div>"
      ],
      "text/plain": [
       "   Id                     asker              time  \\\n",
       "0   1  54c89b1cdb8155e6700f2ac3  2015-03-07 21:41   \n",
       "1   2  54e6ee3b15522ed4b3dc3c24  2015-03-07 21:53   \n",
       "2   3  530cd1eb5e986b0712efb4d2  2015-03-07 22:04   \n",
       "3   4  54e6ee3b15522ed4b3dc3c24  2015-03-07 22:06   \n",
       "4   5  530cd1eb5e986b0712efb4d2  2015-03-07 23:18   \n",
       "\n",
       "                                             content  lines  \\\n",
       "0                                         Awesome!\\n      1   \n",
       "1  sweet, now we can ask angular2 questions in re...      1   \n",
       "2                                             Yes!\\n      1   \n",
       "3  we're missing the [View Source] [Improve this ...      1   \n",
       "4       Good idea can you file an issue with repo?\\n      1   \n",
       "\n",
       "                                                tags  \\\n",
       "0                                                 []   \n",
       "1         ['time', 'timing', 'real-time', 'angular']   \n",
       "2                                                 []   \n",
       "3  ['button', 'io', 'views', 'angular', 'ios', 'v...   \n",
       "4                                           ['file']   \n",
       "\n",
       "                                        content_stem  \n",
       "0                                          awesom!\\n  \n",
       "1  sweet, now we can ask angular2 question in rea...  \n",
       "2                                              ye!\\n  \n",
       "3  we're miss the [view sourc] [improv thi doc] b...  \n",
       "4        good idea can you file an issu with repo?\\n  "
      ]
     },
     "execution_count": 5,
     "metadata": {},
     "output_type": "execute_result"
    }
   ],
   "source": [
    "df_issue.head()"
   ]
  },
  {
   "cell_type": "code",
   "execution_count": 8,
   "metadata": {},
   "outputs": [
    {
     "data": {
      "text/plain": [
       "422974"
      ]
     },
     "execution_count": 8,
     "metadata": {},
     "output_type": "execute_result"
    }
   ],
   "source": [
    "len(df_issue)"
   ]
  },
  {
   "cell_type": "code",
   "execution_count": 42,
   "metadata": {},
   "outputs": [],
   "source": [
    "df_selected = df_issue[df_issue[\"tags\"] != \"[]\"]\n",
    "df_selected.reset_index(drop=True,inplace=True)"
   ]
  },
  {
   "cell_type": "code",
   "execution_count": 43,
   "metadata": {},
   "outputs": [
    {
     "data": {
      "text/plain": [
       "378280"
      ]
     },
     "execution_count": 43,
     "metadata": {},
     "output_type": "execute_result"
    }
   ],
   "source": [
    "len(df_selected)"
   ]
  },
  {
   "cell_type": "code",
   "execution_count": 44,
   "metadata": {},
   "outputs": [
    {
     "data": {
      "text/html": [
       "<div>\n",
       "<style scoped>\n",
       "    .dataframe tbody tr th:only-of-type {\n",
       "        vertical-align: middle;\n",
       "    }\n",
       "\n",
       "    .dataframe tbody tr th {\n",
       "        vertical-align: top;\n",
       "    }\n",
       "\n",
       "    .dataframe thead th {\n",
       "        text-align: right;\n",
       "    }\n",
       "</style>\n",
       "<table border=\"1\" class=\"dataframe\">\n",
       "  <thead>\n",
       "    <tr style=\"text-align: right;\">\n",
       "      <th></th>\n",
       "      <th>Id</th>\n",
       "      <th>asker</th>\n",
       "      <th>time</th>\n",
       "      <th>content</th>\n",
       "      <th>lines</th>\n",
       "      <th>tags</th>\n",
       "      <th>content_stem</th>\n",
       "    </tr>\n",
       "  </thead>\n",
       "  <tbody>\n",
       "    <tr>\n",
       "      <th>0</th>\n",
       "      <td>2</td>\n",
       "      <td>54e6ee3b15522ed4b3dc3c24</td>\n",
       "      <td>2015-03-07 21:53</td>\n",
       "      <td>sweet, now we can ask angular2 questions in re...</td>\n",
       "      <td>1</td>\n",
       "      <td>['time', 'timing', 'real-time', 'angular']</td>\n",
       "      <td>sweet, now we can ask angular2 question in rea...</td>\n",
       "    </tr>\n",
       "    <tr>\n",
       "      <th>1</th>\n",
       "      <td>4</td>\n",
       "      <td>54e6ee3b15522ed4b3dc3c24</td>\n",
       "      <td>2015-03-07 22:06</td>\n",
       "      <td>we're missing the [View Source] [Improve this ...</td>\n",
       "      <td>1</td>\n",
       "      <td>['button', 'io', 'views', 'angular', 'ios', 'v...</td>\n",
       "      <td>we're miss the [view sourc] [improv thi doc] b...</td>\n",
       "    </tr>\n",
       "    <tr>\n",
       "      <th>2</th>\n",
       "      <td>5</td>\n",
       "      <td>530cd1eb5e986b0712efb4d2</td>\n",
       "      <td>2015-03-07 23:18</td>\n",
       "      <td>Good idea can you file an issue with repo?\\n</td>\n",
       "      <td>1</td>\n",
       "      <td>['file']</td>\n",
       "      <td>good idea can you file an issu with repo?\\n</td>\n",
       "    </tr>\n",
       "    <tr>\n",
       "      <th>3</th>\n",
       "      <td>6</td>\n",
       "      <td>54e6ee3b15522ed4b3dc3c24</td>\n",
       "      <td>2015-03-08 00:20</td>\n",
       "      <td>I submitted it an issue about view source etc ...</td>\n",
       "      <td>1</td>\n",
       "      <td>['node-modules', 'views', 'get', 'one-to-one',...</td>\n",
       "      <td>i submit it an issu about view sourc etc on an...</td>\n",
       "    </tr>\n",
       "    <tr>\n",
       "      <th>4</th>\n",
       "      <td>7</td>\n",
       "      <td>54f9f23015522ed4b3dce8b5</td>\n",
       "      <td>2015-03-08 05:45</td>\n",
       "      <td>Great job on Angular 2 so far! IMHO, the Angul...</td>\n",
       "      <td>1</td>\n",
       "      <td>['http', 'rebase', 'typescript-generics', 'gen...</td>\n",
       "      <td>great job on angular 2 so far! imho, the angul...</td>\n",
       "    </tr>\n",
       "  </tbody>\n",
       "</table>\n",
       "</div>"
      ],
      "text/plain": [
       "   Id                     asker              time  \\\n",
       "0   2  54e6ee3b15522ed4b3dc3c24  2015-03-07 21:53   \n",
       "1   4  54e6ee3b15522ed4b3dc3c24  2015-03-07 22:06   \n",
       "2   5  530cd1eb5e986b0712efb4d2  2015-03-07 23:18   \n",
       "3   6  54e6ee3b15522ed4b3dc3c24  2015-03-08 00:20   \n",
       "4   7  54f9f23015522ed4b3dce8b5  2015-03-08 05:45   \n",
       "\n",
       "                                             content  lines  \\\n",
       "0  sweet, now we can ask angular2 questions in re...      1   \n",
       "1  we're missing the [View Source] [Improve this ...      1   \n",
       "2       Good idea can you file an issue with repo?\\n      1   \n",
       "3  I submitted it an issue about view source etc ...      1   \n",
       "4  Great job on Angular 2 so far! IMHO, the Angul...      1   \n",
       "\n",
       "                                                tags  \\\n",
       "0         ['time', 'timing', 'real-time', 'angular']   \n",
       "1  ['button', 'io', 'views', 'angular', 'ios', 'v...   \n",
       "2                                           ['file']   \n",
       "3  ['node-modules', 'views', 'get', 'one-to-one',...   \n",
       "4  ['http', 'rebase', 'typescript-generics', 'gen...   \n",
       "\n",
       "                                        content_stem  \n",
       "0  sweet, now we can ask angular2 question in rea...  \n",
       "1  we're miss the [view sourc] [improv thi doc] b...  \n",
       "2        good idea can you file an issu with repo?\\n  \n",
       "3  i submit it an issu about view sourc etc on an...  \n",
       "4  great job on angular 2 so far! imho, the angul...  "
      ]
     },
     "execution_count": 44,
     "metadata": {},
     "output_type": "execute_result"
    }
   ],
   "source": [
    "df_selected.head()"
   ]
  },
  {
   "cell_type": "markdown",
   "metadata": {},
   "source": [
    "## Preprocessing"
   ]
  },
  {
   "cell_type": "code",
   "execution_count": 64,
   "metadata": {},
   "outputs": [],
   "source": [
    "def str_clean(str_list):\n",
    "    str_list = str_list.replace('[','')\n",
    "    str_list = str_list.replace(']','')\n",
    "    str_list = str_list.replace('\\'','')\n",
    "    \n",
    "    return str_list"
   ]
  },
  {
   "cell_type": "code",
   "execution_count": 66,
   "metadata": {},
   "outputs": [],
   "source": [
    "msg = []\n",
    "for i in range(len(df_selected)):\n",
    "    str_tag = str_clean(df_selected.iloc[i][\"tags\"])\n",
    "    str_msg = str(df_selected.iloc[i][\"content_stem\"]).replace('\\n','')\n",
    "    data = str_msg + \" \" + str_tag\n",
    "    msg.append(data)"
   ]
  },
  {
   "cell_type": "code",
   "execution_count": 87,
   "metadata": {},
   "outputs": [],
   "source": [
    "msg = []\n",
    "for i in range(len(df_selected)):\n",
    "    str_tag = str_clean(df_selected.iloc[i][\"tags\"])\n",
    "    #str_msg = str(df_selected.iloc[i][\"content_stem\"]).replace('\\n','')\n",
    "    #data = str_msg + \" \" + str_tag\n",
    "    msg.append(str_tag)"
   ]
  },
  {
   "cell_type": "code",
   "execution_count": 88,
   "metadata": {},
   "outputs": [
    {
     "data": {
      "text/plain": [
       "378280"
      ]
     },
     "execution_count": 88,
     "metadata": {},
     "output_type": "execute_result"
    }
   ],
   "source": [
    "len(msg)"
   ]
  },
  {
   "cell_type": "code",
   "execution_count": 89,
   "metadata": {},
   "outputs": [
    {
     "data": {
      "text/plain": [
       "'time, timing, real-time, angular'"
      ]
     },
     "execution_count": 89,
     "metadata": {},
     "output_type": "execute_result"
    }
   ],
   "source": [
    "msg[0]"
   ]
  },
  {
   "cell_type": "code",
   "execution_count": 95,
   "metadata": {},
   "outputs": [],
   "source": [
    "vectorizer = TfidfVectorizer()\n",
    "X = vectorizer.fit_transform(msg)"
   ]
  },
  {
   "cell_type": "code",
   "execution_count": 96,
   "metadata": {},
   "outputs": [
    {
     "name": "stdout",
     "output_type": "stream",
     "text": [
      "(378280, 2922)\n"
     ]
    }
   ],
   "source": [
    "print(X.shape)"
   ]
  },
  {
   "cell_type": "code",
   "execution_count": 97,
   "metadata": {},
   "outputs": [],
   "source": [
    "X_train = np.array(X)"
   ]
  },
  {
   "cell_type": "code",
   "execution_count": 107,
   "metadata": {},
   "outputs": [],
   "source": [
    "from sklearn.cluster import KMeans\n",
    "kmeans = KMeans(n_clusters=1000, random_state=0).fit(X)"
   ]
  },
  {
   "cell_type": "code",
   "execution_count": 108,
   "metadata": {},
   "outputs": [
    {
     "data": {
      "text/plain": [
       "array([ 93,  98, 249, ..., 117, 513, 504])"
      ]
     },
     "execution_count": 108,
     "metadata": {},
     "output_type": "execute_result"
    }
   ],
   "source": [
    "kmeans.labels_"
   ]
  },
  {
   "cell_type": "code",
   "execution_count": 109,
   "metadata": {},
   "outputs": [
    {
     "data": {
      "text/plain": [
       "378280"
      ]
     },
     "execution_count": 109,
     "metadata": {},
     "output_type": "execute_result"
    }
   ],
   "source": [
    "len(kmeans.labels_)"
   ]
  },
  {
   "cell_type": "code",
   "execution_count": 111,
   "metadata": {},
   "outputs": [
    {
     "name": "stderr",
     "output_type": "stream",
     "text": [
      "<ipython-input-111-591c60bf4ac8>:1: SettingWithCopyWarning: \n",
      "A value is trying to be set on a copy of a slice from a DataFrame.\n",
      "Try using .loc[row_indexer,col_indexer] = value instead\n",
      "\n",
      "See the caveats in the documentation: https://pandas.pydata.org/pandas-docs/stable/user_guide/indexing.html#returning-a-view-versus-a-copy\n",
      "  df_selected[\"label\"]=list(kmeans.labels_)\n"
     ]
    }
   ],
   "source": [
    "df_selected[\"label\"]=list(kmeans.labels_)"
   ]
  },
  {
   "cell_type": "code",
   "execution_count": 112,
   "metadata": {},
   "outputs": [
    {
     "data": {
      "text/html": [
       "<div>\n",
       "<style scoped>\n",
       "    .dataframe tbody tr th:only-of-type {\n",
       "        vertical-align: middle;\n",
       "    }\n",
       "\n",
       "    .dataframe tbody tr th {\n",
       "        vertical-align: top;\n",
       "    }\n",
       "\n",
       "    .dataframe thead th {\n",
       "        text-align: right;\n",
       "    }\n",
       "</style>\n",
       "<table border=\"1\" class=\"dataframe\">\n",
       "  <thead>\n",
       "    <tr style=\"text-align: right;\">\n",
       "      <th></th>\n",
       "      <th>Id</th>\n",
       "      <th>asker</th>\n",
       "      <th>time</th>\n",
       "      <th>content</th>\n",
       "      <th>lines</th>\n",
       "      <th>tags</th>\n",
       "      <th>content_stem</th>\n",
       "      <th>label</th>\n",
       "    </tr>\n",
       "  </thead>\n",
       "  <tbody>\n",
       "    <tr>\n",
       "      <th>0</th>\n",
       "      <td>2</td>\n",
       "      <td>54e6ee3b15522ed4b3dc3c24</td>\n",
       "      <td>2015-03-07 21:53</td>\n",
       "      <td>sweet, now we can ask angular2 questions in re...</td>\n",
       "      <td>1</td>\n",
       "      <td>['time', 'timing', 'real-time', 'angular']</td>\n",
       "      <td>sweet, now we can ask angular2 question in rea...</td>\n",
       "      <td>93</td>\n",
       "    </tr>\n",
       "    <tr>\n",
       "      <th>1</th>\n",
       "      <td>4</td>\n",
       "      <td>54e6ee3b15522ed4b3dc3c24</td>\n",
       "      <td>2015-03-07 22:06</td>\n",
       "      <td>we're missing the [View Source] [Improve this ...</td>\n",
       "      <td>1</td>\n",
       "      <td>['button', 'io', 'views', 'angular', 'ios', 'v...</td>\n",
       "      <td>we're miss the [view sourc] [improv thi doc] b...</td>\n",
       "      <td>98</td>\n",
       "    </tr>\n",
       "    <tr>\n",
       "      <th>2</th>\n",
       "      <td>5</td>\n",
       "      <td>530cd1eb5e986b0712efb4d2</td>\n",
       "      <td>2015-03-07 23:18</td>\n",
       "      <td>Good idea can you file an issue with repo?\\n</td>\n",
       "      <td>1</td>\n",
       "      <td>['file']</td>\n",
       "      <td>good idea can you file an issu with repo?\\n</td>\n",
       "      <td>249</td>\n",
       "    </tr>\n",
       "    <tr>\n",
       "      <th>3</th>\n",
       "      <td>6</td>\n",
       "      <td>54e6ee3b15522ed4b3dc3c24</td>\n",
       "      <td>2015-03-08 00:20</td>\n",
       "      <td>I submitted it an issue about view source etc ...</td>\n",
       "      <td>1</td>\n",
       "      <td>['node-modules', 'views', 'get', 'one-to-one',...</td>\n",
       "      <td>i submit it an issu about view sourc etc on an...</td>\n",
       "      <td>21</td>\n",
       "    </tr>\n",
       "    <tr>\n",
       "      <th>4</th>\n",
       "      <td>7</td>\n",
       "      <td>54f9f23015522ed4b3dce8b5</td>\n",
       "      <td>2015-03-08 05:45</td>\n",
       "      <td>Great job on Angular 2 so far! IMHO, the Angul...</td>\n",
       "      <td>1</td>\n",
       "      <td>['http', 'rebase', 'typescript-generics', 'gen...</td>\n",
       "      <td>great job on angular 2 so far! imho, the angul...</td>\n",
       "      <td>411</td>\n",
       "    </tr>\n",
       "  </tbody>\n",
       "</table>\n",
       "</div>"
      ],
      "text/plain": [
       "   Id                     asker              time  \\\n",
       "0   2  54e6ee3b15522ed4b3dc3c24  2015-03-07 21:53   \n",
       "1   4  54e6ee3b15522ed4b3dc3c24  2015-03-07 22:06   \n",
       "2   5  530cd1eb5e986b0712efb4d2  2015-03-07 23:18   \n",
       "3   6  54e6ee3b15522ed4b3dc3c24  2015-03-08 00:20   \n",
       "4   7  54f9f23015522ed4b3dce8b5  2015-03-08 05:45   \n",
       "\n",
       "                                             content  lines  \\\n",
       "0  sweet, now we can ask angular2 questions in re...      1   \n",
       "1  we're missing the [View Source] [Improve this ...      1   \n",
       "2       Good idea can you file an issue with repo?\\n      1   \n",
       "3  I submitted it an issue about view source etc ...      1   \n",
       "4  Great job on Angular 2 so far! IMHO, the Angul...      1   \n",
       "\n",
       "                                                tags  \\\n",
       "0         ['time', 'timing', 'real-time', 'angular']   \n",
       "1  ['button', 'io', 'views', 'angular', 'ios', 'v...   \n",
       "2                                           ['file']   \n",
       "3  ['node-modules', 'views', 'get', 'one-to-one',...   \n",
       "4  ['http', 'rebase', 'typescript-generics', 'gen...   \n",
       "\n",
       "                                        content_stem  label  \n",
       "0  sweet, now we can ask angular2 question in rea...     93  \n",
       "1  we're miss the [view sourc] [improv thi doc] b...     98  \n",
       "2        good idea can you file an issu with repo?\\n    249  \n",
       "3  i submit it an issu about view sourc etc on an...     21  \n",
       "4  great job on angular 2 so far! imho, the angul...    411  "
      ]
     },
     "execution_count": 112,
     "metadata": {},
     "output_type": "execute_result"
    }
   ],
   "source": [
    "df_selected.head()"
   ]
  },
  {
   "cell_type": "code",
   "execution_count": 113,
   "metadata": {},
   "outputs": [],
   "source": [
    "df_selected.to_csv(channel2+'/'+channel2+'_predicted.csv',index = None)"
   ]
  },
  {
   "cell_type": "code",
   "execution_count": null,
   "metadata": {},
   "outputs": [],
   "source": []
  }
 ],
 "metadata": {
  "kernelspec": {
   "display_name": "Python 3",
   "language": "python",
   "name": "python3"
  },
  "language_info": {
   "codemirror_mode": {
    "name": "ipython",
    "version": 3
   },
   "file_extension": ".py",
   "mimetype": "text/x-python",
   "name": "python",
   "nbconvert_exporter": "python",
   "pygments_lexer": "ipython3",
   "version": "3.8.5"
  }
 },
 "nbformat": 4,
 "nbformat_minor": 4
}
