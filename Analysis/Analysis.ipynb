{
 "cells": [
  {
   "cell_type": "code",
   "execution_count": 1,
   "metadata": {},
   "outputs": [],
   "source": [
    "import pandas as pd"
   ]
  },
  {
   "cell_type": "code",
   "execution_count": 2,
   "metadata": {},
   "outputs": [],
   "source": [
    "channel1 = 'Scikitlearn'\n",
    "channel2 = 'Angular'"
   ]
  },
  {
   "cell_type": "markdown",
   "metadata": {},
   "source": [
    "## Respondent Analysis"
   ]
  },
  {
   "cell_type": "markdown",
   "metadata": {},
   "source": [
    "### Scikitlearn"
   ]
  },
  {
   "cell_type": "code",
   "execution_count": 21,
   "metadata": {},
   "outputs": [],
   "source": [
    "df_scikit_profile = pd.read_csv(channel1+'/'+channel1+'_profile.csv')"
   ]
  },
  {
   "cell_type": "code",
   "execution_count": 22,
   "metadata": {},
   "outputs": [
    {
     "data": {
      "text/html": [
       "<div>\n",
       "<style scoped>\n",
       "    .dataframe tbody tr th:only-of-type {\n",
       "        vertical-align: middle;\n",
       "    }\n",
       "\n",
       "    .dataframe tbody tr th {\n",
       "        vertical-align: top;\n",
       "    }\n",
       "\n",
       "    .dataframe thead th {\n",
       "        text-align: right;\n",
       "    }\n",
       "</style>\n",
       "<table border=\"1\" class=\"dataframe\">\n",
       "  <thead>\n",
       "    <tr style=\"text-align: right;\">\n",
       "      <th></th>\n",
       "      <th>user_Id</th>\n",
       "      <th>cluster_Id</th>\n",
       "      <th>answer_date</th>\n",
       "      <th>answers</th>\n",
       "    </tr>\n",
       "  </thead>\n",
       "  <tbody>\n",
       "    <tr>\n",
       "      <th>0</th>\n",
       "      <td>54d4a1d6db8155e6700f853b</td>\n",
       "      <td>12</td>\n",
       "      <td>2015-02-06 11:14:00</td>\n",
       "      <td>I'm with family this week and so not super act...</td>\n",
       "    </tr>\n",
       "    <tr>\n",
       "      <th>1</th>\n",
       "      <td>54d4a1d6db8155e6700f853b</td>\n",
       "      <td>61</td>\n",
       "      <td>2015-02-24 22:46:00</td>\n",
       "      <td>cool\\r\\nok\\r\\n</td>\n",
       "    </tr>\n",
       "    <tr>\n",
       "      <th>2</th>\n",
       "      <td>54d4a1d6db8155e6700f853b</td>\n",
       "      <td>69</td>\n",
       "      <td>2015-02-25 18:59:00</td>\n",
       "      <td>yeah that sounds like a good idea\\r\\n</td>\n",
       "    </tr>\n",
       "    <tr>\n",
       "      <th>3</th>\n",
       "      <td>54d4a1d6db8155e6700f853b</td>\n",
       "      <td>72</td>\n",
       "      <td>2015-02-25 19:14:00</td>\n",
       "      <td>you mean == 1\\r\\n</td>\n",
       "    </tr>\n",
       "    <tr>\n",
       "      <th>4</th>\n",
       "      <td>54d4a1d6db8155e6700f853b</td>\n",
       "      <td>75</td>\n",
       "      <td>2015-02-25 19:19:00</td>\n",
       "      <td>that is also weird ;)\\r\\n</td>\n",
       "    </tr>\n",
       "  </tbody>\n",
       "</table>\n",
       "</div>"
      ],
      "text/plain": [
       "                    user_Id  cluster_Id          answer_date  \\\n",
       "0  54d4a1d6db8155e6700f853b          12  2015-02-06 11:14:00   \n",
       "1  54d4a1d6db8155e6700f853b          61  2015-02-24 22:46:00   \n",
       "2  54d4a1d6db8155e6700f853b          69  2015-02-25 18:59:00   \n",
       "3  54d4a1d6db8155e6700f853b          72  2015-02-25 19:14:00   \n",
       "4  54d4a1d6db8155e6700f853b          75  2015-02-25 19:19:00   \n",
       "\n",
       "                                             answers  \n",
       "0  I'm with family this week and so not super act...  \n",
       "1                                     cool\\r\\nok\\r\\n  \n",
       "2              yeah that sounds like a good idea\\r\\n  \n",
       "3                                  you mean == 1\\r\\n  \n",
       "4                          that is also weird ;)\\r\\n  "
      ]
     },
     "execution_count": 22,
     "metadata": {},
     "output_type": "execute_result"
    }
   ],
   "source": [
    "df_scikit_profile.head()"
   ]
  },
  {
   "cell_type": "code",
   "execution_count": 23,
   "metadata": {},
   "outputs": [],
   "source": [
    "df_scikit_sorted = df_scikit_profile.groupby(df_scikit_profile.user_Id)[\"user_Id\"].count().reset_index(name='count').sort_values(['count'], ascending=False,ignore_index= True)"
   ]
  },
  {
   "cell_type": "code",
   "execution_count": 24,
   "metadata": {},
   "outputs": [
    {
     "data": {
      "text/html": [
       "<div>\n",
       "<style scoped>\n",
       "    .dataframe tbody tr th:only-of-type {\n",
       "        vertical-align: middle;\n",
       "    }\n",
       "\n",
       "    .dataframe tbody tr th {\n",
       "        vertical-align: top;\n",
       "    }\n",
       "\n",
       "    .dataframe thead th {\n",
       "        text-align: right;\n",
       "    }\n",
       "</style>\n",
       "<table border=\"1\" class=\"dataframe\">\n",
       "  <thead>\n",
       "    <tr style=\"text-align: right;\">\n",
       "      <th></th>\n",
       "      <th>count</th>\n",
       "    </tr>\n",
       "  </thead>\n",
       "  <tbody>\n",
       "    <tr>\n",
       "      <th>count</th>\n",
       "      <td>106.000000</td>\n",
       "    </tr>\n",
       "    <tr>\n",
       "      <th>mean</th>\n",
       "      <td>5.773585</td>\n",
       "    </tr>\n",
       "    <tr>\n",
       "      <th>std</th>\n",
       "      <td>19.789503</td>\n",
       "    </tr>\n",
       "    <tr>\n",
       "      <th>min</th>\n",
       "      <td>1.000000</td>\n",
       "    </tr>\n",
       "    <tr>\n",
       "      <th>25%</th>\n",
       "      <td>1.000000</td>\n",
       "    </tr>\n",
       "    <tr>\n",
       "      <th>50%</th>\n",
       "      <td>1.000000</td>\n",
       "    </tr>\n",
       "    <tr>\n",
       "      <th>75%</th>\n",
       "      <td>3.000000</td>\n",
       "    </tr>\n",
       "    <tr>\n",
       "      <th>max</th>\n",
       "      <td>186.000000</td>\n",
       "    </tr>\n",
       "  </tbody>\n",
       "</table>\n",
       "</div>"
      ],
      "text/plain": [
       "            count\n",
       "count  106.000000\n",
       "mean     5.773585\n",
       "std     19.789503\n",
       "min      1.000000\n",
       "25%      1.000000\n",
       "50%      1.000000\n",
       "75%      3.000000\n",
       "max    186.000000"
      ]
     },
     "execution_count": 24,
     "metadata": {},
     "output_type": "execute_result"
    }
   ],
   "source": [
    "df_scikit_sorted.describe()"
   ]
  },
  {
   "cell_type": "code",
   "execution_count": 25,
   "metadata": {},
   "outputs": [
    {
     "data": {
      "text/plain": [
       "9"
      ]
     },
     "execution_count": 25,
     "metadata": {},
     "output_type": "execute_result"
    }
   ],
   "source": [
    "len(df_scikit_sorted[df_scikit_sorted['count'] >= 10])"
   ]
  },
  {
   "cell_type": "code",
   "execution_count": 26,
   "metadata": {},
   "outputs": [
    {
     "data": {
      "text/plain": [
       "1"
      ]
     },
     "execution_count": 26,
     "metadata": {},
     "output_type": "execute_result"
    }
   ],
   "source": [
    "len(df_scikit_sorted[df_scikit_sorted['count'] >= 100])"
   ]
  },
  {
   "cell_type": "code",
   "execution_count": 28,
   "metadata": {},
   "outputs": [
    {
     "name": "stdout",
     "output_type": "stream",
     "text": [
      "dialogues with response: 595\n"
     ]
    }
   ],
   "source": [
    "print(\"dialogues with response:\",len(set(df_scikit_profile[\"cluster_Id\"])))"
   ]
  },
  {
   "cell_type": "code",
   "execution_count": 52,
   "metadata": {},
   "outputs": [],
   "source": [
    "df_scikit_issue = pd.read_json(channel1+'/'+channel1+'_issue.json')"
   ]
  },
  {
   "cell_type": "code",
   "execution_count": 53,
   "metadata": {},
   "outputs": [
    {
     "data": {
      "text/html": [
       "<div>\n",
       "<style scoped>\n",
       "    .dataframe tbody tr th:only-of-type {\n",
       "        vertical-align: middle;\n",
       "    }\n",
       "\n",
       "    .dataframe tbody tr th {\n",
       "        vertical-align: top;\n",
       "    }\n",
       "\n",
       "    .dataframe thead th {\n",
       "        text-align: right;\n",
       "    }\n",
       "</style>\n",
       "<table border=\"1\" class=\"dataframe\">\n",
       "  <thead>\n",
       "    <tr style=\"text-align: right;\">\n",
       "      <th></th>\n",
       "      <th>Id</th>\n",
       "      <th>asker</th>\n",
       "      <th>time</th>\n",
       "      <th>content</th>\n",
       "      <th>lines</th>\n",
       "    </tr>\n",
       "  </thead>\n",
       "  <tbody>\n",
       "    <tr>\n",
       "      <th>0</th>\n",
       "      <td>1</td>\n",
       "      <td>541a528b163965c9bc2053de</td>\n",
       "      <td>2014-09-18 03:36</td>\n",
       "      <td>Hi all!\\n</td>\n",
       "      <td>1</td>\n",
       "    </tr>\n",
       "    <tr>\n",
       "      <th>1</th>\n",
       "      <td>2</td>\n",
       "      <td>544906e2db8155e6700cdd16</td>\n",
       "      <td>2014-10-23 19:59</td>\n",
       "      <td>I don't know if this is the right place but I ...</td>\n",
       "      <td>2</td>\n",
       "    </tr>\n",
       "    <tr>\n",
       "      <th>2</th>\n",
       "      <td>3</td>\n",
       "      <td>544906e2db8155e6700cdd16</td>\n",
       "      <td>2014-10-23 20:01</td>\n",
       "      <td>My first approach was to convert each feature ...</td>\n",
       "      <td>2</td>\n",
       "    </tr>\n",
       "    <tr>\n",
       "      <th>3</th>\n",
       "      <td>4</td>\n",
       "      <td>53a5cf04a9176b500d1ced1a</td>\n",
       "      <td>2015-01-23 15:38</td>\n",
       "      <td>This message is without content. I wonder if a...</td>\n",
       "      <td>1</td>\n",
       "    </tr>\n",
       "    <tr>\n",
       "      <th>4</th>\n",
       "      <td>5</td>\n",
       "      <td>541a528b163965c9bc2053de</td>\n",
       "      <td>2015-01-23 16:49</td>\n",
       "      <td>@mac2bua, I just saw your message. It's probab...</td>\n",
       "      <td>1</td>\n",
       "    </tr>\n",
       "  </tbody>\n",
       "</table>\n",
       "</div>"
      ],
      "text/plain": [
       "   Id                     asker              time  \\\n",
       "0   1  541a528b163965c9bc2053de  2014-09-18 03:36   \n",
       "1   2  544906e2db8155e6700cdd16  2014-10-23 19:59   \n",
       "2   3  544906e2db8155e6700cdd16  2014-10-23 20:01   \n",
       "3   4  53a5cf04a9176b500d1ced1a  2015-01-23 15:38   \n",
       "4   5  541a528b163965c9bc2053de  2015-01-23 16:49   \n",
       "\n",
       "                                             content  lines  \n",
       "0                                          Hi all!\\n      1  \n",
       "1  I don't know if this is the right place but I ...      2  \n",
       "2  My first approach was to convert each feature ...      2  \n",
       "3  This message is without content. I wonder if a...      1  \n",
       "4  @mac2bua, I just saw your message. It's probab...      1  "
      ]
     },
     "execution_count": 53,
     "metadata": {},
     "output_type": "execute_result"
    }
   ],
   "source": [
    "df_scikit_issue.head()"
   ]
  },
  {
   "cell_type": "markdown",
   "metadata": {},
   "source": [
    "### Angular"
   ]
  },
  {
   "cell_type": "code",
   "execution_count": 86,
   "metadata": {},
   "outputs": [],
   "source": [
    "df_angular_profile = pd.read_csv(channel2+'/'+channel2+'_profile.csv')"
   ]
  },
  {
   "cell_type": "code",
   "execution_count": 87,
   "metadata": {},
   "outputs": [
    {
     "data": {
      "text/html": [
       "<div>\n",
       "<style scoped>\n",
       "    .dataframe tbody tr th:only-of-type {\n",
       "        vertical-align: middle;\n",
       "    }\n",
       "\n",
       "    .dataframe tbody tr th {\n",
       "        vertical-align: top;\n",
       "    }\n",
       "\n",
       "    .dataframe thead th {\n",
       "        text-align: right;\n",
       "    }\n",
       "</style>\n",
       "<table border=\"1\" class=\"dataframe\">\n",
       "  <thead>\n",
       "    <tr style=\"text-align: right;\">\n",
       "      <th></th>\n",
       "      <th>user_Id</th>\n",
       "      <th>cluster_Id</th>\n",
       "      <th>answer_date</th>\n",
       "      <th>answers</th>\n",
       "    </tr>\n",
       "  </thead>\n",
       "  <tbody>\n",
       "    <tr>\n",
       "      <th>0</th>\n",
       "      <td>54e6ee3b15522ed4b3dc3c24</td>\n",
       "      <td>15</td>\n",
       "      <td>2015-03-08 18:01:00</td>\n",
       "      <td>currently only working in chrome until shadow ...</td>\n",
       "    </tr>\n",
       "    <tr>\n",
       "      <th>1</th>\n",
       "      <td>54e6ee3b15522ed4b3dc3c24</td>\n",
       "      <td>20</td>\n",
       "      <td>2015-03-09 02:39:00</td>\n",
       "      <td>::shadow\\nhttp://www.html5rocks.com/en/tutoria...</td>\n",
       "    </tr>\n",
       "    <tr>\n",
       "      <th>2</th>\n",
       "      <td>54e6ee3b15522ed4b3dc3c24</td>\n",
       "      <td>100</td>\n",
       "      <td>2015-03-13 19:48:00</td>\n",
       "      <td>@mhevery  that was my worry too (Dart version ...</td>\n",
       "    </tr>\n",
       "    <tr>\n",
       "      <th>3</th>\n",
       "      <td>54e6ee3b15522ed4b3dc3c24</td>\n",
       "      <td>113</td>\n",
       "      <td>2015-03-14 02:46:00</td>\n",
       "      <td>you donat need to inject it since itas going t...</td>\n",
       "    </tr>\n",
       "    <tr>\n",
       "      <th>4</th>\n",
       "      <td>54e6ee3b15522ed4b3dc3c24</td>\n",
       "      <td>118</td>\n",
       "      <td>2015-03-14 07:23:00</td>\n",
       "      <td>what version of node?\\n</td>\n",
       "    </tr>\n",
       "  </tbody>\n",
       "</table>\n",
       "</div>"
      ],
      "text/plain": [
       "                    user_Id  cluster_Id          answer_date  \\\n",
       "0  54e6ee3b15522ed4b3dc3c24          15  2015-03-08 18:01:00   \n",
       "1  54e6ee3b15522ed4b3dc3c24          20  2015-03-09 02:39:00   \n",
       "2  54e6ee3b15522ed4b3dc3c24         100  2015-03-13 19:48:00   \n",
       "3  54e6ee3b15522ed4b3dc3c24         113  2015-03-14 02:46:00   \n",
       "4  54e6ee3b15522ed4b3dc3c24         118  2015-03-14 07:23:00   \n",
       "\n",
       "                                             answers  \n",
       "0  currently only working in chrome until shadow ...  \n",
       "1  ::shadow\\nhttp://www.html5rocks.com/en/tutoria...  \n",
       "2  @mhevery  that was my worry too (Dart version ...  \n",
       "3  you donat need to inject it since itas going t...  \n",
       "4                            what version of node?\\n  "
      ]
     },
     "execution_count": 87,
     "metadata": {},
     "output_type": "execute_result"
    }
   ],
   "source": [
    "df_angular_profile.head()"
   ]
  },
  {
   "cell_type": "code",
   "execution_count": 88,
   "metadata": {},
   "outputs": [],
   "source": [
    "df_angular_sorted = df_angular_profile.groupby(df_angular_profile.user_Id)[\"user_Id\"].count().reset_index(name='count').sort_values(['count'], ascending=False,ignore_index= True)"
   ]
  },
  {
   "cell_type": "code",
   "execution_count": 41,
   "metadata": {},
   "outputs": [
    {
     "data": {
      "text/html": [
       "<div>\n",
       "<style scoped>\n",
       "    .dataframe tbody tr th:only-of-type {\n",
       "        vertical-align: middle;\n",
       "    }\n",
       "\n",
       "    .dataframe tbody tr th {\n",
       "        vertical-align: top;\n",
       "    }\n",
       "\n",
       "    .dataframe thead th {\n",
       "        text-align: right;\n",
       "    }\n",
       "</style>\n",
       "<table border=\"1\" class=\"dataframe\">\n",
       "  <thead>\n",
       "    <tr style=\"text-align: right;\">\n",
       "      <th></th>\n",
       "      <th>count</th>\n",
       "    </tr>\n",
       "  </thead>\n",
       "  <tbody>\n",
       "    <tr>\n",
       "      <th>count</th>\n",
       "      <td>6707.000000</td>\n",
       "    </tr>\n",
       "    <tr>\n",
       "      <th>mean</th>\n",
       "      <td>21.891904</td>\n",
       "    </tr>\n",
       "    <tr>\n",
       "      <th>std</th>\n",
       "      <td>232.142550</td>\n",
       "    </tr>\n",
       "    <tr>\n",
       "      <th>min</th>\n",
       "      <td>1.000000</td>\n",
       "    </tr>\n",
       "    <tr>\n",
       "      <th>25%</th>\n",
       "      <td>1.000000</td>\n",
       "    </tr>\n",
       "    <tr>\n",
       "      <th>50%</th>\n",
       "      <td>3.000000</td>\n",
       "    </tr>\n",
       "    <tr>\n",
       "      <th>75%</th>\n",
       "      <td>7.000000</td>\n",
       "    </tr>\n",
       "    <tr>\n",
       "      <th>max</th>\n",
       "      <td>11700.000000</td>\n",
       "    </tr>\n",
       "  </tbody>\n",
       "</table>\n",
       "</div>"
      ],
      "text/plain": [
       "              count\n",
       "count   6707.000000\n",
       "mean      21.891904\n",
       "std      232.142550\n",
       "min        1.000000\n",
       "25%        1.000000\n",
       "50%        3.000000\n",
       "75%        7.000000\n",
       "max    11700.000000"
      ]
     },
     "execution_count": 41,
     "metadata": {},
     "output_type": "execute_result"
    }
   ],
   "source": [
    "df_angular_sorted.describe()"
   ]
  },
  {
   "cell_type": "code",
   "execution_count": 7,
   "metadata": {},
   "outputs": [
    {
     "data": {
      "text/plain": [
       "1317"
      ]
     },
     "execution_count": 7,
     "metadata": {},
     "output_type": "execute_result"
    }
   ],
   "source": [
    "len(df_angular_sorted[df_angular_sorted['count'] >= 10])"
   ]
  },
  {
   "cell_type": "code",
   "execution_count": 8,
   "metadata": {},
   "outputs": [
    {
     "data": {
      "text/plain": [
       "163"
      ]
     },
     "execution_count": 8,
     "metadata": {},
     "output_type": "execute_result"
    }
   ],
   "source": [
    "len(df_angular_sorted[df_angular_sorted['count'] >= 100])"
   ]
  },
  {
   "cell_type": "code",
   "execution_count": 9,
   "metadata": {},
   "outputs": [
    {
     "name": "stdout",
     "output_type": "stream",
     "text": [
      "dialogues with response: 122791\n"
     ]
    }
   ],
   "source": [
    "print(\"dialogues with response:\",len(set(df_angular_profile[\"cluster_Id\"])))"
   ]
  },
  {
   "cell_type": "code",
   "execution_count": 10,
   "metadata": {},
   "outputs": [],
   "source": [
    "df_angular_issue = pd.read_json(channel2+'/'+channel2+'_issue.json')"
   ]
  },
  {
   "cell_type": "code",
   "execution_count": 11,
   "metadata": {},
   "outputs": [
    {
     "data": {
      "text/html": [
       "<div>\n",
       "<style scoped>\n",
       "    .dataframe tbody tr th:only-of-type {\n",
       "        vertical-align: middle;\n",
       "    }\n",
       "\n",
       "    .dataframe tbody tr th {\n",
       "        vertical-align: top;\n",
       "    }\n",
       "\n",
       "    .dataframe thead th {\n",
       "        text-align: right;\n",
       "    }\n",
       "</style>\n",
       "<table border=\"1\" class=\"dataframe\">\n",
       "  <thead>\n",
       "    <tr style=\"text-align: right;\">\n",
       "      <th></th>\n",
       "      <th>Id</th>\n",
       "      <th>asker</th>\n",
       "      <th>time</th>\n",
       "      <th>content</th>\n",
       "      <th>lines</th>\n",
       "    </tr>\n",
       "  </thead>\n",
       "  <tbody>\n",
       "    <tr>\n",
       "      <th>0</th>\n",
       "      <td>1</td>\n",
       "      <td>54c89b1cdb8155e6700f2ac3</td>\n",
       "      <td>2015-03-07 21:41</td>\n",
       "      <td>Awesome!\\n</td>\n",
       "      <td>1</td>\n",
       "    </tr>\n",
       "    <tr>\n",
       "      <th>1</th>\n",
       "      <td>2</td>\n",
       "      <td>54e6ee3b15522ed4b3dc3c24</td>\n",
       "      <td>2015-03-07 21:53</td>\n",
       "      <td>sweet, now we can ask angular2 questions in re...</td>\n",
       "      <td>1</td>\n",
       "    </tr>\n",
       "    <tr>\n",
       "      <th>2</th>\n",
       "      <td>3</td>\n",
       "      <td>530cd1eb5e986b0712efb4d2</td>\n",
       "      <td>2015-03-07 22:04</td>\n",
       "      <td>Yes!\\n</td>\n",
       "      <td>1</td>\n",
       "    </tr>\n",
       "    <tr>\n",
       "      <th>3</th>\n",
       "      <td>4</td>\n",
       "      <td>54e6ee3b15522ed4b3dc3c24</td>\n",
       "      <td>2015-03-07 22:06</td>\n",
       "      <td>we're missing the [View Source] [Improve this ...</td>\n",
       "      <td>1</td>\n",
       "    </tr>\n",
       "    <tr>\n",
       "      <th>4</th>\n",
       "      <td>5</td>\n",
       "      <td>530cd1eb5e986b0712efb4d2</td>\n",
       "      <td>2015-03-07 23:18</td>\n",
       "      <td>Good idea can you file an issue with repo?\\n</td>\n",
       "      <td>1</td>\n",
       "    </tr>\n",
       "  </tbody>\n",
       "</table>\n",
       "</div>"
      ],
      "text/plain": [
       "   Id                     asker              time  \\\n",
       "0   1  54c89b1cdb8155e6700f2ac3  2015-03-07 21:41   \n",
       "1   2  54e6ee3b15522ed4b3dc3c24  2015-03-07 21:53   \n",
       "2   3  530cd1eb5e986b0712efb4d2  2015-03-07 22:04   \n",
       "3   4  54e6ee3b15522ed4b3dc3c24  2015-03-07 22:06   \n",
       "4   5  530cd1eb5e986b0712efb4d2  2015-03-07 23:18   \n",
       "\n",
       "                                             content  lines  \n",
       "0                                         Awesome!\\n      1  \n",
       "1  sweet, now we can ask angular2 questions in re...      1  \n",
       "2                                             Yes!\\n      1  \n",
       "3  we're missing the [View Source] [Improve this ...      1  \n",
       "4       Good idea can you file an issue with repo?\\n      1  "
      ]
     },
     "execution_count": 11,
     "metadata": {},
     "output_type": "execute_result"
    }
   ],
   "source": [
    "df_angular_issue.head()"
   ]
  },
  {
   "cell_type": "markdown",
   "metadata": {},
   "source": [
    "## Tags Matching"
   ]
  },
  {
   "cell_type": "code",
   "execution_count": 14,
   "metadata": {},
   "outputs": [],
   "source": [
    "import nltk\n",
    "from nltk.corpus import stopwords"
   ]
  },
  {
   "cell_type": "code",
   "execution_count": 15,
   "metadata": {},
   "outputs": [],
   "source": [
    "def tags_match(df,tags):\n",
    "    profile_tags = []\n",
    "    total_tags = set()\n",
    "    for answer in df:\n",
    "        tags_matched = []\n",
    "    \n",
    "        if len(str(answer)) == 0:\n",
    "            profile_tags.append(tags_matched)\n",
    "            continue\n",
    "    \n",
    "        for tag in tags:\n",
    "            \n",
    "            if str(tag) in str(answer):\n",
    "                tags_matched.append(tag)\n",
    "                total_tags.add(tag)\n",
    "    \n",
    "        profile_tags.append(tags_matched)\n",
    "        \n",
    "    print(\"total tags matched:\",len(total_tags))\n",
    "    \n",
    "    return profile_tags,total_tags"
   ]
  },
  {
   "cell_type": "code",
   "execution_count": 16,
   "metadata": {},
   "outputs": [],
   "source": [
    "df_tags = pd.read_csv('tags.csv')"
   ]
  },
  {
   "cell_type": "code",
   "execution_count": 17,
   "metadata": {},
   "outputs": [
    {
     "data": {
      "text/plain": [
       "63581"
      ]
     },
     "execution_count": 17,
     "metadata": {},
     "output_type": "execute_result"
    }
   ],
   "source": [
    "len(df_tags)"
   ]
  },
  {
   "cell_type": "code",
   "execution_count": 18,
   "metadata": {},
   "outputs": [
    {
     "data": {
      "text/html": [
       "<div>\n",
       "<style scoped>\n",
       "    .dataframe tbody tr th:only-of-type {\n",
       "        vertical-align: middle;\n",
       "    }\n",
       "\n",
       "    .dataframe tbody tr th {\n",
       "        vertical-align: top;\n",
       "    }\n",
       "\n",
       "    .dataframe thead th {\n",
       "        text-align: right;\n",
       "    }\n",
       "</style>\n",
       "<table border=\"1\" class=\"dataframe\">\n",
       "  <thead>\n",
       "    <tr style=\"text-align: right;\">\n",
       "      <th></th>\n",
       "      <th>Id</th>\n",
       "      <th>TagName</th>\n",
       "      <th>Count</th>\n",
       "      <th>ExcerptPostId</th>\n",
       "      <th>WikiPostId</th>\n",
       "      <th>IsModeratorOnly</th>\n",
       "      <th>IsRequired</th>\n",
       "    </tr>\n",
       "  </thead>\n",
       "  <tbody>\n",
       "    <tr>\n",
       "      <th>0</th>\n",
       "      <td>1</td>\n",
       "      <td>.net</td>\n",
       "      <td>322128</td>\n",
       "      <td>3624959.0</td>\n",
       "      <td>3607476.0</td>\n",
       "      <td>NaN</td>\n",
       "      <td>NaN</td>\n",
       "    </tr>\n",
       "    <tr>\n",
       "      <th>1</th>\n",
       "      <td>2</td>\n",
       "      <td>html</td>\n",
       "      <td>1141471</td>\n",
       "      <td>3673183.0</td>\n",
       "      <td>3673182.0</td>\n",
       "      <td>NaN</td>\n",
       "      <td>NaN</td>\n",
       "    </tr>\n",
       "    <tr>\n",
       "      <th>2</th>\n",
       "      <td>3</td>\n",
       "      <td>javascript</td>\n",
       "      <td>2413015</td>\n",
       "      <td>3624960.0</td>\n",
       "      <td>3607052.0</td>\n",
       "      <td>NaN</td>\n",
       "      <td>NaN</td>\n",
       "    </tr>\n",
       "    <tr>\n",
       "      <th>3</th>\n",
       "      <td>4</td>\n",
       "      <td>css</td>\n",
       "      <td>768321</td>\n",
       "      <td>3644670.0</td>\n",
       "      <td>3644669.0</td>\n",
       "      <td>NaN</td>\n",
       "      <td>NaN</td>\n",
       "    </tr>\n",
       "    <tr>\n",
       "      <th>4</th>\n",
       "      <td>5</td>\n",
       "      <td>php</td>\n",
       "      <td>1443156</td>\n",
       "      <td>3624936.0</td>\n",
       "      <td>3607050.0</td>\n",
       "      <td>NaN</td>\n",
       "      <td>NaN</td>\n",
       "    </tr>\n",
       "  </tbody>\n",
       "</table>\n",
       "</div>"
      ],
      "text/plain": [
       "   Id     TagName    Count  ExcerptPostId  WikiPostId  IsModeratorOnly  \\\n",
       "0   1        .net   322128      3624959.0   3607476.0              NaN   \n",
       "1   2        html  1141471      3673183.0   3673182.0              NaN   \n",
       "2   3  javascript  2413015      3624960.0   3607052.0              NaN   \n",
       "3   4         css   768321      3644670.0   3644669.0              NaN   \n",
       "4   5         php  1443156      3624936.0   3607050.0              NaN   \n",
       "\n",
       "   IsRequired  \n",
       "0         NaN  \n",
       "1         NaN  \n",
       "2         NaN  \n",
       "3         NaN  \n",
       "4         NaN  "
      ]
     },
     "execution_count": 18,
     "metadata": {},
     "output_type": "execute_result"
    }
   ],
   "source": [
    "df_tags.head()"
   ]
  },
  {
   "cell_type": "code",
   "execution_count": 19,
   "metadata": {},
   "outputs": [],
   "source": [
    "tags_clean = set()\n",
    "for tag in df_tags[\"TagName\"]:\n",
    "    if len(str(tag)) > 1 and str(tag) not in stopwords.words('english'):\n",
    "        tags_clean.add(str(tag))"
   ]
  },
  {
   "cell_type": "code",
   "execution_count": 20,
   "metadata": {},
   "outputs": [
    {
     "data": {
      "text/plain": [
       "63550"
      ]
     },
     "execution_count": 20,
     "metadata": {},
     "output_type": "execute_result"
    }
   ],
   "source": [
    "len(tags_clean)"
   ]
  },
  {
   "cell_type": "markdown",
   "metadata": {},
   "source": [
    "### Scikitlearn"
   ]
  },
  {
   "cell_type": "code",
   "execution_count": 59,
   "metadata": {},
   "outputs": [
    {
     "name": "stdout",
     "output_type": "stream",
     "text": [
      "total tags matched: 1264\n"
     ]
    }
   ],
   "source": [
    "scikit_tags,scikit_matched = tags_match(df_scikit_profile[\"answers\"],tags_clean)"
   ]
  },
  {
   "cell_type": "code",
   "execution_count": 48,
   "metadata": {},
   "outputs": [],
   "source": [
    "df_scikit_profile[\"tags\"] = scikit_tags"
   ]
  },
  {
   "cell_type": "code",
   "execution_count": 49,
   "metadata": {},
   "outputs": [
    {
     "data": {
      "text/html": [
       "<div>\n",
       "<style scoped>\n",
       "    .dataframe tbody tr th:only-of-type {\n",
       "        vertical-align: middle;\n",
       "    }\n",
       "\n",
       "    .dataframe tbody tr th {\n",
       "        vertical-align: top;\n",
       "    }\n",
       "\n",
       "    .dataframe thead th {\n",
       "        text-align: right;\n",
       "    }\n",
       "</style>\n",
       "<table border=\"1\" class=\"dataframe\">\n",
       "  <thead>\n",
       "    <tr style=\"text-align: right;\">\n",
       "      <th></th>\n",
       "      <th>user_Id</th>\n",
       "      <th>cluster_Id</th>\n",
       "      <th>answer_date</th>\n",
       "      <th>answers</th>\n",
       "      <th>tags</th>\n",
       "    </tr>\n",
       "  </thead>\n",
       "  <tbody>\n",
       "    <tr>\n",
       "      <th>0</th>\n",
       "      <td>54d4a1d6db8155e6700f853b</td>\n",
       "      <td>12</td>\n",
       "      <td>2015-02-06 11:14:00</td>\n",
       "      <td>I'm with family this week and so not super act...</td>\n",
       "      <td>[import, tps, dtype, ase, el, hub, dt, om, nt,...</td>\n",
       "    </tr>\n",
       "    <tr>\n",
       "      <th>1</th>\n",
       "      <td>54d4a1d6db8155e6700f853b</td>\n",
       "      <td>61</td>\n",
       "      <td>2015-02-24 22:46:00</td>\n",
       "      <td>cool\\r\\nok\\r\\n</td>\n",
       "      <td>[co]</td>\n",
       "    </tr>\n",
       "    <tr>\n",
       "      <th>2</th>\n",
       "      <td>54d4a1d6db8155e6700f853b</td>\n",
       "      <td>69</td>\n",
       "      <td>2015-02-25 18:59:00</td>\n",
       "      <td>yeah that sounds like a good idea\\r\\n</td>\n",
       "      <td>[de, goo, ide, hat, go, ou, od]</td>\n",
       "    </tr>\n",
       "    <tr>\n",
       "      <th>3</th>\n",
       "      <td>54d4a1d6db8155e6700f853b</td>\n",
       "      <td>72</td>\n",
       "      <td>2015-02-25 19:14:00</td>\n",
       "      <td>you mean == 1\\r\\n</td>\n",
       "      <td>[mean, yo, ou]</td>\n",
       "    </tr>\n",
       "    <tr>\n",
       "      <th>4</th>\n",
       "      <td>54d4a1d6db8155e6700f853b</td>\n",
       "      <td>75</td>\n",
       "      <td>2015-02-25 19:19:00</td>\n",
       "      <td>that is also weird ;)\\r\\n</td>\n",
       "      <td>[ei, rd, hat, lso, als, ls]</td>\n",
       "    </tr>\n",
       "  </tbody>\n",
       "</table>\n",
       "</div>"
      ],
      "text/plain": [
       "                    user_Id  cluster_Id          answer_date  \\\n",
       "0  54d4a1d6db8155e6700f853b          12  2015-02-06 11:14:00   \n",
       "1  54d4a1d6db8155e6700f853b          61  2015-02-24 22:46:00   \n",
       "2  54d4a1d6db8155e6700f853b          69  2015-02-25 18:59:00   \n",
       "3  54d4a1d6db8155e6700f853b          72  2015-02-25 19:14:00   \n",
       "4  54d4a1d6db8155e6700f853b          75  2015-02-25 19:19:00   \n",
       "\n",
       "                                             answers  \\\n",
       "0  I'm with family this week and so not super act...   \n",
       "1                                     cool\\r\\nok\\r\\n   \n",
       "2              yeah that sounds like a good idea\\r\\n   \n",
       "3                                  you mean == 1\\r\\n   \n",
       "4                          that is also weird ;)\\r\\n   \n",
       "\n",
       "                                                tags  \n",
       "0  [import, tps, dtype, ase, el, hub, dt, om, nt,...  \n",
       "1                                               [co]  \n",
       "2                    [de, goo, ide, hat, go, ou, od]  \n",
       "3                                     [mean, yo, ou]  \n",
       "4                        [ei, rd, hat, lso, als, ls]  "
      ]
     },
     "execution_count": 49,
     "metadata": {},
     "output_type": "execute_result"
    }
   ],
   "source": [
    "df_scikit_profile.head()"
   ]
  },
  {
   "cell_type": "code",
   "execution_count": 51,
   "metadata": {},
   "outputs": [],
   "source": [
    "df_scikit_profile.to_csv(channel1+'/'+channel1+'_profile_tags.csv',index = None)"
   ]
  },
  {
   "cell_type": "code",
   "execution_count": 54,
   "metadata": {},
   "outputs": [
    {
     "name": "stdout",
     "output_type": "stream",
     "text": [
      "total tags matched: 3632\n"
     ]
    }
   ],
   "source": [
    "scikit_issue_tags,scikit_issue_matched = tags_match(df_scikit_issue[\"content\"],tags_clean)"
   ]
  },
  {
   "cell_type": "code",
   "execution_count": 55,
   "metadata": {},
   "outputs": [],
   "source": [
    "df_scikit_issue[\"tags\"] = scikit_issue_tags"
   ]
  },
  {
   "cell_type": "code",
   "execution_count": 56,
   "metadata": {},
   "outputs": [
    {
     "data": {
      "text/html": [
       "<div>\n",
       "<style scoped>\n",
       "    .dataframe tbody tr th:only-of-type {\n",
       "        vertical-align: middle;\n",
       "    }\n",
       "\n",
       "    .dataframe tbody tr th {\n",
       "        vertical-align: top;\n",
       "    }\n",
       "\n",
       "    .dataframe thead th {\n",
       "        text-align: right;\n",
       "    }\n",
       "</style>\n",
       "<table border=\"1\" class=\"dataframe\">\n",
       "  <thead>\n",
       "    <tr style=\"text-align: right;\">\n",
       "      <th></th>\n",
       "      <th>Id</th>\n",
       "      <th>asker</th>\n",
       "      <th>time</th>\n",
       "      <th>content</th>\n",
       "      <th>lines</th>\n",
       "      <th>tags</th>\n",
       "    </tr>\n",
       "  </thead>\n",
       "  <tbody>\n",
       "    <tr>\n",
       "      <th>0</th>\n",
       "      <td>1</td>\n",
       "      <td>541a528b163965c9bc2053de</td>\n",
       "      <td>2014-09-18 03:36</td>\n",
       "      <td>Hi all!\\n</td>\n",
       "      <td>1</td>\n",
       "      <td>[]</td>\n",
       "    </tr>\n",
       "    <tr>\n",
       "      <th>1</th>\n",
       "      <td>2</td>\n",
       "      <td>544906e2db8155e6700cdd16</td>\n",
       "      <td>2014-10-23 19:59</td>\n",
       "      <td>I don't know if this is the right place but I ...</td>\n",
       "      <td>2</td>\n",
       "      <td>[int, dvi, set, som, tr, ip, ri, om, nt, de, c...</td>\n",
       "    </tr>\n",
       "    <tr>\n",
       "      <th>2</th>\n",
       "      <td>3</td>\n",
       "      <td>544906e2db8155e6700cdd16</td>\n",
       "      <td>2014-10-23 20:01</td>\n",
       "      <td>My first approach was to convert each feature ...</td>\n",
       "      <td>2</td>\n",
       "      <td>[el, alu, rise, ri, bin, nt, val, ex, live, am...</td>\n",
       "    </tr>\n",
       "    <tr>\n",
       "      <th>3</th>\n",
       "      <td>4</td>\n",
       "      <td>53a5cf04a9176b500d1ced1a</td>\n",
       "      <td>2015-01-23 15:38</td>\n",
       "      <td>This message is without content. I wonder if a...</td>\n",
       "      <td>1</td>\n",
       "      <td>[der, ag, nt, de, ess, sage, co, yo, ent, sag,...</td>\n",
       "    </tr>\n",
       "    <tr>\n",
       "      <th>4</th>\n",
       "      <td>5</td>\n",
       "      <td>541a528b163965c9bc2053de</td>\n",
       "      <td>2015-01-23 16:49</td>\n",
       "      <td>@mac2bua, I just saw your message. It's probab...</td>\n",
       "      <td>1</td>\n",
       "      <td>[int, el, ag, jus, sly, quest, overflow, tr, o...</td>\n",
       "    </tr>\n",
       "  </tbody>\n",
       "</table>\n",
       "</div>"
      ],
      "text/plain": [
       "   Id                     asker              time  \\\n",
       "0   1  541a528b163965c9bc2053de  2014-09-18 03:36   \n",
       "1   2  544906e2db8155e6700cdd16  2014-10-23 19:59   \n",
       "2   3  544906e2db8155e6700cdd16  2014-10-23 20:01   \n",
       "3   4  53a5cf04a9176b500d1ced1a  2015-01-23 15:38   \n",
       "4   5  541a528b163965c9bc2053de  2015-01-23 16:49   \n",
       "\n",
       "                                             content  lines  \\\n",
       "0                                          Hi all!\\n      1   \n",
       "1  I don't know if this is the right place but I ...      2   \n",
       "2  My first approach was to convert each feature ...      2   \n",
       "3  This message is without content. I wonder if a...      1   \n",
       "4  @mac2bua, I just saw your message. It's probab...      1   \n",
       "\n",
       "                                                tags  \n",
       "0                                                 []  \n",
       "1  [int, dvi, set, som, tr, ip, ri, om, nt, de, c...  \n",
       "2  [el, alu, rise, ri, bin, nt, val, ex, live, am...  \n",
       "3  [der, ag, nt, de, ess, sage, co, yo, ent, sag,...  \n",
       "4  [int, el, ag, jus, sly, quest, overflow, tr, o...  "
      ]
     },
     "execution_count": 56,
     "metadata": {},
     "output_type": "execute_result"
    }
   ],
   "source": [
    "df_scikit_issue.head()"
   ]
  },
  {
   "cell_type": "code",
   "execution_count": 57,
   "metadata": {},
   "outputs": [],
   "source": [
    "df_scikit_issue.to_csv(channel1+'/'+channel1+'_issue_tags.csv',index = None)"
   ]
  },
  {
   "cell_type": "code",
   "execution_count": 60,
   "metadata": {},
   "outputs": [
    {
     "data": {
      "text/plain": [
       "1264"
      ]
     },
     "execution_count": 60,
     "metadata": {},
     "output_type": "execute_result"
    }
   ],
   "source": [
    "len(scikit_matched)"
   ]
  },
  {
   "cell_type": "code",
   "execution_count": 61,
   "metadata": {},
   "outputs": [],
   "source": [
    "clusters_answered = set(df_scikit_profile[\"cluster_Id\"])"
   ]
  },
  {
   "cell_type": "code",
   "execution_count": 62,
   "metadata": {},
   "outputs": [
    {
     "data": {
      "text/plain": [
       "595"
      ]
     },
     "execution_count": 62,
     "metadata": {},
     "output_type": "execute_result"
    }
   ],
   "source": [
    "len(clusters_answered)"
   ]
  },
  {
   "cell_type": "code",
   "execution_count": 63,
   "metadata": {},
   "outputs": [],
   "source": [
    "df_scikit_issue_selected = df_scikit_issue[df_scikit_issue[\"Id\"].isin(clusters_answered)]"
   ]
  },
  {
   "cell_type": "code",
   "execution_count": 64,
   "metadata": {},
   "outputs": [
    {
     "data": {
      "text/plain": [
       "595"
      ]
     },
     "execution_count": 64,
     "metadata": {},
     "output_type": "execute_result"
    }
   ],
   "source": [
    "len(df_scikit_issue_selected)"
   ]
  },
  {
   "cell_type": "code",
   "execution_count": 69,
   "metadata": {},
   "outputs": [
    {
     "data": {
      "text/html": [
       "<div>\n",
       "<style scoped>\n",
       "    .dataframe tbody tr th:only-of-type {\n",
       "        vertical-align: middle;\n",
       "    }\n",
       "\n",
       "    .dataframe tbody tr th {\n",
       "        vertical-align: top;\n",
       "    }\n",
       "\n",
       "    .dataframe thead th {\n",
       "        text-align: right;\n",
       "    }\n",
       "</style>\n",
       "<table border=\"1\" class=\"dataframe\">\n",
       "  <thead>\n",
       "    <tr style=\"text-align: right;\">\n",
       "      <th></th>\n",
       "      <th>Id</th>\n",
       "      <th>asker</th>\n",
       "      <th>time</th>\n",
       "      <th>content</th>\n",
       "      <th>lines</th>\n",
       "      <th>tags</th>\n",
       "    </tr>\n",
       "  </thead>\n",
       "  <tbody>\n",
       "    <tr>\n",
       "      <th>11</th>\n",
       "      <td>12</td>\n",
       "      <td>541a528b163965c9bc2053de</td>\n",
       "      <td>2015-02-06 11:14</td>\n",
       "      <td>I want to do the `check_array` empty data first\\n</td>\n",
       "      <td>9</td>\n",
       "      <td>[pty, nt, ant, ta, wan, ata, st, ch, arr, ray,...</td>\n",
       "    </tr>\n",
       "    <tr>\n",
       "      <th>12</th>\n",
       "      <td>13</td>\n",
       "      <td>54d4a1d6db8155e6700f853b</td>\n",
       "      <td>2015-02-06 11:18</td>\n",
       "      <td>Most of the bug-fixes are isolated to one esti...</td>\n",
       "      <td>9</td>\n",
       "      <td>[int, import, tps, dtype, ase, el, pipeline, i...</td>\n",
       "    </tr>\n",
       "    <tr>\n",
       "      <th>13</th>\n",
       "      <td>14</td>\n",
       "      <td>54d4a1d6db8155e6700f853b</td>\n",
       "      <td>2015-02-06 11:23</td>\n",
       "      <td>it did? I didn't see that. haha I know the ope...</td>\n",
       "      <td>8</td>\n",
       "      <td>[sis, ase, sf, el, som, ini, tr, rm, ode, ip, ...</td>\n",
       "    </tr>\n",
       "    <tr>\n",
       "      <th>37</th>\n",
       "      <td>38</td>\n",
       "      <td>541a528b163965c9bc2053de</td>\n",
       "      <td>2015-02-15 16:33</td>\n",
       "      <td>Explaining the pbm in an issue is a good idea....</td>\n",
       "      <td>2</td>\n",
       "      <td>[opl, unc, el, ini, de, bunch, goo, ch, rel, i...</td>\n",
       "    </tr>\n",
       "    <tr>\n",
       "      <th>51</th>\n",
       "      <td>52</td>\n",
       "      <td>541a528b163965c9bc2053de</td>\n",
       "      <td>2015-02-24 14:06</td>\n",
       "      <td>cython path/to/file.pyx\\n</td>\n",
       "      <td>2</td>\n",
       "      <td>[cython, path, pyx, file, il, yt]</td>\n",
       "    </tr>\n",
       "  </tbody>\n",
       "</table>\n",
       "</div>"
      ],
      "text/plain": [
       "    Id                     asker              time  \\\n",
       "11  12  541a528b163965c9bc2053de  2015-02-06 11:14   \n",
       "12  13  54d4a1d6db8155e6700f853b  2015-02-06 11:18   \n",
       "13  14  54d4a1d6db8155e6700f853b  2015-02-06 11:23   \n",
       "37  38  541a528b163965c9bc2053de  2015-02-15 16:33   \n",
       "51  52  541a528b163965c9bc2053de  2015-02-24 14:06   \n",
       "\n",
       "                                              content  lines  \\\n",
       "11  I want to do the `check_array` empty data first\\n      9   \n",
       "12  Most of the bug-fixes are isolated to one esti...      9   \n",
       "13  it did? I didn't see that. haha I know the ope...      8   \n",
       "37  Explaining the pbm in an issue is a good idea....      2   \n",
       "51                          cython path/to/file.pyx\\n      2   \n",
       "\n",
       "                                                 tags  \n",
       "11  [pty, nt, ant, ta, wan, ata, st, ch, arr, ray,...  \n",
       "12  [int, import, tps, dtype, ase, el, pipeline, i...  \n",
       "13  [sis, ase, sf, el, som, ini, tr, rm, ode, ip, ...  \n",
       "37  [opl, unc, el, ini, de, bunch, goo, ch, rel, i...  \n",
       "51                  [cython, path, pyx, file, il, yt]  "
      ]
     },
     "execution_count": 69,
     "metadata": {},
     "output_type": "execute_result"
    }
   ],
   "source": [
    "df_scikit_issue_selected.head()"
   ]
  },
  {
   "cell_type": "code",
   "execution_count": 81,
   "metadata": {},
   "outputs": [],
   "source": [
    "issue_matched = set()\n",
    "for tags in df_scikit_issue_selected[\"tags\"]:\n",
    "    issue_matched.update(tags)"
   ]
  },
  {
   "cell_type": "code",
   "execution_count": 83,
   "metadata": {},
   "outputs": [
    {
     "data": {
      "text/plain": [
       "1741"
      ]
     },
     "execution_count": 83,
     "metadata": {},
     "output_type": "execute_result"
    }
   ],
   "source": [
    "len(issue_matched)"
   ]
  },
  {
   "cell_type": "code",
   "execution_count": 85,
   "metadata": {},
   "outputs": [
    {
     "name": "stdout",
     "output_type": "stream",
     "text": [
      "final matched: 1977\n"
     ]
    }
   ],
   "source": [
    "print(\"final matched:\",len(scikit_matched.union(issue_matched)))"
   ]
  },
  {
   "cell_type": "markdown",
   "metadata": {},
   "source": [
    "### Angular"
   ]
  },
  {
   "cell_type": "code",
   "execution_count": 21,
   "metadata": {},
   "outputs": [
    {
     "name": "stdout",
     "output_type": "stream",
     "text": [
      "total tags matched: 7637\n"
     ]
    }
   ],
   "source": [
    "angular_tags,angular_matched = tags_match(df_angular_profile[\"answers\"],tags_clean)"
   ]
  },
  {
   "cell_type": "code",
   "execution_count": 92,
   "metadata": {},
   "outputs": [
    {
     "name": "stdout",
     "output_type": "stream",
     "text": [
      "Done\n"
     ]
    }
   ],
   "source": [
    "#save angular_matched\n",
    "with open(channel2+'/'+channel2+'_angular_matched.txt', 'w') as fp:\n",
    "    for name in angular_matched:\n",
    "        # write each item on a new line\n",
    "        fp.write(\"%s\\n\" % name)\n",
    "    print('Done')"
   ]
  },
  {
   "cell_type": "code",
   "execution_count": 25,
   "metadata": {},
   "outputs": [],
   "source": [
    "df_angular_profile[\"tags\"] = angular_tags"
   ]
  },
  {
   "cell_type": "code",
   "execution_count": 26,
   "metadata": {},
   "outputs": [
    {
     "data": {
      "text/html": [
       "<div>\n",
       "<style scoped>\n",
       "    .dataframe tbody tr th:only-of-type {\n",
       "        vertical-align: middle;\n",
       "    }\n",
       "\n",
       "    .dataframe tbody tr th {\n",
       "        vertical-align: top;\n",
       "    }\n",
       "\n",
       "    .dataframe thead th {\n",
       "        text-align: right;\n",
       "    }\n",
       "</style>\n",
       "<table border=\"1\" class=\"dataframe\">\n",
       "  <thead>\n",
       "    <tr style=\"text-align: right;\">\n",
       "      <th></th>\n",
       "      <th>user_Id</th>\n",
       "      <th>cluster_Id</th>\n",
       "      <th>answer_date</th>\n",
       "      <th>answers</th>\n",
       "      <th>tags</th>\n",
       "    </tr>\n",
       "  </thead>\n",
       "  <tbody>\n",
       "    <tr>\n",
       "      <th>0</th>\n",
       "      <td>54e6ee3b15522ed4b3dc3c24</td>\n",
       "      <td>15</td>\n",
       "      <td>2015-03-08 18:01:00</td>\n",
       "      <td>currently only working in chrome until shadow ...</td>\n",
       "      <td>[rr, urn, ent, em, kin, dom, ado, default, ntl...</td>\n",
       "    </tr>\n",
       "    <tr>\n",
       "      <th>1</th>\n",
       "      <td>54e6ee3b15522ed4b3dc3c24</td>\n",
       "      <td>20</td>\n",
       "      <td>2015-03-09 02:39:00</td>\n",
       "      <td>::shadow\\nhttp://www.html5rocks.com/en/tutoria...</td>\n",
       "      <td>[styling, co, ld, parent, tor, ria, ri, ent, r...</td>\n",
       "    </tr>\n",
       "    <tr>\n",
       "      <th>2</th>\n",
       "      <td>54e6ee3b15522ed4b3dc3c24</td>\n",
       "      <td>100</td>\n",
       "      <td>2015-03-13 19:48:00</td>\n",
       "      <td>@mhevery  that was my worry too (Dart version ...</td>\n",
       "      <td>[rr, cad, urn, wil, co, ld, dependencies, tera...</td>\n",
       "    </tr>\n",
       "    <tr>\n",
       "      <th>3</th>\n",
       "      <td>54e6ee3b15522ed4b3dc3c24</td>\n",
       "      <td>113</td>\n",
       "      <td>2015-03-14 02:46:00</td>\n",
       "      <td>you donat need to inject it since itas going t...</td>\n",
       "      <td>[ss, inline, int, nat, co, ld, tor, ent, em, s...</td>\n",
       "    </tr>\n",
       "    <tr>\n",
       "      <th>4</th>\n",
       "      <td>54e6ee3b15522ed4b3dc3c24</td>\n",
       "      <td>118</td>\n",
       "      <td>2015-03-14 07:23:00</td>\n",
       "      <td>what version of node?\\n</td>\n",
       "      <td>[rs, hat, io, de, od, ode, version, rsi]</td>\n",
       "    </tr>\n",
       "  </tbody>\n",
       "</table>\n",
       "</div>"
      ],
      "text/plain": [
       "                    user_Id  cluster_Id          answer_date  \\\n",
       "0  54e6ee3b15522ed4b3dc3c24          15  2015-03-08 18:01:00   \n",
       "1  54e6ee3b15522ed4b3dc3c24          20  2015-03-09 02:39:00   \n",
       "2  54e6ee3b15522ed4b3dc3c24         100  2015-03-13 19:48:00   \n",
       "3  54e6ee3b15522ed4b3dc3c24         113  2015-03-14 02:46:00   \n",
       "4  54e6ee3b15522ed4b3dc3c24         118  2015-03-14 07:23:00   \n",
       "\n",
       "                                             answers  \\\n",
       "0  currently only working in chrome until shadow ...   \n",
       "1  ::shadow\\nhttp://www.html5rocks.com/en/tutoria...   \n",
       "2  @mhevery  that was my worry too (Dart version ...   \n",
       "3  you donat need to inject it since itas going t...   \n",
       "4                            what version of node?\\n   \n",
       "\n",
       "                                                tags  \n",
       "0  [rr, urn, ent, em, kin, dom, ado, default, ntl...  \n",
       "1  [styling, co, ld, parent, tor, ria, ri, ent, r...  \n",
       "2  [rr, cad, urn, wil, co, ld, dependencies, tera...  \n",
       "3  [ss, inline, int, nat, co, ld, tor, ent, em, s...  \n",
       "4           [rs, hat, io, de, od, ode, version, rsi]  "
      ]
     },
     "execution_count": 26,
     "metadata": {},
     "output_type": "execute_result"
    }
   ],
   "source": [
    "df_angular_profile.head()"
   ]
  },
  {
   "cell_type": "code",
   "execution_count": 27,
   "metadata": {},
   "outputs": [],
   "source": [
    "df_angular_profile.to_csv(channel2+'/'+channel2+'_profile_tags.csv',index = None)"
   ]
  },
  {
   "cell_type": "code",
   "execution_count": 28,
   "metadata": {},
   "outputs": [
    {
     "name": "stdout",
     "output_type": "stream",
     "text": [
      "total tags matched: 12189\n"
     ]
    }
   ],
   "source": [
    "angular_issue_tags,angular_issue_matched = tags_match(df_angular_issue[\"content\"],tags_clean)"
   ]
  },
  {
   "cell_type": "code",
   "execution_count": 29,
   "metadata": {},
   "outputs": [],
   "source": [
    "df_angular_issue[\"tags\"] = angular_issue_tags"
   ]
  },
  {
   "cell_type": "code",
   "execution_count": 30,
   "metadata": {},
   "outputs": [
    {
     "data": {
      "text/html": [
       "<div>\n",
       "<style scoped>\n",
       "    .dataframe tbody tr th:only-of-type {\n",
       "        vertical-align: middle;\n",
       "    }\n",
       "\n",
       "    .dataframe tbody tr th {\n",
       "        vertical-align: top;\n",
       "    }\n",
       "\n",
       "    .dataframe thead th {\n",
       "        text-align: right;\n",
       "    }\n",
       "</style>\n",
       "<table border=\"1\" class=\"dataframe\">\n",
       "  <thead>\n",
       "    <tr style=\"text-align: right;\">\n",
       "      <th></th>\n",
       "      <th>Id</th>\n",
       "      <th>asker</th>\n",
       "      <th>time</th>\n",
       "      <th>content</th>\n",
       "      <th>lines</th>\n",
       "      <th>tags</th>\n",
       "    </tr>\n",
       "  </thead>\n",
       "  <tbody>\n",
       "    <tr>\n",
       "      <th>0</th>\n",
       "      <td>1</td>\n",
       "      <td>54c89b1cdb8155e6700f2ac3</td>\n",
       "      <td>2015-03-07 21:41</td>\n",
       "      <td>Awesome!\\n</td>\n",
       "      <td>1</td>\n",
       "      <td>[som, om]</td>\n",
       "    </tr>\n",
       "    <tr>\n",
       "      <th>1</th>\n",
       "      <td>2</td>\n",
       "      <td>54e6ee3b15522ed4b3dc3c24</td>\n",
       "      <td>2015-03-07 21:53</td>\n",
       "      <td>sweet, now we can ask angular2 questions in re...</td>\n",
       "      <td>1</td>\n",
       "      <td>[time, sti, io, angular, ime, real-time, st, q...</td>\n",
       "    </tr>\n",
       "    <tr>\n",
       "      <th>2</th>\n",
       "      <td>3</td>\n",
       "      <td>530cd1eb5e986b0712efb4d2</td>\n",
       "      <td>2015-03-07 22:04</td>\n",
       "      <td>Yes!\\n</td>\n",
       "      <td>1</td>\n",
       "      <td>[]</td>\n",
       "    </tr>\n",
       "    <tr>\n",
       "      <th>3</th>\n",
       "      <td>4</td>\n",
       "      <td>54e6ee3b15522ed4b3dc3c24</td>\n",
       "      <td>2015-03-07 22:06</td>\n",
       "      <td>we're missing the [View Source] [Improve this ...</td>\n",
       "      <td>1</td>\n",
       "      <td>[ss, ton, angular.io, rce, ou, io, angular, ss...</td>\n",
       "    </tr>\n",
       "    <tr>\n",
       "      <th>4</th>\n",
       "      <td>5</td>\n",
       "      <td>530cd1eb5e986b0712efb4d2</td>\n",
       "      <td>2015-03-07 23:18</td>\n",
       "      <td>Good idea can you file an issue with repo?\\n</td>\n",
       "      <td>1</td>\n",
       "      <td>[ss, repo, su, ou, rep, il, yo, de, od, ide, p...</td>\n",
       "    </tr>\n",
       "  </tbody>\n",
       "</table>\n",
       "</div>"
      ],
      "text/plain": [
       "   Id                     asker              time  \\\n",
       "0   1  54c89b1cdb8155e6700f2ac3  2015-03-07 21:41   \n",
       "1   2  54e6ee3b15522ed4b3dc3c24  2015-03-07 21:53   \n",
       "2   3  530cd1eb5e986b0712efb4d2  2015-03-07 22:04   \n",
       "3   4  54e6ee3b15522ed4b3dc3c24  2015-03-07 22:06   \n",
       "4   5  530cd1eb5e986b0712efb4d2  2015-03-07 23:18   \n",
       "\n",
       "                                             content  lines  \\\n",
       "0                                         Awesome!\\n      1   \n",
       "1  sweet, now we can ask angular2 questions in re...      1   \n",
       "2                                             Yes!\\n      1   \n",
       "3  we're missing the [View Source] [Improve this ...      1   \n",
       "4       Good idea can you file an issue with repo?\\n      1   \n",
       "\n",
       "                                                tags  \n",
       "0                                          [som, om]  \n",
       "1  [time, sti, io, angular, ime, real-time, st, q...  \n",
       "2                                                 []  \n",
       "3  [ss, ton, angular.io, rce, ou, io, angular, ss...  \n",
       "4  [ss, repo, su, ou, rep, il, yo, de, od, ide, p...  "
      ]
     },
     "execution_count": 30,
     "metadata": {},
     "output_type": "execute_result"
    }
   ],
   "source": [
    "df_angular_issue.head()"
   ]
  },
  {
   "cell_type": "code",
   "execution_count": 31,
   "metadata": {},
   "outputs": [],
   "source": [
    "df_angular_issue.to_csv(channel2+'/'+channel2+'_issue_tags.csv',index = None)"
   ]
  },
  {
   "cell_type": "code",
   "execution_count": 32,
   "metadata": {},
   "outputs": [],
   "source": [
    "clusters_answered = set(df_angular_profile[\"cluster_Id\"])"
   ]
  },
  {
   "cell_type": "code",
   "execution_count": 33,
   "metadata": {},
   "outputs": [
    {
     "data": {
      "text/plain": [
       "122791"
      ]
     },
     "execution_count": 33,
     "metadata": {},
     "output_type": "execute_result"
    }
   ],
   "source": [
    "len(clusters_answered)"
   ]
  },
  {
   "cell_type": "code",
   "execution_count": 34,
   "metadata": {},
   "outputs": [],
   "source": [
    "df_angular_issue_selected = df_angular_issue[df_angular_issue[\"Id\"].isin(clusters_answered)]"
   ]
  },
  {
   "cell_type": "code",
   "execution_count": 35,
   "metadata": {},
   "outputs": [
    {
     "data": {
      "text/plain": [
       "122791"
      ]
     },
     "execution_count": 35,
     "metadata": {},
     "output_type": "execute_result"
    }
   ],
   "source": [
    "len(df_angular_issue_selected)"
   ]
  },
  {
   "cell_type": "code",
   "execution_count": 36,
   "metadata": {},
   "outputs": [],
   "source": [
    "issue_matched = set()\n",
    "for tags in df_angular_issue_selected[\"tags\"]:\n",
    "    issue_matched.update(tags)"
   ]
  },
  {
   "cell_type": "code",
   "execution_count": 37,
   "metadata": {},
   "outputs": [
    {
     "name": "stdout",
     "output_type": "stream",
     "text": [
      "final matched: 9790\n"
     ]
    }
   ],
   "source": [
    "print(\"final matched:\",len(angular_matched.union(issue_matched)))"
   ]
  },
  {
   "cell_type": "markdown",
   "metadata": {},
   "source": [
    "## Similarity Analysis"
   ]
  },
  {
   "cell_type": "code",
   "execution_count": 43,
   "metadata": {},
   "outputs": [],
   "source": [
    "df_gitter = pd.read_csv(channel2+'/'+channel2+'_profile_tags.csv')"
   ]
  },
  {
   "cell_type": "code",
   "execution_count": 44,
   "metadata": {},
   "outputs": [],
   "source": [
    "df_issue = pd.read_csv(channel2+'/'+channel2+'_issue_tags.csv')"
   ]
  },
  {
   "cell_type": "code",
   "execution_count": 45,
   "metadata": {},
   "outputs": [],
   "source": [
    "df_github = pd.read_csv(channel2+'/'+channel2+'_user_meta.csv')"
   ]
  },
  {
   "cell_type": "code",
   "execution_count": 48,
   "metadata": {},
   "outputs": [],
   "source": [
    "df_name = pd.read_json(\"../Data/Gitter_Channels/\"+channel2+\"/\"+channel2+'_user.json')"
   ]
  },
  {
   "cell_type": "code",
   "execution_count": 65,
   "metadata": {},
   "outputs": [],
   "source": [
    "Ids = []\n",
    "for username in df_github[\"User\"]:\n",
    "    Ids.append(df_name[df_name[\"username\"] == username][\"id\"].values[0])"
   ]
  },
  {
   "cell_type": "code",
   "execution_count": 67,
   "metadata": {},
   "outputs": [],
   "source": [
    "df_github[\"user_Id\"] = Ids"
   ]
  },
  {
   "cell_type": "code",
   "execution_count": 68,
   "metadata": {},
   "outputs": [
    {
     "data": {
      "text/html": [
       "<div>\n",
       "<style scoped>\n",
       "    .dataframe tbody tr th:only-of-type {\n",
       "        vertical-align: middle;\n",
       "    }\n",
       "\n",
       "    .dataframe tbody tr th {\n",
       "        vertical-align: top;\n",
       "    }\n",
       "\n",
       "    .dataframe thead th {\n",
       "        text-align: right;\n",
       "    }\n",
       "</style>\n",
       "<table border=\"1\" class=\"dataframe\">\n",
       "  <thead>\n",
       "    <tr style=\"text-align: right;\">\n",
       "      <th></th>\n",
       "      <th>User</th>\n",
       "      <th>Repo_num</th>\n",
       "      <th>Repo_languages</th>\n",
       "      <th>Repo_topics</th>\n",
       "      <th>user_Id</th>\n",
       "    </tr>\n",
       "  </thead>\n",
       "  <tbody>\n",
       "    <tr>\n",
       "      <th>0</th>\n",
       "      <td>007444</td>\n",
       "      <td>3</td>\n",
       "      <td>['Ruby', 'Shell', 'HTML']</td>\n",
       "      <td>[]</td>\n",
       "      <td>5f727524d73408ce4ff021fe</td>\n",
       "    </tr>\n",
       "    <tr>\n",
       "      <th>1</th>\n",
       "      <td>01CodeLT</td>\n",
       "      <td>3</td>\n",
       "      <td>['TypeScript', 'HTML', 'SCSS', 'JavaScript', '...</td>\n",
       "      <td>['meeting', 'jw', 'bible', 'epub-reader', 'jeh...</td>\n",
       "      <td>5f86b560d73408ce4ff17d63</td>\n",
       "    </tr>\n",
       "    <tr>\n",
       "      <th>2</th>\n",
       "      <td>02arpit07</td>\n",
       "      <td>50</td>\n",
       "      <td>['TypeScript', 'Julia', 'Go', 'PHP', 'SCSS', '...</td>\n",
       "      <td>[]</td>\n",
       "      <td>5f2f0157d73408ce4febb81b</td>\n",
       "    </tr>\n",
       "    <tr>\n",
       "      <th>3</th>\n",
       "      <td>03williammoses</td>\n",
       "      <td>4</td>\n",
       "      <td>['TeX', 'Java', 'Roff']</td>\n",
       "      <td>[]</td>\n",
       "      <td>5e5c9d01d73408ce4fdb4239</td>\n",
       "    </tr>\n",
       "    <tr>\n",
       "      <th>4</th>\n",
       "      <td>04raghuramvugs</td>\n",
       "      <td>8</td>\n",
       "      <td>['CSS', 'TypeScript', 'JavaScript', 'HTML']</td>\n",
       "      <td>[]</td>\n",
       "      <td>5bbf743bd73408ce4fab237b</td>\n",
       "    </tr>\n",
       "  </tbody>\n",
       "</table>\n",
       "</div>"
      ],
      "text/plain": [
       "             User  Repo_num  \\\n",
       "0          007444         3   \n",
       "1        01CodeLT         3   \n",
       "2       02arpit07        50   \n",
       "3  03williammoses         4   \n",
       "4  04raghuramvugs         8   \n",
       "\n",
       "                                      Repo_languages  \\\n",
       "0                          ['Ruby', 'Shell', 'HTML']   \n",
       "1  ['TypeScript', 'HTML', 'SCSS', 'JavaScript', '...   \n",
       "2  ['TypeScript', 'Julia', 'Go', 'PHP', 'SCSS', '...   \n",
       "3                            ['TeX', 'Java', 'Roff']   \n",
       "4        ['CSS', 'TypeScript', 'JavaScript', 'HTML']   \n",
       "\n",
       "                                         Repo_topics                   user_Id  \n",
       "0                                                 []  5f727524d73408ce4ff021fe  \n",
       "1  ['meeting', 'jw', 'bible', 'epub-reader', 'jeh...  5f86b560d73408ce4ff17d63  \n",
       "2                                                 []  5f2f0157d73408ce4febb81b  \n",
       "3                                                 []  5e5c9d01d73408ce4fdb4239  \n",
       "4                                                 []  5bbf743bd73408ce4fab237b  "
      ]
     },
     "execution_count": 68,
     "metadata": {},
     "output_type": "execute_result"
    }
   ],
   "source": [
    "df_github.head()"
   ]
  },
  {
   "cell_type": "code",
   "execution_count": 69,
   "metadata": {},
   "outputs": [],
   "source": [
    "df_github.to_csv(channel2+'/'+channel2+'_user_meta_tags.csv',index = None)"
   ]
  },
  {
   "cell_type": "code",
   "execution_count": 106,
   "metadata": {},
   "outputs": [
    {
     "data": {
      "text/html": [
       "<div>\n",
       "<style scoped>\n",
       "    .dataframe tbody tr th:only-of-type {\n",
       "        vertical-align: middle;\n",
       "    }\n",
       "\n",
       "    .dataframe tbody tr th {\n",
       "        vertical-align: top;\n",
       "    }\n",
       "\n",
       "    .dataframe thead th {\n",
       "        text-align: right;\n",
       "    }\n",
       "</style>\n",
       "<table border=\"1\" class=\"dataframe\">\n",
       "  <thead>\n",
       "    <tr style=\"text-align: right;\">\n",
       "      <th></th>\n",
       "      <th>user_Id</th>\n",
       "      <th>count</th>\n",
       "    </tr>\n",
       "  </thead>\n",
       "  <tbody>\n",
       "    <tr>\n",
       "      <th>0</th>\n",
       "      <td>57787d7fc2f0db084a2127f1</td>\n",
       "      <td>11700</td>\n",
       "    </tr>\n",
       "    <tr>\n",
       "      <th>1</th>\n",
       "      <td>5666e77c16b6c7089cbde7d5</td>\n",
       "      <td>7588</td>\n",
       "    </tr>\n",
       "    <tr>\n",
       "      <th>2</th>\n",
       "      <td>5724bc6d659847a7aff549ce</td>\n",
       "      <td>6538</td>\n",
       "    </tr>\n",
       "    <tr>\n",
       "      <th>3</th>\n",
       "      <td>576a94bdc2f0db084a1f5332</td>\n",
       "      <td>4644</td>\n",
       "    </tr>\n",
       "    <tr>\n",
       "      <th>4</th>\n",
       "      <td>5515c77715522ed4b3ddf13e</td>\n",
       "      <td>4381</td>\n",
       "    </tr>\n",
       "    <tr>\n",
       "      <th>5</th>\n",
       "      <td>55b409ef0fc9f982beaafb85</td>\n",
       "      <td>3974</td>\n",
       "    </tr>\n",
       "    <tr>\n",
       "      <th>6</th>\n",
       "      <td>54a8b22bdb8155e6700e57c1</td>\n",
       "      <td>3872</td>\n",
       "    </tr>\n",
       "    <tr>\n",
       "      <th>7</th>\n",
       "      <td>563a5bc416b6c7089cb97cfa</td>\n",
       "      <td>3033</td>\n",
       "    </tr>\n",
       "    <tr>\n",
       "      <th>8</th>\n",
       "      <td>579228bd40f3a6eec05c03aa</td>\n",
       "      <td>2521</td>\n",
       "    </tr>\n",
       "    <tr>\n",
       "      <th>9</th>\n",
       "      <td>54d28ce0db8155e6700f7486</td>\n",
       "      <td>2219</td>\n",
       "    </tr>\n",
       "  </tbody>\n",
       "</table>\n",
       "</div>"
      ],
      "text/plain": [
       "                    user_Id  count\n",
       "0  57787d7fc2f0db084a2127f1  11700\n",
       "1  5666e77c16b6c7089cbde7d5   7588\n",
       "2  5724bc6d659847a7aff549ce   6538\n",
       "3  576a94bdc2f0db084a1f5332   4644\n",
       "4  5515c77715522ed4b3ddf13e   4381\n",
       "5  55b409ef0fc9f982beaafb85   3974\n",
       "6  54a8b22bdb8155e6700e57c1   3872\n",
       "7  563a5bc416b6c7089cb97cfa   3033\n",
       "8  579228bd40f3a6eec05c03aa   2521\n",
       "9  54d28ce0db8155e6700f7486   2219"
      ]
     },
     "execution_count": 106,
     "metadata": {},
     "output_type": "execute_result"
    }
   ],
   "source": [
    "df_angular_sorted.head(10)"
   ]
  },
  {
   "cell_type": "code",
   "execution_count": 107,
   "metadata": {},
   "outputs": [
    {
     "data": {
      "text/plain": [
       "array(['57787d7fc2f0db084a2127f1', '5666e77c16b6c7089cbde7d5',\n",
       "       '5724bc6d659847a7aff549ce', '576a94bdc2f0db084a1f5332',\n",
       "       '5515c77715522ed4b3ddf13e', '55b409ef0fc9f982beaafb85',\n",
       "       '54a8b22bdb8155e6700e57c1', '563a5bc416b6c7089cb97cfa',\n",
       "       '579228bd40f3a6eec05c03aa', '54d28ce0db8155e6700f7486'],\n",
       "      dtype=object)"
      ]
     },
     "execution_count": 107,
     "metadata": {},
     "output_type": "execute_result"
    }
   ],
   "source": [
    "df_angular_sorted[\"user_Id\"][0:10].values"
   ]
  },
  {
   "cell_type": "code",
   "execution_count": null,
   "metadata": {},
   "outputs": [],
   "source": []
  }
 ],
 "metadata": {
  "kernelspec": {
   "display_name": "Python 3",
   "language": "python",
   "name": "python3"
  },
  "language_info": {
   "codemirror_mode": {
    "name": "ipython",
    "version": 3
   },
   "file_extension": ".py",
   "mimetype": "text/x-python",
   "name": "python",
   "nbconvert_exporter": "python",
   "pygments_lexer": "ipython3",
   "version": "3.8.5"
  }
 },
 "nbformat": 4,
 "nbformat_minor": 2
}
